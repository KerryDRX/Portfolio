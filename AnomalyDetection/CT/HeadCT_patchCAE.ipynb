{
 "cells": [
  {
   "cell_type": "markdown",
   "metadata": {},
   "source": [
    "# Stage 0. Library Import and Configuration Settings"
   ]
  },
  {
   "cell_type": "code",
   "execution_count": 1,
   "metadata": {},
   "outputs": [],
   "source": [
    "import numpy as np\n",
    "from config import cfg\n",
    "from data import *\n",
    "from models.cae import *\n",
    "from trainer import *\n",
    "from visualization import *\n",
    "from utils import *"
   ]
  },
  {
   "cell_type": "code",
   "execution_count": 2,
   "metadata": {
    "execution": {
     "iopub.execute_input": "2023-04-21T18:50:23.098483Z",
     "iopub.status.busy": "2023-04-21T18:50:23.097768Z",
     "iopub.status.idle": "2023-04-21T18:50:23.111555Z",
     "shell.execute_reply": "2023-04-21T18:50:23.110195Z",
     "shell.execute_reply.started": "2023-04-21T18:50:23.098445Z"
    }
   },
   "outputs": [],
   "source": [
    "data_dir = 'C:/Users/kerry/OneDrive/Desktop/Projects/Datasets/MAD/head_ct'\n",
    "result_dir = 'C:/Users/kerry/OneDrive/Desktop/Projects/UAD/results/HeadCT_patchCAE_128_64_16'"
   ]
  },
  {
   "cell_type": "markdown",
   "metadata": {},
   "source": [
    "# Stage 1. Data Loading and Preprocessing"
   ]
  },
  {
   "cell_type": "code",
   "execution_count": 3,
   "metadata": {},
   "outputs": [
    {
     "name": "stdout",
     "output_type": "stream",
     "text": [
      "Normal samples: 100\n",
      "Abnormal samples: 100\n"
     ]
    }
   ],
   "source": [
    "good_paths, bad_paths = load_paths(data_dir, cfg.good_label, cfg.bad_label)\n",
    "print(f'Normal samples: {len(good_paths)}')\n",
    "print(f'Abnormal samples: {len(bad_paths)}')\n",
    "\n",
    "good_folds = kfold(paths=good_paths, k=cfg.k)\n",
    "bad_folds = kfold(paths=bad_paths, k=2)"
   ]
  },
  {
   "cell_type": "code",
   "execution_count": 4,
   "metadata": {},
   "outputs": [],
   "source": [
    "# dataloaders = build_dataloaders(good_folds, bad_folds, good_round=0, bad_round=0)\n",
    "# images = next(iter(dataloaders['train']))[0]\n",
    "# for i in range(images.shape[0]):\n",
    "#     plt.imshow(images[i, 0], cmap='bone')\n",
    "#     plt.show()"
   ]
  },
  {
   "cell_type": "markdown",
   "metadata": {},
   "source": [
    "# Stage 2. Model Training, Validation, and Testing"
   ]
  },
  {
   "cell_type": "code",
   "execution_count": 5,
   "metadata": {},
   "outputs": [
    {
     "name": "stderr",
     "output_type": "stream",
     "text": [
      "0_0: 100%|███████| 1000/1000 [23:29<00:00,  1.41s/it, AUC=0.7510 (best=0.8300 epoch=60)]\n"
     ]
    },
    {
     "name": "stdout",
     "output_type": "stream",
     "text": [
      "0.704\n"
     ]
    },
    {
     "name": "stderr",
     "output_type": "stream",
     "text": [
      "0_1: 100%|███████| 1000/1000 [23:25<00:00,  1.41s/it, AUC=0.6480 (best=0.7420 epoch=60)]\n"
     ]
    },
    {
     "name": "stdout",
     "output_type": "stream",
     "text": [
      "0.788\n"
     ]
    },
    {
     "name": "stderr",
     "output_type": "stream",
     "text": [
      "1_0: 100%|███████| 1000/1000 [23:31<00:00,  1.41s/it, AUC=0.7320 (best=0.8020 epoch=30)]\n"
     ]
    },
    {
     "name": "stdout",
     "output_type": "stream",
     "text": [
      "0.731\n"
     ]
    },
    {
     "name": "stderr",
     "output_type": "stream",
     "text": [
      "1_1: 100%|██████| 1000/1000 [23:31<00:00,  1.41s/it, AUC=0.7080 (best=0.7110 epoch=930)]\n"
     ]
    },
    {
     "name": "stdout",
     "output_type": "stream",
     "text": [
      "0.8220000000000001\n"
     ]
    },
    {
     "name": "stderr",
     "output_type": "stream",
     "text": [
      "2_0: 100%|███████| 1000/1000 [23:34<00:00,  1.41s/it, AUC=0.8050 (best=0.8110 epoch=90)]\n"
     ]
    },
    {
     "name": "stdout",
     "output_type": "stream",
     "text": [
      "0.7739999999999999\n"
     ]
    },
    {
     "name": "stderr",
     "output_type": "stream",
     "text": [
      "2_1: 100%|██████| 1000/1000 [23:29<00:00,  1.41s/it, AUC=0.7070 (best=0.7530 epoch=140)]\n"
     ]
    },
    {
     "name": "stdout",
     "output_type": "stream",
     "text": [
      "0.85\n"
     ]
    },
    {
     "name": "stderr",
     "output_type": "stream",
     "text": [
      "3_0: 100%|███████| 1000/1000 [23:34<00:00,  1.41s/it, AUC=0.7710 (best=0.8860 epoch=30)]\n"
     ]
    },
    {
     "name": "stdout",
     "output_type": "stream",
     "text": [
      "0.78\n"
     ]
    },
    {
     "name": "stderr",
     "output_type": "stream",
     "text": [
      "3_1: 100%|██████| 1000/1000 [23:31<00:00,  1.41s/it, AUC=0.7180 (best=0.8030 epoch=100)]\n"
     ]
    },
    {
     "name": "stdout",
     "output_type": "stream",
     "text": [
      "0.821\n"
     ]
    },
    {
     "name": "stderr",
     "output_type": "stream",
     "text": [
      "4_0: 100%|███████| 1000/1000 [23:27<00:00,  1.41s/it, AUC=0.7640 (best=0.8320 epoch=90)]\n"
     ]
    },
    {
     "name": "stdout",
     "output_type": "stream",
     "text": [
      "0.732\n"
     ]
    },
    {
     "name": "stderr",
     "output_type": "stream",
     "text": [
      "4_1: 100%|███████| 1000/1000 [23:40<00:00,  1.42s/it, AUC=0.7370 (best=0.7690 epoch=40)]\n"
     ]
    },
    {
     "name": "stdout",
     "output_type": "stream",
     "text": [
      "0.761\n"
     ]
    }
   ],
   "source": [
    "set_random_seed(cfg.seed)\n",
    "torch.multiprocessing.set_sharing_strategy('file_system')\n",
    "torch.backends.cudnn.deterministic = True\n",
    "torch.backends.cudnn.benchmark = True\n",
    "\n",
    "for good_round in range(5):\n",
    "    for bad_round in range(2):\n",
    "        train_cae(good_folds, bad_folds, good_round, bad_round, result_dir, patch=True)\n",
    "        model = models.cae.AutoEncoder(patch=True).cuda()\n",
    "        model.load_state_dict(torch.load(f'{result_dir}/best_models/Good{good_round}_Bad{bad_round}.pt'))\n",
    "        model.eval()\n",
    "        dataloaders = build_dataloaders(good_folds, bad_folds, good_round, bad_round, patch=True)\n",
    "        print(validate_pcae(model, dataloaders['test'])[1])"
   ]
  },
  {
   "cell_type": "code",
   "execution_count": null,
   "metadata": {},
   "outputs": [],
   "source": [
    "# BN        No bn\n",
    "# 0.637 =>  0.672\n",
    "# 0.69  =>  0.739\n",
    "# 0.703\n",
    "# 0.807"
   ]
  },
  {
   "cell_type": "code",
   "execution_count": null,
   "metadata": {},
   "outputs": [],
   "source": [
    "# NoBN ??????\n",
    "# _C.image_size = 64      128    128    128\n",
    "# _C.patch_size = 32      32     64     64\n",
    "# _C.stride =     8       16     8      16\n",
    "# 0_0             0.672\n",
    "# 1_0             0.739"
   ]
  },
  {
   "cell_type": "code",
   "execution_count": 6,
   "metadata": {},
   "outputs": [
    {
     "data": {
      "text/plain": [
       "0.7763"
      ]
     },
     "execution_count": 6,
     "metadata": {},
     "output_type": "execute_result"
    }
   ],
   "source": [
    "np.mean([\n",
    "0.704,\n",
    "0.788,\n",
    "0.731,\n",
    "0.8220000000000001,\n",
    "0.7739999999999999,\n",
    "0.85,\n",
    "0.78,\n",
    "0.821,\n",
    "0.732,\n",
    "0.761])"
   ]
  },
  {
   "cell_type": "code",
   "execution_count": null,
   "metadata": {},
   "outputs": [],
   "source": []
  }
 ],
 "metadata": {
  "kernelspec": {
   "display_name": "Python 3 (ipykernel)",
   "language": "python",
   "name": "python3"
  },
  "language_info": {
   "codemirror_mode": {
    "name": "ipython",
    "version": 3
   },
   "file_extension": ".py",
   "mimetype": "text/x-python",
   "name": "python",
   "nbconvert_exporter": "python",
   "pygments_lexer": "ipython3",
   "version": "3.10.9"
  }
 },
 "nbformat": 4,
 "nbformat_minor": 4
}
