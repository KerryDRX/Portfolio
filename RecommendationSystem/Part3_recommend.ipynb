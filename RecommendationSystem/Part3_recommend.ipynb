{
  "cells": [
    {
      "cell_type": "markdown",
      "metadata": {
        "id": "cxEc6jTBRl3u"
      },
      "source": [
        "## Part 0: Environment Setup and Data Loading"
      ]
    },
    {
      "cell_type": "markdown",
      "metadata": {
        "id": "W0cHBbiZfqYK"
      },
      "source": [
        "### Part 0.1: Install Packages and Import Libraries"
      ]
    },
    {
      "cell_type": "code",
      "execution_count": 1,
      "metadata": {
        "colab": {
          "base_uri": "https://localhost:8080/",
          "height": 220
        },
        "id": "Sy_QptL5RHUW",
        "outputId": "fe5a08c9-5909-484c-fa9d-219f175b3092"
      },
      "outputs": [
        {
          "output_type": "execute_result",
          "data": {
            "text/plain": [
              "<pyspark.sql.session.SparkSession at 0x7f1c7eda6ed0>"
            ],
            "text/html": [
              "\n",
              "            <div>\n",
              "                <p><b>SparkSession - in-memory</b></p>\n",
              "                \n",
              "        <div>\n",
              "            <p><b>SparkContext</b></p>\n",
              "\n",
              "            <p><a href=\"http://cf7cc936f72e:4040\">Spark UI</a></p>\n",
              "\n",
              "            <dl>\n",
              "              <dt>Version</dt>\n",
              "                <dd><code>v3.3.0</code></dd>\n",
              "              <dt>Master</dt>\n",
              "                <dd><code>local[*]</code></dd>\n",
              "              <dt>AppName</dt>\n",
              "                <dd><code>pyspark-shell</code></dd>\n",
              "            </dl>\n",
              "        </div>\n",
              "        \n",
              "            </div>\n",
              "        "
            ]
          },
          "metadata": {},
          "execution_count": 1
        }
      ],
      "source": [
        "# JVM and Spark download\n",
        "!apt-get install openjdk-8-jdk-headless -qq > /dev/null  \n",
        "!wget -q https://dlcdn.apache.org/spark/spark-3.3.0/spark-3.3.0-bin-hadoop3.tgz\n",
        "!tar xf spark-3.3.0-bin-hadoop3.tgz\n",
        "# Enviornment configuration\n",
        "import os\n",
        "os.environ[\"JAVA_HOME\"] = \"/usr/lib/jvm/java-8-openjdk-amd64\"\n",
        "os.environ[\"SPARK_HOME\"] = '/content/spark-3.3.0-bin-hadoop3'\n",
        "# Find Spark\n",
        "!pip install -q findspark\n",
        "import findspark\n",
        "findspark.init()\n",
        "findspark.find()\n",
        "# Create a Spark session\n",
        "from pyspark.sql import SparkSession\n",
        "spark = SparkSession.builder.master(\"local[*]\").getOrCreate()\n",
        "from pyspark.sql.functions import col\n",
        "spark"
      ]
    },
    {
      "cell_type": "code",
      "execution_count": 2,
      "metadata": {
        "id": "9bqk8MN-SiW1"
      },
      "outputs": [],
      "source": [
        "# Import libraries\n",
        "import numpy as np\n",
        "import pandas as pd\n",
        "import seaborn as sns\n",
        "import matplotlib.pyplot as plt\n",
        "import math\n",
        "%matplotlib inline"
      ]
    },
    {
      "cell_type": "markdown",
      "metadata": {
        "id": "GrAixIU6f0Ke"
      },
      "source": [
        "### Part 0.2: Load Data"
      ]
    },
    {
      "cell_type": "code",
      "execution_count": 3,
      "metadata": {
        "colab": {
          "base_uri": "https://localhost:8080/"
        },
        "id": "itItK3BOSxUz",
        "outputId": "d19d9732-e177-41ee-ae5f-719ccca4be18"
      },
      "outputs": [
        {
          "output_type": "stream",
          "name": "stdout",
          "text": [
            "Drive already mounted at /content/drive; to attempt to forcibly remount, call drive.mount(\"/content/drive\", force_remount=True).\n"
          ]
        }
      ],
      "source": [
        "# Mount Google Drive Folder\n",
        "from google.colab import drive\n",
        "drive.mount('/content/drive')"
      ]
    },
    {
      "cell_type": "code",
      "execution_count": 4,
      "metadata": {
        "id": "irzy25fJSySu"
      },
      "outputs": [],
      "source": [
        "# Load datasets\n",
        "path_movies = '/content/drive/MyDrive/Projects/Datasets/Movie/Netflix_Dataset_Movie.csv'\n",
        "path_ratings = '/content/drive/MyDrive/Projects/Datasets/Movie/Netflix_Dataset_Rating.csv'\n",
        "df_movies = spark.read.load(path_movies, format='csv', header = True)\n",
        "df_ratings = spark.read.load(path_ratings, format='csv', header = True)"
      ]
    },
    {
      "cell_type": "markdown",
      "metadata": {
        "id": "CKjtiM4uWk2T"
      },
      "source": [
        "### Part 0.3: View the Raw Data"
      ]
    },
    {
      "cell_type": "code",
      "execution_count": 5,
      "metadata": {
        "colab": {
          "base_uri": "https://localhost:8080/"
        },
        "id": "pjaTghGHTonG",
        "outputId": "f38dd298-aac3-4d56-8582-36b37ea77aae"
      },
      "outputs": [
        {
          "output_type": "stream",
          "name": "stdout",
          "text": [
            "+--------+----+--------------------+\n",
            "|Movie_ID|Year|                Name|\n",
            "+--------+----+--------------------+\n",
            "|       1|2003|     Dinosaur Planet|\n",
            "|       2|2004|Isle of Man TT 20...|\n",
            "|       3|1997|           Character|\n",
            "|       4|1994|Paula Abdul's Get...|\n",
            "|       5|2004|The Rise and Fall...|\n",
            "|       6|1997|                Sick|\n",
            "|       7|1992|               8 Man|\n",
            "|       8|2004|What the #$*! Do ...|\n",
            "|       9|1991|Class of Nuke 'Em...|\n",
            "|      10|2001|             Fighter|\n",
            "+--------+----+--------------------+\n",
            "only showing top 10 rows\n",
            "\n"
          ]
        }
      ],
      "source": [
        "# Show movies\n",
        "df_movies.show(10)"
      ]
    },
    {
      "cell_type": "code",
      "execution_count": 6,
      "metadata": {
        "colab": {
          "base_uri": "https://localhost:8080/"
        },
        "id": "KERFVLHeYjYL",
        "outputId": "b17e239c-23d6-41c2-fe39-7d0e606790f6"
      },
      "outputs": [
        {
          "output_type": "stream",
          "name": "stdout",
          "text": [
            "Number of rows in movie dataset: 17770\n",
            "Number of distinct movies in movie dataset: 17770\n"
          ]
        }
      ],
      "source": [
        "# Number of movies\n",
        "print('Number of rows in movie dataset: {}'.format(df_movies.count()))\n",
        "print('Number of distinct movies in movie dataset: {}'.format(df_movies.select('Movie_ID').distinct().count()))"
      ]
    },
    {
      "cell_type": "code",
      "execution_count": 7,
      "metadata": {
        "colab": {
          "base_uri": "https://localhost:8080/"
        },
        "id": "9OXz2tI0Txtd",
        "outputId": "6cf0da99-1d10-410f-ec4a-cd824ac27a8d"
      },
      "outputs": [
        {
          "output_type": "stream",
          "name": "stdout",
          "text": [
            "+-------+------+--------+\n",
            "|User_ID|Rating|Movie_ID|\n",
            "+-------+------+--------+\n",
            "| 712664|     5|       3|\n",
            "|1331154|     4|       3|\n",
            "|2632461|     3|       3|\n",
            "|  44937|     5|       3|\n",
            "| 656399|     4|       3|\n",
            "| 439011|     1|       3|\n",
            "|1644750|     3|       3|\n",
            "|2031561|     4|       3|\n",
            "| 616720|     4|       3|\n",
            "|2467008|     4|       3|\n",
            "+-------+------+--------+\n",
            "only showing top 10 rows\n",
            "\n"
          ]
        }
      ],
      "source": [
        "# Show ratings\n",
        "df_ratings.show(10)"
      ]
    },
    {
      "cell_type": "code",
      "execution_count": 8,
      "metadata": {
        "colab": {
          "base_uri": "https://localhost:8080/"
        },
        "id": "LTPivUIVY-nM",
        "outputId": "c333882b-e111-4b3d-e280-3654174049a1"
      },
      "outputs": [
        {
          "output_type": "stream",
          "name": "stdout",
          "text": [
            "Number of rows in the rating dataset: 17337458\n",
            "Number of distinct movie-user pairs in rating dataset: 17337458\n"
          ]
        }
      ],
      "source": [
        "# Number of ratings\n",
        "print('Number of rows in the rating dataset: {}'.format(df_ratings.count()))\n",
        "print('Number of distinct movie-user pairs in rating dataset: {}'.format(df_ratings.select('Movie_ID', 'User_ID').distinct().count()))"
      ]
    },
    {
      "cell_type": "markdown",
      "metadata": {
        "id": "0nYbT7UlZOLd"
      },
      "source": [
        "### Part 0.4: Data Type Conversion"
      ]
    },
    {
      "cell_type": "code",
      "execution_count": 9,
      "metadata": {
        "colab": {
          "base_uri": "https://localhost:8080/"
        },
        "id": "LJM1yCKgZLpq",
        "outputId": "0c41573c-85fe-4662-e1e7-c6171f21a2d9"
      },
      "outputs": [
        {
          "output_type": "stream",
          "name": "stdout",
          "text": [
            "root\n",
            " |-- Movie_ID: integer (nullable = true)\n",
            " |-- Year: integer (nullable = true)\n",
            " |-- Name: string (nullable = true)\n",
            "\n",
            "root\n",
            " |-- User_ID: integer (nullable = true)\n",
            " |-- Rating: float (nullable = true)\n",
            " |-- Movie_ID: integer (nullable = true)\n",
            "\n"
          ]
        }
      ],
      "source": [
        "from pyspark.sql.types import IntegerType, FloatType\n",
        "\n",
        "# Data type conversion\n",
        "# User ID, movie ID -> Integer\n",
        "# Movie rating -> Float\n",
        "df_movies = df_movies.withColumn(\"Movie_ID\", df_movies[\"Movie_ID\"].cast(IntegerType()))\n",
        "df_movies = df_movies.withColumn(\"Year\", df_movies[\"Year\"].cast(IntegerType()))\n",
        "df_movies.printSchema()\n",
        "df_ratings = df_ratings.withColumn(\"User_ID\", df_ratings[\"User_ID\"].cast(IntegerType()))\n",
        "df_ratings = df_ratings.withColumn(\"Movie_ID\", df_ratings[\"Movie_ID\"].cast(IntegerType()))\n",
        "df_ratings = df_ratings.withColumn(\"Rating\", df_ratings[\"Rating\"].cast(FloatType()))\n",
        "df_ratings.printSchema()"
      ]
    },
    {
      "cell_type": "markdown",
      "metadata": {
        "id": "ytpzs7fApL3K"
      },
      "source": [
        "## Part 3: Model Applications"
      ]
    },
    {
      "cell_type": "markdown",
      "metadata": {
        "id": "PCSNRjomCNVU"
      },
      "source": [
        "### Part 3.0: Load Model"
      ]
    },
    {
      "cell_type": "code",
      "execution_count": 10,
      "metadata": {
        "id": "ajGiswy5CQtZ"
      },
      "outputs": [],
      "source": [
        "from pyspark.ml.recommendation import ALS, ALSModel\n",
        "\n",
        "model_path = '/content/drive/MyDrive/Projects/Movie_Recommendation_System/model/'\n",
        "model = ALSModel.load(model_path)"
      ]
    },
    {
      "cell_type": "markdown",
      "metadata": {
        "id": "oDkm5NEd5Gns"
      },
      "source": [
        "### Part 3.1: Find Similar Movies of a Movie"
      ]
    },
    {
      "cell_type": "markdown",
      "metadata": {
        "id": "QZZkHxmKXqVv"
      },
      "source": [
        "- ALS model decomposes the rating matrix into a user feature matrix and a movie feature matrix. "
      ]
    },
    {
      "cell_type": "markdown",
      "metadata": {
        "id": "5TTHvyTuYU9Z"
      },
      "source": [
        "<p align=\"center\">\n",
        "<img align=\"center\" src=\"https://drive.google.com/uc?export=view&id=1KtMMnXW4qbADzotLPG5MovVVW4ojegvR\" height=\"300\"/>\n",
        "</p>"
      ]
    },
    {
      "cell_type": "markdown",
      "metadata": {
        "id": "MEl10XLJYgOP"
      },
      "source": [
        "- By utilizing the movie features derived from the model, the similarity of different movies can be measured.\n",
        "- There are several ways to determine how different a movie is from another, including the Euclidean distance and the cosine similarity of the movie feature vectors. The latter one is implemented below."
      ]
    },
    {
      "cell_type": "code",
      "execution_count": 11,
      "metadata": {
        "colab": {
          "base_uri": "https://localhost:8080/",
          "height": 270
        },
        "id": "tGo8LChu5Owx",
        "outputId": "b3ee4f42-cd7b-4ad4-f9fd-0172246614e5"
      },
      "outputs": [
        {
          "output_type": "execute_result",
          "data": {
            "text/plain": [
              "   Movie_ID  Feature0  Feature1  Feature2  Feature3  Feature4  Feature5  \\\n",
              "0        32 -0.042890  0.517238  0.619658  0.905652  0.224716  0.597838   \n",
              "1        52  0.841939  0.451016  0.536448  0.114680  0.464422 -0.087567   \n",
              "2       122  0.501497  0.116985 -0.053062  0.488991  0.617323  0.430436   \n",
              "3       152  0.456784  0.629339  0.662633  0.625439  0.191476  0.440126   \n",
              "4       232  0.330226  0.388321  0.325928  0.629805  0.132610  0.258383   \n",
              "\n",
              "   Feature6  Feature7  Feature8  Feature9  Feature10  Feature11  Feature12  \\\n",
              "0  0.110501 -0.524302 -0.076709 -0.399856   0.791513  -0.756893  -0.137386   \n",
              "1 -0.308616 -1.058330 -0.108652 -0.364960   0.496399  -0.250053   0.066643   \n",
              "2 -0.204783 -0.716217  0.104865 -0.358799   0.460777  -0.328718   0.057209   \n",
              "3 -0.188744 -0.928863  0.042489 -0.366424   0.542688  -0.491919   0.043069   \n",
              "4 -0.157101 -0.722242  0.233883 -0.256399   0.713322  -0.556120  -0.059002   \n",
              "\n",
              "   Feature13  Feature14  \n",
              "0   0.270466   0.886297  \n",
              "1  -0.044197   0.460208  \n",
              "2   0.233919   0.086399  \n",
              "3   0.072368   0.432372  \n",
              "4   0.227679   0.102587  "
            ],
            "text/html": [
              "\n",
              "  <div id=\"df-24f7021b-1ecf-4f90-8599-16a98b5af292\">\n",
              "    <div class=\"colab-df-container\">\n",
              "      <div>\n",
              "<style scoped>\n",
              "    .dataframe tbody tr th:only-of-type {\n",
              "        vertical-align: middle;\n",
              "    }\n",
              "\n",
              "    .dataframe tbody tr th {\n",
              "        vertical-align: top;\n",
              "    }\n",
              "\n",
              "    .dataframe thead th {\n",
              "        text-align: right;\n",
              "    }\n",
              "</style>\n",
              "<table border=\"1\" class=\"dataframe\">\n",
              "  <thead>\n",
              "    <tr style=\"text-align: right;\">\n",
              "      <th></th>\n",
              "      <th>Movie_ID</th>\n",
              "      <th>Feature0</th>\n",
              "      <th>Feature1</th>\n",
              "      <th>Feature2</th>\n",
              "      <th>Feature3</th>\n",
              "      <th>Feature4</th>\n",
              "      <th>Feature5</th>\n",
              "      <th>Feature6</th>\n",
              "      <th>Feature7</th>\n",
              "      <th>Feature8</th>\n",
              "      <th>Feature9</th>\n",
              "      <th>Feature10</th>\n",
              "      <th>Feature11</th>\n",
              "      <th>Feature12</th>\n",
              "      <th>Feature13</th>\n",
              "      <th>Feature14</th>\n",
              "    </tr>\n",
              "  </thead>\n",
              "  <tbody>\n",
              "    <tr>\n",
              "      <th>0</th>\n",
              "      <td>32</td>\n",
              "      <td>-0.042890</td>\n",
              "      <td>0.517238</td>\n",
              "      <td>0.619658</td>\n",
              "      <td>0.905652</td>\n",
              "      <td>0.224716</td>\n",
              "      <td>0.597838</td>\n",
              "      <td>0.110501</td>\n",
              "      <td>-0.524302</td>\n",
              "      <td>-0.076709</td>\n",
              "      <td>-0.399856</td>\n",
              "      <td>0.791513</td>\n",
              "      <td>-0.756893</td>\n",
              "      <td>-0.137386</td>\n",
              "      <td>0.270466</td>\n",
              "      <td>0.886297</td>\n",
              "    </tr>\n",
              "    <tr>\n",
              "      <th>1</th>\n",
              "      <td>52</td>\n",
              "      <td>0.841939</td>\n",
              "      <td>0.451016</td>\n",
              "      <td>0.536448</td>\n",
              "      <td>0.114680</td>\n",
              "      <td>0.464422</td>\n",
              "      <td>-0.087567</td>\n",
              "      <td>-0.308616</td>\n",
              "      <td>-1.058330</td>\n",
              "      <td>-0.108652</td>\n",
              "      <td>-0.364960</td>\n",
              "      <td>0.496399</td>\n",
              "      <td>-0.250053</td>\n",
              "      <td>0.066643</td>\n",
              "      <td>-0.044197</td>\n",
              "      <td>0.460208</td>\n",
              "    </tr>\n",
              "    <tr>\n",
              "      <th>2</th>\n",
              "      <td>122</td>\n",
              "      <td>0.501497</td>\n",
              "      <td>0.116985</td>\n",
              "      <td>-0.053062</td>\n",
              "      <td>0.488991</td>\n",
              "      <td>0.617323</td>\n",
              "      <td>0.430436</td>\n",
              "      <td>-0.204783</td>\n",
              "      <td>-0.716217</td>\n",
              "      <td>0.104865</td>\n",
              "      <td>-0.358799</td>\n",
              "      <td>0.460777</td>\n",
              "      <td>-0.328718</td>\n",
              "      <td>0.057209</td>\n",
              "      <td>0.233919</td>\n",
              "      <td>0.086399</td>\n",
              "    </tr>\n",
              "    <tr>\n",
              "      <th>3</th>\n",
              "      <td>152</td>\n",
              "      <td>0.456784</td>\n",
              "      <td>0.629339</td>\n",
              "      <td>0.662633</td>\n",
              "      <td>0.625439</td>\n",
              "      <td>0.191476</td>\n",
              "      <td>0.440126</td>\n",
              "      <td>-0.188744</td>\n",
              "      <td>-0.928863</td>\n",
              "      <td>0.042489</td>\n",
              "      <td>-0.366424</td>\n",
              "      <td>0.542688</td>\n",
              "      <td>-0.491919</td>\n",
              "      <td>0.043069</td>\n",
              "      <td>0.072368</td>\n",
              "      <td>0.432372</td>\n",
              "    </tr>\n",
              "    <tr>\n",
              "      <th>4</th>\n",
              "      <td>232</td>\n",
              "      <td>0.330226</td>\n",
              "      <td>0.388321</td>\n",
              "      <td>0.325928</td>\n",
              "      <td>0.629805</td>\n",
              "      <td>0.132610</td>\n",
              "      <td>0.258383</td>\n",
              "      <td>-0.157101</td>\n",
              "      <td>-0.722242</td>\n",
              "      <td>0.233883</td>\n",
              "      <td>-0.256399</td>\n",
              "      <td>0.713322</td>\n",
              "      <td>-0.556120</td>\n",
              "      <td>-0.059002</td>\n",
              "      <td>0.227679</td>\n",
              "      <td>0.102587</td>\n",
              "    </tr>\n",
              "  </tbody>\n",
              "</table>\n",
              "</div>\n",
              "      <button class=\"colab-df-convert\" onclick=\"convertToInteractive('df-24f7021b-1ecf-4f90-8599-16a98b5af292')\"\n",
              "              title=\"Convert this dataframe to an interactive table.\"\n",
              "              style=\"display:none;\">\n",
              "        \n",
              "  <svg xmlns=\"http://www.w3.org/2000/svg\" height=\"24px\"viewBox=\"0 0 24 24\"\n",
              "       width=\"24px\">\n",
              "    <path d=\"M0 0h24v24H0V0z\" fill=\"none\"/>\n",
              "    <path d=\"M18.56 5.44l.94 2.06.94-2.06 2.06-.94-2.06-.94-.94-2.06-.94 2.06-2.06.94zm-11 1L8.5 8.5l.94-2.06 2.06-.94-2.06-.94L8.5 2.5l-.94 2.06-2.06.94zm10 10l.94 2.06.94-2.06 2.06-.94-2.06-.94-.94-2.06-.94 2.06-2.06.94z\"/><path d=\"M17.41 7.96l-1.37-1.37c-.4-.4-.92-.59-1.43-.59-.52 0-1.04.2-1.43.59L10.3 9.45l-7.72 7.72c-.78.78-.78 2.05 0 2.83L4 21.41c.39.39.9.59 1.41.59.51 0 1.02-.2 1.41-.59l7.78-7.78 2.81-2.81c.8-.78.8-2.07 0-2.86zM5.41 20L4 18.59l7.72-7.72 1.47 1.35L5.41 20z\"/>\n",
              "  </svg>\n",
              "      </button>\n",
              "      \n",
              "  <style>\n",
              "    .colab-df-container {\n",
              "      display:flex;\n",
              "      flex-wrap:wrap;\n",
              "      gap: 12px;\n",
              "    }\n",
              "\n",
              "    .colab-df-convert {\n",
              "      background-color: #E8F0FE;\n",
              "      border: none;\n",
              "      border-radius: 50%;\n",
              "      cursor: pointer;\n",
              "      display: none;\n",
              "      fill: #1967D2;\n",
              "      height: 32px;\n",
              "      padding: 0 0 0 0;\n",
              "      width: 32px;\n",
              "    }\n",
              "\n",
              "    .colab-df-convert:hover {\n",
              "      background-color: #E2EBFA;\n",
              "      box-shadow: 0px 1px 2px rgba(60, 64, 67, 0.3), 0px 1px 3px 1px rgba(60, 64, 67, 0.15);\n",
              "      fill: #174EA6;\n",
              "    }\n",
              "\n",
              "    [theme=dark] .colab-df-convert {\n",
              "      background-color: #3B4455;\n",
              "      fill: #D2E3FC;\n",
              "    }\n",
              "\n",
              "    [theme=dark] .colab-df-convert:hover {\n",
              "      background-color: #434B5C;\n",
              "      box-shadow: 0px 1px 3px 1px rgba(0, 0, 0, 0.15);\n",
              "      filter: drop-shadow(0px 1px 2px rgba(0, 0, 0, 0.3));\n",
              "      fill: #FFFFFF;\n",
              "    }\n",
              "  </style>\n",
              "\n",
              "      <script>\n",
              "        const buttonEl =\n",
              "          document.querySelector('#df-24f7021b-1ecf-4f90-8599-16a98b5af292 button.colab-df-convert');\n",
              "        buttonEl.style.display =\n",
              "          google.colab.kernel.accessAllowed ? 'block' : 'none';\n",
              "\n",
              "        async function convertToInteractive(key) {\n",
              "          const element = document.querySelector('#df-24f7021b-1ecf-4f90-8599-16a98b5af292');\n",
              "          const dataTable =\n",
              "            await google.colab.kernel.invokeFunction('convertToInteractive',\n",
              "                                                     [key], {});\n",
              "          if (!dataTable) return;\n",
              "\n",
              "          const docLinkHtml = 'Like what you see? Visit the ' +\n",
              "            '<a target=\"_blank\" href=https://colab.research.google.com/notebooks/data_table.ipynb>data table notebook</a>'\n",
              "            + ' to learn more about interactive tables.';\n",
              "          element.innerHTML = '';\n",
              "          dataTable['output_type'] = 'display_data';\n",
              "          await google.colab.output.renderOutput(dataTable, element);\n",
              "          const docLink = document.createElement('div');\n",
              "          docLink.innerHTML = docLinkHtml;\n",
              "          element.appendChild(docLink);\n",
              "        }\n",
              "      </script>\n",
              "    </div>\n",
              "  </div>\n",
              "  "
            ]
          },
          "metadata": {},
          "execution_count": 11
        }
      ],
      "source": [
        "# Number of features of a movie, specified by the rank of the ALS model\n",
        "num_features = model.rank\n",
        "# Get movie features\n",
        "movie_features = model.itemFactors\n",
        "# Convert the features to individual columns\n",
        "movie_features = movie_features.rdd \\\n",
        "    .map(lambda row: (row[0],) + tuple(row[1])) \\\n",
        "    .toDF(['Movie_ID'] + ['Feature{}'.format(i) for i in range(num_features)])\n",
        "movie_features.createOrReplaceTempView('movie_features')\n",
        "movie_features.toPandas().head(5)"
      ]
    },
    {
      "cell_type": "code",
      "execution_count": 12,
      "metadata": {
        "id": "XK7ePf8vwaFf"
      },
      "outputs": [],
      "source": [
        "# Use cosine similarity to find similar movies of some movie.\n",
        "def find_similar_movies(movie_id, num_movies):\n",
        "    '''\n",
        "    Find similar movies of a movie. Movies' similarity is measured by the cosine\n",
        "    similarity between the movie feature vectors.\n",
        "\n",
        "    Parameters:\n",
        "        movie_id (int): id of the movie to investigate\n",
        "        num_movies (int): the number of similar movies to return\n",
        "\n",
        "    Returns:\n",
        "        result (Pandas DataFrame): the most similar movies to the given movie\n",
        "    '''\n",
        "    # The Spark SQL query to retrieve the feature vector of this movie\n",
        "    query = '''\n",
        "        SELECT *\n",
        "        FROM movie_features\n",
        "        WHERE Movie_ID = {}\n",
        "    '''.format(movie_id)\n",
        "    feature = spark.sql(query)\n",
        "    # If movie is not found, print failure message.\n",
        "    if feature.count == 0:\n",
        "        print('Movie ID {} not found in dataset.'.format(movie_id))\n",
        "        return None\n",
        "    \n",
        "    # Cosine similarity is given by\n",
        "    #     cos<v1, v2> = v1 · v2 / ||v1|| ||v2||\n",
        "    # in which v1, v2 are the feature vectors of the two movies to compare.\n",
        "    # v1: feature vector of the movie with ID movie_id\n",
        "    v1 = feature.collect()[0][1:]\n",
        "    # v1_norm: the norm of v1\n",
        "    v1_norm = sum([v1_i * v1_i for v1_i in v1]) ** 0.5\n",
        "    \n",
        "    # Compute consine similarities between all other movies and this movie\n",
        "    similarities = movie_features.rdd \\\n",
        "        .filter(lambda row: row[0] != movie_id) \\\n",
        "        .map(\n",
        "            lambda row: (\n",
        "                row[0],  # Movie id\n",
        "                sum([v1_i * v2_i for v1_i, v2_i in zip(v1, row[1:])]) /   # Inner product\n",
        "                (v1_norm * sum([v2_i * v2_i for v2_i in row[1:]]) ** 0.5)  # Product of norms\n",
        "            )\n",
        "        ) \\\n",
        "        .sortBy(lambda row: row[1], ascending=False)  \\\n",
        "        .toDF(['Movie_ID', 'Similarity'])\n",
        "    \n",
        "    # Retrive the most similar movies and get their info: movie id, year, name\n",
        "    result = df_movies.join(\n",
        "        similarities.limit(num_movies),\n",
        "        df_movies.Movie_ID == similarities.Movie_ID\n",
        "    ) \\\n",
        "    .select(df_movies['Movie_ID'], 'Year', 'Name', 'Similarity') \\\n",
        "    .orderBy('Similarity', ascending=False) \\\n",
        "    .toPandas()\n",
        "    \n",
        "    return result"
      ]
    },
    {
      "cell_type": "code",
      "execution_count": 13,
      "metadata": {
        "colab": {
          "base_uri": "https://localhost:8080/"
        },
        "id": "-vld4_H_TL3G",
        "outputId": "453c6c3f-c4b3-4886-bd99-846566bde78c"
      },
      "outputs": [
        {
          "output_type": "stream",
          "name": "stdout",
          "text": [
            "The movie with ID 1020 is: \n",
            "The Simpsons: Season 1\n"
          ]
        }
      ],
      "source": [
        "movie_id = 1020\n",
        "movie_name = df_movies.filter(df_movies.Movie_ID == movie_id).collect()[0][2]\n",
        "print('The movie with ID {} is: \\n{}'.format(movie_id, movie_name))"
      ]
    },
    {
      "cell_type": "code",
      "execution_count": 14,
      "metadata": {
        "colab": {
          "base_uri": "https://localhost:8080/",
          "height": 224
        },
        "id": "8Vbz0nWZRhgN",
        "outputId": "c1edb263-e423-4f47-bb57-fb387f49ce27"
      },
      "outputs": [
        {
          "output_type": "stream",
          "name": "stdout",
          "text": [
            "5 movies that are similar to The Simpsons: Season 1\n"
          ]
        },
        {
          "output_type": "execute_result",
          "data": {
            "text/plain": [
              "   Movie_ID  Year                                   Name  Similarity\n",
              "0      3046  1990      The Simpsons: Treehouse of Horror    0.999409\n",
              "1      2172  1991                 The Simpsons: Season 3    0.998042\n",
              "2      4115  1999                The Simpsons: Bart Wars    0.997793\n",
              "3      2102  1994                 The Simpsons: Season 6    0.997486\n",
              "4      3444  2004  Family Guy: Freakin' Sweet Collection    0.991435"
            ],
            "text/html": [
              "\n",
              "  <div id=\"df-fe8458e3-209f-4a8f-9bb7-97f429be6ec6\">\n",
              "    <div class=\"colab-df-container\">\n",
              "      <div>\n",
              "<style scoped>\n",
              "    .dataframe tbody tr th:only-of-type {\n",
              "        vertical-align: middle;\n",
              "    }\n",
              "\n",
              "    .dataframe tbody tr th {\n",
              "        vertical-align: top;\n",
              "    }\n",
              "\n",
              "    .dataframe thead th {\n",
              "        text-align: right;\n",
              "    }\n",
              "</style>\n",
              "<table border=\"1\" class=\"dataframe\">\n",
              "  <thead>\n",
              "    <tr style=\"text-align: right;\">\n",
              "      <th></th>\n",
              "      <th>Movie_ID</th>\n",
              "      <th>Year</th>\n",
              "      <th>Name</th>\n",
              "      <th>Similarity</th>\n",
              "    </tr>\n",
              "  </thead>\n",
              "  <tbody>\n",
              "    <tr>\n",
              "      <th>0</th>\n",
              "      <td>3046</td>\n",
              "      <td>1990</td>\n",
              "      <td>The Simpsons: Treehouse of Horror</td>\n",
              "      <td>0.999409</td>\n",
              "    </tr>\n",
              "    <tr>\n",
              "      <th>1</th>\n",
              "      <td>2172</td>\n",
              "      <td>1991</td>\n",
              "      <td>The Simpsons: Season 3</td>\n",
              "      <td>0.998042</td>\n",
              "    </tr>\n",
              "    <tr>\n",
              "      <th>2</th>\n",
              "      <td>4115</td>\n",
              "      <td>1999</td>\n",
              "      <td>The Simpsons: Bart Wars</td>\n",
              "      <td>0.997793</td>\n",
              "    </tr>\n",
              "    <tr>\n",
              "      <th>3</th>\n",
              "      <td>2102</td>\n",
              "      <td>1994</td>\n",
              "      <td>The Simpsons: Season 6</td>\n",
              "      <td>0.997486</td>\n",
              "    </tr>\n",
              "    <tr>\n",
              "      <th>4</th>\n",
              "      <td>3444</td>\n",
              "      <td>2004</td>\n",
              "      <td>Family Guy: Freakin' Sweet Collection</td>\n",
              "      <td>0.991435</td>\n",
              "    </tr>\n",
              "  </tbody>\n",
              "</table>\n",
              "</div>\n",
              "      <button class=\"colab-df-convert\" onclick=\"convertToInteractive('df-fe8458e3-209f-4a8f-9bb7-97f429be6ec6')\"\n",
              "              title=\"Convert this dataframe to an interactive table.\"\n",
              "              style=\"display:none;\">\n",
              "        \n",
              "  <svg xmlns=\"http://www.w3.org/2000/svg\" height=\"24px\"viewBox=\"0 0 24 24\"\n",
              "       width=\"24px\">\n",
              "    <path d=\"M0 0h24v24H0V0z\" fill=\"none\"/>\n",
              "    <path d=\"M18.56 5.44l.94 2.06.94-2.06 2.06-.94-2.06-.94-.94-2.06-.94 2.06-2.06.94zm-11 1L8.5 8.5l.94-2.06 2.06-.94-2.06-.94L8.5 2.5l-.94 2.06-2.06.94zm10 10l.94 2.06.94-2.06 2.06-.94-2.06-.94-.94-2.06-.94 2.06-2.06.94z\"/><path d=\"M17.41 7.96l-1.37-1.37c-.4-.4-.92-.59-1.43-.59-.52 0-1.04.2-1.43.59L10.3 9.45l-7.72 7.72c-.78.78-.78 2.05 0 2.83L4 21.41c.39.39.9.59 1.41.59.51 0 1.02-.2 1.41-.59l7.78-7.78 2.81-2.81c.8-.78.8-2.07 0-2.86zM5.41 20L4 18.59l7.72-7.72 1.47 1.35L5.41 20z\"/>\n",
              "  </svg>\n",
              "      </button>\n",
              "      \n",
              "  <style>\n",
              "    .colab-df-container {\n",
              "      display:flex;\n",
              "      flex-wrap:wrap;\n",
              "      gap: 12px;\n",
              "    }\n",
              "\n",
              "    .colab-df-convert {\n",
              "      background-color: #E8F0FE;\n",
              "      border: none;\n",
              "      border-radius: 50%;\n",
              "      cursor: pointer;\n",
              "      display: none;\n",
              "      fill: #1967D2;\n",
              "      height: 32px;\n",
              "      padding: 0 0 0 0;\n",
              "      width: 32px;\n",
              "    }\n",
              "\n",
              "    .colab-df-convert:hover {\n",
              "      background-color: #E2EBFA;\n",
              "      box-shadow: 0px 1px 2px rgba(60, 64, 67, 0.3), 0px 1px 3px 1px rgba(60, 64, 67, 0.15);\n",
              "      fill: #174EA6;\n",
              "    }\n",
              "\n",
              "    [theme=dark] .colab-df-convert {\n",
              "      background-color: #3B4455;\n",
              "      fill: #D2E3FC;\n",
              "    }\n",
              "\n",
              "    [theme=dark] .colab-df-convert:hover {\n",
              "      background-color: #434B5C;\n",
              "      box-shadow: 0px 1px 3px 1px rgba(0, 0, 0, 0.15);\n",
              "      filter: drop-shadow(0px 1px 2px rgba(0, 0, 0, 0.3));\n",
              "      fill: #FFFFFF;\n",
              "    }\n",
              "  </style>\n",
              "\n",
              "      <script>\n",
              "        const buttonEl =\n",
              "          document.querySelector('#df-fe8458e3-209f-4a8f-9bb7-97f429be6ec6 button.colab-df-convert');\n",
              "        buttonEl.style.display =\n",
              "          google.colab.kernel.accessAllowed ? 'block' : 'none';\n",
              "\n",
              "        async function convertToInteractive(key) {\n",
              "          const element = document.querySelector('#df-fe8458e3-209f-4a8f-9bb7-97f429be6ec6');\n",
              "          const dataTable =\n",
              "            await google.colab.kernel.invokeFunction('convertToInteractive',\n",
              "                                                     [key], {});\n",
              "          if (!dataTable) return;\n",
              "\n",
              "          const docLinkHtml = 'Like what you see? Visit the ' +\n",
              "            '<a target=\"_blank\" href=https://colab.research.google.com/notebooks/data_table.ipynb>data table notebook</a>'\n",
              "            + ' to learn more about interactive tables.';\n",
              "          element.innerHTML = '';\n",
              "          dataTable['output_type'] = 'display_data';\n",
              "          await google.colab.output.renderOutput(dataTable, element);\n",
              "          const docLink = document.createElement('div');\n",
              "          docLink.innerHTML = docLinkHtml;\n",
              "          element.appendChild(docLink);\n",
              "        }\n",
              "      </script>\n",
              "    </div>\n",
              "  </div>\n",
              "  "
            ]
          },
          "metadata": {},
          "execution_count": 14
        }
      ],
      "source": [
        "num_movies = 5\n",
        "print('{} movies that are similar to {}'.format(num_movies, movie_name))\n",
        "find_similar_movies(movie_id, num_movies)"
      ]
    },
    {
      "cell_type": "markdown",
      "metadata": {
        "id": "X8N1_VlfWP0c"
      },
      "source": [
        "- The five movies similar to <em>The Simpsons: Season 1</em> are:\n",
        "    - <em>The Simpsons: Treehouse of Horror</em>\n",
        "    - <em>The Simpsons: Season 3</em>\n",
        "    - <em>The Simpsons: Bart Wars</em>\n",
        "    - <em>The Simpsons: Season 6</em>\n",
        "    - <em>Family Guy: Freakin' Sweet Collection</em>\n",
        "\n",
        "- Four of them are in <em>The Simpsons</em> series, indicating that cosine similarity between movie feature vectors is a good indicator of movie similarity."
      ]
    },
    {
      "cell_type": "markdown",
      "metadata": {
        "id": "_cjDojuvsWk2"
      },
      "source": [
        "### Part 3.2: Recommend Movies to a Current User"
      ]
    },
    {
      "cell_type": "markdown",
      "metadata": {
        "id": "_nb3fI0jpw9a"
      },
      "source": [
        "- This section attempts to generate movie recommendations for a existing user in the dataset, say user #1331154. Before recommending movies to this user, let's first have a look at some of his/her favorite movies."
      ]
    },
    {
      "cell_type": "code",
      "execution_count": 15,
      "metadata": {
        "id": "4tJwkP_wb8nM"
      },
      "outputs": [],
      "source": [
        "def get_current_favorite_movies_of_user(user_id, recommendation):\n",
        "    '''\n",
        "    Retrieve some favorite movies of a user. Favorite movies of a user are the \n",
        "    movies to which the user gave the highest rating (mostly 5). Movies are\n",
        "    sorted by the rating given by this user, and the top few movies are returned.\n",
        "\n",
        "    Parameters:\n",
        "        user_id (int): the id of the user to investigate\n",
        "        num_movies (int): the number of favorite movies to check\n",
        "\n",
        "    Returns:\n",
        "        favorite_movies (Pandas DataFrame): a dataframe of the user's favorite movies\n",
        "    '''\n",
        "    # The ratings given by this user\n",
        "    df_user_subset = df_ratings.where(df_ratings.User_ID == user_id)\n",
        "    # The movies to which the user gave the highest rating\n",
        "    favorite_movies = df_user_subset.join(df_movies, df_user_subset.Movie_ID == df_movies.Movie_ID) \\\n",
        "                                    .orderBy('Rating', ascending=False) \\\n",
        "                                    .select(df_user_subset['Movie_ID'], 'Year', 'Name', 'Rating') \\\n",
        "                                    .limit(num_movies).toPandas()\n",
        "    # If no movies found, print failure message.\n",
        "    if favorite_movies.shape[0] == 0:\n",
        "        print('User ID {} not found in dataset.'.format(user_id))\n",
        "        return None\n",
        "    # Return the dataframe if the movies are found.\n",
        "    return favorite_movies"
      ]
    },
    {
      "cell_type": "code",
      "execution_count": 16,
      "metadata": {
        "colab": {
          "base_uri": "https://localhost:8080/",
          "height": 224
        },
        "id": "R3u6cEwQbg6D",
        "outputId": "e8cef88e-85c1-4163-d009-09554cd62b1c"
      },
      "outputs": [
        {
          "output_type": "stream",
          "name": "stdout",
          "text": [
            "The 5 favorite movies of user 1331154\n"
          ]
        },
        {
          "output_type": "execute_result",
          "data": {
            "text/plain": [
              "   Movie_ID  Year                   Name  Rating\n",
              "0      2795  2001  The X-Files: Season 9     5.0\n",
              "1      3650  1983              War Games     5.0\n",
              "2      2913  2004      Finding Neverland     5.0\n",
              "3      2743  2002            The Pianist     5.0\n",
              "4      3333  2004            The Village     5.0"
            ],
            "text/html": [
              "\n",
              "  <div id=\"df-1da2d532-0bf6-4698-8a23-34b65197bb22\">\n",
              "    <div class=\"colab-df-container\">\n",
              "      <div>\n",
              "<style scoped>\n",
              "    .dataframe tbody tr th:only-of-type {\n",
              "        vertical-align: middle;\n",
              "    }\n",
              "\n",
              "    .dataframe tbody tr th {\n",
              "        vertical-align: top;\n",
              "    }\n",
              "\n",
              "    .dataframe thead th {\n",
              "        text-align: right;\n",
              "    }\n",
              "</style>\n",
              "<table border=\"1\" class=\"dataframe\">\n",
              "  <thead>\n",
              "    <tr style=\"text-align: right;\">\n",
              "      <th></th>\n",
              "      <th>Movie_ID</th>\n",
              "      <th>Year</th>\n",
              "      <th>Name</th>\n",
              "      <th>Rating</th>\n",
              "    </tr>\n",
              "  </thead>\n",
              "  <tbody>\n",
              "    <tr>\n",
              "      <th>0</th>\n",
              "      <td>2795</td>\n",
              "      <td>2001</td>\n",
              "      <td>The X-Files: Season 9</td>\n",
              "      <td>5.0</td>\n",
              "    </tr>\n",
              "    <tr>\n",
              "      <th>1</th>\n",
              "      <td>3650</td>\n",
              "      <td>1983</td>\n",
              "      <td>War Games</td>\n",
              "      <td>5.0</td>\n",
              "    </tr>\n",
              "    <tr>\n",
              "      <th>2</th>\n",
              "      <td>2913</td>\n",
              "      <td>2004</td>\n",
              "      <td>Finding Neverland</td>\n",
              "      <td>5.0</td>\n",
              "    </tr>\n",
              "    <tr>\n",
              "      <th>3</th>\n",
              "      <td>2743</td>\n",
              "      <td>2002</td>\n",
              "      <td>The Pianist</td>\n",
              "      <td>5.0</td>\n",
              "    </tr>\n",
              "    <tr>\n",
              "      <th>4</th>\n",
              "      <td>3333</td>\n",
              "      <td>2004</td>\n",
              "      <td>The Village</td>\n",
              "      <td>5.0</td>\n",
              "    </tr>\n",
              "  </tbody>\n",
              "</table>\n",
              "</div>\n",
              "      <button class=\"colab-df-convert\" onclick=\"convertToInteractive('df-1da2d532-0bf6-4698-8a23-34b65197bb22')\"\n",
              "              title=\"Convert this dataframe to an interactive table.\"\n",
              "              style=\"display:none;\">\n",
              "        \n",
              "  <svg xmlns=\"http://www.w3.org/2000/svg\" height=\"24px\"viewBox=\"0 0 24 24\"\n",
              "       width=\"24px\">\n",
              "    <path d=\"M0 0h24v24H0V0z\" fill=\"none\"/>\n",
              "    <path d=\"M18.56 5.44l.94 2.06.94-2.06 2.06-.94-2.06-.94-.94-2.06-.94 2.06-2.06.94zm-11 1L8.5 8.5l.94-2.06 2.06-.94-2.06-.94L8.5 2.5l-.94 2.06-2.06.94zm10 10l.94 2.06.94-2.06 2.06-.94-2.06-.94-.94-2.06-.94 2.06-2.06.94z\"/><path d=\"M17.41 7.96l-1.37-1.37c-.4-.4-.92-.59-1.43-.59-.52 0-1.04.2-1.43.59L10.3 9.45l-7.72 7.72c-.78.78-.78 2.05 0 2.83L4 21.41c.39.39.9.59 1.41.59.51 0 1.02-.2 1.41-.59l7.78-7.78 2.81-2.81c.8-.78.8-2.07 0-2.86zM5.41 20L4 18.59l7.72-7.72 1.47 1.35L5.41 20z\"/>\n",
              "  </svg>\n",
              "      </button>\n",
              "      \n",
              "  <style>\n",
              "    .colab-df-container {\n",
              "      display:flex;\n",
              "      flex-wrap:wrap;\n",
              "      gap: 12px;\n",
              "    }\n",
              "\n",
              "    .colab-df-convert {\n",
              "      background-color: #E8F0FE;\n",
              "      border: none;\n",
              "      border-radius: 50%;\n",
              "      cursor: pointer;\n",
              "      display: none;\n",
              "      fill: #1967D2;\n",
              "      height: 32px;\n",
              "      padding: 0 0 0 0;\n",
              "      width: 32px;\n",
              "    }\n",
              "\n",
              "    .colab-df-convert:hover {\n",
              "      background-color: #E2EBFA;\n",
              "      box-shadow: 0px 1px 2px rgba(60, 64, 67, 0.3), 0px 1px 3px 1px rgba(60, 64, 67, 0.15);\n",
              "      fill: #174EA6;\n",
              "    }\n",
              "\n",
              "    [theme=dark] .colab-df-convert {\n",
              "      background-color: #3B4455;\n",
              "      fill: #D2E3FC;\n",
              "    }\n",
              "\n",
              "    [theme=dark] .colab-df-convert:hover {\n",
              "      background-color: #434B5C;\n",
              "      box-shadow: 0px 1px 3px 1px rgba(0, 0, 0, 0.15);\n",
              "      filter: drop-shadow(0px 1px 2px rgba(0, 0, 0, 0.3));\n",
              "      fill: #FFFFFF;\n",
              "    }\n",
              "  </style>\n",
              "\n",
              "      <script>\n",
              "        const buttonEl =\n",
              "          document.querySelector('#df-1da2d532-0bf6-4698-8a23-34b65197bb22 button.colab-df-convert');\n",
              "        buttonEl.style.display =\n",
              "          google.colab.kernel.accessAllowed ? 'block' : 'none';\n",
              "\n",
              "        async function convertToInteractive(key) {\n",
              "          const element = document.querySelector('#df-1da2d532-0bf6-4698-8a23-34b65197bb22');\n",
              "          const dataTable =\n",
              "            await google.colab.kernel.invokeFunction('convertToInteractive',\n",
              "                                                     [key], {});\n",
              "          if (!dataTable) return;\n",
              "\n",
              "          const docLinkHtml = 'Like what you see? Visit the ' +\n",
              "            '<a target=\"_blank\" href=https://colab.research.google.com/notebooks/data_table.ipynb>data table notebook</a>'\n",
              "            + ' to learn more about interactive tables.';\n",
              "          element.innerHTML = '';\n",
              "          dataTable['output_type'] = 'display_data';\n",
              "          await google.colab.output.renderOutput(dataTable, element);\n",
              "          const docLink = document.createElement('div');\n",
              "          docLink.innerHTML = docLinkHtml;\n",
              "          element.appendChild(docLink);\n",
              "        }\n",
              "      </script>\n",
              "    </div>\n",
              "  </div>\n",
              "  "
            ]
          },
          "metadata": {},
          "execution_count": 16
        }
      ],
      "source": [
        "user_id = 1331154\n",
        "print('The {} favorite movies of user {}'.format(num_movies, user_id))\n",
        "get_current_favorite_movies_of_user(user_id, num_movies)"
      ]
    },
    {
      "cell_type": "markdown",
      "metadata": {
        "id": "FrQWU281tCYW"
      },
      "source": [
        "- Now recommend some movies to user #1331154."
      ]
    },
    {
      "cell_type": "code",
      "execution_count": 17,
      "metadata": {
        "id": "oAMGIrYysUy2"
      },
      "outputs": [],
      "source": [
        "def recomend_movies_to_user(user_id, num_recommendations, model):\n",
        "    '''\n",
        "    Recommend movies to an existing user in the dataset using the given model.\n",
        "\n",
        "    Parameters:\n",
        "        user_id (int): the id of the user to recommend movies\n",
        "        num_recommendations (int): the number of movies to recommend\n",
        "        model (ALSModel): the recommendation model\n",
        "\n",
        "    Returns:\n",
        "        result (Pandas DataFrame): a dataframe of the recommended movies\n",
        "    '''\n",
        "    # The ratings given by this user\n",
        "    df_user_subset = df_ratings.where(df_ratings.User_ID == user_id)\n",
        "    # Use the model to give movie recommendations\n",
        "    recommendations = model.recommendForUserSubset(df_user_subset, num_recommendations).toPandas()\n",
        "    # If no movies found, print failure message.\n",
        "    if recommendations.shape[0] == 0:\n",
        "        print('User ID {} not found in dataset.'.format(user_id))\n",
        "        return None\n",
        "    # Get movie ids and the predicted ratings of the recommended movies\n",
        "    recommendations = recommendations.iloc[0, 1]\n",
        "    recommendations = pd.DataFrame(recommendations, columns=['Movie_ID', 'predicted_ratings'])\n",
        "    # The info of all recommended movies: movie id, year, name\n",
        "    movies_info = None\n",
        "    # For each recommended movie\n",
        "    for movie_id in recommendations['Movie_ID']:\n",
        "        # Get the movie info: movie id, year, name\n",
        "        movie_info = df_movies.where(df_movies.Movie_ID == movie_id)\n",
        "        # Append the new info to the end of movies_info\n",
        "        movies_info = movies_info.union(movie_info) if movies_info else movie_info\n",
        "    # Add another column to show the predicted ratings of the recommended movies of this user\n",
        "    result = pd.concat(\n",
        "        [movies_info.toPandas(), recommendations['predicted_ratings']],\n",
        "        axis=1\n",
        "    )\n",
        "    result.index = range(1, num_recommendations + 1)\n",
        "    return result"
      ]
    },
    {
      "cell_type": "code",
      "execution_count": 18,
      "metadata": {
        "id": "GaQj6vsh96gV",
        "colab": {
          "base_uri": "https://localhost:8080/",
          "height": 224
        },
        "outputId": "b096d1aa-57c8-4294-f718-a6d56719fa49"
      },
      "outputs": [
        {
          "output_type": "stream",
          "name": "stdout",
          "text": [
            "The 5 movies recommended to user 1331154\n"
          ]
        },
        {
          "output_type": "execute_result",
          "data": {
            "text/plain": [
              "   Movie_ID  Year                       Name  predicted_ratings\n",
              "1      3456  2004             Lost: Season 1           4.632281\n",
              "2      4427  2001    The West Wing: Season 3           4.550875\n",
              "3      1476  2004   Six Feet Under: Season 4           4.455322\n",
              "4      1947  2002    Gilmore Girls: Season 3           4.390172\n",
              "5      3962  2003  Finding Nemo (Widescreen)           4.382888"
            ],
            "text/html": [
              "\n",
              "  <div id=\"df-2b4f800c-bbbe-4070-8333-fa1a9bbccc32\">\n",
              "    <div class=\"colab-df-container\">\n",
              "      <div>\n",
              "<style scoped>\n",
              "    .dataframe tbody tr th:only-of-type {\n",
              "        vertical-align: middle;\n",
              "    }\n",
              "\n",
              "    .dataframe tbody tr th {\n",
              "        vertical-align: top;\n",
              "    }\n",
              "\n",
              "    .dataframe thead th {\n",
              "        text-align: right;\n",
              "    }\n",
              "</style>\n",
              "<table border=\"1\" class=\"dataframe\">\n",
              "  <thead>\n",
              "    <tr style=\"text-align: right;\">\n",
              "      <th></th>\n",
              "      <th>Movie_ID</th>\n",
              "      <th>Year</th>\n",
              "      <th>Name</th>\n",
              "      <th>predicted_ratings</th>\n",
              "    </tr>\n",
              "  </thead>\n",
              "  <tbody>\n",
              "    <tr>\n",
              "      <th>1</th>\n",
              "      <td>3456</td>\n",
              "      <td>2004</td>\n",
              "      <td>Lost: Season 1</td>\n",
              "      <td>4.632281</td>\n",
              "    </tr>\n",
              "    <tr>\n",
              "      <th>2</th>\n",
              "      <td>4427</td>\n",
              "      <td>2001</td>\n",
              "      <td>The West Wing: Season 3</td>\n",
              "      <td>4.550875</td>\n",
              "    </tr>\n",
              "    <tr>\n",
              "      <th>3</th>\n",
              "      <td>1476</td>\n",
              "      <td>2004</td>\n",
              "      <td>Six Feet Under: Season 4</td>\n",
              "      <td>4.455322</td>\n",
              "    </tr>\n",
              "    <tr>\n",
              "      <th>4</th>\n",
              "      <td>1947</td>\n",
              "      <td>2002</td>\n",
              "      <td>Gilmore Girls: Season 3</td>\n",
              "      <td>4.390172</td>\n",
              "    </tr>\n",
              "    <tr>\n",
              "      <th>5</th>\n",
              "      <td>3962</td>\n",
              "      <td>2003</td>\n",
              "      <td>Finding Nemo (Widescreen)</td>\n",
              "      <td>4.382888</td>\n",
              "    </tr>\n",
              "  </tbody>\n",
              "</table>\n",
              "</div>\n",
              "      <button class=\"colab-df-convert\" onclick=\"convertToInteractive('df-2b4f800c-bbbe-4070-8333-fa1a9bbccc32')\"\n",
              "              title=\"Convert this dataframe to an interactive table.\"\n",
              "              style=\"display:none;\">\n",
              "        \n",
              "  <svg xmlns=\"http://www.w3.org/2000/svg\" height=\"24px\"viewBox=\"0 0 24 24\"\n",
              "       width=\"24px\">\n",
              "    <path d=\"M0 0h24v24H0V0z\" fill=\"none\"/>\n",
              "    <path d=\"M18.56 5.44l.94 2.06.94-2.06 2.06-.94-2.06-.94-.94-2.06-.94 2.06-2.06.94zm-11 1L8.5 8.5l.94-2.06 2.06-.94-2.06-.94L8.5 2.5l-.94 2.06-2.06.94zm10 10l.94 2.06.94-2.06 2.06-.94-2.06-.94-.94-2.06-.94 2.06-2.06.94z\"/><path d=\"M17.41 7.96l-1.37-1.37c-.4-.4-.92-.59-1.43-.59-.52 0-1.04.2-1.43.59L10.3 9.45l-7.72 7.72c-.78.78-.78 2.05 0 2.83L4 21.41c.39.39.9.59 1.41.59.51 0 1.02-.2 1.41-.59l7.78-7.78 2.81-2.81c.8-.78.8-2.07 0-2.86zM5.41 20L4 18.59l7.72-7.72 1.47 1.35L5.41 20z\"/>\n",
              "  </svg>\n",
              "      </button>\n",
              "      \n",
              "  <style>\n",
              "    .colab-df-container {\n",
              "      display:flex;\n",
              "      flex-wrap:wrap;\n",
              "      gap: 12px;\n",
              "    }\n",
              "\n",
              "    .colab-df-convert {\n",
              "      background-color: #E8F0FE;\n",
              "      border: none;\n",
              "      border-radius: 50%;\n",
              "      cursor: pointer;\n",
              "      display: none;\n",
              "      fill: #1967D2;\n",
              "      height: 32px;\n",
              "      padding: 0 0 0 0;\n",
              "      width: 32px;\n",
              "    }\n",
              "\n",
              "    .colab-df-convert:hover {\n",
              "      background-color: #E2EBFA;\n",
              "      box-shadow: 0px 1px 2px rgba(60, 64, 67, 0.3), 0px 1px 3px 1px rgba(60, 64, 67, 0.15);\n",
              "      fill: #174EA6;\n",
              "    }\n",
              "\n",
              "    [theme=dark] .colab-df-convert {\n",
              "      background-color: #3B4455;\n",
              "      fill: #D2E3FC;\n",
              "    }\n",
              "\n",
              "    [theme=dark] .colab-df-convert:hover {\n",
              "      background-color: #434B5C;\n",
              "      box-shadow: 0px 1px 3px 1px rgba(0, 0, 0, 0.15);\n",
              "      filter: drop-shadow(0px 1px 2px rgba(0, 0, 0, 0.3));\n",
              "      fill: #FFFFFF;\n",
              "    }\n",
              "  </style>\n",
              "\n",
              "      <script>\n",
              "        const buttonEl =\n",
              "          document.querySelector('#df-2b4f800c-bbbe-4070-8333-fa1a9bbccc32 button.colab-df-convert');\n",
              "        buttonEl.style.display =\n",
              "          google.colab.kernel.accessAllowed ? 'block' : 'none';\n",
              "\n",
              "        async function convertToInteractive(key) {\n",
              "          const element = document.querySelector('#df-2b4f800c-bbbe-4070-8333-fa1a9bbccc32');\n",
              "          const dataTable =\n",
              "            await google.colab.kernel.invokeFunction('convertToInteractive',\n",
              "                                                     [key], {});\n",
              "          if (!dataTable) return;\n",
              "\n",
              "          const docLinkHtml = 'Like what you see? Visit the ' +\n",
              "            '<a target=\"_blank\" href=https://colab.research.google.com/notebooks/data_table.ipynb>data table notebook</a>'\n",
              "            + ' to learn more about interactive tables.';\n",
              "          element.innerHTML = '';\n",
              "          dataTable['output_type'] = 'display_data';\n",
              "          await google.colab.output.renderOutput(dataTable, element);\n",
              "          const docLink = document.createElement('div');\n",
              "          docLink.innerHTML = docLinkHtml;\n",
              "          element.appendChild(docLink);\n",
              "        }\n",
              "      </script>\n",
              "    </div>\n",
              "  </div>\n",
              "  "
            ]
          },
          "metadata": {},
          "execution_count": 18
        }
      ],
      "source": [
        "# Recommend 5 movies to user 1331154\n",
        "num_recommendations = 5\n",
        "print('The {} movies recommended to user {}'.format(num_recommendations, user_id))\n",
        "recommendations = recomend_movies_to_user(user_id, num_recommendations, model)\n",
        "recommendations"
      ]
    },
    {
      "cell_type": "markdown",
      "metadata": {
        "id": "rYAmAwm1BRVX"
      },
      "source": [
        "### Part 3.3: Recommend Movies to a New User and Model Retraining"
      ]
    },
    {
      "cell_type": "markdown",
      "metadata": {
        "id": "j_iP7YssXnb_"
      },
      "source": [
        "- Suppose we would like to recommend movies to a new user, whose movies ratings are not included in the training dataset we used before.\n",
        "- What we know now is just the IDs of the movies that this new user has just watched."
      ]
    },
    {
      "cell_type": "code",
      "execution_count": 19,
      "metadata": {
        "id": "H8S8CCrYXSLE"
      },
      "outputs": [],
      "source": [
        "# The movies that the new user just watched\n",
        "movie_ids = [1020, 3456, 3650]"
      ]
    },
    {
      "cell_type": "markdown",
      "metadata": {
        "id": "Ot29nw4nY2qk"
      },
      "source": [
        "- First have a look at the detailed information about these movies."
      ]
    },
    {
      "cell_type": "code",
      "execution_count": 20,
      "metadata": {
        "colab": {
          "base_uri": "https://localhost:8080/"
        },
        "id": "0cQKB8VrY2XA",
        "outputId": "b5aa8499-44b1-4bf9-f703-bf38f2f0a339"
      },
      "outputs": [
        {
          "output_type": "stream",
          "name": "stdout",
          "text": [
            "+--------+----+----------------------+\n",
            "|Movie_ID|Year|Name                  |\n",
            "+--------+----+----------------------+\n",
            "|1020    |1989|The Simpsons: Season 1|\n",
            "|3456    |2004|Lost: Season 1        |\n",
            "|3650    |1983|War Games             |\n",
            "+--------+----+----------------------+\n",
            "\n"
          ]
        }
      ],
      "source": [
        "df_movies.filter(df_movies.Movie_ID.isin(movie_ids)) \\\n",
        "         .orderBy('Movie_ID', ascending=True) \\\n",
        "         .show(truncate=False)"
      ]
    },
    {
      "cell_type": "markdown",
      "metadata": {
        "id": "G5eNr2dialvx"
      },
      "source": [
        "- Now define a function to make recommendations to a new user."
      ]
    },
    {
      "cell_type": "code",
      "execution_count": 21,
      "metadata": {
        "id": "bDeFHdsIauru"
      },
      "outputs": [],
      "source": [
        "from pyspark.sql.functions import lit\n",
        "\n",
        "def augment_dataset(new_user_id, movie_ids, df_movies, df_ratings):\n",
        "    '''\n",
        "    Augment the rating dataset by adding the information of the new user. New\n",
        "    rows are appended to the original rating DataFrame to accommodate the new \n",
        "    user.\n",
        "\n",
        "    Parameters:\n",
        "        new_user_id (int): the id assigned to the new user\n",
        "        movie_ids (list): the id list of the movies that the new user watched\n",
        "        df_movies (Spark DataFrame): the movie dataset\n",
        "        df_ratings (Spark DataFrame): the original rating dataset\n",
        "\n",
        "    Returns:\n",
        "        augmented_ratings (Spark DataFrame): the augmented rating dataset\n",
        "    '''\n",
        "    # Check the validity of the movie ids\n",
        "    # The movie has to be in the dataset\n",
        "    movie_ids = [\n",
        "        movie_id for movie_id in movie_ids\n",
        "        if df_movies.filter(df_movies.Movie_ID == 3333).count()\n",
        "    ]\n",
        "    # No duplicates\n",
        "    movie_ids = list(set(movie_ids))\n",
        "    # The maximum movie rating given by the previous users (5 in this case)\n",
        "    max_rating = df_ratings.agg({'Rating': 'max'}).collect()[0][0]\n",
        "    \n",
        "    # Generate rows for the new user\n",
        "    # It is assumed that the user will give the max rating to the movies watched\n",
        "    new_rows = [(new_user_id, max_rating, movie_id) for movie_id in movie_ids]\n",
        "    columns = ['User_ID', 'Rating', 'Movie_ID']\n",
        "    appendix = spark.createDataFrame(new_rows, columns)\n",
        "    # Append the new rows to the original rating dataframe\n",
        "    augmented_ratings = df_ratings.union(appendix)\n",
        "\n",
        "    return augmented_ratings\n",
        "\n",
        "def dataset_for_prediction(new_user_id, movie_ids, df_movies):\n",
        "    '''\n",
        "    Build a dataframe for model prediction. The dataframe has two columns.\n",
        "    One is User_ID, which has the ID of the new user as its only value.\n",
        "    The other is Movie_ID, which contains all the movie ids except those that\n",
        "    have been watched by the new user.\n",
        "\n",
        "    Parameters:\n",
        "        new_user_id (int): the id assigned to the new user\n",
        "        movie_ids (list): the id list of the movies that the user watched\n",
        "        df_movies (Spark DataFrame): the movie dataset\n",
        "\n",
        "    Returns:\n",
        "        result (Spark DataFrame): the dataframe for rating prediction\n",
        "    '''\n",
        "    # DataFrame construction\n",
        "    result = df_movies.select('Movie_ID') \\\n",
        "                      .distinct() \\\n",
        "                      .filter(~df_movies.Movie_ID.isin(movie_ids)) \\\n",
        "                      .withColumn('User_ID', lit(new_user_id))\n",
        "    # Type conversion\n",
        "    result = result.withColumn(\"User_ID\", result[\"User_ID\"].cast(IntegerType()))\n",
        "    result = result.withColumn(\"Movie_ID\", result[\"Movie_ID\"].cast(IntegerType()))\n",
        "    return result\n",
        "\n",
        "def recomend_movies_to_new_user(movie_ids, num_recommendations, df_movies, df_ratings, model_params):\n",
        "    '''\n",
        "    Recommend movies to a new user.\n",
        "\n",
        "    Parameters:\n",
        "        movie_ids (list): the id list of the movies that the user watched\n",
        "        num_recommendations (int): the number of movies to recommend\n",
        "        df_movies (Spark DataFrame): the movie dataset\n",
        "        df_ratings (Spark DataFrame): the rating dataset\n",
        "        model (dict): the ALS model parameters\n",
        "\n",
        "    Returns:\n",
        "        recommended_movies (Spark DataFrame): the recommended movies to the new user\n",
        "    '''\n",
        "    # Assign an id to the new user\n",
        "    new_user_id = df_ratings.agg({'User_ID': 'max'}).collect()[0][0] + 1\n",
        "\n",
        "    # Augment the rating dataset for model retraining\n",
        "    augmented_ratings = augment_dataset(new_user_id, movie_ids, df_movies, df_ratings)\n",
        "    \n",
        "    # Retrain the ALS model\n",
        "    model_als = ALS(\n",
        "        rank=model_params['rank'],\n",
        "        maxIter=model_params['maxIter'],\n",
        "        regParam=model_params['regParam'],\n",
        "        alpha=model_params['alpha'],\n",
        "        userCol=\"User_ID\", itemCol=\"Movie_ID\", ratingCol=\"Rating\",\n",
        "        coldStartStrategy=\"drop\", \n",
        "        seed=1\n",
        "    )\n",
        "    retrained_model = model_als.fit(augmented_ratings)\n",
        "\n",
        "    # Get dataset of the new user for rating prediction\n",
        "    df_ratings_to_predict = dataset_for_prediction(new_user_id, movie_ids, df_movies)\n",
        "    df_predictions = retrained_model.transform(df_ratings_to_predict)\n",
        "\n",
        "    # Get the ids of the recommended movies by sorting the predicted ratings in descending order\n",
        "    recommended_movie_ids = df_predictions.orderBy('prediction', ascending=False) \\\n",
        "                                          .limit(num_recommendations) \\\n",
        "                                          .select('Movie_ID', 'prediction')\n",
        "    \n",
        "    # Get other information of the recommended movies: year, name\n",
        "    recommended_movies = df_movies.join(\n",
        "        recommended_movie_ids,\n",
        "        df_movies.Movie_ID == recommended_movie_ids.Movie_ID\n",
        "    ).orderBy('prediction', ascending=False) \\\n",
        "    .select(recommended_movie_ids['Movie_ID'], 'Year', 'Name', 'prediction')\n",
        "\n",
        "    return recommended_movies"
      ]
    },
    {
      "cell_type": "markdown",
      "metadata": {
        "id": "SWpsNhja7eX-"
      },
      "source": [
        "- Make recommendations to the new user."
      ]
    },
    {
      "cell_type": "code",
      "execution_count": 22,
      "metadata": {
        "colab": {
          "base_uri": "https://localhost:8080/",
          "height": 224
        },
        "id": "t7kUrh3s5GX8",
        "outputId": "67c72b1a-7904-4556-91a0-784f21c70a9b"
      },
      "outputs": [
        {
          "output_type": "stream",
          "name": "stdout",
          "text": [
            "The 5 movies recommended to the new user\n"
          ]
        },
        {
          "output_type": "execute_result",
          "data": {
            "text/plain": [
              "   Movie_ID  Year                                           Name  prediction\n",
              "0      2102  1994                         The Simpsons: Season 6    5.127633\n",
              "1      3290  1974                                  The Godfather    5.051917\n",
              "2      4427  2001                        The West Wing: Season 3    5.002013\n",
              "3      2172  1991                         The Simpsons: Season 3    4.986874\n",
              "4      2452  2001  Lord of the Rings: The Fellowship of the Ring    4.983238"
            ],
            "text/html": [
              "\n",
              "  <div id=\"df-006d9392-a24d-491b-8b39-6e3f88e141ac\">\n",
              "    <div class=\"colab-df-container\">\n",
              "      <div>\n",
              "<style scoped>\n",
              "    .dataframe tbody tr th:only-of-type {\n",
              "        vertical-align: middle;\n",
              "    }\n",
              "\n",
              "    .dataframe tbody tr th {\n",
              "        vertical-align: top;\n",
              "    }\n",
              "\n",
              "    .dataframe thead th {\n",
              "        text-align: right;\n",
              "    }\n",
              "</style>\n",
              "<table border=\"1\" class=\"dataframe\">\n",
              "  <thead>\n",
              "    <tr style=\"text-align: right;\">\n",
              "      <th></th>\n",
              "      <th>Movie_ID</th>\n",
              "      <th>Year</th>\n",
              "      <th>Name</th>\n",
              "      <th>prediction</th>\n",
              "    </tr>\n",
              "  </thead>\n",
              "  <tbody>\n",
              "    <tr>\n",
              "      <th>0</th>\n",
              "      <td>2102</td>\n",
              "      <td>1994</td>\n",
              "      <td>The Simpsons: Season 6</td>\n",
              "      <td>5.127633</td>\n",
              "    </tr>\n",
              "    <tr>\n",
              "      <th>1</th>\n",
              "      <td>3290</td>\n",
              "      <td>1974</td>\n",
              "      <td>The Godfather</td>\n",
              "      <td>5.051917</td>\n",
              "    </tr>\n",
              "    <tr>\n",
              "      <th>2</th>\n",
              "      <td>4427</td>\n",
              "      <td>2001</td>\n",
              "      <td>The West Wing: Season 3</td>\n",
              "      <td>5.002013</td>\n",
              "    </tr>\n",
              "    <tr>\n",
              "      <th>3</th>\n",
              "      <td>2172</td>\n",
              "      <td>1991</td>\n",
              "      <td>The Simpsons: Season 3</td>\n",
              "      <td>4.986874</td>\n",
              "    </tr>\n",
              "    <tr>\n",
              "      <th>4</th>\n",
              "      <td>2452</td>\n",
              "      <td>2001</td>\n",
              "      <td>Lord of the Rings: The Fellowship of the Ring</td>\n",
              "      <td>4.983238</td>\n",
              "    </tr>\n",
              "  </tbody>\n",
              "</table>\n",
              "</div>\n",
              "      <button class=\"colab-df-convert\" onclick=\"convertToInteractive('df-006d9392-a24d-491b-8b39-6e3f88e141ac')\"\n",
              "              title=\"Convert this dataframe to an interactive table.\"\n",
              "              style=\"display:none;\">\n",
              "        \n",
              "  <svg xmlns=\"http://www.w3.org/2000/svg\" height=\"24px\"viewBox=\"0 0 24 24\"\n",
              "       width=\"24px\">\n",
              "    <path d=\"M0 0h24v24H0V0z\" fill=\"none\"/>\n",
              "    <path d=\"M18.56 5.44l.94 2.06.94-2.06 2.06-.94-2.06-.94-.94-2.06-.94 2.06-2.06.94zm-11 1L8.5 8.5l.94-2.06 2.06-.94-2.06-.94L8.5 2.5l-.94 2.06-2.06.94zm10 10l.94 2.06.94-2.06 2.06-.94-2.06-.94-.94-2.06-.94 2.06-2.06.94z\"/><path d=\"M17.41 7.96l-1.37-1.37c-.4-.4-.92-.59-1.43-.59-.52 0-1.04.2-1.43.59L10.3 9.45l-7.72 7.72c-.78.78-.78 2.05 0 2.83L4 21.41c.39.39.9.59 1.41.59.51 0 1.02-.2 1.41-.59l7.78-7.78 2.81-2.81c.8-.78.8-2.07 0-2.86zM5.41 20L4 18.59l7.72-7.72 1.47 1.35L5.41 20z\"/>\n",
              "  </svg>\n",
              "      </button>\n",
              "      \n",
              "  <style>\n",
              "    .colab-df-container {\n",
              "      display:flex;\n",
              "      flex-wrap:wrap;\n",
              "      gap: 12px;\n",
              "    }\n",
              "\n",
              "    .colab-df-convert {\n",
              "      background-color: #E8F0FE;\n",
              "      border: none;\n",
              "      border-radius: 50%;\n",
              "      cursor: pointer;\n",
              "      display: none;\n",
              "      fill: #1967D2;\n",
              "      height: 32px;\n",
              "      padding: 0 0 0 0;\n",
              "      width: 32px;\n",
              "    }\n",
              "\n",
              "    .colab-df-convert:hover {\n",
              "      background-color: #E2EBFA;\n",
              "      box-shadow: 0px 1px 2px rgba(60, 64, 67, 0.3), 0px 1px 3px 1px rgba(60, 64, 67, 0.15);\n",
              "      fill: #174EA6;\n",
              "    }\n",
              "\n",
              "    [theme=dark] .colab-df-convert {\n",
              "      background-color: #3B4455;\n",
              "      fill: #D2E3FC;\n",
              "    }\n",
              "\n",
              "    [theme=dark] .colab-df-convert:hover {\n",
              "      background-color: #434B5C;\n",
              "      box-shadow: 0px 1px 3px 1px rgba(0, 0, 0, 0.15);\n",
              "      filter: drop-shadow(0px 1px 2px rgba(0, 0, 0, 0.3));\n",
              "      fill: #FFFFFF;\n",
              "    }\n",
              "  </style>\n",
              "\n",
              "      <script>\n",
              "        const buttonEl =\n",
              "          document.querySelector('#df-006d9392-a24d-491b-8b39-6e3f88e141ac button.colab-df-convert');\n",
              "        buttonEl.style.display =\n",
              "          google.colab.kernel.accessAllowed ? 'block' : 'none';\n",
              "\n",
              "        async function convertToInteractive(key) {\n",
              "          const element = document.querySelector('#df-006d9392-a24d-491b-8b39-6e3f88e141ac');\n",
              "          const dataTable =\n",
              "            await google.colab.kernel.invokeFunction('convertToInteractive',\n",
              "                                                     [key], {});\n",
              "          if (!dataTable) return;\n",
              "\n",
              "          const docLinkHtml = 'Like what you see? Visit the ' +\n",
              "            '<a target=\"_blank\" href=https://colab.research.google.com/notebooks/data_table.ipynb>data table notebook</a>'\n",
              "            + ' to learn more about interactive tables.';\n",
              "          element.innerHTML = '';\n",
              "          dataTable['output_type'] = 'display_data';\n",
              "          await google.colab.output.renderOutput(dataTable, element);\n",
              "          const docLink = document.createElement('div');\n",
              "          docLink.innerHTML = docLinkHtml;\n",
              "          element.appendChild(docLink);\n",
              "        }\n",
              "      </script>\n",
              "    </div>\n",
              "  </div>\n",
              "  "
            ]
          },
          "metadata": {},
          "execution_count": 22
        }
      ],
      "source": [
        "# Recommend movies to the new user\n",
        "recommendations_to_new_user = recomend_movies_to_new_user(\n",
        "    movie_ids=movie_ids, \n",
        "    num_recommendations=num_recommendations,\n",
        "    df_movies=df_movies,\n",
        "    df_ratings=df_ratings,\n",
        "    model_params={\n",
        "        'rank': 15,\n",
        "        'maxIter': 10,\n",
        "        'regParam': 1e-1,\n",
        "        'alpha': 1e-3\n",
        "    }\n",
        ")\n",
        "print('The {} movies recommended to the new user'.format(num_recommendations))\n",
        "recommendations_to_new_user.toPandas()"
      ]
    },
    {
      "cell_type": "markdown",
      "metadata": {
        "id": "YS8O7r5h8iVi"
      },
      "source": [
        "- Comment: ALS might generate predictions that exceed the maximum rating value (5 in this case). This is acceptable since we only want a ranking of the movies that the user might like to make recommendations, and the more the predicted value exceeds 5, the more likely that the user might like this movie."
      ]
    }
  ],
  "metadata": {
    "colab": {
      "provenance": []
    },
    "kernelspec": {
      "display_name": "Python 3",
      "name": "python3"
    },
    "language_info": {
      "name": "python"
    }
  },
  "nbformat": 4,
  "nbformat_minor": 0
}