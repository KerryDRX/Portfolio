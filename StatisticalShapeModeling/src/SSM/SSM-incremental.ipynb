{
  "cells": [
    {
      "cell_type": "code",
      "source": [
        "import os\n",
        "from glob import glob\n",
        "import platform\n",
        "import torch\n",
        "import random\n",
        "import numpy as np\n",
        "import subprocess\n",
        "import json\n",
        "from tqdm import tqdm\n",
        "import shapeworks as sw\n",
        "import DataAugmentationUtils\n",
        "import DeepSSMUtils\n",
        "import math\n",
        "import shutil"
      ],
      "outputs": [],
      "execution_count": 18,
      "metadata": {
        "scrolled": true,
        "gather": {
          "logged": 1673475836339
        }
      },
      "id": "d8ea8a3c"
    },
    {
      "cell_type": "markdown",
      "source": [
        "# Load Images"
      ],
      "metadata": {},
      "id": "63aea559"
    },
    {
      "cell_type": "code",
      "source": [
        "torch.multiprocessing.set_sharing_strategy('file_system')\n",
        "if platform.system() == \"Darwin\":\n",
        "    os.environ['OMP_NUM_THREADS'] = \"1\""
      ],
      "outputs": [],
      "execution_count": 4,
      "metadata": {
        "gather": {
          "logged": 1673475432298
        }
      },
      "id": "13331a2d"
    },
    {
      "cell_type": "code",
      "source": [
        "city = 'All'\n",
        "size = 64\n",
        "vent = 3\n",
        "dataset_directory = f'../dataset/{city}/Ventricles_{size}_{vent}_cleaned/'\n",
        "deepssm_directory = f'{dataset_directory}DeepSSM_inc/'\n",
        "groom_directory = f'{deepssm_directory}groomed/'\n",
        "mesh_directory = f'{deepssm_directory}mesh/'\n",
        "aug_directory = f'{deepssm_directory}augmentation/'\n",
        "loader_directory = f'{deepssm_directory}torch_loaders/'\n",
        "\n",
        "val_test_images_directory = f'{groom_directory}val_and_test_images/'\n",
        "val_paticle_directory = f'{groom_directory}validation_particles/'\n",
        "\n",
        "for directory in [\n",
        "    deepssm_directory, mesh_directory, groom_directory, aug_directory, loader_directory,\n",
        "    val_test_images_directory, val_paticle_directory\n",
        "]:\n",
        "    if not os.path.exists(directory):\n",
        "        os.mkdir(directory)"
      ],
      "outputs": [],
      "execution_count": 5,
      "metadata": {
        "gather": {
          "logged": 1673475433846
        }
      },
      "id": "3703bd67"
    },
    {
      "cell_type": "code",
      "source": [
        "image_paths = sorted(glob(f'{dataset_directory}*.nrrd'))\n",
        "uids = [image_path.split('/')[-1][:5] for image_path in image_paths]"
      ],
      "outputs": [],
      "execution_count": 6,
      "metadata": {
        "scrolled": false,
        "gather": {
          "logged": 1673475435139
        }
      },
      "id": "d5430a62"
    },
    {
      "cell_type": "code",
      "source": [
        "images = [sw.Image(image_path) for image_path in image_paths]"
      ],
      "outputs": [],
      "execution_count": 7,
      "metadata": {
        "gather": {
          "logged": 1673475516145
        }
      },
      "id": "d5c7e158"
    },
    {
      "cell_type": "code",
      "source": [
        "meshes = [image.toMesh(isovalue=0.5) for image in images]\n",
        "sw.utils.save_meshes(\n",
        "    outDir=mesh_directory,\n",
        "    swMeshList=meshes,\n",
        "    swMeshNames=uids,\n",
        "    extension='ply',\n",
        "    verbose=False\n",
        ");"
      ],
      "outputs": [
        {
          "output_type": "stream",
          "name": "stderr",
          "text": "WARNING: Trying to save mesh with new field. Only vtk and vtp files save associated fields\nWARNING: Trying to save mesh with new field. Only vtk and vtp files save associated fields\nWARNING: Trying to save mesh with new field. Only vtk and vtp files save associated fields\nWARNING: Trying to save mesh with new field. Only vtk and vtp files save associated fields\nWARNING: Trying to save mesh with new field. Only vtk and vtp files save associated fields\nWARNING: Trying to save mesh with new field. Only vtk and vtp files save associated fields\nWARNING: Trying to save mesh with new field. Only vtk and vtp files save associated fields\nWARNING: Trying to save mesh with new field. Only vtk and vtp files save associated fields\nWARNING: Trying to save mesh with new field. Only vtk and vtp files save associated fields\nWARNING: Trying to save mesh with new field. Only vtk and vtp files save associated fields\nWARNING: Trying to save mesh with new field. Only vtk and vtp files save associated fields\nWARNING: Trying to save mesh with new field. Only vtk and vtp files save associated fields\nWARNING: Trying to save mesh with new field. Only vtk and vtp files save associated fields\nWARNING: Trying to save mesh with new field. Only vtk and vtp files save associated fields\nWARNING: Trying to save mesh with new field. Only vtk and vtp files save associated fields\nWARNING: Trying to save mesh with new field. Only vtk and vtp files save associated fields\nWARNING: Trying to save mesh with new field. Only vtk and vtp files save associated fields\nWARNING: Trying to save mesh with new field. Only vtk and vtp files save associated fields\nWARNING: Trying to save mesh with new field. Only vtk and vtp files save associated fields\nWARNING: Trying to save mesh with new field. Only vtk and vtp files save associated fields\nWARNING: Trying to save mesh with new field. Only vtk and vtp files save associated fields\nWARNING: Trying to save mesh with new field. Only vtk and vtp files save associated fields\nWARNING: Trying to save mesh with new field. Only vtk and vtp files save associated fields\nWARNING: Trying to save mesh with new field. Only vtk and vtp files save associated fields\nWARNING: Trying to save mesh with new field. Only vtk and vtp files save associated fields\nWARNING: Trying to save mesh with new field. Only vtk and vtp files save associated fields\nWARNING: Trying to save mesh with new field. Only vtk and vtp files save associated fields\nWARNING: Trying to save mesh with new field. Only vtk and vtp files save associated fields\nWARNING: Trying to save mesh with new field. Only vtk and vtp files save associated fields\nWARNING: Trying to save mesh with new field. Only vtk and vtp files save associated fields\nWARNING: Trying to save mesh with new field. Only vtk and vtp files save associated fields\nWARNING: Trying to save mesh with new field. Only vtk and vtp files save associated fields\nWARNING: Trying to save mesh with new field. Only vtk and vtp files save associated fields\nWARNING: Trying to save mesh with new field. Only vtk and vtp files save associated fields\nWARNING: Trying to save mesh with new field. Only vtk and vtp files save associated fields\nWARNING: Trying to save mesh with new field. Only vtk and vtp files save associated fields\nWARNING: Trying to save mesh with new field. Only vtk and vtp files save associated fields\nWARNING: Trying to save mesh with new field. Only vtk and vtp files save associated fields\nWARNING: Trying to save mesh with new field. Only vtk and vtp files save associated fields\nWARNING: Trying to save mesh with new field. Only vtk and vtp files save associated fields\nWARNING: Trying to save mesh with new field. Only vtk and vtp files save associated fields\nWARNING: Trying to save mesh with new field. Only vtk and vtp files save associated fields\nWARNING: Trying to save mesh with new field. Only vtk and vtp files save associated fields\nWARNING: Trying to save mesh with new field. Only vtk and vtp files save associated fields\nWARNING: Trying to save mesh with new field. Only vtk and vtp files save associated fields\nWARNING: Trying to save mesh with new field. Only vtk and vtp files save associated fields\nWARNING: Trying to save mesh with new field. Only vtk and vtp files save associated fields\nWARNING: Trying to save mesh with new field. Only vtk and vtp files save associated fields\nWARNING: Trying to save mesh with new field. Only vtk and vtp files save associated fields\nWARNING: Trying to save mesh with new field. Only vtk and vtp files save associated fields\nWARNING: Trying to save mesh with new field. Only vtk and vtp files save associated fields\nWARNING: Trying to save mesh with new field. Only vtk and vtp files save associated fields\nWARNING: Trying to save mesh with new field. Only vtk and vtp files save associated fields\nWARNING: Trying to save mesh with new field. Only vtk and vtp files save associated fields\nWARNING: Trying to save mesh with new field. Only vtk and vtp files save associated fields\nWARNING: Trying to save mesh with new field. Only vtk and vtp files save associated fields\nWARNING: Trying to save mesh with new field. Only vtk and vtp files save associated fields\nWARNING: Trying to save mesh with new field. Only vtk and vtp files save associated fields\nWARNING: Trying to save mesh with new field. Only vtk and vtp files save associated fields\nWARNING: Trying to save mesh with new field. Only vtk and vtp files save associated fields\nWARNING: Trying to save mesh with new field. Only vtk and vtp files save associated fields\nWARNING: Trying to save mesh with new field. Only vtk and vtp files save associated fields\nWARNING: Trying to save mesh with new field. Only vtk and vtp files save associated fields\nWARNING: Trying to save mesh with new field. Only vtk and vtp files save associated fields\nWARNING: Trying to save mesh with new field. Only vtk and vtp files save associated fields\nWARNING: Trying to save mesh with new field. Only vtk and vtp files save associated fields\nWARNING: Trying to save mesh with new field. Only vtk and vtp files save associated fields\nWARNING: Trying to save mesh with new field. Only vtk and vtp files save associated fields\nWARNING: Trying to save mesh with new field. Only vtk and vtp files save associated fields\nWARNING: Trying to save mesh with new field. Only vtk and vtp files save associated fields\nWARNING: Trying to save mesh with new field. Only vtk and vtp files save associated fields\nWARNING: Trying to save mesh with new field. Only vtk and vtp files save associated fields\nWARNING: Trying to save mesh with new field. Only vtk and vtp files save associated fields\nWARNING: Trying to save mesh with new field. Only vtk and vtp files save associated fields\nWARNING: Trying to save mesh with new field. Only vtk and vtp files save associated fields\nWARNING: Trying to save mesh with new field. Only vtk and vtp files save associated fields\nWARNING: Trying to save mesh with new field. Only vtk and vtp files save associated fields\nWARNING: Trying to save mesh with new field. Only vtk and vtp files save associated fields\nWARNING: Trying to save mesh with new field. Only vtk and vtp files save associated fields\nWARNING: Trying to save mesh with new field. Only vtk and vtp files save associated fields\nWARNING: Trying to save mesh with new field. Only vtk and vtp files save associated fields\nWARNING: Trying to save mesh with new field. Only vtk and vtp files save associated fields\nWARNING: Trying to save mesh with new field. Only vtk and vtp files save associated fields\nWARNING: Trying to save mesh with new field. Only vtk and vtp files save associated fields\nWARNING: Trying to save mesh with new field. Only vtk and vtp files save associated fields\nWARNING: Trying to save mesh with new field. Only vtk and vtp files save associated fields\nWARNING: Trying to save mesh with new field. Only vtk and vtp files save associated fields\nWARNING: Trying to save mesh with new field. Only vtk and vtp files save associated fields\nWARNING: Trying to save mesh with new field. Only vtk and vtp files save associated fields\nWARNING: Trying to save mesh with new field. Only vtk and vtp files save associated fields\nWARNING: Trying to save mesh with new field. Only vtk and vtp files save associated fields\nWARNING: Trying to save mesh with new field. Only vtk and vtp files save associated fields\nWARNING: Trying to save mesh with new field. Only vtk and vtp files save associated fields\nWARNING: Trying to save mesh with new field. Only vtk and vtp files save associated fields\nWARNING: Trying to save mesh with new field. Only vtk and vtp files save associated fields\nWARNING: Trying to save mesh with new field. Only vtk and vtp files save associated fields\nWARNING: Trying to save mesh with new field. Only vtk and vtp files save associated fields\nWARNING: Trying to save mesh with new field. Only vtk and vtp files save associated fields\nWARNING: Trying to save mesh with new field. Only vtk and vtp files save associated fields\nWARNING: Trying to save mesh with new field. Only vtk and vtp files save associated fields\nWARNING: Trying to save mesh with new field. Only vtk and vtp files save associated fields\nWARNING: Trying to save mesh with new field. Only vtk and vtp files save associated fields\nWARNING: Trying to save mesh with new field. Only vtk and vtp files save associated fields\nWARNING: Trying to save mesh with new field. Only vtk and vtp files save associated fields\nWARNING: Trying to save mesh with new field. Only vtk and vtp files save associated fields\nWARNING: Trying to save mesh with new field. Only vtk and vtp files save associated fields\nWARNING: Trying to save mesh with new field. Only vtk and vtp files save associated fields\nWARNING: Trying to save mesh with new field. Only vtk and vtp files save associated fields\nWARNING: Trying to save mesh with new field. Only vtk and vtp files save associated fields\nWARNING: Trying to save mesh with new field. Only vtk and vtp files save associated fields\nWARNING: Trying to save mesh with new field. Only vtk and vtp files save associated fields\nWARNING: Trying to save mesh with new field. Only vtk and vtp files save associated fields\nWARNING: Trying to save mesh with new field. Only vtk and vtp files save associated fields\nWARNING: Trying to save mesh with new field. Only vtk and vtp files save associated fields\nWARNING: Trying to save mesh with new field. Only vtk and vtp files save associated fields\nWARNING: Trying to save mesh with new field. Only vtk and vtp files save associated fields\nWARNING: Trying to save mesh with new field. Only vtk and vtp files save associated fields\nWARNING: Trying to save mesh with new field. Only vtk and vtp files save associated fields\nWARNING: Trying to save mesh with new field. Only vtk and vtp files save associated fields\nWARNING: Trying to save mesh with new field. Only vtk and vtp files save associated fields\nWARNING: Trying to save mesh with new field. Only vtk and vtp files save associated fields\nWARNING: Trying to save mesh with new field. Only vtk and vtp files save associated fields\nWARNING: Trying to save mesh with new field. Only vtk and vtp files save associated fields\nWARNING: Trying to save mesh with new field. Only vtk and vtp files save associated fields\nWARNING: Trying to save mesh with new field. Only vtk and vtp files save associated fields\nWARNING: Trying to save mesh with new field. Only vtk and vtp files save associated fields\nWARNING: Trying to save mesh with new field. Only vtk and vtp files save associated fields\nWARNING: Trying to save mesh with new field. Only vtk and vtp files save associated fields\nWARNING: Trying to save mesh with new field. Only vtk and vtp files save associated fields\nWARNING: Trying to save mesh with new field. Only vtk and vtp files save associated fields\nWARNING: Trying to save mesh with new field. Only vtk and vtp files save associated fields\nWARNING: Trying to save mesh with new field. Only vtk and vtp files save associated fields\nWARNING: Trying to save mesh with new field. Only vtk and vtp files save associated fields\nWARNING: Trying to save mesh with new field. Only vtk and vtp files save associated fields\nWARNING: Trying to save mesh with new field. Only vtk and vtp files save associated fields\nWARNING: Trying to save mesh with new field. Only vtk and vtp files save associated fields\nWARNING: Trying to save mesh with new field. Only vtk and vtp files save associated fields\nWARNING: Trying to save mesh with new field. Only vtk and vtp files save associated fields\nWARNING: Trying to save mesh with new field. Only vtk and vtp files save associated fields\nWARNING: Trying to save mesh with new field. Only vtk and vtp files save associated fields\nWARNING: Trying to save mesh with new field. Only vtk and vtp files save associated fields\nWARNING: Trying to save mesh with new field. Only vtk and vtp files save associated fields\nWARNING: Trying to save mesh with new field. Only vtk and vtp files save associated fields\nWARNING: Trying to save mesh with new field. Only vtk and vtp files save associated fields\nWARNING: Trying to save mesh with new field. Only vtk and vtp files save associated fields\nWARNING: Trying to save mesh with new field. Only vtk and vtp files save associated fields\nWARNING: Trying to save mesh with new field. Only vtk and vtp files save associated fields\nWARNING: Trying to save mesh with new field. Only vtk and vtp files save associated fields\nWARNING: Trying to save mesh with new field. Only vtk and vtp files save associated fields\nWARNING: Trying to save mesh with new field. Only vtk and vtp files save associated fields\nWARNING: Trying to save mesh with new field. Only vtk and vtp files save associated fields\nWARNING: Trying to save mesh with new field. Only vtk and vtp files save associated fields\nWARNING: Trying to save mesh with new field. Only vtk and vtp files save associated fields\nWARNING: Trying to save mesh with new field. Only vtk and vtp files save associated fields\nWARNING: Trying to save mesh with new field. Only vtk and vtp files save associated fields\nWARNING: Trying to save mesh with new field. Only vtk and vtp files save associated fields\nWARNING: Trying to save mesh with new field. Only vtk and vtp files save associated fields\nWARNING: Trying to save mesh with new field. Only vtk and vtp files save associated fields\nWARNING: Trying to save mesh with new field. Only vtk and vtp files save associated fields\nWARNING: Trying to save mesh with new field. Only vtk and vtp files save associated fields\nWARNING: Trying to save mesh with new field. Only vtk and vtp files save associated fields\nWARNING: Trying to save mesh with new field. Only vtk and vtp files save associated fields\nWARNING: Trying to save mesh with new field. Only vtk and vtp files save associated fields\nWARNING: Trying to save mesh with new field. Only vtk and vtp files save associated fields\nWARNING: Trying to save mesh with new field. Only vtk and vtp files save associated fields\nWARNING: Trying to save mesh with new field. Only vtk and vtp files save associated fields\nWARNING: Trying to save mesh with new field. Only vtk and vtp files save associated fields\nWARNING: Trying to save mesh with new field. Only vtk and vtp files save associated fields\nWARNING: Trying to save mesh with new field. Only vtk and vtp files save associated fields\nWARNING: Trying to save mesh with new field. Only vtk and vtp files save associated fields\nWARNING: Trying to save mesh with new field. Only vtk and vtp files save associated fields\nWARNING: Trying to save mesh with new field. Only vtk and vtp files save associated fields\nWARNING: Trying to save mesh with new field. Only vtk and vtp files save associated fields\nWARNING: Trying to save mesh with new field. Only vtk and vtp files save associated fields\nWARNING: Trying to save mesh with new field. Only vtk and vtp files save associated fields\nWARNING: Trying to save mesh with new field. Only vtk and vtp files save associated fields\nWARNING: Trying to save mesh with new field. Only vtk and vtp files save associated fields\nWARNING: Trying to save mesh with new field. Only vtk and vtp files save associated fields\nWARNING: Trying to save mesh with new field. Only vtk and vtp files save associated fields\nWARNING: Trying to save mesh with new field. Only vtk and vtp files save associated fields\nWARNING: Trying to save mesh with new field. Only vtk and vtp files save associated fields\nWARNING: Trying to save mesh with new field. Only vtk and vtp files save associated fields\nWARNING: Trying to save mesh with new field. Only vtk and vtp files save associated fields\nWARNING: Trying to save mesh with new field. Only vtk and vtp files save associated fields\nWARNING: Trying to save mesh with new field. Only vtk and vtp files save associated fields\nWARNING: Trying to save mesh with new field. Only vtk and vtp files save associated fields\nWARNING: Trying to save mesh with new field. Only vtk and vtp files save associated fields\nWARNING: Trying to save mesh with new field. Only vtk and vtp files save associated fields\nWARNING: Trying to save mesh with new field. Only vtk and vtp files save associated fields\nWARNING: Trying to save mesh with new field. Only vtk and vtp files save associated fields\nWARNING: Trying to save mesh with new field. Only vtk and vtp files save associated fields\nWARNING: Trying to save mesh with new field. Only vtk and vtp files save associated fields\nWARNING: Trying to save mesh with new field. Only vtk and vtp files save associated fields\nWARNING: Trying to save mesh with new field. Only vtk and vtp files save associated fields\nWARNING: Trying to save mesh with new field. Only vtk and vtp files save associated fields\nWARNING: Trying to save mesh with new field. Only vtk and vtp files save associated fields\nWARNING: Trying to save mesh with new field. Only vtk and vtp files save associated fields\nWARNING: Trying to save mesh with new field. Only vtk and vtp files save associated fields\nWARNING: Trying to save mesh with new field. Only vtk and vtp files save associated fields\nWARNING: Trying to save mesh with new field. Only vtk and vtp files save associated fields\nWARNING: Trying to save mesh with new field. Only vtk and vtp files save associated fields\nWARNING: Trying to save mesh with new field. Only vtk and vtp files save associated fields\nWARNING: Trying to save mesh with new field. Only vtk and vtp files save associated fields\nWARNING: Trying to save mesh with new field. Only vtk and vtp files save associated fields\nWARNING: Trying to save mesh with new field. Only vtk and vtp files save associated fields\nWARNING: Trying to save mesh with new field. Only vtk and vtp files save associated fields\nWARNING: Trying to save mesh with new field. Only vtk and vtp files save associated fields\nWARNING: Trying to save mesh with new field. Only vtk and vtp files save associated fields\nWARNING: Trying to save mesh with new field. Only vtk and vtp files save associated fields\nWARNING: Trying to save mesh with new field. Only vtk and vtp files save associated fields\nWARNING: Trying to save mesh with new field. Only vtk and vtp files save associated fields\nWARNING: Trying to save mesh with new field. Only vtk and vtp files save associated fields\nWARNING: Trying to save mesh with new field. Only vtk and vtp files save associated fields\nWARNING: Trying to save mesh with new field. Only vtk and vtp files save associated fields\nWARNING: Trying to save mesh with new field. Only vtk and vtp files save associated fields\nWARNING: Trying to save mesh with new field. Only vtk and vtp files save associated fields\nWARNING: Trying to save mesh with new field. Only vtk and vtp files save associated fields\nWARNING: Trying to save mesh with new field. Only vtk and vtp files save associated fields\nWARNING: Trying to save mesh with new field. Only vtk and vtp files save associated fields\nWARNING: Trying to save mesh with new field. Only vtk and vtp files save associated fields\nWARNING: Trying to save mesh with new field. Only vtk and vtp files save associated fields\nWARNING: Trying to save mesh with new field. Only vtk and vtp files save associated fields\nWARNING: Trying to save mesh with new field. Only vtk and vtp files save associated fields\nWARNING: Trying to save mesh with new field. Only vtk and vtp files save associated fields\nWARNING: Trying to save mesh with new field. Only vtk and vtp files save associated fields\nWARNING: Trying to save mesh with new field. Only vtk and vtp files save associated fields\nWARNING: Trying to save mesh with new field. Only vtk and vtp files save associated fields\nWARNING: Trying to save mesh with new field. Only vtk and vtp files save associated fields\nWARNING: Trying to save mesh with new field. Only vtk and vtp files save associated fields\nWARNING: Trying to save mesh with new field. Only vtk and vtp files save associated fields\nWARNING: Trying to save mesh with new field. Only vtk and vtp files save associated fields\nWARNING: Trying to save mesh with new field. Only vtk and vtp files save associated fields\nWARNING: Trying to save mesh with new field. Only vtk and vtp files save associated fields\nWARNING: Trying to save mesh with new field. Only vtk and vtp files save associated fields\nWARNING: Trying to save mesh with new field. Only vtk and vtp files save associated fields\nWARNING: Trying to save mesh with new field. Only vtk and vtp files save associated fields\nWARNING: Trying to save mesh with new field. Only vtk and vtp files save associated fields\nWARNING: Trying to save mesh with new field. Only vtk and vtp files save associated fields\nWARNING: Trying to save mesh with new field. Only vtk and vtp files save associated fields\nWARNING: Trying to save mesh with new field. Only vtk and vtp files save associated fields\nWARNING: Trying to save mesh with new field. Only vtk and vtp files save associated fields\nWARNING: Trying to save mesh with new field. Only vtk and vtp files save associated fields\nWARNING: Trying to save mesh with new field. Only vtk and vtp files save associated fields\nWARNING: Trying to save mesh with new field. Only vtk and vtp files save associated fields\nWARNING: Trying to save mesh with new field. Only vtk and vtp files save associated fields\nWARNING: Trying to save mesh with new field. Only vtk and vtp files save associated fields\nWARNING: Trying to save mesh with new field. Only vtk and vtp files save associated fields\nWARNING: Trying to save mesh with new field. Only vtk and vtp files save associated fields\nWARNING: Trying to save mesh with new field. Only vtk and vtp files save associated fields\nWARNING: Trying to save mesh with new field. Only vtk and vtp files save associated fields\nWARNING: Trying to save mesh with new field. Only vtk and vtp files save associated fields\nWARNING: Trying to save mesh with new field. Only vtk and vtp files save associated fields\nWARNING: Trying to save mesh with new field. Only vtk and vtp files save associated fields\nWARNING: Trying to save mesh with new field. Only vtk and vtp files save associated fields\nWARNING: Trying to save mesh with new field. Only vtk and vtp files save associated fields\nWARNING: Trying to save mesh with new field. Only vtk and vtp files save associated fields\nWARNING: Trying to save mesh with new field. Only vtk and vtp files save associated fields\nWARNING: Trying to save mesh with new field. Only vtk and vtp files save associated fields\nWARNING: Trying to save mesh with new field. Only vtk and vtp files save associated fields\nWARNING: Trying to save mesh with new field. Only vtk and vtp files save associated fields\nWARNING: Trying to save mesh with new field. Only vtk and vtp files save associated fields\nWARNING: Trying to save mesh with new field. Only vtk and vtp files save associated fields\nWARNING: Trying to save mesh with new field. Only vtk and vtp files save associated fields\nWARNING: Trying to save mesh with new field. Only vtk and vtp files save associated fields\nWARNING: Trying to save mesh with new field. Only vtk and vtp files save associated fields\nWARNING: Trying to save mesh with new field. Only vtk and vtp files save associated fields\nWARNING: Trying to save mesh with new field. Only vtk and vtp files save associated fields\nWARNING: Trying to save mesh with new field. Only vtk and vtp files save associated fields\nWARNING: Trying to save mesh with new field. Only vtk and vtp files save associated fields\nWARNING: Trying to save mesh with new field. Only vtk and vtp files save associated fields\nWARNING: Trying to save mesh with new field. Only vtk and vtp files save associated fields\nWARNING: Trying to save mesh with new field. Only vtk and vtp files save associated fields\nWARNING: Trying to save mesh with new field. Only vtk and vtp files save associated fields\nWARNING: Trying to save mesh with new field. Only vtk and vtp files save associated fields\nWARNING: Trying to save mesh with new field. Only vtk and vtp files save associated fields\nWARNING: Trying to save mesh with new field. Only vtk and vtp files save associated fields\nWARNING: Trying to save mesh with new field. Only vtk and vtp files save associated fields\nWARNING: Trying to save mesh with new field. Only vtk and vtp files save associated fields\nWARNING: Trying to save mesh with new field. Only vtk and vtp files save associated fields\nWARNING: Trying to save mesh with new field. Only vtk and vtp files save associated fields\nWARNING: Trying to save mesh with new field. Only vtk and vtp files save associated fields\nWARNING: Trying to save mesh with new field. Only vtk and vtp files save associated fields\nWARNING: Trying to save mesh with new field. Only vtk and vtp files save associated fields\nWARNING: Trying to save mesh with new field. Only vtk and vtp files save associated fields\nWARNING: Trying to save mesh with new field. Only vtk and vtp files save associated fields\nWARNING: Trying to save mesh with new field. Only vtk and vtp files save associated fields\nWARNING: Trying to save mesh with new field. Only vtk and vtp files save associated fields\nWARNING: Trying to save mesh with new field. Only vtk and vtp files save associated fields\nWARNING: Trying to save mesh with new field. Only vtk and vtp files save associated fields\nWARNING: Trying to save mesh with new field. Only vtk and vtp files save associated fields\nWARNING: Trying to save mesh with new field. Only vtk and vtp files save associated fields\nWARNING: Trying to save mesh with new field. Only vtk and vtp files save associated fields\nWARNING: Trying to save mesh with new field. Only vtk and vtp files save associated fields\nWARNING: Trying to save mesh with new field. Only vtk and vtp files save associated fields\nWARNING: Trying to save mesh with new field. Only vtk and vtp files save associated fields\nWARNING: Trying to save mesh with new field. Only vtk and vtp files save associated fields\nWARNING: Trying to save mesh with new field. Only vtk and vtp files save associated fields\nWARNING: Trying to save mesh with new field. Only vtk and vtp files save associated fields\nWARNING: Trying to save mesh with new field. Only vtk and vtp files save associated fields\nWARNING: Trying to save mesh with new field. Only vtk and vtp files save associated fields\nWARNING: Trying to save mesh with new field. Only vtk and vtp files save associated fields\nWARNING: Trying to save mesh with new field. Only vtk and vtp files save associated fields\nWARNING: Trying to save mesh with new field. Only vtk and vtp files save associated fields\nWARNING: Trying to save mesh with new field. Only vtk and vtp files save associated fields\nWARNING: Trying to save mesh with new field. Only vtk and vtp files save associated fields\nWARNING: Trying to save mesh with new field. Only vtk and vtp files save associated fields\nWARNING: Trying to save mesh with new field. Only vtk and vtp files save associated fields\nWARNING: Trying to save mesh with new field. Only vtk and vtp files save associated fields\nWARNING: Trying to save mesh with new field. Only vtk and vtp files save associated fields\nWARNING: Trying to save mesh with new field. Only vtk and vtp files save associated fields\nWARNING: Trying to save mesh with new field. Only vtk and vtp files save associated fields\nWARNING: Trying to save mesh with new field. Only vtk and vtp files save associated fields\nWARNING: Trying to save mesh with new field. Only vtk and vtp files save associated fields\nWARNING: Trying to save mesh with new field. Only vtk and vtp files save associated fields\nWARNING: Trying to save mesh with new field. Only vtk and vtp files save associated fields\nWARNING: Trying to save mesh with new field. Only vtk and vtp files save associated fields\nWARNING: Trying to save mesh with new field. Only vtk and vtp files save associated fields\nWARNING: Trying to save mesh with new field. Only vtk and vtp files save associated fields\nWARNING: Trying to save mesh with new field. Only vtk and vtp files save associated fields\nWARNING: Trying to save mesh with new field. Only vtk and vtp files save associated fields\nWARNING: Trying to save mesh with new field. Only vtk and vtp files save associated fields\nWARNING: Trying to save mesh with new field. Only vtk and vtp files save associated fields\nWARNING: Trying to save mesh with new field. Only vtk and vtp files save associated fields\nWARNING: Trying to save mesh with new field. Only vtk and vtp files save associated fields\nWARNING: Trying to save mesh with new field. Only vtk and vtp files save associated fields\nWARNING: Trying to save mesh with new field. Only vtk and vtp files save associated fields\nWARNING: Trying to save mesh with new field. Only vtk and vtp files save associated fields\nWARNING: Trying to save mesh with new field. Only vtk and vtp files save associated fields\nWARNING: Trying to save mesh with new field. Only vtk and vtp files save associated fields\nWARNING: Trying to save mesh with new field. Only vtk and vtp files save associated fields\nWARNING: Trying to save mesh with new field. Only vtk and vtp files save associated fields\nWARNING: Trying to save mesh with new field. Only vtk and vtp files save associated fields\nWARNING: Trying to save mesh with new field. Only vtk and vtp files save associated fields\nWARNING: Trying to save mesh with new field. Only vtk and vtp files save associated fields\nWARNING: Trying to save mesh with new field. Only vtk and vtp files save associated fields\nWARNING: Trying to save mesh with new field. Only vtk and vtp files save associated fields\nWARNING: Trying to save mesh with new field. Only vtk and vtp files save associated fields\nWARNING: Trying to save mesh with new field. Only vtk and vtp files save associated fields\nWARNING: Trying to save mesh with new field. Only vtk and vtp files save associated fields\nWARNING: Trying to save mesh with new field. Only vtk and vtp files save associated fields\nWARNING: Trying to save mesh with new field. Only vtk and vtp files save associated fields\nWARNING: Trying to save mesh with new field. Only vtk and vtp files save associated fields\nWARNING: Trying to save mesh with new field. Only vtk and vtp files save associated fields\nWARNING: Trying to save mesh with new field. Only vtk and vtp files save associated fields\nWARNING: Trying to save mesh with new field. Only vtk and vtp files save associated fields\nWARNING: Trying to save mesh with new field. Only vtk and vtp files save associated fields\nWARNING: Trying to save mesh with new field. Only vtk and vtp files save associated fields\nWARNING: Trying to save mesh with new field. Only vtk and vtp files save associated fields\nWARNING: Trying to save mesh with new field. Only vtk and vtp files save associated fields\nWARNING: Trying to save mesh with new field. Only vtk and vtp files save associated fields\nWARNING: Trying to save mesh with new field. Only vtk and vtp files save associated fields\nWARNING: Trying to save mesh with new field. Only vtk and vtp files save associated fields\nWARNING: Trying to save mesh with new field. Only vtk and vtp files save associated fields\nWARNING: Trying to save mesh with new field. Only vtk and vtp files save associated fields\nWARNING: Trying to save mesh with new field. Only vtk and vtp files save associated fields\nWARNING: Trying to save mesh with new field. Only vtk and vtp files save associated fields\nWARNING: Trying to save mesh with new field. Only vtk and vtp files save associated fields\nWARNING: Trying to save mesh with new field. Only vtk and vtp files save associated fields\nWARNING: Trying to save mesh with new field. Only vtk and vtp files save associated fields\nWARNING: Trying to save mesh with new field. Only vtk and vtp files save associated fields\nWARNING: Trying to save mesh with new field. Only vtk and vtp files save associated fields\nWARNING: Trying to save mesh with new field. Only vtk and vtp files save associated fields\nWARNING: Trying to save mesh with new field. Only vtk and vtp files save associated fields\nWARNING: Trying to save mesh with new field. Only vtk and vtp files save associated fields\nWARNING: Trying to save mesh with new field. Only vtk and vtp files save associated fields\nWARNING: Trying to save mesh with new field. Only vtk and vtp files save associated fields\nWARNING: Trying to save mesh with new field. Only vtk and vtp files save associated fields\nWARNING: Trying to save mesh with new field. Only vtk and vtp files save associated fields\nWARNING: Trying to save mesh with new field. Only vtk and vtp files save associated fields\nWARNING: Trying to save mesh with new field. Only vtk and vtp files save associated fields\nWARNING: Trying to save mesh with new field. Only vtk and vtp files save associated fields\nWARNING: Trying to save mesh with new field. Only vtk and vtp files save associated fields\nWARNING: Trying to save mesh with new field. Only vtk and vtp files save associated fields\nWARNING: Trying to save mesh with new field. Only vtk and vtp files save associated fields\nWARNING: Trying to save mesh with new field. Only vtk and vtp files save associated fields\nWARNING: Trying to save mesh with new field. Only vtk and vtp files save associated fields\nWARNING: Trying to save mesh with new field. Only vtk and vtp files save associated fields\nWARNING: Trying to save mesh with new field. Only vtk and vtp files save associated fields\nWARNING: Trying to save mesh with new field. Only vtk and vtp files save associated fields\nWARNING: Trying to save mesh with new field. Only vtk and vtp files save associated fields\nWARNING: Trying to save mesh with new field. Only vtk and vtp files save associated fields\nWARNING: Trying to save mesh with new field. Only vtk and vtp files save associated fields\nWARNING: Trying to save mesh with new field. Only vtk and vtp files save associated fields\nWARNING: Trying to save mesh with new field. Only vtk and vtp files save associated fields\nWARNING: Trying to save mesh with new field. Only vtk and vtp files save associated fields\nWARNING: Trying to save mesh with new field. Only vtk and vtp files save associated fields\nWARNING: Trying to save mesh with new field. Only vtk and vtp files save associated fields\nWARNING: Trying to save mesh with new field. Only vtk and vtp files save associated fields\nWARNING: Trying to save mesh with new field. Only vtk and vtp files save associated fields\nWARNING: Trying to save mesh with new field. Only vtk and vtp files save associated fields\nWARNING: Trying to save mesh with new field. Only vtk and vtp files save associated fields\nWARNING: Trying to save mesh with new field. Only vtk and vtp files save associated fields\nWARNING: Trying to save mesh with new field. Only vtk and vtp files save associated fields\nWARNING: Trying to save mesh with new field. Only vtk and vtp files save associated fields\nWARNING: Trying to save mesh with new field. Only vtk and vtp files save associated fields\nWARNING: Trying to save mesh with new field. Only vtk and vtp files save associated fields\nWARNING: Trying to save mesh with new field. Only vtk and vtp files save associated fields\nWARNING: Trying to save mesh with new field. Only vtk and vtp files save associated fields\nWARNING: Trying to save mesh with new field. Only vtk and vtp files save associated fields\nWARNING: Trying to save mesh with new field. Only vtk and vtp files save associated fields\nWARNING: Trying to save mesh with new field. Only vtk and vtp files save associated fields\nWARNING: Trying to save mesh with new field. Only vtk and vtp files save associated fields\nWARNING: Trying to save mesh with new field. Only vtk and vtp files save associated fields\nWARNING: Trying to save mesh with new field. Only vtk and vtp files save associated fields\nWARNING: Trying to save mesh with new field. Only vtk and vtp files save associated fields\nWARNING: Trying to save mesh with new field. Only vtk and vtp files save associated fields\nWARNING: Trying to save mesh with new field. Only vtk and vtp files save associated fields\nWARNING: Trying to save mesh with new field. Only vtk and vtp files save associated fields\nWARNING: Trying to save mesh with new field. Only vtk and vtp files save associated fields\nWARNING: Trying to save mesh with new field. Only vtk and vtp files save associated fields\nWARNING: Trying to save mesh with new field. Only vtk and vtp files save associated fields\nWARNING: Trying to save mesh with new field. Only vtk and vtp files save associated fields\nWARNING: Trying to save mesh with new field. Only vtk and vtp files save associated fields\nWARNING: Trying to save mesh with new field. Only vtk and vtp files save associated fields\nWARNING: Trying to save mesh with new field. Only vtk and vtp files save associated fields\nWARNING: Trying to save mesh with new field. Only vtk and vtp files save associated fields\nWARNING: Trying to save mesh with new field. Only vtk and vtp files save associated fields\nWARNING: Trying to save mesh with new field. Only vtk and vtp files save associated fields\nWARNING: Trying to save mesh with new field. Only vtk and vtp files save associated fields\nWARNING: Trying to save mesh with new field. Only vtk and vtp files save associated fields\nWARNING: Trying to save mesh with new field. Only vtk and vtp files save associated fields\nWARNING: Trying to save mesh with new field. Only vtk and vtp files save associated fields\nWARNING: Trying to save mesh with new field. Only vtk and vtp files save associated fields\nWARNING: Trying to save mesh with new field. Only vtk and vtp files save associated fields\nWARNING: Trying to save mesh with new field. Only vtk and vtp files save associated fields\nWARNING: Trying to save mesh with new field. Only vtk and vtp files save associated fields\nWARNING: Trying to save mesh with new field. Only vtk and vtp files save associated fields\nWARNING: Trying to save mesh with new field. Only vtk and vtp files save associated fields\nWARNING: Trying to save mesh with new field. Only vtk and vtp files save associated fields\nWARNING: Trying to save mesh with new field. Only vtk and vtp files save associated fields\nWARNING: Trying to save mesh with new field. Only vtk and vtp files save associated fields\nWARNING: Trying to save mesh with new field. Only vtk and vtp files save associated fields\nWARNING: Trying to save mesh with new field. Only vtk and vtp files save associated fields\nWARNING: Trying to save mesh with new field. Only vtk and vtp files save associated fields\nWARNING: Trying to save mesh with new field. Only vtk and vtp files save associated fields\nWARNING: Trying to save mesh with new field. Only vtk and vtp files save associated fields\nWARNING: Trying to save mesh with new field. Only vtk and vtp files save associated fields\nWARNING: Trying to save mesh with new field. Only vtk and vtp files save associated fields\nWARNING: Trying to save mesh with new field. Only vtk and vtp files save associated fields\nWARNING: Trying to save mesh with new field. Only vtk and vtp files save associated fields\nWARNING: Trying to save mesh with new field. Only vtk and vtp files save associated fields\nWARNING: Trying to save mesh with new field. Only vtk and vtp files save associated fields\nWARNING: Trying to save mesh with new field. Only vtk and vtp files save associated fields\nWARNING: Trying to save mesh with new field. Only vtk and vtp files save associated fields\nWARNING: Trying to save mesh with new field. Only vtk and vtp files save associated fields\nWARNING: Trying to save mesh with new field. Only vtk and vtp files save associated fields\nWARNING: Trying to save mesh with new field. Only vtk and vtp files save associated fields\nWARNING: Trying to save mesh with new field. Only vtk and vtp files save associated fields\nWARNING: Trying to save mesh with new field. Only vtk and vtp files save associated fields\nWARNING: Trying to save mesh with new field. Only vtk and vtp files save associated fields\nWARNING: Trying to save mesh with new field. Only vtk and vtp files save associated fields\nWARNING: Trying to save mesh with new field. Only vtk and vtp files save associated fields\nWARNING: Trying to save mesh with new field. Only vtk and vtp files save associated fields\nWARNING: Trying to save mesh with new field. Only vtk and vtp files save associated fields\nWARNING: Trying to save mesh with new field. Only vtk and vtp files save associated fields\nWARNING: Trying to save mesh with new field. Only vtk and vtp files save associated fields\nWARNING: Trying to save mesh with new field. Only vtk and vtp files save associated fields\nWARNING: Trying to save mesh with new field. Only vtk and vtp files save associated fields\nWARNING: Trying to save mesh with new field. Only vtk and vtp files save associated fields\nWARNING: Trying to save mesh with new field. Only vtk and vtp files save associated fields\nWARNING: Trying to save mesh with new field. Only vtk and vtp files save associated fields\nWARNING: Trying to save mesh with new field. Only vtk and vtp files save associated fields\nWARNING: Trying to save mesh with new field. Only vtk and vtp files save associated fields\nWARNING: Trying to save mesh with new field. Only vtk and vtp files save associated fields\nWARNING: Trying to save mesh with new field. Only vtk and vtp files save associated fields\nWARNING: Trying to save mesh with new field. Only vtk and vtp files save associated fields\nWARNING: Trying to save mesh with new field. Only vtk and vtp files save associated fields\nWARNING: Trying to save mesh with new field. Only vtk and vtp files save associated fields\nWARNING: Trying to save mesh with new field. Only vtk and vtp files save associated fields\nWARNING: Trying to save mesh with new field. Only vtk and vtp files save associated fields\nWARNING: Trying to save mesh with new field. Only vtk and vtp files save associated fields\nWARNING: Trying to save mesh with new field. Only vtk and vtp files save associated fields\nWARNING: Trying to save mesh with new field. Only vtk and vtp files save associated fields\nWARNING: Trying to save mesh with new field. Only vtk and vtp files save associated fields\nWARNING: Trying to save mesh with new field. Only vtk and vtp files save associated fields\nWARNING: Trying to save mesh with new field. Only vtk and vtp files save associated fields\nWARNING: Trying to save mesh with new field. Only vtk and vtp files save associated fields\nWARNING: Trying to save mesh with new field. Only vtk and vtp files save associated fields\nWARNING: Trying to save mesh with new field. Only vtk and vtp files save associated fields\nWARNING: Trying to save mesh with new field. Only vtk and vtp files save associated fields\nWARNING: Trying to save mesh with new field. Only vtk and vtp files save associated fields\nWARNING: Trying to save mesh with new field. Only vtk and vtp files save associated fields\nWARNING: Trying to save mesh with new field. Only vtk and vtp files save associated fields\nWARNING: Trying to save mesh with new field. Only vtk and vtp files save associated fields\nWARNING: Trying to save mesh with new field. Only vtk and vtp files save associated fields\nWARNING: Trying to save mesh with new field. Only vtk and vtp files save associated fields\nWARNING: Trying to save mesh with new field. Only vtk and vtp files save associated fields\nWARNING: Trying to save mesh with new field. Only vtk and vtp files save associated fields\nWARNING: Trying to save mesh with new field. Only vtk and vtp files save associated fields\nWARNING: Trying to save mesh with new field. Only vtk and vtp files save associated fields\nWARNING: Trying to save mesh with new field. Only vtk and vtp files save associated fields\nWARNING: Trying to save mesh with new field. Only vtk and vtp files save associated fields\nWARNING: Trying to save mesh with new field. Only vtk and vtp files save associated fields\nWARNING: Trying to save mesh with new field. Only vtk and vtp files save associated fields\nWARNING: Trying to save mesh with new field. Only vtk and vtp files save associated fields\nWARNING: Trying to save mesh with new field. Only vtk and vtp files save associated fields\nWARNING: Trying to save mesh with new field. Only vtk and vtp files save associated fields\nWARNING: Trying to save mesh with new field. Only vtk and vtp files save associated fields\nWARNING: Trying to save mesh with new field. Only vtk and vtp files save associated fields\nWARNING: Trying to save mesh with new field. Only vtk and vtp files save associated fields\nWARNING: Trying to save mesh with new field. Only vtk and vtp files save associated fields\nWARNING: Trying to save mesh with new field. Only vtk and vtp files save associated fields\nWARNING: Trying to save mesh with new field. Only vtk and vtp files save associated fields\nWARNING: Trying to save mesh with new field. Only vtk and vtp files save associated fields\nWARNING: Trying to save mesh with new field. Only vtk and vtp files save associated fields\nWARNING: Trying to save mesh with new field. Only vtk and vtp files save associated fields\nWARNING: Trying to save mesh with new field. Only vtk and vtp files save associated fields\nWARNING: Trying to save mesh with new field. Only vtk and vtp files save associated fields\nWARNING: Trying to save mesh with new field. Only vtk and vtp files save associated fields\nWARNING: Trying to save mesh with new field. Only vtk and vtp files save associated fields\nWARNING: Trying to save mesh with new field. Only vtk and vtp files save associated fields\nWARNING: Trying to save mesh with new field. Only vtk and vtp files save associated fields\nWARNING: Trying to save mesh with new field. Only vtk and vtp files save associated fields\nWARNING: Trying to save mesh with new field. Only vtk and vtp files save associated fields\nWARNING: Trying to save mesh with new field. Only vtk and vtp files save associated fields\nWARNING: Trying to save mesh with new field. Only vtk and vtp files save associated fields\nWARNING: Trying to save mesh with new field. Only vtk and vtp files save associated fields\nWARNING: Trying to save mesh with new field. Only vtk and vtp files save associated fields\nWARNING: Trying to save mesh with new field. Only vtk and vtp files save associated fields\nWARNING: Trying to save mesh with new field. Only vtk and vtp files save associated fields\nWARNING: Trying to save mesh with new field. Only vtk and vtp files save associated fields\nWARNING: Trying to save mesh with new field. Only vtk and vtp files save associated fields\nWARNING: Trying to save mesh with new field. Only vtk and vtp files save associated fields\nWARNING: Trying to save mesh with new field. Only vtk and vtp files save associated fields\nWARNING: Trying to save mesh with new field. Only vtk and vtp files save associated fields\nWARNING: Trying to save mesh with new field. Only vtk and vtp files save associated fields\nWARNING: Trying to save mesh with new field. Only vtk and vtp files save associated fields\nWARNING: Trying to save mesh with new field. Only vtk and vtp files save associated fields\nWARNING: Trying to save mesh with new field. Only vtk and vtp files save associated fields\nWARNING: Trying to save mesh with new field. Only vtk and vtp files save associated fields\nWARNING: Trying to save mesh with new field. Only vtk and vtp files save associated fields\nWARNING: Trying to save mesh with new field. Only vtk and vtp files save associated fields\nWARNING: Trying to save mesh with new field. Only vtk and vtp files save associated fields\nWARNING: Trying to save mesh with new field. Only vtk and vtp files save associated fields\nWARNING: Trying to save mesh with new field. Only vtk and vtp files save associated fields\nWARNING: Trying to save mesh with new field. Only vtk and vtp files save associated fields\nWARNING: Trying to save mesh with new field. Only vtk and vtp files save associated fields\nWARNING: Trying to save mesh with new field. Only vtk and vtp files save associated fields\nWARNING: Trying to save mesh with new field. Only vtk and vtp files save associated fields\nWARNING: Trying to save mesh with new field. Only vtk and vtp files save associated fields\nWARNING: Trying to save mesh with new field. Only vtk and vtp files save associated fields\nWARNING: Trying to save mesh with new field. Only vtk and vtp files save associated fields\nWARNING: Trying to save mesh with new field. Only vtk and vtp files save associated fields\nWARNING: Trying to save mesh with new field. Only vtk and vtp files save associated fields\nWARNING: Trying to save mesh with new field. Only vtk and vtp files save associated fields\nWARNING: Trying to save mesh with new field. Only vtk and vtp files save associated fields\nWARNING: Trying to save mesh with new field. Only vtk and vtp files save associated fields\nWARNING: Trying to save mesh with new field. Only vtk and vtp files save associated fields\nWARNING: Trying to save mesh with new field. Only vtk and vtp files save associated fields\nWARNING: Trying to save mesh with new field. Only vtk and vtp files save associated fields\nWARNING: Trying to save mesh with new field. Only vtk and vtp files save associated fields\nWARNING: Trying to save mesh with new field. Only vtk and vtp files save associated fields\nWARNING: Trying to save mesh with new field. Only vtk and vtp files save associated fields\nWARNING: Trying to save mesh with new field. Only vtk and vtp files save associated fields\nWARNING: Trying to save mesh with new field. Only vtk and vtp files save associated fields\nWARNING: Trying to save mesh with new field. Only vtk and vtp files save associated fields\nWARNING: Trying to save mesh with new field. Only vtk and vtp files save associated fields\nWARNING: Trying to save mesh with new field. Only vtk and vtp files save associated fields\nWARNING: Trying to save mesh with new field. Only vtk and vtp files save associated fields\nWARNING: Trying to save mesh with new field. Only vtk and vtp files save associated fields\nWARNING: Trying to save mesh with new field. Only vtk and vtp files save associated fields\nWARNING: Trying to save mesh with new field. Only vtk and vtp files save associated fields\nWARNING: Trying to save mesh with new field. Only vtk and vtp files save associated fields\nWARNING: Trying to save mesh with new field. Only vtk and vtp files save associated fields\nWARNING: Trying to save mesh with new field. Only vtk and vtp files save associated fields\nWARNING: Trying to save mesh with new field. Only vtk and vtp files save associated fields\nWARNING: Trying to save mesh with new field. Only vtk and vtp files save associated fields\nWARNING: Trying to save mesh with new field. Only vtk and vtp files save associated fields\nWARNING: Trying to save mesh with new field. Only vtk and vtp files save associated fields\nWARNING: Trying to save mesh with new field. Only vtk and vtp files save associated fields\nWARNING: Trying to save mesh with new field. Only vtk and vtp files save associated fields\nWARNING: Trying to save mesh with new field. Only vtk and vtp files save associated fields\nWARNING: Trying to save mesh with new field. Only vtk and vtp files save associated fields\nWARNING: Trying to save mesh with new field. Only vtk and vtp files save associated fields\nWARNING: Trying to save mesh with new field. Only vtk and vtp files save associated fields\nWARNING: Trying to save mesh with new field. Only vtk and vtp files save associated fields\nWARNING: Trying to save mesh with new field. Only vtk and vtp files save associated fields\nWARNING: Trying to save mesh with new field. Only vtk and vtp files save associated fields\nWARNING: Trying to save mesh with new field. Only vtk and vtp files save associated fields\nWARNING: Trying to save mesh with new field. Only vtk and vtp files save associated fields\nWARNING: Trying to save mesh with new field. Only vtk and vtp files save associated fields\nWARNING: Trying to save mesh with new field. Only vtk and vtp files save associated fields\nWARNING: Trying to save mesh with new field. Only vtk and vtp files save associated fields\nWARNING: Trying to save mesh with new field. Only vtk and vtp files save associated fields\nWARNING: Trying to save mesh with new field. Only vtk and vtp files save associated fields\nWARNING: Trying to save mesh with new field. Only vtk and vtp files save associated fields\nWARNING: Trying to save mesh with new field. Only vtk and vtp files save associated fields\nWARNING: Trying to save mesh with new field. Only vtk and vtp files save associated fields\nWARNING: Trying to save mesh with new field. Only vtk and vtp files save associated fields\nWARNING: Trying to save mesh with new field. Only vtk and vtp files save associated fields\nWARNING: Trying to save mesh with new field. Only vtk and vtp files save associated fields\nWARNING: Trying to save mesh with new field. Only vtk and vtp files save associated fields\nWARNING: Trying to save mesh with new field. Only vtk and vtp files save associated fields\nWARNING: Trying to save mesh with new field. Only vtk and vtp files save associated fields\nWARNING: Trying to save mesh with new field. Only vtk and vtp files save associated fields\nWARNING: Trying to save mesh with new field. Only vtk and vtp files save associated fields\nWARNING: Trying to save mesh with new field. Only vtk and vtp files save associated fields\nWARNING: Trying to save mesh with new field. Only vtk and vtp files save associated fields\nWARNING: Trying to save mesh with new field. Only vtk and vtp files save associated fields\nWARNING: Trying to save mesh with new field. Only vtk and vtp files save associated fields\nWARNING: Trying to save mesh with new field. Only vtk and vtp files save associated fields\nWARNING: Trying to save mesh with new field. Only vtk and vtp files save associated fields\nWARNING: Trying to save mesh with new field. Only vtk and vtp files save associated fields\nWARNING: Trying to save mesh with new field. Only vtk and vtp files save associated fields\nWARNING: Trying to save mesh with new field. Only vtk and vtp files save associated fields\nWARNING: Trying to save mesh with new field. Only vtk and vtp files save associated fields\nWARNING: Trying to save mesh with new field. Only vtk and vtp files save associated fields\nWARNING: Trying to save mesh with new field. Only vtk and vtp files save associated fields\nWARNING: Trying to save mesh with new field. Only vtk and vtp files save associated fields\nWARNING: Trying to save mesh with new field. Only vtk and vtp files save associated fields\nWARNING: Trying to save mesh with new field. Only vtk and vtp files save associated fields\nWARNING: Trying to save mesh with new field. Only vtk and vtp files save associated fields\nWARNING: Trying to save mesh with new field. Only vtk and vtp files save associated fields\nWARNING: Trying to save mesh with new field. Only vtk and vtp files save associated fields\nWARNING: Trying to save mesh with new field. Only vtk and vtp files save associated fields\nWARNING: Trying to save mesh with new field. Only vtk and vtp files save associated fields\nWARNING: Trying to save mesh with new field. Only vtk and vtp files save associated fields\nWARNING: Trying to save mesh with new field. Only vtk and vtp files save associated fields\nWARNING: Trying to save mesh with new field. Only vtk and vtp files save associated fields\nWARNING: Trying to save mesh with new field. Only vtk and vtp files save associated fields\nWARNING: Trying to save mesh with new field. Only vtk and vtp files save associated fields\nWARNING: Trying to save mesh with new field. Only vtk and vtp files save associated fields\nWARNING: Trying to save mesh with new field. Only vtk and vtp files save associated fields\nWARNING: Trying to save mesh with new field. Only vtk and vtp files save associated fields\nWARNING: Trying to save mesh with new field. Only vtk and vtp files save associated fields\nWARNING: Trying to save mesh with new field. Only vtk and vtp files save associated fields\nWARNING: Trying to save mesh with new field. Only vtk and vtp files save associated fields\nWARNING: Trying to save mesh with new field. Only vtk and vtp files save associated fields\nWARNING: Trying to save mesh with new field. Only vtk and vtp files save associated fields\nWARNING: Trying to save mesh with new field. Only vtk and vtp files save associated fields\nWARNING: Trying to save mesh with new field. Only vtk and vtp files save associated fields\nWARNING: Trying to save mesh with new field. Only vtk and vtp files save associated fields\nWARNING: Trying to save mesh with new field. Only vtk and vtp files save associated fields\nWARNING: Trying to save mesh with new field. Only vtk and vtp files save associated fields\nWARNING: Trying to save mesh with new field. Only vtk and vtp files save associated fields\nWARNING: Trying to save mesh with new field. Only vtk and vtp files save associated fields\nWARNING: Trying to save mesh with new field. Only vtk and vtp files save associated fields\nWARNING: Trying to save mesh with new field. Only vtk and vtp files save associated fields\nWARNING: Trying to save mesh with new field. Only vtk and vtp files save associated fields\nWARNING: Trying to save mesh with new field. Only vtk and vtp files save associated fields\nWARNING: Trying to save mesh with new field. Only vtk and vtp files save associated fields\nWARNING: Trying to save mesh with new field. Only vtk and vtp files save associated fields\nWARNING: Trying to save mesh with new field. Only vtk and vtp files save associated fields\nWARNING: Trying to save mesh with new field. Only vtk and vtp files save associated fields\nWARNING: Trying to save mesh with new field. Only vtk and vtp files save associated fields\nWARNING: Trying to save mesh with new field. Only vtk and vtp files save associated fields\nWARNING: Trying to save mesh with new field. Only vtk and vtp files save associated fields\nWARNING: Trying to save mesh with new field. Only vtk and vtp files save associated fields\nWARNING: Trying to save mesh with new field. Only vtk and vtp files save associated fields\nWARNING: Trying to save mesh with new field. Only vtk and vtp files save associated fields\nWARNING: Trying to save mesh with new field. Only vtk and vtp files save associated fields\nWARNING: Trying to save mesh with new field. Only vtk and vtp files save associated fields\nWARNING: Trying to save mesh with new field. Only vtk and vtp files save associated fields\nWARNING: Trying to save mesh with new field. Only vtk and vtp files save associated fields\nWARNING: Trying to save mesh with new field. Only vtk and vtp files save associated fields\nWARNING: Trying to save mesh with new field. Only vtk and vtp files save associated fields\nWARNING: Trying to save mesh with new field. Only vtk and vtp files save associated fields\nWARNING: Trying to save mesh with new field. Only vtk and vtp files save associated fields\nWARNING: Trying to save mesh with new field. Only vtk and vtp files save associated fields\nWARNING: Trying to save mesh with new field. Only vtk and vtp files save associated fields\nWARNING: Trying to save mesh with new field. Only vtk and vtp files save associated fields\nWARNING: Trying to save mesh with new field. Only vtk and vtp files save associated fields\nWARNING: Trying to save mesh with new field. Only vtk and vtp files save associated fields\nWARNING: Trying to save mesh with new field. Only vtk and vtp files save associated fields\nWARNING: Trying to save mesh with new field. Only vtk and vtp files save associated fields\nWARNING: Trying to save mesh with new field. Only vtk and vtp files save associated fields\nWARNING: Trying to save mesh with new field. Only vtk and vtp files save associated fields\nWARNING: Trying to save mesh with new field. Only vtk and vtp files save associated fields\nWARNING: Trying to save mesh with new field. Only vtk and vtp files save associated fields\nWARNING: Trying to save mesh with new field. Only vtk and vtp files save associated fields\nWARNING: Trying to save mesh with new field. Only vtk and vtp files save associated fields\nWARNING: Trying to save mesh with new field. Only vtk and vtp files save associated fields\nWARNING: Trying to save mesh with new field. Only vtk and vtp files save associated fields\nWARNING: Trying to save mesh with new field. Only vtk and vtp files save associated fields\nWARNING: Trying to save mesh with new field. Only vtk and vtp files save associated fields\nWARNING: Trying to save mesh with new field. Only vtk and vtp files save associated fields\nWARNING: Trying to save mesh with new field. Only vtk and vtp files save associated fields\nWARNING: Trying to save mesh with new field. Only vtk and vtp files save associated fields\nWARNING: Trying to save mesh with new field. Only vtk and vtp files save associated fields\nWARNING: Trying to save mesh with new field. Only vtk and vtp files save associated fields\nWARNING: Trying to save mesh with new field. Only vtk and vtp files save associated fields\nWARNING: Trying to save mesh with new field. Only vtk and vtp files save associated fields\nWARNING: Trying to save mesh with new field. Only vtk and vtp files save associated fields\nWARNING: Trying to save mesh with new field. Only vtk and vtp files save associated fields\nWARNING: Trying to save mesh with new field. Only vtk and vtp files save associated fields\nWARNING: Trying to save mesh with new field. Only vtk and vtp files save associated fields\nWARNING: Trying to save mesh with new field. Only vtk and vtp files save associated fields\nWARNING: Trying to save mesh with new field. Only vtk and vtp files save associated fields\nWARNING: Trying to save mesh with new field. Only vtk and vtp files save associated fields\nWARNING: Trying to save mesh with new field. Only vtk and vtp files save associated fields\nWARNING: Trying to save mesh with new field. Only vtk and vtp files save associated fields\nWARNING: Trying to save mesh with new field. Only vtk and vtp files save associated fields\nWARNING: Trying to save mesh with new field. Only vtk and vtp files save associated fields\nWARNING: Trying to save mesh with new field. Only vtk and vtp files save associated fields\nWARNING: Trying to save mesh with new field. Only vtk and vtp files save associated fields\nWARNING: Trying to save mesh with new field. Only vtk and vtp files save associated fields\nWARNING: Trying to save mesh with new field. Only vtk and vtp files save associated fields\nWARNING: Trying to save mesh with new field. Only vtk and vtp files save associated fields\nWARNING: Trying to save mesh with new field. Only vtk and vtp files save associated fields\nWARNING: Trying to save mesh with new field. Only vtk and vtp files save associated fields\nWARNING: Trying to save mesh with new field. Only vtk and vtp files save associated fields\nWARNING: Trying to save mesh with new field. Only vtk and vtp files save associated fields\nWARNING: Trying to save mesh with new field. Only vtk and vtp files save associated fields\nWARNING: Trying to save mesh with new field. Only vtk and vtp files save associated fields\nWARNING: Trying to save mesh with new field. Only vtk and vtp files save associated fields\nWARNING: Trying to save mesh with new field. Only vtk and vtp files save associated fields\nWARNING: Trying to save mesh with new field. Only vtk and vtp files save associated fields\nWARNING: Trying to save mesh with new field. Only vtk and vtp files save associated fields\nWARNING: Trying to save mesh with new field. Only vtk and vtp files save associated fields\nWARNING: Trying to save mesh with new field. Only vtk and vtp files save associated fields\nWARNING: Trying to save mesh with new field. Only vtk and vtp files save associated fields\nWARNING: Trying to save mesh with new field. Only vtk and vtp files save associated fields\nWARNING: Trying to save mesh with new field. Only vtk and vtp files save associated fields\nWARNING: Trying to save mesh with new field. Only vtk and vtp files save associated fields\nWARNING: Trying to save mesh with new field. Only vtk and vtp files save associated fields\nWARNING: Trying to save mesh with new field. Only vtk and vtp files save associated fields\nWARNING: Trying to save mesh with new field. Only vtk and vtp files save associated fields\nWARNING: Trying to save mesh with new field. Only vtk and vtp files save associated fields\nWARNING: Trying to save mesh with new field. Only vtk and vtp files save associated fields\nWARNING: Trying to save mesh with new field. Only vtk and vtp files save associated fields\nWARNING: Trying to save mesh with new field. Only vtk and vtp files save associated fields\nWARNING: Trying to save mesh with new field. Only vtk and vtp files save associated fields\nWARNING: Trying to save mesh with new field. Only vtk and vtp files save associated fields\nWARNING: Trying to save mesh with new field. Only vtk and vtp files save associated fields\nWARNING: Trying to save mesh with new field. Only vtk and vtp files save associated fields\nWARNING: Trying to save mesh with new field. Only vtk and vtp files save associated fields\nWARNING: Trying to save mesh with new field. Only vtk and vtp files save associated fields\nWARNING: Trying to save mesh with new field. Only vtk and vtp files save associated fields\nWARNING: Trying to save mesh with new field. Only vtk and vtp files save associated fields\nWARNING: Trying to save mesh with new field. Only vtk and vtp files save associated fields\nWARNING: Trying to save mesh with new field. Only vtk and vtp files save associated fields\nWARNING: Trying to save mesh with new field. Only vtk and vtp files save associated fields\nWARNING: Trying to save mesh with new field. Only vtk and vtp files save associated fields\nWARNING: Trying to save mesh with new field. Only vtk and vtp files save associated fields\nWARNING: Trying to save mesh with new field. Only vtk and vtp files save associated fields\nWARNING: Trying to save mesh with new field. Only vtk and vtp files save associated fields\nWARNING: Trying to save mesh with new field. Only vtk and vtp files save associated fields\nWARNING: Trying to save mesh with new field. Only vtk and vtp files save associated fields\nWARNING: Trying to save mesh with new field. Only vtk and vtp files save associated fields\nWARNING: Trying to save mesh with new field. Only vtk and vtp files save associated fields\nWARNING: Trying to save mesh with new field. Only vtk and vtp files save associated fields\nWARNING: Trying to save mesh with new field. Only vtk and vtp files save associated fields\nWARNING: Trying to save mesh with new field. Only vtk and vtp files save associated fields\nWARNING: Trying to save mesh with new field. Only vtk and vtp files save associated fields\nWARNING: Trying to save mesh with new field. Only vtk and vtp files save associated fields\nWARNING: Trying to save mesh with new field. Only vtk and vtp files save associated fields\nWARNING: Trying to save mesh with new field. Only vtk and vtp files save associated fields\nWARNING: Trying to save mesh with new field. Only vtk and vtp files save associated fields\nWARNING: Trying to save mesh with new field. Only vtk and vtp files save associated fields\nWARNING: Trying to save mesh with new field. Only vtk and vtp files save associated fields\nWARNING: Trying to save mesh with new field. Only vtk and vtp files save associated fields\nWARNING: Trying to save mesh with new field. Only vtk and vtp files save associated fields\nWARNING: Trying to save mesh with new field. Only vtk and vtp files save associated fields\nWARNING: Trying to save mesh with new field. Only vtk and vtp files save associated fields\nWARNING: Trying to save mesh with new field. Only vtk and vtp files save associated fields\nWARNING: Trying to save mesh with new field. Only vtk and vtp files save associated fields\nWARNING: Trying to save mesh with new field. Only vtk and vtp files save associated fields\nWARNING: Trying to save mesh with new field. Only vtk and vtp files save associated fields\nWARNING: Trying to save mesh with new field. Only vtk and vtp files save associated fields\nWARNING: Trying to save mesh with new field. Only vtk and vtp files save associated fields\nWARNING: Trying to save mesh with new field. Only vtk and vtp files save associated fields\nWARNING: Trying to save mesh with new field. Only vtk and vtp files save associated fields\nWARNING: Trying to save mesh with new field. Only vtk and vtp files save associated fields\nWARNING: Trying to save mesh with new field. Only vtk and vtp files save associated fields\nWARNING: Trying to save mesh with new field. Only vtk and vtp files save associated fields\nWARNING: Trying to save mesh with new field. Only vtk and vtp files save associated fields\nWARNING: Trying to save mesh with new field. Only vtk and vtp files save associated fields\nWARNING: Trying to save mesh with new field. Only vtk and vtp files save associated fields\nWARNING: Trying to save mesh with new field. Only vtk and vtp files save associated fields\nWARNING: Trying to save mesh with new field. Only vtk and vtp files save associated fields\nWARNING: Trying to save mesh with new field. Only vtk and vtp files save associated fields\nWARNING: Trying to save mesh with new field. Only vtk and vtp files save associated fields\nWARNING: Trying to save mesh with new field. Only vtk and vtp files save associated fields\nWARNING: Trying to save mesh with new field. Only vtk and vtp files save associated fields\nWARNING: Trying to save mesh with new field. Only vtk and vtp files save associated fields\nWARNING: Trying to save mesh with new field. Only vtk and vtp files save associated fields\nWARNING: Trying to save mesh with new field. Only vtk and vtp files save associated fields\nWARNING: Trying to save mesh with new field. Only vtk and vtp files save associated fields\nWARNING: Trying to save mesh with new field. Only vtk and vtp files save associated fields\nWARNING: Trying to save mesh with new field. Only vtk and vtp files save associated fields\nWARNING: Trying to save mesh with new field. Only vtk and vtp files save associated fields\nWARNING: Trying to save mesh with new field. Only vtk and vtp files save associated fields\nWARNING: Trying to save mesh with new field. Only vtk and vtp files save associated fields\nWARNING: Trying to save mesh with new field. Only vtk and vtp files save associated fields\nWARNING: Trying to save mesh with new field. Only vtk and vtp files save associated fields\nWARNING: Trying to save mesh with new field. Only vtk and vtp files save associated fields\nWARNING: Trying to save mesh with new field. Only vtk and vtp files save associated fields\nWARNING: Trying to save mesh with new field. Only vtk and vtp files save associated fields\nWARNING: Trying to save mesh with new field. Only vtk and vtp files save associated fields\nWARNING: Trying to save mesh with new field. Only vtk and vtp files save associated fields\nWARNING: Trying to save mesh with new field. Only vtk and vtp files save associated fields\nWARNING: Trying to save mesh with new field. Only vtk and vtp files save associated fields\nWARNING: Trying to save mesh with new field. Only vtk and vtp files save associated fields\nWARNING: Trying to save mesh with new field. Only vtk and vtp files save associated fields\nWARNING: Trying to save mesh with new field. Only vtk and vtp files save associated fields\nWARNING: Trying to save mesh with new field. Only vtk and vtp files save associated fields\nWARNING: Trying to save mesh with new field. Only vtk and vtp files save associated fields\nWARNING: Trying to save mesh with new field. Only vtk and vtp files save associated fields\nWARNING: Trying to save mesh with new field. Only vtk and vtp files save associated fields\nWARNING: Trying to save mesh with new field. Only vtk and vtp files save associated fields\nWARNING: Trying to save mesh with new field. Only vtk and vtp files save associated fields\nWARNING: Trying to save mesh with new field. Only vtk and vtp files save associated fields\nWARNING: Trying to save mesh with new field. Only vtk and vtp files save associated fields\nWARNING: Trying to save mesh with new field. Only vtk and vtp files save associated fields\nWARNING: Trying to save mesh with new field. Only vtk and vtp files save associated fields\nWARNING: Trying to save mesh with new field. Only vtk and vtp files save associated fields\nWARNING: Trying to save mesh with new field. Only vtk and vtp files save associated fields\nWARNING: Trying to save mesh with new field. Only vtk and vtp files save associated fields\nWARNING: Trying to save mesh with new field. Only vtk and vtp files save associated fields\nWARNING: Trying to save mesh with new field. Only vtk and vtp files save associated fields\nWARNING: Trying to save mesh with new field. Only vtk and vtp files save associated fields\nWARNING: Trying to save mesh with new field. Only vtk and vtp files save associated fields\nWARNING: Trying to save mesh with new field. Only vtk and vtp files save associated fields\nWARNING: Trying to save mesh with new field. Only vtk and vtp files save associated fields\nWARNING: Trying to save mesh with new field. Only vtk and vtp files save associated fields\nWARNING: Trying to save mesh with new field. Only vtk and vtp files save associated fields\nWARNING: Trying to save mesh with new field. Only vtk and vtp files save associated fields\nWARNING: Trying to save mesh with new field. Only vtk and vtp files save associated fields\nWARNING: Trying to save mesh with new field. Only vtk and vtp files save associated fields\nWARNING: Trying to save mesh with new field. Only vtk and vtp files save associated fields\nWARNING: Trying to save mesh with new field. Only vtk and vtp files save associated fields\nWARNING: Trying to save mesh with new field. Only vtk and vtp files save associated fields\nWARNING: Trying to save mesh with new field. Only vtk and vtp files save associated fields\nWARNING: Trying to save mesh with new field. Only vtk and vtp files save associated fields\nWARNING: Trying to save mesh with new field. Only vtk and vtp files save associated fields\nWARNING: Trying to save mesh with new field. Only vtk and vtp files save associated fields\nWARNING: Trying to save mesh with new field. Only vtk and vtp files save associated fields\nWARNING: Trying to save mesh with new field. Only vtk and vtp files save associated fields\nWARNING: Trying to save mesh with new field. Only vtk and vtp files save associated fields\nWARNING: Trying to save mesh with new field. Only vtk and vtp files save associated fields\nWARNING: Trying to save mesh with new field. Only vtk and vtp files save associated fields\nWARNING: Trying to save mesh with new field. Only vtk and vtp files save associated fields\nWARNING: Trying to save mesh with new field. Only vtk and vtp files save associated fields\nWARNING: Trying to save mesh with new field. Only vtk and vtp files save associated fields\nWARNING: Trying to save mesh with new field. Only vtk and vtp files save associated fields\nWARNING: Trying to save mesh with new field. Only vtk and vtp files save associated fields\nWARNING: Trying to save mesh with new field. Only vtk and vtp files save associated fields\nWARNING: Trying to save mesh with new field. Only vtk and vtp files save associated fields\nWARNING: Trying to save mesh with new field. Only vtk and vtp files save associated fields\nWARNING: Trying to save mesh with new field. Only vtk and vtp files save associated fields\nWARNING: Trying to save mesh with new field. Only vtk and vtp files save associated fields\nWARNING: Trying to save mesh with new field. Only vtk and vtp files save associated fields\nWARNING: Trying to save mesh with new field. Only vtk and vtp files save associated fields\nWARNING: Trying to save mesh with new field. Only vtk and vtp files save associated fields\nWARNING: Trying to save mesh with new field. Only vtk and vtp files save associated fields\nWARNING: Trying to save mesh with new field. Only vtk and vtp files save associated fields\nWARNING: Trying to save mesh with new field. Only vtk and vtp files save associated fields\nWARNING: Trying to save mesh with new field. Only vtk and vtp files save associated fields\nWARNING: Trying to save mesh with new field. Only vtk and vtp files save associated fields\nWARNING: Trying to save mesh with new field. Only vtk and vtp files save associated fields\nWARNING: Trying to save mesh with new field. Only vtk and vtp files save associated fields\nWARNING: Trying to save mesh with new field. Only vtk and vtp files save associated fields\nWARNING: Trying to save mesh with new field. Only vtk and vtp files save associated fields\nWARNING: Trying to save mesh with new field. Only vtk and vtp files save associated fields\nWARNING: Trying to save mesh with new field. Only vtk and vtp files save associated fields\nWARNING: Trying to save mesh with new field. Only vtk and vtp files save associated fields\nWARNING: Trying to save mesh with new field. Only vtk and vtp files save associated fields\nWARNING: Trying to save mesh with new field. Only vtk and vtp files save associated fields\nWARNING: Trying to save mesh with new field. Only vtk and vtp files save associated fields\nWARNING: Trying to save mesh with new field. Only vtk and vtp files save associated fields\nWARNING: Trying to save mesh with new field. Only vtk and vtp files save associated fields\nWARNING: Trying to save mesh with new field. Only vtk and vtp files save associated fields\nWARNING: Trying to save mesh with new field. Only vtk and vtp files save associated fields\nWARNING: Trying to save mesh with new field. Only vtk and vtp files save associated fields\nWARNING: Trying to save mesh with new field. Only vtk and vtp files save associated fields\nWARNING: Trying to save mesh with new field. Only vtk and vtp files save associated fields\nWARNING: Trying to save mesh with new field. Only vtk and vtp files save associated fields\nWARNING: Trying to save mesh with new field. Only vtk and vtp files save associated fields\nWARNING: Trying to save mesh with new field. Only vtk and vtp files save associated fields\nWARNING: Trying to save mesh with new field. Only vtk and vtp files save associated fields\nWARNING: Trying to save mesh with new field. Only vtk and vtp files save associated fields\nWARNING: Trying to save mesh with new field. Only vtk and vtp files save associated fields\nWARNING: Trying to save mesh with new field. Only vtk and vtp files save associated fields\nWARNING: Trying to save mesh with new field. Only vtk and vtp files save associated fields\nWARNING: Trying to save mesh with new field. Only vtk and vtp files save associated fields\nWARNING: Trying to save mesh with new field. Only vtk and vtp files save associated fields\nWARNING: Trying to save mesh with new field. Only vtk and vtp files save associated fields\nWARNING: Trying to save mesh with new field. Only vtk and vtp files save associated fields\nWARNING: Trying to save mesh with new field. Only vtk and vtp files save associated fields\nWARNING: Trying to save mesh with new field. Only vtk and vtp files save associated fields\nWARNING: Trying to save mesh with new field. Only vtk and vtp files save associated fields\nWARNING: Trying to save mesh with new field. Only vtk and vtp files save associated fields\nWARNING: Trying to save mesh with new field. Only vtk and vtp files save associated fields\nWARNING: Trying to save mesh with new field. Only vtk and vtp files save associated fields\nWARNING: Trying to save mesh with new field. Only vtk and vtp files save associated fields\nWARNING: Trying to save mesh with new field. Only vtk and vtp files save associated fields\nWARNING: Trying to save mesh with new field. Only vtk and vtp files save associated fields\nWARNING: Trying to save mesh with new field. Only vtk and vtp files save associated fields\nWARNING: Trying to save mesh with new field. Only vtk and vtp files save associated fields\nWARNING: Trying to save mesh with new field. Only vtk and vtp files save associated fields\nWARNING: Trying to save mesh with new field. Only vtk and vtp files save associated fields\nWARNING: Trying to save mesh with new field. Only vtk and vtp files save associated fields\nWARNING: Trying to save mesh with new field. Only vtk and vtp files save associated fields\nWARNING: Trying to save mesh with new field. Only vtk and vtp files save associated fields\nWARNING: Trying to save mesh with new field. Only vtk and vtp files save associated fields\nWARNING: Trying to save mesh with new field. Only vtk and vtp files save associated fields\nWARNING: Trying to save mesh with new field. Only vtk and vtp files save associated fields\nWARNING: Trying to save mesh with new field. Only vtk and vtp files save associated fields\nWARNING: Trying to save mesh with new field. Only vtk and vtp files save associated fields\nWARNING: Trying to save mesh with new field. Only vtk and vtp files save associated fields\nWARNING: Trying to save mesh with new field. Only vtk and vtp files save associated fields\nWARNING: Trying to save mesh with new field. Only vtk and vtp files save associated fields\nWARNING: Trying to save mesh with new field. Only vtk and vtp files save associated fields\nWARNING: Trying to save mesh with new field. Only vtk and vtp files save associated fields\nWARNING: Trying to save mesh with new field. Only vtk and vtp files save associated fields\nWARNING: Trying to save mesh with new field. Only vtk and vtp files save associated fields\nWARNING: Trying to save mesh with new field. Only vtk and vtp files save associated fields\nWARNING: Trying to save mesh with new field. Only vtk and vtp files save associated fields\nWARNING: Trying to save mesh with new field. Only vtk and vtp files save associated fields\nWARNING: Trying to save mesh with new field. Only vtk and vtp files save associated fields\nWARNING: Trying to save mesh with new field. Only vtk and vtp files save associated fields\nWARNING: Trying to save mesh with new field. Only vtk and vtp files save associated fields\nWARNING: Trying to save mesh with new field. Only vtk and vtp files save associated fields\nWARNING: Trying to save mesh with new field. Only vtk and vtp files save associated fields\nWARNING: Trying to save mesh with new field. Only vtk and vtp files save associated fields\nWARNING: Trying to save mesh with new field. Only vtk and vtp files save associated fields\nWARNING: Trying to save mesh with new field. Only vtk and vtp files save associated fields\nWARNING: Trying to save mesh with new field. Only vtk and vtp files save associated fields\nWARNING: Trying to save mesh with new field. Only vtk and vtp files save associated fields\nWARNING: Trying to save mesh with new field. Only vtk and vtp files save associated fields\nWARNING: Trying to save mesh with new field. Only vtk and vtp files save associated fields\nWARNING: Trying to save mesh with new field. Only vtk and vtp files save associated fields\nWARNING: Trying to save mesh with new field. Only vtk and vtp files save associated fields\nWARNING: Trying to save mesh with new field. Only vtk and vtp files save associated fields\nWARNING: Trying to save mesh with new field. Only vtk and vtp files save associated fields\nWARNING: Trying to save mesh with new field. Only vtk and vtp files save associated fields\nWARNING: Trying to save mesh with new field. Only vtk and vtp files save associated fields\nWARNING: Trying to save mesh with new field. Only vtk and vtp files save associated fields\nWARNING: Trying to save mesh with new field. Only vtk and vtp files save associated fields\nWARNING: Trying to save mesh with new field. Only vtk and vtp files save associated fields\nWARNING: Trying to save mesh with new field. Only vtk and vtp files save associated fields\nWARNING: Trying to save mesh with new field. Only vtk and vtp files save associated fields\nWARNING: Trying to save mesh with new field. Only vtk and vtp files save associated fields\nWARNING: Trying to save mesh with new field. Only vtk and vtp files save associated fields\nWARNING: Trying to save mesh with new field. Only vtk and vtp files save associated fields\nWARNING: Trying to save mesh with new field. Only vtk and vtp files save associated fields\nWARNING: Trying to save mesh with new field. Only vtk and vtp files save associated fields\nWARNING: Trying to save mesh with new field. Only vtk and vtp files save associated fields\nWARNING: Trying to save mesh with new field. Only vtk and vtp files save associated fields\nWARNING: Trying to save mesh with new field. Only vtk and vtp files save associated fields\nWARNING: Trying to save mesh with new field. Only vtk and vtp files save associated fields\nWARNING: Trying to save mesh with new field. Only vtk and vtp files save associated fields\nWARNING: Trying to save mesh with new field. Only vtk and vtp files save associated fields\nWARNING: Trying to save mesh with new field. Only vtk and vtp files save associated fields\nWARNING: Trying to save mesh with new field. Only vtk and vtp files save associated fields\nWARNING: Trying to save mesh with new field. Only vtk and vtp files save associated fields\nWARNING: Trying to save mesh with new field. Only vtk and vtp files save associated fields\nWARNING: Trying to save mesh with new field. Only vtk and vtp files save associated fields\nWARNING: Trying to save mesh with new field. Only vtk and vtp files save associated fields\nWARNING: Trying to save mesh with new field. Only vtk and vtp files save associated fields\nWARNING: Trying to save mesh with new field. Only vtk and vtp files save associated fields\nWARNING: Trying to save mesh with new field. Only vtk and vtp files save associated fields\nWARNING: Trying to save mesh with new field. Only vtk and vtp files save associated fields\nWARNING: Trying to save mesh with new field. Only vtk and vtp files save associated fields\nWARNING: Trying to save mesh with new field. Only vtk and vtp files save associated fields\nWARNING: Trying to save mesh with new field. Only vtk and vtp files save associated fields\nWARNING: Trying to save mesh with new field. Only vtk and vtp files save associated fields\nWARNING: Trying to save mesh with new field. Only vtk and vtp files save associated fields\nWARNING: Trying to save mesh with new field. Only vtk and vtp files save associated fields\nWARNING: Trying to save mesh with new field. Only vtk and vtp files save associated fields\nWARNING: Trying to save mesh with new field. Only vtk and vtp files save associated fields\nWARNING: Trying to save mesh with new field. Only vtk and vtp files save associated fields\nWARNING: Trying to save mesh with new field. Only vtk and vtp files save associated fields\nWARNING: Trying to save mesh with new field. Only vtk and vtp files save associated fields\nWARNING: Trying to save mesh with new field. Only vtk and vtp files save associated fields\nWARNING: Trying to save mesh with new field. Only vtk and vtp files save associated fields\nWARNING: Trying to save mesh with new field. Only vtk and vtp files save associated fields\nWARNING: Trying to save mesh with new field. Only vtk and vtp files save associated fields\nWARNING: Trying to save mesh with new field. Only vtk and vtp files save associated fields\nWARNING: Trying to save mesh with new field. Only vtk and vtp files save associated fields\nWARNING: Trying to save mesh with new field. Only vtk and vtp files save associated fields\nWARNING: Trying to save mesh with new field. Only vtk and vtp files save associated fields\nWARNING: Trying to save mesh with new field. Only vtk and vtp files save associated fields\nWARNING: Trying to save mesh with new field. Only vtk and vtp files save associated fields\nWARNING: Trying to save mesh with new field. Only vtk and vtp files save associated fields\nWARNING: Trying to save mesh with new field. Only vtk and vtp files save associated fields\nWARNING: Trying to save mesh with new field. Only vtk and vtp files save associated fields\nWARNING: Trying to save mesh with new field. Only vtk and vtp files save associated fields\nWARNING: Trying to save mesh with new field. Only vtk and vtp files save associated fields\nWARNING: Trying to save mesh with new field. Only vtk and vtp files save associated fields\nWARNING: Trying to save mesh with new field. Only vtk and vtp files save associated fields\nWARNING: Trying to save mesh with new field. Only vtk and vtp files save associated fields\nWARNING: Trying to save mesh with new field. Only vtk and vtp files save associated fields\nWARNING: Trying to save mesh with new field. Only vtk and vtp files save associated fields\nWARNING: Trying to save mesh with new field. Only vtk and vtp files save associated fields\nWARNING: Trying to save mesh with new field. Only vtk and vtp files save associated fields\nWARNING: Trying to save mesh with new field. Only vtk and vtp files save associated fields\nWARNING: Trying to save mesh with new field. Only vtk and vtp files save associated fields\nWARNING: Trying to save mesh with new field. Only vtk and vtp files save associated fields\nWARNING: Trying to save mesh with new field. Only vtk and vtp files save associated fields\nWARNING: Trying to save mesh with new field. Only vtk and vtp files save associated fields\nWARNING: Trying to save mesh with new field. Only vtk and vtp files save associated fields\nWARNING: Trying to save mesh with new field. Only vtk and vtp files save associated fields\nWARNING: Trying to save mesh with new field. Only vtk and vtp files save associated fields\nWARNING: Trying to save mesh with new field. Only vtk and vtp files save associated fields\nWARNING: Trying to save mesh with new field. Only vtk and vtp files save associated fields\nWARNING: Trying to save mesh with new field. Only vtk and vtp files save associated fields\nWARNING: Trying to save mesh with new field. Only vtk and vtp files save associated fields\nWARNING: Trying to save mesh with new field. Only vtk and vtp files save associated fields\nWARNING: Trying to save mesh with new field. Only vtk and vtp files save associated fields\nWARNING: Trying to save mesh with new field. Only vtk and vtp files save associated fields\nWARNING: Trying to save mesh with new field. Only vtk and vtp files save associated fields\nWARNING: Trying to save mesh with new field. Only vtk and vtp files save associated fields\nWARNING: Trying to save mesh with new field. Only vtk and vtp files save associated fields\nWARNING: Trying to save mesh with new field. Only vtk and vtp files save associated fields\nWARNING: Trying to save mesh with new field. Only vtk and vtp files save associated fields\nWARNING: Trying to save mesh with new field. Only vtk and vtp files save associated fields\nWARNING: Trying to save mesh with new field. Only vtk and vtp files save associated fields\nWARNING: Trying to save mesh with new field. Only vtk and vtp files save associated fields\nWARNING: Trying to save mesh with new field. Only vtk and vtp files save associated fields\nWARNING: Trying to save mesh with new field. Only vtk and vtp files save associated fields\nWARNING: Trying to save mesh with new field. Only vtk and vtp files save associated fields\nWARNING: Trying to save mesh with new field. Only vtk and vtp files save associated fields\nWARNING: Trying to save mesh with new field. Only vtk and vtp files save associated fields\nWARNING: Trying to save mesh with new field. Only vtk and vtp files save associated fields\nWARNING: Trying to save mesh with new field. Only vtk and vtp files save associated fields\nWARNING: Trying to save mesh with new field. Only vtk and vtp files save associated fields\nWARNING: Trying to save mesh with new field. Only vtk and vtp files save associated fields\nWARNING: Trying to save mesh with new field. Only vtk and vtp files save associated fields\nWARNING: Trying to save mesh with new field. Only vtk and vtp files save associated fields\nWARNING: Trying to save mesh with new field. Only vtk and vtp files save associated fields\nWARNING: Trying to save mesh with new field. Only vtk and vtp files save associated fields\nWARNING: Trying to save mesh with new field. Only vtk and vtp files save associated fields\nWARNING: Trying to save mesh with new field. Only vtk and vtp files save associated fields\nWARNING: Trying to save mesh with new field. Only vtk and vtp files save associated fields\nWARNING: Trying to save mesh with new field. Only vtk and vtp files save associated fields\nWARNING: Trying to save mesh with new field. Only vtk and vtp files save associated fields\nWARNING: Trying to save mesh with new field. Only vtk and vtp files save associated fields\nWARNING: Trying to save mesh with new field. Only vtk and vtp files save associated fields\nWARNING: Trying to save mesh with new field. Only vtk and vtp files save associated fields\nWARNING: Trying to save mesh with new field. Only vtk and vtp files save associated fields\nWARNING: Trying to save mesh with new field. Only vtk and vtp files save associated fields\nWARNING: Trying to save mesh with new field. Only vtk and vtp files save associated fields\nWARNING: Trying to save mesh with new field. Only vtk and vtp files save associated fields\nWARNING: Trying to save mesh with new field. Only vtk and vtp files save associated fields\nWARNING: Trying to save mesh with new field. Only vtk and vtp files save associated fields\nWARNING: Trying to save mesh with new field. Only vtk and vtp files save associated fields\nWARNING: Trying to save mesh with new field. Only vtk and vtp files save associated fields\nWARNING: Trying to save mesh with new field. Only vtk and vtp files save associated fields\nWARNING: Trying to save mesh with new field. Only vtk and vtp files save associated fields\nWARNING: Trying to save mesh with new field. Only vtk and vtp files save associated fields\nWARNING: Trying to save mesh with new field. Only vtk and vtp files save associated fields\nWARNING: Trying to save mesh with new field. Only vtk and vtp files save associated fields\nWARNING: Trying to save mesh with new field. Only vtk and vtp files save associated fields\nWARNING: Trying to save mesh with new field. Only vtk and vtp files save associated fields\nWARNING: Trying to save mesh with new field. Only vtk and vtp files save associated fields\nWARNING: Trying to save mesh with new field. Only vtk and vtp files save associated fields\nWARNING: Trying to save mesh with new field. Only vtk and vtp files save associated fields\nWARNING: Trying to save mesh with new field. Only vtk and vtp files save associated fields\nWARNING: Trying to save mesh with new field. Only vtk and vtp files save associated fields\nWARNING: Trying to save mesh with new field. Only vtk and vtp files save associated fields\nWARNING: Trying to save mesh with new field. Only vtk and vtp files save associated fields\nWARNING: Trying to save mesh with new field. Only vtk and vtp files save associated fields\nWARNING: Trying to save mesh with new field. Only vtk and vtp files save associated fields\nWARNING: Trying to save mesh with new field. Only vtk and vtp files save associated fields\nWARNING: Trying to save mesh with new field. Only vtk and vtp files save associated fields\nWARNING: Trying to save mesh with new field. Only vtk and vtp files save associated fields\nWARNING: Trying to save mesh with new field. Only vtk and vtp files save associated fields\nWARNING: Trying to save mesh with new field. Only vtk and vtp files save associated fields\nWARNING: Trying to save mesh with new field. Only vtk and vtp files save associated fields\nWARNING: Trying to save mesh with new field. Only vtk and vtp files save associated fields\nWARNING: Trying to save mesh with new field. Only vtk and vtp files save associated fields\nWARNING: Trying to save mesh with new field. Only vtk and vtp files save associated fields\nWARNING: Trying to save mesh with new field. Only vtk and vtp files save associated fields\nWARNING: Trying to save mesh with new field. Only vtk and vtp files save associated fields\nWARNING: Trying to save mesh with new field. Only vtk and vtp files save associated fields\nWARNING: Trying to save mesh with new field. Only vtk and vtp files save associated fields\nWARNING: Trying to save mesh with new field. Only vtk and vtp files save associated fields\nWARNING: Trying to save mesh with new field. Only vtk and vtp files save associated fields\nWARNING: Trying to save mesh with new field. Only vtk and vtp files save associated fields\nWARNING: Trying to save mesh with new field. Only vtk and vtp files save associated fields\nWARNING: Trying to save mesh with new field. Only vtk and vtp files save associated fields\nWARNING: Trying to save mesh with new field. Only vtk and vtp files save associated fields\nWARNING: Trying to save mesh with new field. Only vtk and vtp files save associated fields\nWARNING: Trying to save mesh with new field. Only vtk and vtp files save associated fields\nWARNING: Trying to save mesh with new field. Only vtk and vtp files save associated fields\nWARNING: Trying to save mesh with new field. Only vtk and vtp files save associated fields\nWARNING: Trying to save mesh with new field. Only vtk and vtp files save associated fields\nWARNING: Trying to save mesh with new field. Only vtk and vtp files save associated fields\nWARNING: Trying to save mesh with new field. Only vtk and vtp files save associated fields\nWARNING: Trying to save mesh with new field. Only vtk and vtp files save associated fields\nWARNING: Trying to save mesh with new field. Only vtk and vtp files save associated fields\nWARNING: Trying to save mesh with new field. Only vtk and vtp files save associated fields\nWARNING: Trying to save mesh with new field. Only vtk and vtp files save associated fields\nWARNING: Trying to save mesh with new field. Only vtk and vtp files save associated fields\nWARNING: Trying to save mesh with new field. Only vtk and vtp files save associated fields\nWARNING: Trying to save mesh with new field. Only vtk and vtp files save associated fields\nWARNING: Trying to save mesh with new field. Only vtk and vtp files save associated fields\nWARNING: Trying to save mesh with new field. Only vtk and vtp files save associated fields\nWARNING: Trying to save mesh with new field. Only vtk and vtp files save associated fields\n"
        }
      ],
      "execution_count": 8,
      "metadata": {
        "gather": {
          "logged": 1673475599855
        }
      },
      "id": "bc67ca05"
    },
    {
      "cell_type": "code",
      "source": [
        "mesh_paths = sorted(glob(f'{mesh_directory}*.ply'))"
      ],
      "outputs": [],
      "execution_count": 9,
      "metadata": {
        "scrolled": true,
        "gather": {
          "logged": 1673475601334
        }
      },
      "id": "e4fe1020"
    },
    {
      "cell_type": "markdown",
      "source": [
        "# Define Split"
      ],
      "metadata": {},
      "id": "6c229b1f"
    },
    {
      "cell_type": "code",
      "source": [
        "train_val_test_ratio = (0.9, 0.1, 0)\n",
        "assert sum(train_val_test_ratio) == 1\n",
        "\n",
        "total_size = len(image_paths)\n",
        "val_size = int(total_size * train_val_test_ratio[1])\n",
        "test_size = int(total_size * train_val_test_ratio[2])\n",
        "train_size = total_size - val_size - test_size\n",
        "\n",
        "print(f'Train:      {train_size}')\n",
        "print(f'Validation: {val_size}')\n",
        "print(f'Test:       {test_size}')"
      ],
      "outputs": [
        {
          "output_type": "stream",
          "name": "stdout",
          "text": "Train:      981\nValidation: 109\nTest:       0\n"
        }
      ],
      "execution_count": 10,
      "metadata": {
        "scrolled": true,
        "gather": {
          "logged": 1673475602602
        }
      },
      "id": "56c446c8"
    },
    {
      "cell_type": "code",
      "source": [
        "# random.seed(0)\n",
        "indices = list(range(total_size))\n",
        "# random.shuffle(indices)\n",
        "all_indices = {\n",
        "    'train': sorted(indices[:train_size]),\n",
        "    'val': sorted(indices[train_size:train_size+val_size]),\n",
        "    'test': sorted(indices[train_size+val_size:])\n",
        "}\n",
        "all_indices;"
      ],
      "outputs": [],
      "execution_count": 11,
      "metadata": {
        "scrolled": true,
        "gather": {
          "logged": 1673475604247
        }
      },
      "id": "a7886e2e"
    },
    {
      "cell_type": "code",
      "source": [
        "all_image_paths, all_mesh_paths, all_images, all_meshes, all_uids = dict(), dict(), dict(), dict(), dict()\n",
        "for mode in ['train', 'val', 'test']:\n",
        "    all_image_paths[mode] = [image_paths[i] for i in all_indices[mode]]\n",
        "    all_mesh_paths[mode] = [mesh_paths[i] for i in all_indices[mode]]\n",
        "    all_images[mode] = [images[i] for i in all_indices[mode]]\n",
        "    all_meshes[mode] = [meshes[i] for i in all_indices[mode]]\n",
        "    all_uids[mode] = [uids[i] for i in all_indices[mode]]"
      ],
      "outputs": [],
      "execution_count": 12,
      "metadata": {
        "gather": {
          "logged": 1673475605410
        }
      },
      "id": "d2bde0b0"
    },
    {
      "cell_type": "markdown",
      "source": [
        "# Training Mesh Transforms"
      ],
      "metadata": {},
      "id": "dc18d1a5"
    },
    {
      "cell_type": "code",
      "source": [
        "ref_index = 25#sw.find_reference_mesh_index(all_meshes['train'])# Bal-0 Beijing-3 All-25\n",
        "ref_mesh = all_meshes['train'][ref_index].copy()\n",
        "ref_translate = ref_mesh.center()\n",
        "ref_mesh.translate(-ref_translate)\n",
        "ref_mesh.write(f'{mesh_directory}reference.vtk')\n",
        "ref_index"
      ],
      "outputs": [
        {
          "output_type": "execute_result",
          "execution_count": 13,
          "data": {
            "text/plain": "25"
          },
          "metadata": {}
        }
      ],
      "execution_count": 13,
      "metadata": {
        "scrolled": true,
        "gather": {
          "logged": 1673475606448
        }
      },
      "id": "09dea1bf"
    },
    {
      "cell_type": "code",
      "source": [
        "train_rigid_transforms = []\n",
        "for train_mesh in tqdm(all_meshes['train']):\n",
        "    rigid_transform = train_mesh.createTransform(\n",
        "        target=ref_mesh, \n",
        "        align=sw.Mesh.AlignmentType.Rigid, \n",
        "        iterations=100\n",
        "    )\n",
        "    train_mesh.applyTransform(rigid_transform)\n",
        "    train_rigid_transforms.append(rigid_transform)\n",
        "    \n",
        "train_transforms = train_rigid_transforms"
      ],
      "outputs": [
        {
          "output_type": "stream",
          "name": "stderr",
          "text": "100%|██████████| 981/981 [01:34<00:00, 10.42it/s]\n"
        }
      ],
      "execution_count": 14,
      "metadata": {
        "scrolled": true,
        "gather": {
          "logged": 1673475694512
        }
      },
      "id": "7e5b5976"
    },
    {
      "cell_type": "markdown",
      "source": [
        "# Optimize Training Particles"
      ],
      "metadata": {},
      "id": "e3b6183f"
    },
    {
      "cell_type": "code",
      "source": [
        "output_directory = deepssm_directory\n",
        "if not os.path.exists(output_directory):\n",
        "    os.makedirs(output_directory)\n",
        "\n",
        "mesh_files = all_mesh_paths['train']\n",
        "meshes = all_meshes['train']\n",
        "\n",
        "distances = np.zeros(len(meshes))\n",
        "for i in range(len(meshes)):\n",
        "    distances[i] = np.mean(meshes[i].distance(ref_mesh)[0])\n",
        "\n",
        "sorted_indices = np.argsort(distances)\n",
        "sorted_mesh_files = np.array(mesh_files)[sorted_indices]\n",
        "\n",
        "batch_size = 50\n",
        "batches = [sorted_mesh_files[i:i + batch_size] for i in range(0, len(sorted_mesh_files), batch_size)]\n",
        "print(f\"Created {len(batches)} batches of size {len(batches[0])}\")"
      ],
      "outputs": [
        {
          "output_type": "stream",
          "name": "stdout",
          "text": "Created 20 batches of size 50\n"
        }
      ],
      "execution_count": 15,
      "metadata": {
        "scrolled": false,
        "gather": {
          "logged": 1673475733274
        }
      },
      "id": "643c1f66"
    },
    {
      "cell_type": "code",
      "source": [
        "# Create project spreadsheet\n",
        "project_location = output_directory + \"shape_models/\"\n",
        "if not os.path.exists(project_location):\n",
        "    os.makedirs(project_location)\n",
        "# Remove particle dir if it already exists\n",
        "shape_model_dir = project_location + 'incremental_supershapes_particles/'\n",
        "if os.path.exists(shape_model_dir):\n",
        "    shutil.rmtree(shape_model_dir)\n",
        "    \n",
        "# Set subjects\n",
        "subjects = []\n",
        "for i in range(len(batches[0])):\n",
        "    subject = sw.Subject()\n",
        "    \n",
        "    subject.set_number_of_domains(1)\n",
        "    \n",
        "    rel_mesh_file = sw.utils.get_relative_paths([os.getcwd() + \"/\" + batches[0][i]], project_location)\n",
        "    subject.set_original_filenames(rel_mesh_file)\n",
        "    subject.set_groomed_filenames(rel_mesh_file)\n",
        "    \n",
        "    transform = [train_transforms[sorted_indices[i]].flatten()]\n",
        "    subject.set_groomed_transforms(transform)\n",
        "    \n",
        "    subjects.append(subject)\n",
        "    \n",
        "# Set project\n",
        "project = sw.Project()\n",
        "project.set_subjects(subjects)\n",
        "parameters = sw.Parameters()\n",
        "     \n",
        "# Create a dictionary for all the parameters required by optimization\n",
        "parameter_dictionary = {\n",
        "    \"number_of_particles\": 512,\n",
        "    \"use_normals\": 0,\n",
        "    \"normal_weight\": 10.0,\n",
        "    \"checkpointing_interval\": 300,\n",
        "    \"keep_checkpoints\": 0,\n",
        "    \"iterations_per_split\": 1000, # 1000\n",
        "    \"optimization_iterations\": 1500, # 1000\n",
        "    \"starting_regularization\": 200, # 200\n",
        "    \"ending_regularization\": 0.1, # 0.1\n",
        "    \"recompute_regularization_interval\": 1,\n",
        "    \"domains_per_shape\": 1,\n",
        "    \"relative_weighting\": 1, # ??\n",
        "    \"initial_relative_weighting\": 0.05,\n",
        "    \"procrustes_interval\": 0,\n",
        "    \"procrustes_scaling\": 0,\n",
        "    \"save_init_splits\": 0,\n",
        "    \"verbosity\": 1,\n",
        "    # \"multiscale\": 1, # unless single-scale\n",
        "    # \"multiscale_particles\": 64, # unless single-scale\n",
        "}\n",
        "\n",
        "# Add param dictionary to spreadsheet\n",
        "for key in parameter_dictionary:\n",
        "    parameters.set(key, sw.Variant([parameter_dictionary[key]]))\n",
        "parameters.set(\"domain_type\", sw.Variant('mesh'))\n",
        "project.set_parameters(\"optimize\", parameters)\n",
        "spreadsheet_file = output_directory + \"shape_models/incremental_supershapes.xlsx\"\n",
        "project.save(spreadsheet_file)"
      ],
      "outputs": [
        {
          "output_type": "execute_result",
          "execution_count": 16,
          "data": {
            "text/plain": "True"
          },
          "metadata": {}
        }
      ],
      "execution_count": 16,
      "metadata": {
        "gather": {
          "logged": 1673475756848
        }
      },
      "id": "9e3f11fc"
    },
    {
      "cell_type": "code",
      "source": [
        "optimize_cmd = ('shapeworks optimize --name ' + spreadsheet_file).split()\n",
        "subprocess.check_call(optimize_cmd)"
      ],
      "outputs": [
        {
          "output_type": "error",
          "ename": "FileNotFoundError",
          "evalue": "[Errno 2] No such file or directory: 'shapeworks': 'shapeworks'",
          "traceback": [
            "\u001b[0;31m---------------------------------------------------------------------------\u001b[0m",
            "\u001b[0;31mFileNotFoundError\u001b[0m                         Traceback (most recent call last)",
            "\u001b[0;32m/tmp/ipykernel_20214/2800555603.py\u001b[0m in \u001b[0;36m<module>\u001b[0;34m\u001b[0m\n\u001b[1;32m      1\u001b[0m \u001b[0moptimize_cmd\u001b[0m \u001b[0;34m=\u001b[0m \u001b[0;34m(\u001b[0m\u001b[0;34m'shapeworks optimize --name '\u001b[0m \u001b[0;34m+\u001b[0m \u001b[0mspreadsheet_file\u001b[0m\u001b[0;34m)\u001b[0m\u001b[0;34m.\u001b[0m\u001b[0msplit\u001b[0m\u001b[0;34m(\u001b[0m\u001b[0;34m)\u001b[0m\u001b[0;34m\u001b[0m\u001b[0;34m\u001b[0m\u001b[0m\n\u001b[0;32m----> 2\u001b[0;31m \u001b[0msubprocess\u001b[0m\u001b[0;34m.\u001b[0m\u001b[0mcheck_call\u001b[0m\u001b[0;34m(\u001b[0m\u001b[0moptimize_cmd\u001b[0m\u001b[0;34m)\u001b[0m\u001b[0;34m\u001b[0m\u001b[0;34m\u001b[0m\u001b[0m\n\u001b[0m",
            "\u001b[0;32m/anaconda/envs/shapeworks/lib/python3.7/subprocess.py\u001b[0m in \u001b[0;36mcheck_call\u001b[0;34m(*popenargs, **kwargs)\u001b[0m\n\u001b[1;32m    356\u001b[0m     \u001b[0mcheck_call\u001b[0m\u001b[0;34m(\u001b[0m\u001b[0;34m[\u001b[0m\u001b[0;34m\"ls\"\u001b[0m\u001b[0;34m,\u001b[0m \u001b[0;34m\"-l\"\u001b[0m\u001b[0;34m]\u001b[0m\u001b[0;34m)\u001b[0m\u001b[0;34m\u001b[0m\u001b[0;34m\u001b[0m\u001b[0m\n\u001b[1;32m    357\u001b[0m     \"\"\"\n\u001b[0;32m--> 358\u001b[0;31m     \u001b[0mretcode\u001b[0m \u001b[0;34m=\u001b[0m \u001b[0mcall\u001b[0m\u001b[0;34m(\u001b[0m\u001b[0;34m*\u001b[0m\u001b[0mpopenargs\u001b[0m\u001b[0;34m,\u001b[0m \u001b[0;34m**\u001b[0m\u001b[0mkwargs\u001b[0m\u001b[0;34m)\u001b[0m\u001b[0;34m\u001b[0m\u001b[0;34m\u001b[0m\u001b[0m\n\u001b[0m\u001b[1;32m    359\u001b[0m     \u001b[0;32mif\u001b[0m \u001b[0mretcode\u001b[0m\u001b[0;34m:\u001b[0m\u001b[0;34m\u001b[0m\u001b[0;34m\u001b[0m\u001b[0m\n\u001b[1;32m    360\u001b[0m         \u001b[0mcmd\u001b[0m \u001b[0;34m=\u001b[0m \u001b[0mkwargs\u001b[0m\u001b[0;34m.\u001b[0m\u001b[0mget\u001b[0m\u001b[0;34m(\u001b[0m\u001b[0;34m\"args\"\u001b[0m\u001b[0;34m)\u001b[0m\u001b[0;34m\u001b[0m\u001b[0;34m\u001b[0m\u001b[0m\n",
            "\u001b[0;32m/anaconda/envs/shapeworks/lib/python3.7/subprocess.py\u001b[0m in \u001b[0;36mcall\u001b[0;34m(timeout, *popenargs, **kwargs)\u001b[0m\n\u001b[1;32m    337\u001b[0m     \u001b[0mretcode\u001b[0m \u001b[0;34m=\u001b[0m \u001b[0mcall\u001b[0m\u001b[0;34m(\u001b[0m\u001b[0;34m[\u001b[0m\u001b[0;34m\"ls\"\u001b[0m\u001b[0;34m,\u001b[0m \u001b[0;34m\"-l\"\u001b[0m\u001b[0;34m]\u001b[0m\u001b[0;34m)\u001b[0m\u001b[0;34m\u001b[0m\u001b[0;34m\u001b[0m\u001b[0m\n\u001b[1;32m    338\u001b[0m     \"\"\"\n\u001b[0;32m--> 339\u001b[0;31m     \u001b[0;32mwith\u001b[0m \u001b[0mPopen\u001b[0m\u001b[0;34m(\u001b[0m\u001b[0;34m*\u001b[0m\u001b[0mpopenargs\u001b[0m\u001b[0;34m,\u001b[0m \u001b[0;34m**\u001b[0m\u001b[0mkwargs\u001b[0m\u001b[0;34m)\u001b[0m \u001b[0;32mas\u001b[0m \u001b[0mp\u001b[0m\u001b[0;34m:\u001b[0m\u001b[0;34m\u001b[0m\u001b[0;34m\u001b[0m\u001b[0m\n\u001b[0m\u001b[1;32m    340\u001b[0m         \u001b[0;32mtry\u001b[0m\u001b[0;34m:\u001b[0m\u001b[0;34m\u001b[0m\u001b[0;34m\u001b[0m\u001b[0m\n\u001b[1;32m    341\u001b[0m             \u001b[0;32mreturn\u001b[0m \u001b[0mp\u001b[0m\u001b[0;34m.\u001b[0m\u001b[0mwait\u001b[0m\u001b[0;34m(\u001b[0m\u001b[0mtimeout\u001b[0m\u001b[0;34m=\u001b[0m\u001b[0mtimeout\u001b[0m\u001b[0;34m)\u001b[0m\u001b[0;34m\u001b[0m\u001b[0;34m\u001b[0m\u001b[0m\n",
            "\u001b[0;32m/anaconda/envs/shapeworks/lib/python3.7/subprocess.py\u001b[0m in \u001b[0;36m__init__\u001b[0;34m(self, args, bufsize, executable, stdin, stdout, stderr, preexec_fn, close_fds, shell, cwd, env, universal_newlines, startupinfo, creationflags, restore_signals, start_new_session, pass_fds, encoding, errors, text)\u001b[0m\n\u001b[1;32m    798\u001b[0m                                 \u001b[0mc2pread\u001b[0m\u001b[0;34m,\u001b[0m \u001b[0mc2pwrite\u001b[0m\u001b[0;34m,\u001b[0m\u001b[0;34m\u001b[0m\u001b[0;34m\u001b[0m\u001b[0m\n\u001b[1;32m    799\u001b[0m                                 \u001b[0merrread\u001b[0m\u001b[0;34m,\u001b[0m \u001b[0merrwrite\u001b[0m\u001b[0;34m,\u001b[0m\u001b[0;34m\u001b[0m\u001b[0;34m\u001b[0m\u001b[0m\n\u001b[0;32m--> 800\u001b[0;31m                                 restore_signals, start_new_session)\n\u001b[0m\u001b[1;32m    801\u001b[0m         \u001b[0;32mexcept\u001b[0m\u001b[0;34m:\u001b[0m\u001b[0;34m\u001b[0m\u001b[0;34m\u001b[0m\u001b[0m\n\u001b[1;32m    802\u001b[0m             \u001b[0;31m# Cleanup if the child failed starting.\u001b[0m\u001b[0;34m\u001b[0m\u001b[0;34m\u001b[0m\u001b[0;34m\u001b[0m\u001b[0m\n",
            "\u001b[0;32m/anaconda/envs/shapeworks/lib/python3.7/subprocess.py\u001b[0m in \u001b[0;36m_execute_child\u001b[0;34m(self, args, executable, preexec_fn, close_fds, pass_fds, cwd, env, startupinfo, creationflags, shell, p2cread, p2cwrite, c2pread, c2pwrite, errread, errwrite, restore_signals, start_new_session)\u001b[0m\n\u001b[1;32m   1549\u001b[0m                         \u001b[0;32mif\u001b[0m \u001b[0merrno_num\u001b[0m \u001b[0;34m==\u001b[0m \u001b[0merrno\u001b[0m\u001b[0;34m.\u001b[0m\u001b[0mENOENT\u001b[0m\u001b[0;34m:\u001b[0m\u001b[0;34m\u001b[0m\u001b[0;34m\u001b[0m\u001b[0m\n\u001b[1;32m   1550\u001b[0m                             \u001b[0merr_msg\u001b[0m \u001b[0;34m+=\u001b[0m \u001b[0;34m': '\u001b[0m \u001b[0;34m+\u001b[0m \u001b[0mrepr\u001b[0m\u001b[0;34m(\u001b[0m\u001b[0merr_filename\u001b[0m\u001b[0;34m)\u001b[0m\u001b[0;34m\u001b[0m\u001b[0;34m\u001b[0m\u001b[0m\n\u001b[0;32m-> 1551\u001b[0;31m                     \u001b[0;32mraise\u001b[0m \u001b[0mchild_exception_type\u001b[0m\u001b[0;34m(\u001b[0m\u001b[0merrno_num\u001b[0m\u001b[0;34m,\u001b[0m \u001b[0merr_msg\u001b[0m\u001b[0;34m,\u001b[0m \u001b[0merr_filename\u001b[0m\u001b[0;34m)\u001b[0m\u001b[0;34m\u001b[0m\u001b[0;34m\u001b[0m\u001b[0m\n\u001b[0m\u001b[1;32m   1552\u001b[0m                 \u001b[0;32mraise\u001b[0m \u001b[0mchild_exception_type\u001b[0m\u001b[0;34m(\u001b[0m\u001b[0merr_msg\u001b[0m\u001b[0;34m)\u001b[0m\u001b[0;34m\u001b[0m\u001b[0;34m\u001b[0m\u001b[0m\n\u001b[1;32m   1553\u001b[0m \u001b[0;34m\u001b[0m\u001b[0m\n",
            "\u001b[0;31mFileNotFoundError\u001b[0m: [Errno 2] No such file or directory: 'shapeworks': 'shapeworks'"
          ]
        }
      ],
      "execution_count": 19,
      "metadata": {
        "scrolled": true,
        "gather": {
          "logged": 1673726476738
        }
      },
      "id": "ae86a477"
    },
    {
      "cell_type": "code",
      "source": [
        "parameter_dictionary[\"use_landmarks\"] = 1\n",
        "parameter_dictionary[\"iterations_per_split\"] = 0\n",
        "parameter_dictionary[\"optimization_iterations\"] = 500 # fewer optimization iterations\n",
        "parameter_dictionary[\"multiscale\"] = 0\n",
        "\n",
        "for batch_index in tqdm(range(1, len(batches))):\n",
        "    sw.utils.findMeanShape(shape_model_dir)\n",
        "    mean_shape_path = shape_model_dir + '/meanshape_local.particles'\n",
        "    \n",
        "    subjects = []\n",
        "    for i in range(batch_index):\n",
        "        for j in range(len(batches[i])):\n",
        "            subject = sw.Subject()\n",
        "            \n",
        "            subject.set_number_of_domains(1)\n",
        "            \n",
        "            rel_mesh_file = sw.utils.get_relative_paths([os.getcwd() + \"/\" + batches[i][j]], project_location)\n",
        "            subject.set_original_filenames(rel_mesh_file)\n",
        "            subject.set_groomed_filenames(rel_mesh_file)\n",
        "            \n",
        "            transform = [train_transforms[sorted_indices[i * batch_size + j]].flatten()]\n",
        "            subject.set_groomed_transforms(transform)\n",
        "            \n",
        "            particle_file = shape_model_dir + os.path.basename(rel_mesh_file[0]).replace(\".ply\", \"_local.particles\")\n",
        "            rel_particle_file = sw.utils.get_relative_paths([os.getcwd() + \"/\" + particle_file],  project_location)\n",
        "            subject.set_landmarks_filenames(rel_particle_file)\n",
        "            \n",
        "            subjects.append(subject)\n",
        "    \n",
        "    for j in range(len(batches[batch_index])):\n",
        "        subject = sw.Subject()\n",
        "        \n",
        "        subject.set_number_of_domains(1)\n",
        "        \n",
        "        rel_mesh_file = sw.utils.get_relative_paths([os.getcwd() + \"/\" + batches[batch_index][j]], project_location)\n",
        "        subject.set_original_filenames(rel_mesh_file)\n",
        "        subject.set_groomed_filenames(rel_mesh_file)\n",
        "        \n",
        "        transform = [train_transforms[sorted_indices[batch_index * batch_size + j]].flatten()]\n",
        "        subject.set_groomed_transforms(transform)\n",
        "        \n",
        "        rel_particle_file = sw.utils.get_relative_paths([os.getcwd() + \"/\" + mean_shape_path],  project_location)\n",
        "        subject.set_landmarks_filenames(rel_particle_file)\n",
        "        \n",
        "        subjects.append(subject)\n",
        "    \n",
        "    project = sw.Project()\n",
        "    project.set_subjects(subjects)\n",
        "    parameters = sw.Parameters()\n",
        "\n",
        "    for key in parameter_dictionary:\n",
        "        parameters.set(key, sw.Variant([parameter_dictionary[key]]))\n",
        "    parameters.set(\"domain_type\", sw.Variant('mesh'))\n",
        "    project.set_parameters(\"optimize\", parameters)\n",
        "    spreadsheet_file = output_directory + \"shape_models/incremental_supershapes.xlsx\"\n",
        "    project.save(spreadsheet_file)\n",
        "\n",
        "    optimize_cmd = ('shapeworks optimize --name ' + spreadsheet_file).split()\n",
        "    subprocess.check_call(optimize_cmd)"
      ],
      "outputs": [
        {
          "output_type": "stream",
          "name": "stderr",
          "text": " 33%|███▎      | 2/6 [16:31<33:23, 500.98s/it]"
        }
      ],
      "execution_count": null,
      "metadata": {},
      "id": "ffde3018"
    },
    {
      "cell_type": "code",
      "source": [
        "analyze_cmd = ('ShapeWorksStudio ' + spreadsheet_file).split()\n",
        "subprocess.check_call(analyze_cmd)"
      ],
      "outputs": [],
      "execution_count": null,
      "metadata": {},
      "id": "9b3db195"
    },
    {
      "cell_type": "markdown",
      "source": [
        "## One-time Training"
      ],
      "metadata": {},
      "id": "0f62c29c"
    },
    {
      "cell_type": "code",
      "source": [
        "# subjects = []\n",
        "# for train_mesh_path, train_transform in zip(all_mesh_paths['train'], train_transforms):\n",
        "#     subject = sw.Subject()\n",
        "#     subject.set_number_of_domains(1)\n",
        "    \n",
        "#     rel_mesh_files = sw.utils.get_relative_paths([train_mesh_path], groom_directory)\n",
        "#     subject.set_original_filenames(rel_mesh_files)\n",
        "    \n",
        "#     rel_groom_files = sw.utils.get_relative_paths([train_mesh_path], groom_directory)\n",
        "#     subject.set_groomed_filenames(rel_groom_files)\n",
        "    \n",
        "#     transform = [train_transform.flatten()]\n",
        "#     subject.set_groomed_transforms(transform)\n",
        "    \n",
        "#     subjects.append(subject)\n",
        "    \n",
        "# # Set project\n",
        "# project = sw.Project()\n",
        "# project.set_subjects(subjects)\n",
        "\n",
        "# parameter_dictionary = {\n",
        "#     \"number_of_particles\" :               512, #\n",
        "#     \"use_normals\" :                       0,\n",
        "#     \"normal_weight\" :                     10.0,\n",
        "#     \"checkpointing_interval\" :            200,\n",
        "#     \"keep_checkpoints\" :                  0,\n",
        "#     \"iterations_per_split\" :              2000, #\n",
        "#     \"optimization_iterations\" :           1000, #\n",
        "#     \"starting_regularization\" :           200, #1000\n",
        "#     \"ending_regularization\" :             0.1, #10\n",
        "#     \"recompute_regularization_interval\" : 2,\n",
        "#     \"domains_per_shape\" :                 1,\n",
        "#     \"relative_weighting\" :                1, #10\n",
        "#     \"initial_relative_weighting\" :        0.1, #\n",
        "#     \"procrustes\" :                        1,\n",
        "#     \"procrustes_interval\" :               1,\n",
        "#     \"procrustes_scaling\" :                1,\n",
        "#     \"save_init_splits\" :                  1,\n",
        "#     \"debug_projection\" :                  0,\n",
        "#     \"verbosity\" :                         1,\n",
        "#     \"use_statistics_in_init\" :            0,\n",
        "#     \"adaptivity_mode\" :                   0,\n",
        "# } \n",
        "\n",
        "# parameters = sw.Parameters()\n",
        "# for key, value in parameter_dictionary.items():\n",
        "#     parameters.set(key, sw.Variant([value]))\n",
        "    \n",
        "# parameters.set(\"domain_type\", sw.Variant('mesh'))\n",
        "# project.set_parameters(\"optimize\", parameters)\n",
        "\n",
        "# spreadsheet_file = f'{groom_directory}train.xlsx'\n",
        "# project.save(spreadsheet_file)\n",
        "\n",
        "# optimizeCmd = ('shapeworks optimize --name ' + spreadsheet_file).split()\n",
        "# subprocess.check_call(optimizeCmd)\n",
        "\n",
        "# analyzeCmd = ('ShapeWorksStudio ' + spreadsheet_file).split()\n",
        "# subprocess.check_call(analyzeCmd)"
      ],
      "outputs": [
        {
          "output_type": "execute_result",
          "execution_count": 13,
          "data": {
            "text/plain": "True"
          },
          "metadata": {}
        }
      ],
      "execution_count": 13,
      "metadata": {},
      "id": "6bb19c0b"
    },
    {
      "cell_type": "code",
      "source": [
        "project = sw.Project()\n",
        "project.load(spreadsheet_file)\n",
        "\n",
        "train_alignments = [[float(x) for x in s.split()] for s in project.get_string_column(\"alignment_1\")]\n",
        "train_alignments = [np.array(x).reshape(4, 4) for x in train_alignments]\n",
        "train_alignments = [train_alignments[i] for i in np.argsort(sorted_indices)]\n",
        "train_procrustes = [[float(x) for x in s.split()] for s in project.get_string_column(\"procrustes_1\")]\n",
        "train_procrustes = [np.array(x).reshape(4, 4) for x in train_procrustes]\n",
        "train_procrustes = [train_procrustes[i] for i in np.argsort(sorted_indices)]\n",
        "\n",
        "# train_local_particles = project.get_string_column(\"local_particles_1\")\n",
        "# train_world_particles = [x.replace(\"./\", groom_directory) for x in project.get_string_column(\"world_particles_1\")]"
      ],
      "outputs": [],
      "execution_count": 20,
      "metadata": {},
      "id": "71047257"
    },
    {
      "cell_type": "markdown",
      "source": [
        "# Groom Training Images"
      ],
      "metadata": {},
      "id": "699518d5"
    },
    {
      "cell_type": "code",
      "source": [
        "ref_image = all_images['train'][ref_index].copy()\n",
        "ref_image.resample([1, 1, 1], sw.InterpolationType.Linear)\n",
        "ref_image.setOrigin(ref_image.origin() - ref_translate)\n",
        "ref_image.write(f'{groom_directory}reference_image.nrrd')\n",
        "ref_procrustes = sw.utils.getITKtransform(train_procrustes[ref_index])"
      ],
      "outputs": [],
      "execution_count": 21,
      "metadata": {},
      "id": "12073d94"
    },
    {
      "cell_type": "code",
      "source": [
        "train_transforms = []\n",
        "# Applying rigid transform\n",
        "for train_image, train_align, train_proc in tqdm(zip(all_images['train'], train_alignments, train_procrustes), total=train_size):\n",
        "    train_transform = np.matmul(train_proc, train_align)\n",
        "    train_transforms.append(train_transform)\n",
        "    train_image.applyTransform(\n",
        "        train_transform,\n",
        "        ref_image.origin(),  \n",
        "        ref_image.dims(),\n",
        "        ref_image.spacing(), \n",
        "        ref_image.coordsys(),\n",
        "        sw.InterpolationType.Linear, \n",
        "        meshTransform=True\n",
        "    )"
      ],
      "outputs": [
        {
          "output_type": "stream",
          "name": "stderr",
          "text": "100%|██████████| 19/19 [00:00<00:00, 127.20it/s]\n"
        }
      ],
      "execution_count": 22,
      "metadata": {},
      "id": "db593f81"
    },
    {
      "cell_type": "code",
      "source": [
        "train_image_files = sw.utils.save_images(\n",
        "    f'{groom_directory}train_images/', \n",
        "    all_images['train'],\n",
        "    [uids[i] for i in all_indices['train']], \n",
        "    extension='nrrd',\n",
        "    verbose=False\n",
        ")\n",
        "train_image_files[:5]"
      ],
      "outputs": [
        {
          "output_type": "execute_result",
          "execution_count": 23,
          "data": {
            "text/plain": "['../dataset/Baltimore/Ventricles_64_3_cleaned/DeepSSM/groomed/train_images/17017.nrrd',\n '../dataset/Baltimore/Ventricles_64_3_cleaned/DeepSSM/groomed/train_images/19738.nrrd',\n '../dataset/Baltimore/Ventricles_64_3_cleaned/DeepSSM/groomed/train_images/23750.nrrd',\n '../dataset/Baltimore/Ventricles_64_3_cleaned/DeepSSM/groomed/train_images/23927.nrrd',\n '../dataset/Baltimore/Ventricles_64_3_cleaned/DeepSSM/groomed/train_images/29158.nrrd']"
          },
          "metadata": {}
        }
      ],
      "execution_count": 23,
      "metadata": {},
      "id": "98e1ca28"
    },
    {
      "cell_type": "markdown",
      "source": [
        "# Augment Data"
      ],
      "metadata": {},
      "id": "32d27f71"
    },
    {
      "cell_type": "code",
      "source": [
        "num_samples = 10\n",
        "percent_variability = 0.99\n",
        "sampler_type = 'kde'\n",
        "\n",
        "embedded_dim = DataAugmentationUtils.runDataAugmentation(\n",
        "    out_dir=aug_directory,\n",
        "    img_list=train_image_files, \n",
        "    local_point_list=sorted(glob(f'{groom_directory}train_particles/*_local.particles')), \n",
        "    num_samples=num_samples, \n",
        "    #num_dim,\n",
        "    percent_variability=percent_variability, \n",
        "    sampler_type=sampler_type,\n",
        "    #mixture_num,\n",
        "    processes=4, \n",
        "    world_point_list=sorted(glob(f'{groom_directory}train_particles/*_world.particles')),\n",
        ")\n",
        "print(f'PCA dimensions retained: {embedded_dim}')"
      ],
      "outputs": [
        {
          "output_type": "stream",
          "name": "stdout",
          "text": "Running point based data augmentation.\nThe PCA modes of particles being retained : 15\nVariablity preserved: 0.9917001539148412\nFitting KDE...\nGenerating 1/10\nGenerating 2/10\nGenerating 3/10\nGenerating 4/10\nGenerating 5/10\nGenerating 6/10\nGenerating 7/10\nGenerating 8/10\nGenerating 9/10\nGenerating 10/10\nDone.\nPCA dimensions retained: 15\n"
        }
      ],
      "execution_count": 36,
      "metadata": {},
      "id": "0f78f097"
    },
    {
      "cell_type": "code",
      "source": [
        "aug_data_csv = aug_directory + 'TotalData.csv'\n",
        "DataAugmentationUtils.visualizeAugmentation(aug_data_csv, 'violin') # 'splom'"
      ],
      "outputs": [
        {
          "output_type": "display_data",
          "data": {
            "image/png": "[encoded data removed]",
            "text/plain": "<Figure size 432x288 with 1 Axes>"
          },
          "metadata": {
            "needs_background": "light"
          }
        }
      ],
      "execution_count": 5,
      "metadata": {},
      "id": "68c1bd66"
    },
    {
      "cell_type": "markdown",
      "source": [
        "# Find Test and Validation Transforms and Groom Images"
      ],
      "metadata": {},
      "id": "25801605"
    },
    {
      "cell_type": "code",
      "source": [
        "# Get reference image\n",
        "ref_image_file = groom_directory + 'reference_image.nrrd'\n",
        "ref_image = sw.Image(ref_image_file)\n",
        "ref_center = ref_image.center() # get center"
      ],
      "outputs": [],
      "execution_count": 41,
      "metadata": {},
      "id": "bbf1c773"
    },
    {
      "cell_type": "code",
      "source": [
        "val_test_image_paths = all_image_paths['val'] + all_image_paths['test']\n",
        "val_test_mesh_paths = all_mesh_paths['val'] + all_mesh_paths['test']"
      ],
      "outputs": [],
      "execution_count": 49,
      "metadata": {
        "scrolled": true
      },
      "id": "020f5c09"
    },
    {
      "cell_type": "code",
      "source": [
        "val_test_image_groomed_paths = []\n",
        "val_test_transforms = []\n",
        "for vt_image_path, vt_mesh_path in zip(val_test_image_paths, val_test_mesh_paths):\n",
        "    vt_image = sw.Image(vt_image_path)\n",
        "    vt_image_groomed_path = val_test_images_directory + vt_image_path.split('/')[-1]\n",
        "    val_test_image_groomed_paths.append(vt_image_groomed_path)\n",
        "    \n",
        "    transform = np.eye(4)\n",
        "    \n",
        "    translation = ref_center - vt_image.center()\n",
        "    vt_image.setOrigin(vt_image.origin() + translation).write(vt_image_groomed_path)\n",
        "    transform[:3,-1] += translation\n",
        "    \n",
        "    val_test_transforms.append(transform)"
      ],
      "outputs": [],
      "execution_count": 53,
      "metadata": {},
      "id": "e4807c6a"
    },
    {
      "cell_type": "code",
      "source": [
        "val_image_groomed_paths = val_test_image_groomed_paths[:val_size]\n",
        "val_transforms = val_test_transforms[:val_size]\n",
        "\n",
        "test_image_groomed_paths = val_test_image_groomed_paths[val_size:]\n",
        "test_transforms = val_test_transforms[val_size:]"
      ],
      "outputs": [],
      "execution_count": 111,
      "metadata": {},
      "id": "672b0842"
    },
    {
      "cell_type": "markdown",
      "source": [
        "# Optimize Validation Particles with Fixed Domains"
      ],
      "metadata": {},
      "id": "7a152d96"
    },
    {
      "cell_type": "code",
      "source": [
        "val_uids = [uids[i] for i in all_indices['val']]\n",
        "\n",
        "mean_shape = sum([np.loadtxt(particles) for particles in train_world_particles]) / train_size\n",
        "np.savetxt(f'{groom_directory}meanshape_world.particles', mean_shape)"
      ],
      "outputs": [],
      "execution_count": 81,
      "metadata": {},
      "id": "c5a79a5b"
    },
    {
      "cell_type": "code",
      "source": [
        "subjects = []\n",
        "# Add fixed training shapes\n",
        "for train_mesh_path, train_transform, train_local_particle_path in zip(all_mesh_paths['train'], train_transforms, train_local_particles):\n",
        "    subject = sw.Subject()\n",
        "    subject.set_number_of_domains(1)\n",
        "    \n",
        "    rel_mesh_files = sw.utils.get_relative_paths([train_mesh_path], groom_directory)\n",
        "    rel_groom_files = sw.utils.get_relative_paths([train_mesh_path], groom_directory)\n",
        "    \n",
        "    subject.set_original_filenames(rel_mesh_files)\n",
        "    subject.set_groomed_filenames(rel_groom_files)\n",
        "    transform = [train_transform.flatten()]\n",
        "    \n",
        "    subject.set_groomed_transforms(transform)\n",
        "    subject.set_landmarks_filenames([train_local_particle_path])\n",
        "    subject.set_extra_values({\"fixed\": \"yes\"})\n",
        "    subjects.append(subject)"
      ],
      "outputs": [],
      "execution_count": 85,
      "metadata": {},
      "id": "365db370"
    },
    {
      "cell_type": "code",
      "source": [
        "for val_mesh_path, val_transform, val_uid in zip(all_mesh_paths['val'], val_transforms, all_uids['val']):\n",
        "    subject = sw.Subject()\n",
        "    subject.set_number_of_domains(1)\n",
        "    \n",
        "    rel_mesh_files = sw.utils.get_relative_paths([val_mesh_path], groom_directory)\n",
        "    rel_groom_files = sw.utils.get_relative_paths([val_mesh_path], groom_directory)\n",
        "    \n",
        "    initial_particles = sw.utils.transformParticles(mean_shape, val_transform, inverse=True)\n",
        "    initial_particle_file = f'{val_paticle_directory}{val_uid}_local.particles'\n",
        "    np.savetxt(initial_particle_file, initial_particles)\n",
        "    \n",
        "    rel_particle_files = sw.utils.get_relative_paths([initial_particle_file], groom_directory)\n",
        "    subject.set_original_filenames(rel_mesh_files)\n",
        "    subject.set_groomed_filenames(rel_groom_files)\n",
        "    transform = [val_transform.flatten()]\n",
        "    subject.set_groomed_transforms(transform)\n",
        "    subject.set_landmarks_filenames(rel_particle_files)\n",
        "    subject.set_extra_values({\"fixed\": \"no\"})\n",
        "    subjects.append(subject)\n",
        "    \n",
        "project = sw.Project()\n",
        "project.set_subjects(subjects)"
      ],
      "outputs": [],
      "execution_count": 92,
      "metadata": {},
      "id": "6f7d4646"
    },
    {
      "cell_type": "code",
      "source": [
        "parameters = sw.Parameters()\n",
        "\n",
        "# Update parameter dictionary from step 4\n",
        "parameter_dictionary[\"multiscale\"] = 0\n",
        "parameter_dictionary[\"procrustes\"] = 0\n",
        "parameter_dictionary[\"procrustes_interval\"] = 0\n",
        "parameter_dictionary[\"procrustes_scaling\"] = 0\n",
        "parameter_dictionary[\"use_landmarks\"] = 1\n",
        "parameter_dictionary[\"use_fixed_subjects\"] = 1\n",
        "parameter_dictionary[\"narrow_band\"] = 1e10\n",
        "parameter_dictionary[\"fixed_subjects_column\"] = \"fixed\"\n",
        "parameter_dictionary[\"fixed_subjects_choice\"] = \"yes\"\n",
        "for key, value in parameter_dictionary.items():\n",
        "    parameters.set(key, sw.Variant(value))\n",
        "    \n",
        "project.set_parameters(\"optimize\", parameters)"
      ],
      "outputs": [],
      "execution_count": 93,
      "metadata": {},
      "id": "eaa59f81"
    },
    {
      "cell_type": "code",
      "source": [
        "# Set studio parameters\n",
        "studio_dictionary = {\n",
        "    \"show_landmarks\": 0,\n",
        "    \"tool_state\": \"analysis\"\n",
        "}\n",
        "studio_parameters = sw.Parameters()\n",
        "for key, value in studio_dictionary.items():\n",
        "    studio_parameters.set(key, sw.Variant(value))\n",
        "project.set_parameters(\"studio\", studio_parameters)\n",
        "\n",
        "spreadsheet_file = groom_directory + \"validation.xlsx\"\n",
        "project.save(spreadsheet_file)"
      ],
      "outputs": [
        {
          "output_type": "execute_result",
          "execution_count": 94,
          "data": {
            "text/plain": "True"
          },
          "metadata": {}
        }
      ],
      "execution_count": 94,
      "metadata": {
        "scrolled": true
      },
      "id": "9d49fd03"
    },
    {
      "cell_type": "code",
      "source": [
        "optimize_cmd = ('shapeworks optimize --name ' + spreadsheet_file).split()\n",
        "subprocess.check_call(optimize_cmd)"
      ],
      "outputs": [
        {
          "output_type": "execute_result",
          "execution_count": 96,
          "data": {
            "text/plain": "0"
          },
          "metadata": {}
        }
      ],
      "execution_count": 96,
      "metadata": {
        "scrolled": true
      },
      "id": "80d973da"
    },
    {
      "cell_type": "code",
      "source": [
        "analyze_cmd = ('ShapeWorksStudio ' + spreadsheet_file).split()\n",
        "subprocess.check_call(analyze_cmd)"
      ],
      "outputs": [
        {
          "output_type": "execute_result",
          "execution_count": 97,
          "data": {
            "text/plain": "0"
          },
          "metadata": {}
        }
      ],
      "execution_count": 97,
      "metadata": {},
      "id": "01601ab8"
    },
    {
      "cell_type": "code",
      "source": [
        "val_world_particles = [f'{val_paticle_directory}{val_uid}_world.particles' for val_uid in all_uids['val']]\n",
        "val_world_particles"
      ],
      "outputs": [
        {
          "output_type": "execute_result",
          "execution_count": 98,
          "data": {
            "text/plain": "['../dataset/Baltimore/Ventricles_256_2/DeepSSM/groomed/validation_particles/19738_world.particles',\n '../dataset/Baltimore/Ventricles_256_2/DeepSSM/groomed/validation_particles/52358_world.particles']"
          },
          "metadata": {}
        }
      ],
      "execution_count": 98,
      "metadata": {},
      "id": "4b2c2e43"
    },
    {
      "cell_type": "markdown",
      "source": [
        "# Create Data Loaders"
      ],
      "metadata": {},
      "id": "23518c4b"
    },
    {
      "cell_type": "code",
      "source": [
        "batch_size = 1\n",
        "DeepSSMUtils.getTrainLoader(loader_directory, aug_data_csv, batch_size)"
      ],
      "outputs": [
        {
          "output_type": "stream",
          "name": "stdout",
          "text": "********************* WARNING ****************************\nPytorch is running on your CPU!\nThis will be very slow. If your machine has a GPU,\nplease reinstall Pytorch to your shapeworks conda \nenvironment with the correct CUDA version.\n**********************************************************\nCreating training torch loader...\n"
        },
        {
          "output_type": "stream",
          "name": "stderr",
          "text": "This DataLoader will create 8 worker processes in total. Our suggested max number of worker in current system is 4 (`cpuset` is not taken into account), which is smaller than what this DataLoader is going to create. Please be aware that excessive worker creation might get DataLoader running slow or even freeze, lower the worker number to avoid potential slowness/freeze if necessary.\n"
        },
        {
          "output_type": "stream",
          "name": "stdout",
          "text": "Training loader complete.\n"
        }
      ],
      "execution_count": 102,
      "metadata": {
        "scrolled": true
      },
      "id": "0973ab2c"
    },
    {
      "cell_type": "code",
      "source": [
        "DeepSSMUtils.getValidationLoader(loader_directory, val_image_groomed_paths, val_world_particles)"
      ],
      "outputs": [
        {
          "output_type": "stream",
          "name": "stdout",
          "text": "Creating validation torch loader:\nValidation names saved to: ../dataset/Baltimore/Ventricles_256_2/DeepSSM/torch_loaders/validation_names.txt\nValidation loader complete.\n"
        }
      ],
      "execution_count": 112,
      "metadata": {},
      "id": "c1ee8f68"
    },
    {
      "cell_type": "code",
      "source": [
        "DeepSSMUtils.getTestLoader(loader_directory, test_image_groomed_paths)"
      ],
      "outputs": [
        {
          "output_type": "stream",
          "name": "stdout",
          "text": "Creating test torch loader...\nTest names saved to: ../dataset/Baltimore/Ventricles_256_2/DeepSSM/torch_loaders/test_names.txt\nTest loader complete.\n"
        }
      ],
      "execution_count": 113,
      "metadata": {},
      "id": "a363e320"
    },
    {
      "cell_type": "markdown",
      "source": [
        "# Train DeepSSM Model"
      ],
      "metadata": {},
      "id": "e921b28d"
    },
    {
      "cell_type": "code",
      "source": [
        "# Define model parameters\n",
        "model_name = \"DeepSSM_ventricle2\"\n",
        "model_parameters = {\n",
        "    \"model_name\": model_name,\n",
        "    \"num_latent_dim\": int(embedded_dim),\n",
        "    \"paths\": {\n",
        "        \"out_dir\": deepssm_directory,\n",
        "        \"loader_dir\": loader_directory,\n",
        "        \"aug_dir\": aug_directory\n",
        "    },\n",
        "    \"encoder\": {\n",
        "        \"deterministic\": True\n",
        "    },\n",
        "    \"decoder\": {\n",
        "        \"deterministic\": True,\n",
        "        \"linear\": True\n",
        "    },\n",
        "    \"loss\": {\n",
        "        \"function\": \"MSE\",\n",
        "        \"supervised_latent\": True,\n",
        "    },\n",
        "    \"trainer\": {\n",
        "        \"epochs\": 2, # 10\n",
        "        \"learning_rate\": 0.001,\n",
        "        \"decay_lr\": False,\n",
        "        \"val_freq\": 1\n",
        "    },\n",
        "    \"fine_tune\": {\n",
        "        \"enabled\": False,\n",
        "    },\n",
        "    \"use_best_model\": True\n",
        "}\n",
        "    \n",
        "config_file = deepssm_directory + model_name + \".json\"\n",
        "with open(config_file, \"w\") as outfile:\n",
        "    json.dump(model_parameters, outfile, indent=2)"
      ],
      "outputs": [],
      "execution_count": 116,
      "metadata": {},
      "id": "0220d22c"
    },
    {
      "cell_type": "code",
      "source": [
        "DeepSSMUtils.trainDeepSSM(config_file)"
      ],
      "outputs": [
        {
          "output_type": "stream",
          "name": "stdout",
          "text": "********************* WARNING ****************************\nPytorch is running on your CPU!\nThis will be very slow. If your machine has a GPU,\nplease reinstall Pytorch to your shapeworks conda \nenvironment with the correct CUDA version.\n**********************************************************\nLoading data loaders...\nDone.\nDefining net...\nDone.\nBeginning training on device = cpu\n\nEpoch\t  LR\t  Train_Err\t  Train_Rel_Err\t  Val_Err\t  Val_Rel_Err\t  Sec\nEpoch 1/2\n"
        }
      ],
      "execution_count": null,
      "metadata": {},
      "id": "fb8326fe"
    },
    {
      "cell_type": "markdown",
      "source": [
        "# Predict Validation Particles and Analyze Accuracy"
      ],
      "metadata": {},
      "id": "218e32d7"
    },
    {
      "cell_type": "code",
      "source": [
        "val_out_dir = deepssm_directory + model_name + '/validation_predictions/'\n",
        "predicted_val_world_particles = DeepSSMUtils.testDeepSSM(config_file, loader='validation')"
      ],
      "outputs": [],
      "execution_count": null,
      "metadata": {},
      "id": "f4c30fa9"
    },
    {
      "cell_type": "code",
      "source": [
        "local_val_prediction_dir = val_out_dir + 'local_predictions/'\n",
        "if not os.path.exists(local_val_prediction_dir):\n",
        "    os.makedirs(local_val_prediction_dir)"
      ],
      "outputs": [],
      "execution_count": null,
      "metadata": {},
      "id": "c32209c6"
    },
    {
      "cell_type": "code",
      "source": [
        "predicted_val_local_particles = []\n",
        "for particle_file, transform in zip(predicted_val_world_particles, val_transforms):\n",
        "    particles = np.loadtxt(particle_file)\n",
        "    local_particle_file = particle_file.replace(\"FT_Predictions/\", \"local_predictions/\")\n",
        "    local_particles = sw.utils.transformParticles(particles, transform, inverse=True)\n",
        "    np.savetxt(local_particle_file, local_particles)\n",
        "    predicted_val_local_particles.append(local_particle_file)\n",
        "print(\"Validation local predictions written to: \" + local_val_prediction_dir)"
      ],
      "outputs": [],
      "execution_count": null,
      "metadata": {},
      "id": "3f2bb4ce"
    },
    {
      "cell_type": "code",
      "source": [
        "'''\n",
        "Analyze validation accuracy in terms of:\n",
        "- MSE between true and predcited world partcles\n",
        "- Surface to surface distance between true mesh and mesh generated from predicted local particles\n",
        "'''\n",
        "mean_MSE, std_MSE = DeepSSMUtils.analyzeMSE(predicted_val_world_particles, val_world_particles)\n",
        "print(\"Validation world particle MSE: \"+str(mean_MSE)+\" +- \"+str(std_MSE))\n",
        "template_mesh = train_mesh_files[ref_index]\n",
        "template_particles = train_local_particles[ref_index].replace(\"./\", data_dir)\n",
        "# Get distabce between clipped true and predicted meshes\n",
        "mean_dist = DeepSSMUtils.analyzeMeshDistance(predicted_val_local_particles, val_mesh_files, \n",
        "                                                template_particles, template_mesh, val_out_dir,\n",
        "                                                planes=val_planes)\n",
        "print(\"Validation mean mesh surface-to-surface distance: \"+str(mean_dist))"
      ],
      "outputs": [],
      "execution_count": null,
      "metadata": {},
      "id": "d7da7321"
    },
    {
      "cell_type": "markdown",
      "source": [
        "# Predict Test Particles and Analyze Accuracy"
      ],
      "metadata": {},
      "id": "7b14a1e8"
    },
    {
      "cell_type": "code",
      "source": [
        "test_out_dir = output_directory + model_name + '/test_predictions/'\n",
        "predicted_test_world_particles = DeepSSMUtils.testDeepSSM(config_file, loader='test')\n",
        "print(\"Test world predictions saved.\")\n",
        "# Generate local predictions\n",
        "local_test_prediction_dir = test_out_dir + 'local_predictions/'\n",
        "if not os.path.exists(local_test_prediction_dir):\n",
        "    os.makedirs(local_test_prediction_dir)\n",
        "predicted_test_local_particles = []\n",
        "for particle_file, transform in zip(predicted_test_world_particles, test_transforms):\n",
        "    particles = np.loadtxt(particle_file)\n",
        "    local_particle_file = particle_file.replace(\"FT_Predictions/\", \"local_predictions/\")\n",
        "    local_particles = sw.utils.transformParticles(particles, transform, inverse=True)\n",
        "    np.savetxt(local_particle_file, local_particles)\n",
        "    predicted_test_local_particles.append(local_particle_file)\n",
        "print(\"Test local predictions written to: \" + local_test_prediction_dir)\n",
        "'''\n",
        "Analyze test accuracy in terms of surface to surface distance between \n",
        "clipped true mesh and clipped mesh generated from predicted local particles\n",
        "'''\n",
        "mean_dist = DeepSSMUtils.analyzeMeshDistance(predicted_test_local_particles, test_mesh_files, \n",
        "                                                template_particles, template_mesh, test_out_dir,\n",
        "                                                planes=test_planes)\n",
        "print(\"Test mean mesh surface-to-surface distance: \"+str(mean_dist))"
      ],
      "outputs": [],
      "execution_count": null,
      "metadata": {},
      "id": "dddd0ebd"
    },
    {
      "cell_type": "code",
      "source": [],
      "outputs": [],
      "execution_count": null,
      "metadata": {},
      "id": "9146e0a2"
    }
  ],
  "metadata": {
    "kernel_info": {
      "name": "shapeworks"
    },
    "kernelspec": {
      "name": "shapeworks",
      "language": "python",
      "display_name": "Python (shapeworks)"
    },
    "language_info": {
      "name": "python",
      "version": "3.7.8",
      "mimetype": "text/x-python",
      "codemirror_mode": {
        "name": "ipython",
        "version": 3
      },
      "pygments_lexer": "ipython3",
      "nbconvert_exporter": "python",
      "file_extension": ".py"
    },
    "nteract": {
      "version": "nteract-front-end@1.0.0"
    },
    "toc": {
      "toc_position": {},
      "skip_h1_title": false,
      "number_sections": true,
      "title_cell": "Table of Contents",
      "toc_window_display": false,
      "base_numbering": 1,
      "toc_section_display": true,
      "title_sidebar": "Contents",
      "toc_cell": false,
      "nav_menu": {},
      "sideBar": true
    }
  },
  "nbformat": 4,
  "nbformat_minor": 5
}