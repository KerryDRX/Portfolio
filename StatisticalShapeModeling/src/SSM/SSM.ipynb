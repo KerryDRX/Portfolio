{
  "cells": [
    {
      "cell_type": "code",
      "source": [
        "import os\n",
        "from glob import glob\n",
        "import platform\n",
        "import torch\n",
        "import random\n",
        "import numpy as np\n",
        "import subprocess\n",
        "import json\n",
        "from tqdm import tqdm\n",
        "import shapeworks as sw\n",
        "import DataAugmentationUtils\n",
        "import DeepSSMUtils"
      ],
      "outputs": [
        {
          "output_type": "error",
          "ename": "ModuleNotFoundError",
          "evalue": "No module named 'shapeworks'",
          "traceback": [
            "\u001b[0;31m---------------------------------------------------------------------------\u001b[0m",
            "\u001b[0;31mModuleNotFoundError\u001b[0m                       Traceback (most recent call last)",
            "Cell \u001b[0;32mIn [1], line 10\u001b[0m\n\u001b[1;32m      8\u001b[0m \u001b[38;5;28;01mimport\u001b[39;00m \u001b[38;5;21;01mjson\u001b[39;00m\n\u001b[1;32m      9\u001b[0m \u001b[38;5;28;01mfrom\u001b[39;00m \u001b[38;5;21;01mtqdm\u001b[39;00m \u001b[38;5;28;01mimport\u001b[39;00m tqdm\n\u001b[0;32m---> 10\u001b[0m \u001b[38;5;28;01mimport\u001b[39;00m \u001b[38;5;21;01mshapeworks\u001b[39;00m \u001b[38;5;28;01mas\u001b[39;00m \u001b[38;5;21;01msw\u001b[39;00m\n\u001b[1;32m     11\u001b[0m \u001b[38;5;28;01mimport\u001b[39;00m \u001b[38;5;21;01mDataAugmentationUtils\u001b[39;00m\n\u001b[1;32m     12\u001b[0m \u001b[38;5;28;01mimport\u001b[39;00m \u001b[38;5;21;01mDeepSSMUtils\u001b[39;00m\n",
            "\u001b[0;31mModuleNotFoundError\u001b[0m: No module named 'shapeworks'"
          ]
        }
      ],
      "execution_count": 1,
      "metadata": {
        "gather": {
          "logged": 1671811133929
        }
      },
      "id": "309a0004"
    },
    {
      "cell_type": "markdown",
      "source": [
        "# Load Images"
      ],
      "metadata": {},
      "id": "63aea559"
    },
    {
      "cell_type": "code",
      "source": [
        "torch.multiprocessing.set_sharing_strategy('file_system')\n",
        "if platform.system() == \"Darwin\":\n",
        "    os.environ['OMP_NUM_THREADS'] = \"1\""
      ],
      "outputs": [],
      "execution_count": 2,
      "metadata": {},
      "id": "13331a2d"
    },
    {
      "cell_type": "code",
      "source": [
        "dataset_directory = '../dataset/Baltimore/Ventricles_256_2/'\n",
        "deepssm_directory = f'{dataset_directory}DeepSSM/'\n",
        "groom_directory = f'{deepssm_directory}groomed/'\n",
        "mesh_directory = f'{deepssm_directory}mesh/'\n",
        "aug_directory = f'{deepssm_directory}augmentation/'\n",
        "loader_directory = f'{deepssm_directory}torch_loaders/'\n",
        "\n",
        "val_test_images_directory = f'{groom_directory}val_and_test_images/'\n",
        "val_paticle_directory = f'{groom_directory}validation_particles/'\n",
        "\n",
        "for directory in [\n",
        "    deepssm_directory, mesh_directory, groom_directory, aug_directory, loader_directory,\n",
        "    val_test_images_directory, val_paticle_directory\n",
        "]:\n",
        "    if not os.path.exists(directory):\n",
        "        os.mkdir(directory)"
      ],
      "outputs": [],
      "execution_count": 99,
      "metadata": {},
      "id": "3703bd67"
    },
    {
      "cell_type": "code",
      "source": [
        "image_paths = sorted(glob(f'{dataset_directory}*.nrrd'))\n",
        "uids = [image_path.split('/')[-1][:5] for image_path in image_paths]\n",
        "image_paths[:5]"
      ],
      "outputs": [
        {
          "output_type": "execute_result",
          "execution_count": 4,
          "data": {
            "text/plain": "['../dataset/Baltimore/Ventricles_256_2/17017.nrrd',\n '../dataset/Baltimore/Ventricles_256_2/19738.nrrd',\n '../dataset/Baltimore/Ventricles_256_2/23750.nrrd',\n '../dataset/Baltimore/Ventricles_256_2/23927.nrrd',\n '../dataset/Baltimore/Ventricles_256_2/29158.nrrd']"
          },
          "metadata": {}
        }
      ],
      "execution_count": 4,
      "metadata": {
        "scrolled": true
      },
      "id": "d5430a62"
    },
    {
      "cell_type": "code",
      "source": [
        "images = [sw.Image(image_path) for image_path in image_paths]\n",
        "meshes = [image.toMesh(isovalue=0.5).smooth(iterations=10).fillHoles() for image in images]"
      ],
      "outputs": [],
      "execution_count": 5,
      "metadata": {},
      "id": "371fe694"
    },
    {
      "cell_type": "code",
      "source": [
        "sw.utils.save_meshes(\n",
        "    outDir=mesh_directory,\n",
        "    swMeshList=meshes,\n",
        "    swMeshNames=uids,\n",
        "    extension='ply',\n",
        "    verbose=False\n",
        ")\n",
        "mesh_paths = sorted(glob(f'{mesh_directory}*.ply'))\n",
        "mesh_paths[:5]"
      ],
      "outputs": [
        {
          "output_type": "execute_result",
          "execution_count": 6,
          "data": {
            "text/plain": "['../dataset/Baltimore/Ventricles_256_2/DeepSSM/mesh/17017.ply',\n '../dataset/Baltimore/Ventricles_256_2/DeepSSM/mesh/19738.ply',\n '../dataset/Baltimore/Ventricles_256_2/DeepSSM/mesh/23750.ply',\n '../dataset/Baltimore/Ventricles_256_2/DeepSSM/mesh/23927.ply',\n '../dataset/Baltimore/Ventricles_256_2/DeepSSM/mesh/29158.ply']"
          },
          "metadata": {}
        }
      ],
      "execution_count": 6,
      "metadata": {
        "scrolled": true
      },
      "id": "f61e499c"
    },
    {
      "cell_type": "markdown",
      "source": [
        "# Define Split"
      ],
      "metadata": {},
      "id": "6c229b1f"
    },
    {
      "cell_type": "code",
      "source": [
        "train_val_test_ratio = (0.8, 0.1, 0.1)\n",
        "assert sum(train_val_test_ratio) == 1\n",
        "\n",
        "total_size = len(image_paths)\n",
        "val_size = int(total_size * train_val_test_ratio[1])\n",
        "test_size = int(total_size * train_val_test_ratio[2])\n",
        "train_size = total_size - val_size - test_size\n",
        "\n",
        "print(f'Train:      {train_size}')\n",
        "print(f'Validation: {val_size}')\n",
        "print(f'test:       {test_size}')"
      ],
      "outputs": [
        {
          "output_type": "stream",
          "name": "stdout",
          "text": "Train:      19\nValidation: 2\ntest:       2\n"
        }
      ],
      "execution_count": 7,
      "metadata": {},
      "id": "56c446c8"
    },
    {
      "cell_type": "code",
      "source": [
        "random.seed(0)\n",
        "indices = list(range(total_size))\n",
        "random.shuffle(indices)\n",
        "all_indices = {\n",
        "    'train': sorted(indices[:train_size]),\n",
        "    'val': sorted(indices[train_size:-test_size]),\n",
        "    'test': sorted(indices[-test_size:])\n",
        "}\n",
        "all_indices"
      ],
      "outputs": [
        {
          "output_type": "execute_result",
          "execution_count": 8,
          "data": {
            "text/plain": "{'train': [0, 2, 3, 4, 5, 6, 7, 9, 10, 11, 14, 15, 16, 17, 18, 19, 20, 21, 22],\n 'val': [1, 8],\n 'test': [12, 13]}"
          },
          "metadata": {}
        }
      ],
      "execution_count": 8,
      "metadata": {
        "scrolled": true
      },
      "id": "a7886e2e"
    },
    {
      "cell_type": "code",
      "source": [
        "all_image_paths, all_mesh_paths, all_images, all_meshes, all_uids = dict(), dict(), dict(), dict(), dict()\n",
        "for mode in ['train', 'val', 'test']:\n",
        "    all_image_paths[mode] = [image_paths[i] for i in all_indices[mode]]\n",
        "    all_mesh_paths[mode] = [mesh_paths[i] for i in all_indices[mode]]\n",
        "    all_images[mode] = [images[i] for i in all_indices[mode]]\n",
        "    all_meshes[mode] = [meshes[i] for i in all_indices[mode]]\n",
        "    all_uids[mode] = [uids[i] for i in all_indices[mode]]"
      ],
      "outputs": [],
      "execution_count": 91,
      "metadata": {},
      "id": "d2bde0b0"
    },
    {
      "cell_type": "markdown",
      "source": [
        "# Training Mesh Transforms"
      ],
      "metadata": {},
      "id": "dc18d1a5"
    },
    {
      "cell_type": "code",
      "source": [
        "ref_index = sw.find_reference_mesh_index(all_meshes['train'])\n",
        "ref_mesh = all_meshes['train'][ref_index].copy()\n",
        "ref_translate = ref_mesh.center()\n",
        "ref_mesh.translate(-ref_translate)\n",
        "ref_mesh.write(f'{mesh_directory}reference.vtk')"
      ],
      "outputs": [
        {
          "output_type": "execute_result",
          "execution_count": 12,
          "data": {
            "text/plain": "{\nnumber of points: 7424,\nnumber of faces: 14660,\ncenter: [0, 0, 0],\ncenter or mass: [-1.13039, 1.14592, 6.57965],\nbounding box: {\n\tmin: [-17.4828, -42.4674, -23.4801],\n\tmax: [17.4828, 42.4674, 23.4801]\n},\nfield names: \n\tNormals\n\tscalars"
          },
          "metadata": {}
        }
      ],
      "execution_count": 12,
      "metadata": {},
      "id": "09dea1bf"
    },
    {
      "cell_type": "code",
      "source": [
        "train_rigid_transforms = []\n",
        "for train_mesh in tqdm(all_meshes['train']):\n",
        "    rigid_transform = train_mesh.createTransform(\n",
        "        target=ref_mesh, \n",
        "        align=sw.Mesh.AlignmentType.Rigid, \n",
        "        iterations=100\n",
        "    )\n",
        "    train_mesh.applyTransform(rigid_transform)\n",
        "    train_rigid_transforms.append(rigid_transform)\n",
        "\n",
        "train_transforms = train_rigid_transforms"
      ],
      "outputs": [
        {
          "output_type": "stream",
          "name": "stderr",
          "text": "100%|██████████| 19/19 [00:03<00:00,  4.86it/s]\n"
        }
      ],
      "execution_count": 13,
      "metadata": {},
      "id": "7e5b5976"
    },
    {
      "cell_type": "markdown",
      "source": [
        "# Optimize Training Particles"
      ],
      "metadata": {},
      "id": "e3b6183f"
    },
    {
      "cell_type": "code",
      "source": [
        "subjects = []\n",
        "for train_mesh_path, train_transform in zip(all_mesh_paths['train'], train_transforms):\n",
        "    subject = sw.Subject()\n",
        "    subject.set_number_of_domains(1)\n",
        "    \n",
        "    rel_mesh_files = sw.utils.get_relative_paths([train_mesh_path], groom_directory)\n",
        "    subject.set_original_filenames(rel_mesh_files)\n",
        "    \n",
        "    rel_groom_files = sw.utils.get_relative_paths([train_mesh_path], groom_directory)\n",
        "    subject.set_groomed_filenames(rel_groom_files)\n",
        "    \n",
        "    transform = [train_transform.flatten()]\n",
        "    subject.set_groomed_transforms(transform)\n",
        "    \n",
        "    subjects.append(subject)\n",
        "    \n",
        "# Set project\n",
        "project = sw.Project()\n",
        "project.set_subjects(subjects)"
      ],
      "outputs": [],
      "execution_count": 15,
      "metadata": {},
      "id": "0e36545d"
    },
    {
      "cell_type": "code",
      "source": [
        "parameter_dictionary = {\n",
        "    \"number_of_particles\" :               128, # 1024\n",
        "    \"use_normals\" :                       0,\n",
        "    \"normal_weight\" :                     10.0,\n",
        "    \"checkpointing_interval\" :            200,\n",
        "    \"keep_checkpoints\" :                  0,\n",
        "    \"iterations_per_split\" :              1500,\n",
        "    \"optimization_iterations\" :           25, # 1000\n",
        "    \"starting_regularization\" :           200,\n",
        "    \"ending_regularization\" :             0.1,\n",
        "    \"recompute_regularization_interval\" : 2,\n",
        "    \"domains_per_shape\" :                 1,\n",
        "    \"relative_weighting\" :                10,\n",
        "    \"initial_relative_weighting\" :        0.1,\n",
        "    \"procrustes\" :                        1,\n",
        "    \"procrustes_interval\" :               1,\n",
        "    \"procrustes_scaling\" :                1,\n",
        "    \"save_init_splits\" :                  1,\n",
        "    \"debug_projection\" :                  0,\n",
        "    \"verbosity\" :                         1,\n",
        "    \"use_statistics_in_init\" :            0,\n",
        "    \"adaptivity_mode\" :                   0\n",
        "} \n",
        "\n",
        "parameters = sw.Parameters()\n",
        "for key, value in parameter_dictionary.items():\n",
        "    parameters.set(key, sw.Variant([value]))\n",
        "    \n",
        "parameters.set(\"domain_type\", sw.Variant('mesh'))\n",
        "project.set_parameters(\"optimize\", parameters)\n",
        "\n",
        "spreadsheet_file = f'{groom_directory}train.xlsx'\n",
        "project.save(spreadsheet_file)"
      ],
      "outputs": [
        {
          "output_type": "execute_result",
          "execution_count": 18,
          "data": {
            "text/plain": "True"
          },
          "metadata": {}
        }
      ],
      "execution_count": 18,
      "metadata": {
        "scrolled": false
      },
      "id": "1d8aa936"
    },
    {
      "cell_type": "code",
      "source": [
        "optimizeCmd = ('shapeworks optimize --name ' + spreadsheet_file).split()\n",
        "subprocess.check_call(optimizeCmd)"
      ],
      "outputs": [
        {
          "output_type": "execute_result",
          "execution_count": 19,
          "data": {
            "text/plain": "0"
          },
          "metadata": {}
        }
      ],
      "execution_count": 19,
      "metadata": {
        "scrolled": true
      },
      "id": "71e84dd9"
    },
    {
      "cell_type": "code",
      "source": [
        "analyzeCmd = ('ShapeWorksStudio ' + spreadsheet_file).split()\n",
        "subprocess.check_call(analyzeCmd)"
      ],
      "outputs": [
        {
          "output_type": "execute_result",
          "execution_count": 21,
          "data": {
            "text/plain": "0"
          },
          "metadata": {}
        }
      ],
      "execution_count": 21,
      "metadata": {
        "scrolled": true
      },
      "id": "78490a26"
    },
    {
      "cell_type": "code",
      "source": [
        "project = sw.Project()\n",
        "project.load(spreadsheet_file)"
      ],
      "outputs": [
        {
          "output_type": "execute_result",
          "execution_count": 20,
          "data": {
            "text/plain": "True"
          },
          "metadata": {}
        }
      ],
      "execution_count": 20,
      "metadata": {
        "scrolled": true
      },
      "id": "2c2ad6e2"
    },
    {
      "cell_type": "code",
      "source": [
        "train_alignments = [[float(x) for x in s.split()] for s in project.get_string_column(\"alignment_1\")]\n",
        "train_alignments = [np.array(x).reshape(4, 4) for x in train_alignments]\n",
        "train_procrustes = [[float(x) for x in s.split()] for s in project.get_string_column(\"procrustes_1\")]\n",
        "train_procrustes = [np.array(x).reshape(4, 4) for x in train_procrustes]\n",
        "\n",
        "# train_local_particles = project.get_string_column(\"local_particles_1\")\n",
        "# train_world_particles = [x.replace(\"./\", groom_directory) for x in project.get_string_column(\"world_particles_1\")]"
      ],
      "outputs": [],
      "execution_count": 22,
      "metadata": {},
      "id": "71047257"
    },
    {
      "cell_type": "markdown",
      "source": [
        "# Groom Training Images"
      ],
      "metadata": {},
      "id": "699518d5"
    },
    {
      "cell_type": "code",
      "source": [
        "ref_image = all_images['train'][ref_index].copy()\n",
        "ref_image.resample([1, 1, 1], sw.InterpolationType.Linear)\n",
        "ref_image.setOrigin(ref_image.origin() - ref_translate)\n",
        "ref_image.write(f'{groom_directory}reference_image.nrrd')\n",
        "ref_procrustes = sw.utils.getITKtransform(train_procrustes[ref_index])"
      ],
      "outputs": [],
      "execution_count": 28,
      "metadata": {},
      "id": "12073d94"
    },
    {
      "cell_type": "code",
      "source": [
        "train_transforms = []\n",
        "# Applying rigid transform\n",
        "for train_image, train_align, train_proc in tqdm(zip(all_images['train'], train_alignments, train_procrustes)):\n",
        "    train_transform = np.matmul(train_proc, train_align)\n",
        "    train_transforms.append(train_transform)\n",
        "    train_image.applyTransform(\n",
        "        train_transform,\n",
        "        ref_image.origin(),  \n",
        "        ref_image.dims(),\n",
        "        ref_image.spacing(), \n",
        "        ref_image.coordsys(),\n",
        "        sw.InterpolationType.Linear, \n",
        "        meshTransform=True\n",
        "    )"
      ],
      "outputs": [],
      "execution_count": 29,
      "metadata": {},
      "id": "db593f81"
    },
    {
      "cell_type": "code",
      "source": [
        "train_image_files = sw.utils.save_images(\n",
        "    f'{groom_directory}train_images/', \n",
        "    all_images['train'],\n",
        "    [uids[i] for i in all_indices['train']], \n",
        "    extension='nrrd',\n",
        "    verbose=False\n",
        ")"
      ],
      "outputs": [],
      "execution_count": 30,
      "metadata": {},
      "id": "98e1ca28"
    },
    {
      "cell_type": "markdown",
      "source": [
        "# Augment data"
      ],
      "metadata": {},
      "id": "32d27f71"
    },
    {
      "cell_type": "code",
      "source": [
        "num_samples = 10\n",
        "percent_variability = 0.99\n",
        "sampler_type = 'kde'\n",
        "\n",
        "embedded_dim = DataAugmentationUtils.runDataAugmentation(\n",
        "    out_dir=aug_directory,\n",
        "    img_list=train_image_files, \n",
        "    local_point_list=sorted(glob(f'{groom_directory}train_particles/*_local.particles')), \n",
        "    num_samples=num_samples, \n",
        "    #num_dim,\n",
        "    percent_variability=percent_variability, \n",
        "    sampler_type=sampler_type,\n",
        "    #mixture_num,\n",
        "    processes=4, \n",
        "    world_point_list=sorted(glob(f'{groom_directory}train_particles/*_world.particles')),\n",
        ")\n",
        "print(f'PCA dimensions retained: {embedded_dim}')"
      ],
      "outputs": [
        {
          "output_type": "stream",
          "name": "stdout",
          "text": "Running point based data augmentation.\nThe PCA modes of particles being retained : 15\nVariablity preserved: 0.9917001539148412\nFitting KDE...\nGenerating 1/10\nGenerating 2/10\nGenerating 3/10\nGenerating 4/10\nGenerating 5/10\nGenerating 6/10\nGenerating 7/10\nGenerating 8/10\nGenerating 9/10\nGenerating 10/10\nDone.\nPCA dimensions retained: 15\n"
        }
      ],
      "execution_count": 36,
      "metadata": {},
      "id": "0f78f097"
    },
    {
      "cell_type": "code",
      "source": [
        "aug_data_csv = aug_directory + 'TotalData.csv'\n",
        "DataAugmentationUtils.visualizeAugmentation(aug_data_csv, 'violin') # 'splom'"
      ],
      "outputs": [
        {
          "output_type": "display_data",
          "data": {
            "image/png": "[encoded data removed]",
            "text/plain": "<Figure size 432x288 with 1 Axes>"
          },
          "metadata": {
            "needs_background": "light"
          }
        }
      ],
      "execution_count": 40,
      "metadata": {},
      "id": "68c1bd66"
    },
    {
      "cell_type": "markdown",
      "source": [
        "# Find Test and Validation Transforms and Groom Images"
      ],
      "metadata": {},
      "id": "25801605"
    },
    {
      "cell_type": "code",
      "source": [
        "# Get reference image\n",
        "ref_image_file = groom_directory + 'reference_image.nrrd'\n",
        "ref_image = sw.Image(ref_image_file)\n",
        "ref_center = ref_image.center() # get center"
      ],
      "outputs": [],
      "execution_count": 41,
      "metadata": {},
      "id": "bbf1c773"
    },
    {
      "cell_type": "code",
      "source": [
        "val_test_image_paths = all_image_paths['val'] + all_image_paths['test']\n",
        "val_test_mesh_paths = all_mesh_paths['val'] + all_mesh_paths['test']"
      ],
      "outputs": [],
      "execution_count": 49,
      "metadata": {
        "scrolled": true
      },
      "id": "020f5c09"
    },
    {
      "cell_type": "code",
      "source": [
        "val_test_image_groomed_paths = []\n",
        "val_test_transforms = []\n",
        "for vt_image_path, vt_mesh_path in zip(val_test_image_paths, val_test_mesh_paths):\n",
        "    vt_image = sw.Image(vt_image_path)\n",
        "    vt_image_groomed_path = val_test_images_directory + vt_image_path.split('/')[-1]\n",
        "    val_test_image_groomed_paths.append(vt_image_groomed_path)\n",
        "    \n",
        "    transform = np.eye(4)\n",
        "    \n",
        "    translation = ref_center - vt_image.center()\n",
        "    vt_image.setOrigin(vt_image.origin() + translation).write(vt_image_groomed_path)\n",
        "    transform[:3,-1] += translation\n",
        "    \n",
        "    val_test_transforms.append(transform)"
      ],
      "outputs": [],
      "execution_count": 53,
      "metadata": {},
      "id": "e4807c6a"
    },
    {
      "cell_type": "code",
      "source": [
        "val_image_groomed_paths = val_test_image_groomed_paths[:val_size]\n",
        "val_transforms = val_test_transforms[:val_size]\n",
        "\n",
        "test_image_groomed_paths = val_test_image_groomed_paths[val_size:]\n",
        "test_transforms = val_test_transforms[val_size:]"
      ],
      "outputs": [],
      "execution_count": 111,
      "metadata": {},
      "id": "672b0842"
    },
    {
      "cell_type": "markdown",
      "source": [
        "# Optimize Validation Particles with Fixed Domains"
      ],
      "metadata": {},
      "id": "7a152d96"
    },
    {
      "cell_type": "code",
      "source": [
        "val_uids = [uids[i] for i in all_indices['val']]\n",
        "\n",
        "mean_shape = sum([np.loadtxt(particles) for particles in train_world_particles]) / train_size\n",
        "np.savetxt(f'{groom_directory}meanshape_world.particles', mean_shape)"
      ],
      "outputs": [],
      "execution_count": 81,
      "metadata": {},
      "id": "c5a79a5b"
    },
    {
      "cell_type": "code",
      "source": [
        "subjects = []\n",
        "# Add fixed training shapes\n",
        "for train_mesh_path, train_transform, train_local_particle_path in zip(all_mesh_paths['train'], train_transforms, train_local_particles):\n",
        "    subject = sw.Subject()\n",
        "    subject.set_number_of_domains(1)\n",
        "    \n",
        "    rel_mesh_files = sw.utils.get_relative_paths([train_mesh_path], groom_directory)\n",
        "    rel_groom_files = sw.utils.get_relative_paths([train_mesh_path], groom_directory)\n",
        "    \n",
        "    subject.set_original_filenames(rel_mesh_files)\n",
        "    subject.set_groomed_filenames(rel_groom_files)\n",
        "    transform = [train_transform.flatten()]\n",
        "    \n",
        "    subject.set_groomed_transforms(transform)\n",
        "    subject.set_landmarks_filenames([train_local_particle_path])\n",
        "    subject.set_extra_values({\"fixed\": \"yes\"})\n",
        "    subjects.append(subject)"
      ],
      "outputs": [],
      "execution_count": 85,
      "metadata": {},
      "id": "365db370"
    },
    {
      "cell_type": "code",
      "source": [
        "for val_mesh_path, val_transform, val_uid in zip(all_mesh_paths['val'], val_transforms, all_uids['val']):\n",
        "    subject = sw.Subject()\n",
        "    subject.set_number_of_domains(1)\n",
        "    \n",
        "    rel_mesh_files = sw.utils.get_relative_paths([val_mesh_path], groom_directory)\n",
        "    rel_groom_files = sw.utils.get_relative_paths([val_mesh_path], groom_directory)\n",
        "    \n",
        "    initial_particles = sw.utils.transformParticles(mean_shape, val_transform, inverse=True)\n",
        "    initial_particle_file = f'{val_paticle_directory}{val_uid}_local.particles'\n",
        "    np.savetxt(initial_particle_file, initial_particles)\n",
        "    \n",
        "    rel_particle_files = sw.utils.get_relative_paths([initial_particle_file], groom_directory)\n",
        "    subject.set_original_filenames(rel_mesh_files)\n",
        "    subject.set_groomed_filenames(rel_groom_files)\n",
        "    transform = [val_transform.flatten()]\n",
        "    subject.set_groomed_transforms(transform)\n",
        "    subject.set_landmarks_filenames(rel_particle_files)\n",
        "    subject.set_extra_values({\"fixed\": \"no\"})\n",
        "    subjects.append(subject)\n",
        "    \n",
        "project = sw.Project()\n",
        "project.set_subjects(subjects)"
      ],
      "outputs": [],
      "execution_count": 92,
      "metadata": {},
      "id": "6f7d4646"
    },
    {
      "cell_type": "code",
      "source": [
        "parameters = sw.Parameters()\n",
        "\n",
        "# Update parameter dictionary from step 4\n",
        "parameter_dictionary[\"multiscale\"] = 0\n",
        "parameter_dictionary[\"procrustes\"] = 0\n",
        "parameter_dictionary[\"procrustes_interval\"] = 0\n",
        "parameter_dictionary[\"procrustes_scaling\"] = 0\n",
        "parameter_dictionary[\"use_landmarks\"] = 1\n",
        "parameter_dictionary[\"use_fixed_subjects\"] = 1\n",
        "parameter_dictionary[\"narrow_band\"] = 1e10\n",
        "parameter_dictionary[\"fixed_subjects_column\"] = \"fixed\"\n",
        "parameter_dictionary[\"fixed_subjects_choice\"] = \"yes\"\n",
        "for key, value in parameter_dictionary.items():\n",
        "    parameters.set(key, sw.Variant(value))\n",
        "    \n",
        "project.set_parameters(\"optimize\", parameters)"
      ],
      "outputs": [],
      "execution_count": 93,
      "metadata": {},
      "id": "eaa59f81"
    },
    {
      "cell_type": "code",
      "source": [
        "# Set studio parameters\n",
        "studio_dictionary = {\n",
        "    \"show_landmarks\": 0,\n",
        "    \"tool_state\": \"analysis\"\n",
        "}\n",
        "studio_parameters = sw.Parameters()\n",
        "for key, value in studio_dictionary.items():\n",
        "    studio_parameters.set(key, sw.Variant(value))\n",
        "project.set_parameters(\"studio\", studio_parameters)\n",
        "\n",
        "spreadsheet_file = groom_directory + \"validation.xlsx\"\n",
        "project.save(spreadsheet_file)"
      ],
      "outputs": [
        {
          "output_type": "execute_result",
          "execution_count": 94,
          "data": {
            "text/plain": "True"
          },
          "metadata": {}
        }
      ],
      "execution_count": 94,
      "metadata": {
        "scrolled": true
      },
      "id": "9d49fd03"
    },
    {
      "cell_type": "code",
      "source": [
        "optimize_cmd = ('shapeworks optimize --name ' + spreadsheet_file).split()\n",
        "subprocess.check_call(optimize_cmd)"
      ],
      "outputs": [
        {
          "output_type": "execute_result",
          "execution_count": 96,
          "data": {
            "text/plain": "0"
          },
          "metadata": {}
        }
      ],
      "execution_count": 96,
      "metadata": {
        "scrolled": true
      },
      "id": "80d973da"
    },
    {
      "cell_type": "code",
      "source": [
        "analyze_cmd = ('ShapeWorksStudio ' + spreadsheet_file).split()\n",
        "subprocess.check_call(analyze_cmd)"
      ],
      "outputs": [
        {
          "output_type": "execute_result",
          "execution_count": 97,
          "data": {
            "text/plain": "0"
          },
          "metadata": {}
        }
      ],
      "execution_count": 97,
      "metadata": {},
      "id": "01601ab8"
    },
    {
      "cell_type": "code",
      "source": [
        "val_world_particles = [f'{val_paticle_directory}{val_uid}_world.particles' for val_uid in all_uids['val']]\n",
        "val_world_particles"
      ],
      "outputs": [
        {
          "output_type": "execute_result",
          "execution_count": 98,
          "data": {
            "text/plain": "['../dataset/Baltimore/Ventricles_256_2/DeepSSM/groomed/validation_particles/19738_world.particles',\n '../dataset/Baltimore/Ventricles_256_2/DeepSSM/groomed/validation_particles/52358_world.particles']"
          },
          "metadata": {}
        }
      ],
      "execution_count": 98,
      "metadata": {},
      "id": "4b2c2e43"
    },
    {
      "cell_type": "markdown",
      "source": [
        "# Create Data Loaders"
      ],
      "metadata": {},
      "id": "23518c4b"
    },
    {
      "cell_type": "code",
      "source": [
        "batch_size = 1\n",
        "DeepSSMUtils.getTrainLoader(loader_directory, aug_data_csv, batch_size)"
      ],
      "outputs": [
        {
          "output_type": "stream",
          "name": "stdout",
          "text": "********************* WARNING ****************************\nPytorch is running on your CPU!\nThis will be very slow. If your machine has a GPU,\nplease reinstall Pytorch to your shapeworks conda \nenvironment with the correct CUDA version.\n**********************************************************\nCreating training torch loader...\n"
        },
        {
          "output_type": "stream",
          "name": "stderr",
          "text": "This DataLoader will create 8 worker processes in total. Our suggested max number of worker in current system is 4 (`cpuset` is not taken into account), which is smaller than what this DataLoader is going to create. Please be aware that excessive worker creation might get DataLoader running slow or even freeze, lower the worker number to avoid potential slowness/freeze if necessary.\n"
        },
        {
          "output_type": "stream",
          "name": "stdout",
          "text": "Training loader complete.\n"
        }
      ],
      "execution_count": 102,
      "metadata": {
        "scrolled": true
      },
      "id": "0973ab2c"
    },
    {
      "cell_type": "code",
      "source": [
        "DeepSSMUtils.getValidationLoader(loader_directory, val_image_groomed_paths, val_world_particles)"
      ],
      "outputs": [
        {
          "output_type": "stream",
          "name": "stdout",
          "text": "Creating validation torch loader:\nValidation names saved to: ../dataset/Baltimore/Ventricles_256_2/DeepSSM/torch_loaders/validation_names.txt\nValidation loader complete.\n"
        }
      ],
      "execution_count": 112,
      "metadata": {},
      "id": "c1ee8f68"
    },
    {
      "cell_type": "code",
      "source": [
        "DeepSSMUtils.getTestLoader(loader_directory, test_image_groomed_paths)"
      ],
      "outputs": [
        {
          "output_type": "stream",
          "name": "stdout",
          "text": "Creating test torch loader...\nTest names saved to: ../dataset/Baltimore/Ventricles_256_2/DeepSSM/torch_loaders/test_names.txt\nTest loader complete.\n"
        }
      ],
      "execution_count": 113,
      "metadata": {},
      "id": "a363e320"
    },
    {
      "cell_type": "markdown",
      "source": [
        "# Train DeepSSM Model"
      ],
      "metadata": {},
      "id": "e921b28d"
    },
    {
      "cell_type": "code",
      "source": [
        "# Define model parameters\n",
        "model_name = \"DeepSSM_ventricle2\"\n",
        "model_parameters = {\n",
        "    \"model_name\": model_name,\n",
        "    \"num_latent_dim\": int(embedded_dim),\n",
        "    \"paths\": {\n",
        "        \"out_dir\": deepssm_directory,\n",
        "        \"loader_dir\": loader_directory,\n",
        "        \"aug_dir\": aug_directory\n",
        "    },\n",
        "    \"encoder\": {\n",
        "        \"deterministic\": True\n",
        "    },\n",
        "    \"decoder\": {\n",
        "        \"deterministic\": True,\n",
        "        \"linear\": True\n",
        "    },\n",
        "    \"loss\": {\n",
        "        \"function\": \"MSE\",\n",
        "        \"supervised_latent\": True,\n",
        "    },\n",
        "    \"trainer\": {\n",
        "        \"epochs\": 2, # 10\n",
        "        \"learning_rate\": 0.001,\n",
        "        \"decay_lr\": False,\n",
        "        \"val_freq\": 1\n",
        "    },\n",
        "    \"fine_tune\": {\n",
        "        \"enabled\": False,\n",
        "    },\n",
        "    \"use_best_model\": True\n",
        "}\n",
        "    \n",
        "config_file = deepssm_directory + model_name + \".json\"\n",
        "with open(config_file, \"w\") as outfile:\n",
        "    json.dump(model_parameters, outfile, indent=2)"
      ],
      "outputs": [],
      "execution_count": 116,
      "metadata": {},
      "id": "0220d22c"
    },
    {
      "cell_type": "code",
      "source": [
        "DeepSSMUtils.trainDeepSSM(config_file)"
      ],
      "outputs": [
        {
          "output_type": "stream",
          "name": "stdout",
          "text": "********************* WARNING ****************************\nPytorch is running on your CPU!\nThis will be very slow. If your machine has a GPU,\nplease reinstall Pytorch to your shapeworks conda \nenvironment with the correct CUDA version.\n**********************************************************\nLoading data loaders...\nDone.\nDefining net...\nDone.\nBeginning training on device = cpu\n\nEpoch\t  LR\t  Train_Err\t  Train_Rel_Err\t  Val_Err\t  Val_Rel_Err\t  Sec\nEpoch 1/2\n"
        }
      ],
      "execution_count": null,
      "metadata": {},
      "id": "fb8326fe"
    },
    {
      "cell_type": "markdown",
      "source": [
        "# Predict Validation Particles and Analyze Accuracy"
      ],
      "metadata": {},
      "id": "218e32d7"
    },
    {
      "cell_type": "code",
      "source": [
        "val_out_dir = deepssm_directory + model_name + '/validation_predictions/'\n",
        "predicted_val_world_particles = DeepSSMUtils.testDeepSSM(config_file, loader='validation')"
      ],
      "outputs": [],
      "execution_count": null,
      "metadata": {},
      "id": "f4c30fa9"
    },
    {
      "cell_type": "code",
      "source": [
        "local_val_prediction_dir = val_out_dir + 'local_predictions/'\n",
        "if not os.path.exists(local_val_prediction_dir):\n",
        "    os.makedirs(local_val_prediction_dir)"
      ],
      "outputs": [],
      "execution_count": null,
      "metadata": {},
      "id": "c32209c6"
    },
    {
      "cell_type": "code",
      "source": [
        "predicted_val_local_particles = []\n",
        "for particle_file, transform in zip(predicted_val_world_particles, val_transforms):\n",
        "    particles = np.loadtxt(particle_file)\n",
        "    local_particle_file = particle_file.replace(\"FT_Predictions/\", \"local_predictions/\")\n",
        "    local_particles = sw.utils.transformParticles(particles, transform, inverse=True)\n",
        "    np.savetxt(local_particle_file, local_particles)\n",
        "    predicted_val_local_particles.append(local_particle_file)\n",
        "print(\"Validation local predictions written to: \" + local_val_prediction_dir)"
      ],
      "outputs": [],
      "execution_count": null,
      "metadata": {},
      "id": "3f2bb4ce"
    },
    {
      "cell_type": "code",
      "source": [
        "'''\n",
        "Analyze validation accuracy in terms of:\n",
        "- MSE between true and predcited world partcles\n",
        "- Surface to surface distance between true mesh and mesh generated from predicted local particles\n",
        "'''\n",
        "mean_MSE, std_MSE = DeepSSMUtils.analyzeMSE(predicted_val_world_particles, val_world_particles)\n",
        "print(\"Validation world particle MSE: \"+str(mean_MSE)+\" +- \"+str(std_MSE))\n",
        "template_mesh = train_mesh_files[ref_index]\n",
        "template_particles = train_local_particles[ref_index].replace(\"./\", data_dir)\n",
        "# Get distabce between clipped true and predicted meshes\n",
        "mean_dist = DeepSSMUtils.analyzeMeshDistance(predicted_val_local_particles, val_mesh_files, \n",
        "                                                template_particles, template_mesh, val_out_dir,\n",
        "                                                planes=val_planes)\n",
        "print(\"Validation mean mesh surface-to-surface distance: \"+str(mean_dist))"
      ],
      "outputs": [],
      "execution_count": null,
      "metadata": {},
      "id": "d7da7321"
    },
    {
      "cell_type": "markdown",
      "source": [
        "# Predict Test Particles and Analyze Accuracy"
      ],
      "metadata": {},
      "id": "7b14a1e8"
    },
    {
      "cell_type": "code",
      "source": [
        "test_out_dir = output_directory + model_name + '/test_predictions/'\n",
        "predicted_test_world_particles = DeepSSMUtils.testDeepSSM(config_file, loader='test')\n",
        "print(\"Test world predictions saved.\")\n",
        "# Generate local predictions\n",
        "local_test_prediction_dir = test_out_dir + 'local_predictions/'\n",
        "if not os.path.exists(local_test_prediction_dir):\n",
        "    os.makedirs(local_test_prediction_dir)\n",
        "predicted_test_local_particles = []\n",
        "for particle_file, transform in zip(predicted_test_world_particles, test_transforms):\n",
        "    particles = np.loadtxt(particle_file)\n",
        "    local_particle_file = particle_file.replace(\"FT_Predictions/\", \"local_predictions/\")\n",
        "    local_particles = sw.utils.transformParticles(particles, transform, inverse=True)\n",
        "    np.savetxt(local_particle_file, local_particles)\n",
        "    predicted_test_local_particles.append(local_particle_file)\n",
        "print(\"Test local predictions written to: \" + local_test_prediction_dir)\n",
        "'''\n",
        "Analyze test accuracy in terms of surface to surface distance between \n",
        "clipped true mesh and clipped mesh generated from predicted local particles\n",
        "'''\n",
        "mean_dist = DeepSSMUtils.analyzeMeshDistance(predicted_test_local_particles, test_mesh_files, \n",
        "                                                template_particles, template_mesh, test_out_dir,\n",
        "                                                planes=test_planes)\n",
        "print(\"Test mean mesh surface-to-surface distance: \"+str(mean_dist))"
      ],
      "outputs": [],
      "execution_count": null,
      "metadata": {},
      "id": "dddd0ebd"
    }
  ],
  "metadata": {
    "kernelspec": {
      "name": "python3",
      "language": "python",
      "display_name": "Python 3 (ipykernel)"
    },
    "language_info": {
      "name": "python",
      "version": "3.8.5",
      "mimetype": "text/x-python",
      "codemirror_mode": {
        "name": "ipython",
        "version": 3
      },
      "pygments_lexer": "ipython3",
      "nbconvert_exporter": "python",
      "file_extension": ".py"
    },
    "toc": {
      "toc_position": {},
      "skip_h1_title": false,
      "number_sections": true,
      "title_cell": "Table of Contents",
      "toc_window_display": false,
      "base_numbering": 1,
      "toc_section_display": true,
      "title_sidebar": "Contents",
      "toc_cell": false,
      "nav_menu": {},
      "sideBar": true
    },
    "kernel_info": {
      "name": "python3"
    },
    "nteract": {
      "version": "nteract-front-end@1.0.0"
    }
  },
  "nbformat": 4,
  "nbformat_minor": 5
}