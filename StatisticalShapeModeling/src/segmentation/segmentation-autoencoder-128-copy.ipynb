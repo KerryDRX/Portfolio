{
  "cells": [
    {
      "cell_type": "code",
      "source": [
        "import numpy as np\n",
        "import matplotlib.pyplot as plt\n",
        "import torch\n",
        "import torch.nn.functional as F\n",
        "import os\n",
        "import gc\n",
        "from glob import glob\n",
        "from tqdm import tqdm\n",
        "from collections import defaultdict\n",
        "import json\n",
        "import scipy.ndimage as ndimage\n",
        "import nrrd\n",
        "import torchio as tio\n",
        "import monai\n",
        "import nibabel as nib\n",
        "import time"
      ],
      "outputs": [
        {
          "output_type": "stream",
          "name": "stderr",
          "text": "<frozen importlib._bootstrap>:219: RuntimeWarning: scipy._lib.messagestream.MessageStream size changed, may indicate binary incompatibility. Expected 56 from C header, got 64 from PyObject\n"
        }
      ],
      "execution_count": 1,
      "metadata": {
        "gather": {
          "logged": 1678762944968
        },
        "id": "8246ca62",
        "jupyter": {
          "outputs_hidden": true
        },
        "scrolled": true
      },
      "id": "8246ca62"
    },
    {
      "cell_type": "code",
      "source": [
        "city = 'Beijing_Zang2'\n",
        "\n",
        "modes = ['train', 'test']\n",
        "total_size = 197\n",
        "train_size, test_size = 158, 39\n",
        "\n",
        "device = torch.device('cuda' if torch.cuda.is_available() else 'cpu')\n",
        "device"
      ],
      "outputs": [
        {
          "output_type": "execute_result",
          "execution_count": 2,
          "data": {
            "text/plain": "device(type='cuda')"
          },
          "metadata": {}
        }
      ],
      "execution_count": 2,
      "metadata": {
        "jupyter": {
          "source_hidden": false,
          "outputs_hidden": false
        },
        "nteract": {
          "transient": {
            "deleting": false
          }
        },
        "gather": {
          "logged": 1678762945208
        }
      },
      "id": "52a47ac5-f5b3-4059-9dd7-05a4214e1f03"
    },
    {
      "cell_type": "code",
      "source": [
        "seed = 0\n",
        "random_state = np.random.RandomState(seed=seed)\n",
        "perm = random_state.permutation(total_size)\n",
        "perm = {\n",
        "    'train': perm[:train_size],\n",
        "    'test': perm[train_size:train_size+test_size],\n",
        "}\n",
        "\n",
        "def get_subjects(mode):\n",
        "    subjects = []\n",
        "    image_paths = [sorted(glob(f'{image_dir}/*.nii.gz'))[i] for i in perm[mode]]\n",
        "    for image_path in image_paths:\n",
        "        subject = tio.Subject(segm=tio.LabelMap(image_path))\n",
        "        subjects.append(subject)\n",
        "    return subjects\n",
        "\n",
        "def get_transform():\n",
        "    resample = tio.Compose([\n",
        "        tio.Resample(2),\n",
        "        tio.CropOrPad((128,128,128)),\n",
        "    ])\n",
        "    spatial = tio.Compose([\n",
        "        tio.RandomAffine(degrees=3, translation=0.1),\n",
        "        # tio.RandomAffine(scales=(0.8, 1.2)),\n",
        "        # tio.OneOf({\n",
        "        #     tio.RandomAffine(degrees=(0, 0, 0, 0, 0, 0)): 1,\n",
        "        #     tio.RandomAffine(degrees=(0, 0, 0, 0, 90, 90)): 1,\n",
        "        #     tio.RandomAffine(degrees=(0, 0, 0, 0, 180, 180)): 1,\n",
        "        #     tio.RandomAffine(degrees=(0, 0, 0, 0, 270, 270)): 1,\n",
        "        # })\n",
        "    ])\n",
        "    remapping = tio.RemapLabels({\n",
        "        i: (\n",
        "            1 if i in {1,2,21,22,23,24}\n",
        "            # 1 if i in {21, 23}                            \n",
        "            # else 2 if i in {22, 24}  \n",
        "            # else 3 if i == 1\n",
        "            # else 4 if i == 2 \n",
        "            else 0  \n",
        "        ) for i in range(139)\n",
        "    })\n",
        "    # onehot = tio.OneHot(num_classes=1)\n",
        "    transform = {\n",
        "        'train': tio.Compose([\n",
        "            resample,\n",
        "            spatial,\n",
        "            remapping,\n",
        "            # onehot,\n",
        "        ]),\n",
        "        'test': tio.Compose([\n",
        "            resample,\n",
        "            remapping,\n",
        "            # onehot,\n",
        "        ]),\n",
        "    }\n",
        "    return transform\n",
        "\n",
        "def get_dataloader(transform):\n",
        "    dataloader = dict()\n",
        "    for mode in modes:\n",
        "        dataloader[mode] = torch.utils.data.DataLoader(\n",
        "            tio.SubjectsDataset(\n",
        "                subjects[mode], \n",
        "                transform=transform[mode]\n",
        "            ),\n",
        "            batch_size=8, \n",
        "            num_workers=os.cpu_count(),\n",
        "            shuffle=(mode == 'train'),\n",
        "        )\n",
        "    return dataloader\n",
        "\n",
        "def clean(model):\n",
        "    del model\n",
        "    gc.collect()\n",
        "    torch.cuda.empty_cache()\n",
        "\n",
        "image_dir = f'../dataset/{city}/Segmentation'\n",
        "model_dir = f'../results/SCAE_vent_all_new/'\n",
        "if not os.path.exists(model_dir):\n",
        "    os.makedirs(model_dir)\n",
        "\n",
        "subjects = {mode: get_subjects(mode) for mode in modes}\n",
        "transform = get_transform()\n",
        "dataloaders = get_dataloader(transform)"
      ],
      "outputs": [],
      "execution_count": 3,
      "metadata": {
        "gather": {
          "logged": 1678550500065
        }
      },
      "id": "fe9e2ac9"
    },
    {
      "cell_type": "code",
      "source": [
        "def train(model, dataloaders, num_epochs, learning_rate):\n",
        "    optimizer = torch.optim.Adam(model.parameters(), learning_rate)\n",
        "    scheduler = torch.optim.lr_scheduler.StepLR(optimizer, step_size=1, gamma=0.2)\n",
        "    loss_fn = monai.losses.DiceLoss(squared_pred=True).to(device)\n",
        "    metric = monai.metrics.DiceMetric(reduction='mean_batch')\n",
        "\n",
        "    t0 = time.time()\n",
        "    best_val_loss = np.Inf\n",
        "    tol = 0\n",
        "    tol50 = 0\n",
        "    for epoch in range(1, num_epochs+1):\n",
        "        print(f\"Epoch {epoch}/{num_epochs}\")\n",
        "        for mode in modes:\n",
        "            if mode == 'train':\n",
        "                model.train()\n",
        "            else:\n",
        "                model.eval()\n",
        "            \n",
        "            losses = []\n",
        "            for subject in dataloaders[mode]:\n",
        "                image = subject['segm'][tio.DATA].to(device).float()\n",
        "                \n",
        "                prob = model(image)\n",
        "                loss = loss_fn(prob, image)\n",
        "                if mode == 'train':\n",
        "                    optimizer.zero_grad()\n",
        "                    loss.backward()\n",
        "                    optimizer.step()\n",
        "                losses.append(loss.item())\n",
        "                metric((prob > 0.5).float(), image)\n",
        "            \n",
        "            mean_loss = np.mean(losses)\n",
        "            print(f'{mode} loss: {mean_loss}')\n",
        "            mean_dsc = metric.aggregate().tolist()\n",
        "            metric.reset()\n",
        "            print(f'{mode} DSC: {mean_dsc}')\n",
        "\n",
        "        if mean_loss <= best_val_loss:\n",
        "            best_val_dsc = mean_loss\n",
        "            best_epoch = epoch\n",
        "            torch.save(model.state_dict(), f'{model_dir}/best_autoencoder.torch')\n",
        "            tol = 0\n",
        "            tol50 = 0\n",
        "        else:\n",
        "            tol += 1\n",
        "            tol50 += 1\n",
        "        print(f'Best test DSC: {best_val_dsc}')\n",
        "        \n",
        "        if tol == 10:\n",
        "            scheduler.step()\n",
        "            print('Validation DSC stopped to improve for 10 epochs (LR /= 5).')\n",
        "            tol = 0\n",
        "        \n",
        "        time_elapsed = time.time() - t0\n",
        "        print(f'Time: {time_elapsed}\\n')\n",
        "        t0 = time.time()\n",
        "\n",
        "        if tol50 == 50:\n",
        "            print('Validation DSC stopped to improve for 50 epochs. Training terminated.')\n",
        "            break\n",
        "\n",
        "    print(f\"Best model after epoch {best_epoch}. Best test DSC: {best_val_dsc}\")"
      ],
      "outputs": [],
      "execution_count": 4,
      "metadata": {
        "jupyter": {
          "source_hidden": false,
          "outputs_hidden": false
        },
        "nteract": {
          "transient": {
            "deleting": false
          }
        },
        "gather": {
          "logged": 1678550500292
        }
      },
      "id": "86731a57-1ac6-4dfd-b48a-53fad0257e88"
    },
    {
      "cell_type": "code",
      "source": [
        "def init_model():\n",
        "    model = torch.nn.Sequential(\n",
        "        monai.networks.nets.AutoEncoder(\n",
        "            spatial_dims=3, in_channels=1, out_channels=1, \n",
        "            channels=(16,32,64,96,128,196,256,512), strides=(1,2,2,2,2,2,2,2),\n",
        "            norm=monai.networks.layers.Norm.BATCH,\n",
        "            act=monai.networks.layers.Act.LEAKYRELU,\n",
        "        ),\n",
        "        torch.nn.Sigmoid(),\n",
        "    )\n",
        "    return model"
      ],
      "outputs": [],
      "execution_count": 5,
      "metadata": {
        "jupyter": {
          "source_hidden": false,
          "outputs_hidden": false
        },
        "nteract": {
          "transient": {
            "deleting": false
          }
        },
        "gather": {
          "logged": 1678550500513
        }
      },
      "id": "ec9d5f64-6837-4ab3-9353-551fe80d9631"
    },
    {
      "cell_type": "code",
      "source": [
        "if 'model' in globals(): clean(model)\n",
        "model = init_model().to(device)\n",
        "train(model=model, dataloaders=dataloaders, num_epochs=1000, learning_rate=5e-4)"
      ],
      "outputs": [
        {
          "output_type": "stream",
          "name": "stdout",
          "text": "Epoch 1/1000\ntrain loss: 0.353690702892557\ntrain DSC: [0.10974372178316116, 0.20772886276245117]\ntest loss: 0.2619920518153753\ntest DSC: [0.10457098484039307, 0.3315374255180359]\nBest test DSC: 0.2619920518153753\nTime: 93.03531527519226\n\nEpoch 2/1000\ntrain loss: 0.2513423822348631\ntrain DSC: [0.1025654748082161, 0.40960896015167236]\ntest loss: 0.23174643516540527\ntest DSC: [0.10063956677913666, 0.4920843541622162]\nBest test DSC: 0.23174643516540527\nTime: 93.52713418006897\n\nEpoch 3/1000\ntrain loss: 0.23031329976606973\ntrain DSC: [0.10945076495409012, 0.3497576117515564]\ntest loss: 0.22286708385516435\ntest DSC: [0.09800861775875092, 0.46425294876098633]\nBest test DSC: 0.22286708385516435\nTime: 93.16290044784546\n\nEpoch 4/1000\ntrain loss: 0.21355700492858887\ntrain DSC: [0.1124308779835701, 0.3326582610607147]\ntest loss: 0.2008449267118405\ntest DSC: [0.11036012321710587, 0.3151194453239441]\nBest test DSC: 0.2008449267118405\nTime: 93.6511902809143\n\nEpoch 5/1000\ntrain loss: 0.20415019951289212\ntrain DSC: [0.11315523087978363, 0.33230867981910706]\ntest loss: 0.19238948745605272\ntest DSC: [0.10613355785608292, 0.39862558245658875]\nBest test DSC: 0.19238948745605272\nTime: 93.50541067123413\n\nEpoch 6/1000\ntrain loss: 0.19259363639203808\ntrain DSC: [0.11834122985601425, 0.3254924416542053]\ntest loss: 0.18598176729984772\ntest DSC: [0.12115354090929031, 0.2317505180835724]\nBest test DSC: 0.18598176729984772\nTime: 93.48483777046204\n\nEpoch 7/1000\ntrain loss: 0.1852896187124373\ntrain DSC: [0.11477197706699371, 0.36156198382377625]\ntest loss: 0.1772249868282905\ntest DSC: [0.11156553775072098, 0.38091546297073364]\nBest test DSC: 0.1772249868282905\nTime: 94.07072234153748\n\nEpoch 8/1000\ntrain loss: 0.17885616516010672\ntrain DSC: [0.11251549422740936, 0.4116777777671814]\ntest loss: 0.1694890810893132\ntest DSC: [0.10695518553256989, 0.46776580810546875]\nBest test DSC: 0.1694890810893132\nTime: 93.55012106895447\n\nEpoch 9/1000\ntrain loss: 0.17245083198517183\ntrain DSC: [0.11371128261089325, 0.42119261622428894]\ntest loss: 0.16314764359058478\ntest DSC: [0.10882234573364258, 0.4391573369503021]\nBest test DSC: 0.16314764359058478\nTime: 93.52601599693298\n\nEpoch 10/1000\ntrain loss: 0.16712152486360526\ntrain DSC: [0.11424918472766876, 0.43248313665390015]\ntest loss: 0.15930908001386201\ntest DSC: [0.11010436713695526, 0.4689260721206665]\nBest test DSC: 0.15930908001386201\nTime: 93.84532046318054\n\nEpoch 11/1000\ntrain loss: 0.16269623799414573\ntrain DSC: [0.1117650642991066, 0.4743308126926422]\ntest loss: 0.1533109446366628\ntest DSC: [0.10806060582399368, 0.5246612429618835]\nBest test DSC: 0.1533109446366628\nTime: 93.65206456184387\n\nEpoch 12/1000\ntrain loss: 0.15767978735362428\ntrain DSC: [0.11253906041383743, 0.47798871994018555]\ntest loss: 0.14918169608482948\ntest DSC: [0.10772360116243362, 0.5500117540359497]\nBest test DSC: 0.14918169608482948\nTime: 93.82435154914856\n\nEpoch 13/1000\ntrain loss: 0.15358197971989837\ntrain DSC: [0.11191163212060928, 0.5075283050537109]\ntest loss: 0.1424429890437004\ntest DSC: [0.10791773349046707, 0.6512474417686462]\nBest test DSC: 0.1424429890437004\nTime: 93.66714262962341\n\nEpoch 14/1000\ntrain loss: 0.14612604621090466\ntrain DSC: [0.11052902042865753, 0.5256401896476746]\ntest loss: 0.13472425097074264\ntest DSC: [0.1069878339767456, 0.6778445839881897]\nBest test DSC: 0.13472425097074264\nTime: 93.2326500415802\n\nEpoch 15/1000\ntrain loss: 0.14034310945227177\ntrain DSC: [0.11126111447811127, 0.5701162815093994]\ntest loss: 0.13126792968847814\ntest DSC: [0.10794384032487869, 0.6604115962982178]\nBest test DSC: 0.13126792968847814\nTime: 93.68762612342834\n\nEpoch 16/1000\ntrain loss: 0.1375028034554252\ntrain DSC: [0.1107628121972084, 0.5656618475914001]\ntest loss: 0.129233412253551\ntest DSC: [0.10772834718227386, 0.7436865568161011]\nBest test DSC: 0.129233412253551\nTime: 93.97866654396057\n\nEpoch 17/1000\ntrain loss: 0.13520889946177037\ntrain DSC: [0.1098569706082344, 0.6015000343322754]\ntest loss: 0.12714906151478106\ntest DSC: [0.11032703518867493, 0.6171097159385681]\nBest test DSC: 0.12714906151478106\nTime: 93.90902996063232\n\nEpoch 18/1000\ntrain loss: 0.13272184114667435\ntrain DSC: [0.11099690943956375, 0.6179746985435486]\ntest loss: 0.12308443891696441\ntest DSC: [0.1077331155538559, 0.6968277096748352]\nBest test DSC: 0.12308443891696441\nTime: 93.90666103363037\n\nEpoch 19/1000\ntrain loss: 0.13025700895092154\ntrain DSC: [0.11050204932689667, 0.6011884808540344]\ntest loss: 0.1208433699913514\ntest DSC: [0.1086670458316803, 0.6991675496101379]\nBest test DSC: 0.1208433699913514\nTime: 93.98326015472412\n\nEpoch 20/1000\ntrain loss: 0.12805115252355986\ntrain DSC: [0.11113113909959793, 0.6283430457115173]\ntest loss: 0.11925204289265168\ntest DSC: [0.10652437061071396, 0.7573579549789429]\nBest test DSC: 0.11925204289265168\nTime: 93.87034845352173\n\nEpoch 21/1000\ntrain loss: 0.12747482578211192\ntrain DSC: [0.10938702523708344, 0.6669415831565857]\ntest loss: 0.11627556498234089\ntest DSC: [0.1070476770401001, 0.774085521697998]\nBest test DSC: 0.11627556498234089\nTime: 94.38826084136963\n\nEpoch 22/1000\ntrain loss: 0.12364257211926617\ntrain DSC: [0.11119138449430466, 0.6440184712409973]\ntest loss: 0.11549957440449642\ntest DSC: [0.10943878442049026, 0.7916754484176636]\nBest test DSC: 0.11549957440449642\nTime: 93.62434816360474\n\nEpoch 23/1000\ntrain loss: 0.12258524079866047\ntrain DSC: [0.10968290269374847, 0.6699241995811462]\ntest loss: 0.11248420522763179\ntest DSC: [0.10938341170549393, 0.6863492131233215]\nBest test DSC: 0.11248420522763179\nTime: 93.8582558631897\n\nEpoch 24/1000\ntrain loss: 0.12058169970029517\ntrain DSC: [0.10965084284543991, 0.6647650003433228]\ntest loss: 0.11468822146073365\ntest DSC: [0.10550560057163239, 0.7812750339508057]\nBest test DSC: 0.11468822146073365\nTime: 93.69763374328613\n\nEpoch 25/1000\ntrain loss: 0.11891826289364055\ntrain DSC: [0.10994432866573334, 0.6783168911933899]\ntest loss: 0.11007938782374065\ntest DSC: [0.10744165629148483, 0.7712875604629517]\nBest test DSC: 0.11007938782374065\nTime: 93.7657105922699\n\nEpoch 26/1000\ntrain loss: 0.1166790225837804\ntrain DSC: [0.11200942099094391, 0.6844391226768494]\ntest loss: 0.10683831114035386\ntest DSC: [0.10884971916675568, 0.7860018610954285]\nBest test DSC: 0.10683831114035386\nTime: 93.74941420555115\n\nEpoch 27/1000\ntrain loss: 0.11566852655591844\ntrain DSC: [0.11052170395851135, 0.6995783448219299]\ntest loss: 0.10671750016701527\ntest DSC: [0.10962630808353424, 0.8302191495895386]\nBest test DSC: 0.10671750016701527\nTime: 93.527752161026\n\nEpoch 28/1000\ntrain loss: 0.1141227000876318\ntrain DSC: [0.11098723858594894, 0.7206753492355347]\ntest loss: 0.10419329618796325\ntest DSC: [0.10779327899217606, 0.8331146240234375]\nBest test DSC: 0.10419329618796325\nTime: 94.05711197853088\n\nEpoch 29/1000\ntrain loss: 0.11295865023437934\ntrain DSC: [0.11068536341190338, 0.7223606109619141]\ntest loss: 0.10251358915597965\ntest DSC: [0.10901809483766556, 0.8258582949638367]\nBest test DSC: 0.10251358915597965\nTime: 93.82369256019592\n\nEpoch 30/1000\ntrain loss: 0.11167984484117242\ntrain DSC: [0.11048439890146255, 0.7157701849937439]\ntest loss: 0.10184383468750195\ntest DSC: [0.10817230492830276, 0.7716145515441895]\nBest test DSC: 0.10184383468750195\nTime: 93.71297025680542\n\nEpoch 31/1000\ntrain loss: 0.11039802300024636\ntrain DSC: [0.11091526597738266, 0.7343783974647522]\ntest loss: 0.09963405972872025\ntest DSC: [0.10898622125387192, 0.8267701864242554]\nBest test DSC: 0.09963405972872025\nTime: 93.94897747039795\n\nEpoch 32/1000\ntrain loss: 0.10884630830982063\ntrain DSC: [0.11078708618879318, 0.7363713979721069]\ntest loss: 0.09850272536277771\ntest DSC: [0.10965940356254578, 0.8318118453025818]\nBest test DSC: 0.09850272536277771\nTime: 94.20707845687866\n\nEpoch 33/1000\ntrain loss: 0.10800619121593764\ntrain DSC: [0.11123114079236984, 0.7513501048088074]\ntest loss: 0.09560362727214129\ntest DSC: [0.1098695769906044, 0.8326046466827393]\nBest test DSC: 0.09560362727214129\nTime: 93.45938992500305\n\nEpoch 34/1000\ntrain loss: 0.10298471718649321\ntrain DSC: [0.11153752356767654, 0.751070499420166]\ntest loss: 0.09257818643863384\ntest DSC: [0.1093548908829689, 0.7910212874412537]\nBest test DSC: 0.09257818643863384\nTime: 93.5868227481842\n\nEpoch 35/1000\ntrain loss: 0.102490524513812\ntrain DSC: [0.11023537069559097, 0.7702038288116455]\ntest loss: 0.09242952939791557\ntest DSC: [0.11112252622842789, 0.7489815950393677]\nBest test DSC: 0.09242952939791557\nTime: 94.25065302848816\n\nEpoch 36/1000\ntrain loss: 0.1014310325248332\ntrain DSC: [0.11083249002695084, 0.7739279270172119]\ntest loss: 0.09039193162551293\ntest DSC: [0.10955468565225601, 0.8480471968650818]\nBest test DSC: 0.09039193162551293\nTime: 93.62248992919922\n\nEpoch 37/1000\ntrain loss: 0.0999052181274076\ntrain DSC: [0.11149229854345322, 0.7729153037071228]\ntest loss: 0.08918528449841034\ntest DSC: [0.10956805944442749, 0.8464390635490417]\nBest test DSC: 0.08918528449841034\nTime: 93.56835913658142\n\nEpoch 38/1000\ntrain loss: 0.09975765909575209\ntrain DSC: [0.10882348567247391, 0.7875472903251648]\ntest loss: 0.08877352262154603\ntest DSC: [0.10900213569402695, 0.8171359896659851]\nBest test DSC: 0.08877352262154603\nTime: 93.85854816436768\n\nEpoch 39/1000\ntrain loss: 0.09775656744649139\ntrain DSC: [0.11253868788480759, 0.787223219871521]\ntest loss: 0.0870810540822836\ntest DSC: [0.11022737622261047, 0.8411474823951721]\nBest test DSC: 0.0870810540822836\nTime: 94.06325125694275\n\nEpoch 40/1000\ntrain loss: 0.09404234342937227\ntrain DSC: [0.11139757186174393, 0.7995155453681946]\ntest loss: 0.08372808954654595\ntest DSC: [0.1110149621963501, 0.8056641221046448]\nBest test DSC: 0.08372808954654595\nTime: 93.9735176563263\n\nEpoch 41/1000\ntrain loss: 0.09300386490701121\ntrain DSC: [0.11076514422893524, 0.8058052659034729]\ntest loss: 0.08182296921045353\ntest DSC: [0.1098228245973587, 0.8657259941101074]\nBest test DSC: 0.08182296921045353\nTime: 95.34276247024536\n\nEpoch 42/1000\ntrain loss: 0.09197091754478744\ntrain DSC: [0.11044202744960785, 0.8098560571670532]\ntest loss: 0.08121992838688386\ntest DSC: [0.11027652770280838, 0.870496392250061]\nBest test DSC: 0.08121992838688386\nTime: 93.89811396598816\n\nEpoch 43/1000\ntrain loss: 0.0906794005179707\ntrain DSC: [0.11215482652187347, 0.8097495436668396]\ntest loss: 0.08037749926249187\ntest DSC: [0.10971838235855103, 0.8705561757087708]\nBest test DSC: 0.08037749926249187\nTime: 93.74141573905945\n\nEpoch 44/1000\ntrain loss: 0.09055271801314776\ntrain DSC: [0.11094825714826584, 0.8226845860481262]\ntest loss: 0.0800714026658963\ntest DSC: [0.10939662903547287, 0.8930052518844604]\nBest test DSC: 0.0800714026658963\nTime: 93.92898488044739\n\nEpoch 45/1000\ntrain loss: 0.0905194058071209\ntrain DSC: [0.1097903698682785, 0.8231801986694336]\ntest loss: 0.0791840706116114\ntest DSC: [0.11017204821109772, 0.8882459998130798]\nBest test DSC: 0.0791840706116114\nTime: 93.5303201675415\n\nEpoch 46/1000\ntrain loss: 0.08905837279331835\ntrain DSC: [0.11150722205638885, 0.8220140337944031]\ntest loss: 0.07824541819401276\ntest DSC: [0.11055788397789001, 0.8975908160209656]\nBest test DSC: 0.07824541819401276\nTime: 93.54411625862122\n\nEpoch 47/1000\ntrain loss: 0.08812247084665902\ntrain DSC: [0.11205767095088959, 0.8291436433792114]\ntest loss: 0.07707208089339428\ntest DSC: [0.11039186269044876, 0.8506516814231873]\nBest test DSC: 0.07707208089339428\nTime: 94.0174994468689\n\nEpoch 48/1000\ntrain loss: 0.08780213171922707\ntrain DSC: [0.1112593412399292, 0.8325355648994446]\ntest loss: 0.07754053977819589\ntest DSC: [0.11117041110992432, 0.879934549331665]\nBest test DSC: 0.07754053977819589\nTime: 93.56522107124329\n\nEpoch 49/1000\ntrain loss: 0.0870931903018227\ntrain DSC: [0.11223242431879044, 0.8377198576927185]\ntest loss: 0.07574881804295075\ntest DSC: [0.11033885926008224, 0.8977499604225159]\nBest test DSC: 0.07574881804295075\nTime: 94.25436902046204\n\nEpoch 50/1000\ntrain loss: 0.08617154046704498\ntrain DSC: [0.11287650465965271, 0.8380973935127258]\ntest loss: 0.07513967538491273\ntest DSC: [0.11064746975898743, 0.8411773443222046]\nBest test DSC: 0.07513967538491273\nTime: 94.00865197181702\n\nEpoch 51/1000\ntrain loss: 0.08571028690549391\ntrain DSC: [0.1110001802444458, 0.8490041494369507]\ntest loss: 0.07479465313446827\ntest DSC: [0.11081455647945404, 0.8802714943885803]\nBest test DSC: 0.07479465313446827\nTime: 93.91457843780518\n\nEpoch 52/1000\ntrain loss: 0.08510762094696865\ntrain DSC: [0.11112355440855026, 0.8483691811561584]\ntest loss: 0.07434390294246185\ntest DSC: [0.11034838110208511, 0.902479887008667]\nBest test DSC: 0.07434390294246185\nTime: 93.23311424255371\n\nEpoch 53/1000\ntrain loss: 0.0850091604869577\ntrain DSC: [0.11055835336446762, 0.8481848835945129]\ntest loss: 0.07360375309601808\ntest DSC: [0.11048084497451782, 0.8990036249160767]\nBest test DSC: 0.07360375309601808\nTime: 93.46566414833069\n\nEpoch 54/1000\ntrain loss: 0.08342183013505573\ntrain DSC: [0.11333494633436203, 0.8516711592674255]\ntest loss: 0.07347733164444947\ntest DSC: [0.11108755320310593, 0.9032894968986511]\nBest test DSC: 0.07347733164444947\nTime: 94.0400755405426\n\nEpoch 55/1000\ntrain loss: 0.08333078498327279\ntrain DSC: [0.11160792410373688, 0.8504418730735779]\ntest loss: 0.07281121000265464\ntest DSC: [0.11061680316925049, 0.8259130716323853]\nBest test DSC: 0.07281121000265464\nTime: 93.62303495407104\n\nEpoch 56/1000\ntrain loss: 0.08268753920174853\ntrain DSC: [0.11271984130144119, 0.8551030158996582]\ntest loss: 0.07165569601914822\ntest DSC: [0.11060585081577301, 0.8765098452568054]\nBest test DSC: 0.07165569601914822\nTime: 93.10548996925354\n\nEpoch 57/1000\ntrain loss: 0.08266089592553393\ntrain DSC: [0.10997933894395828, 0.8633607029914856]\ntest loss: 0.07225892253411122\ntest DSC: [0.11158759891986847, 0.9002194404602051]\nBest test DSC: 0.07225892253411122\nTime: 93.9444649219513\n\nEpoch 58/1000\ntrain loss: 0.08234953389892095\ntrain DSC: [0.11105551570653915, 0.8594975471496582]\ntest loss: 0.0709030032157898\ntest DSC: [0.110938660800457, 0.8770411610603333]\nBest test DSC: 0.0709030032157898\nTime: 93.78671789169312\n\nEpoch 59/1000\ntrain loss: 0.08191561170771153\ntrain DSC: [0.10999564826488495, 0.8625856041908264]\ntest loss: 0.07048891675777924\ntest DSC: [0.110226571559906, 0.9049751162528992]\nBest test DSC: 0.07048891675777924\nTime: 93.8837103843689\n\nEpoch 60/1000\ntrain loss: 0.08135437965393066\ntrain DSC: [0.1104307547211647, 0.863043487071991]\ntest loss: 0.06985732913017273\ntest DSC: [0.11063766479492188, 0.9073034524917603]\nBest test DSC: 0.06985732913017273\nTime: 93.84194898605347\n\nEpoch 61/1000\ntrain loss: 0.08030126913438869\ntrain DSC: [0.11153966188430786, 0.8688323497772217]\ntest loss: 0.07064734208278167\ntest DSC: [0.11187878996133804, 0.898562490940094]\nBest test DSC: 0.07064734208278167\nTime: 93.09332132339478\n\nEpoch 62/1000\ntrain loss: 0.0797917759871181\ntrain DSC: [0.11304927617311478, 0.8628343939781189]\ntest loss: 0.06875038452637501\ntest DSC: [0.11131841689348221, 0.9123101830482483]\nBest test DSC: 0.06875038452637501\nTime: 93.63506984710693\n\nEpoch 63/1000\ntrain loss: 0.07936511386798907\ntrain DSC: [0.11251379549503326, 0.873604416847229]\ntest loss: 0.06845763402107434\ntest DSC: [0.11054950952529907, 0.9137927293777466]\nBest test DSC: 0.06845763402107434\nTime: 93.45343542098999\n\nEpoch 64/1000\ntrain loss: 0.07872487321684632\ntrain DSC: [0.11283048987388611, 0.871375560760498]\ntest loss: 0.06794243668898559\ntest DSC: [0.11113447695970535, 0.9147677421569824]\nBest test DSC: 0.06794243668898559\nTime: 94.0258138179779\n\nEpoch 65/1000\ntrain loss: 0.07872513841979112\ntrain DSC: [0.11132945120334625, 0.8759545683860779]\ntest loss: 0.06754569900341523\ntest DSC: [0.11088794469833374, 0.9098262190818787]\nBest test DSC: 0.06754569900341523\nTime: 93.49603843688965\n\nEpoch 66/1000\ntrain loss: 0.07794570451295829\ntrain DSC: [0.11207006126642227, 0.870940089225769]\ntest loss: 0.06773807528691414\ntest DSC: [0.11024875938892365, 0.8982659578323364]\nBest test DSC: 0.06773807528691414\nTime: 93.77911329269409\n\nEpoch 67/1000\ntrain loss: 0.07784307851821562\ntrain DSC: [0.11301878094673157, 0.8769508004188538]\ntest loss: 0.06703703754987472\ntest DSC: [0.11183437705039978, 0.9035777449607849]\nBest test DSC: 0.06703703754987472\nTime: 93.83930492401123\n\nEpoch 68/1000\ntrain loss: 0.07712636982338338\ntrain DSC: [0.11267191171646118, 0.8799769878387451]\ntest loss: 0.06671588848798703\ntest DSC: [0.11079548299312592, 0.9097686409950256]\nBest test DSC: 0.06671588848798703\nTime: 93.64358043670654\n\nEpoch 69/1000\ntrain loss: 0.07761107158811786\ntrain DSC: [0.11097370833158493, 0.8796056509017944]\ntest loss: 0.06609885738446163\ntest DSC: [0.11088281124830246, 0.9211698770523071]\nBest test DSC: 0.06609885738446163\nTime: 93.65726113319397\n\nEpoch 70/1000\ntrain loss: 0.07655065327505522\ntrain DSC: [0.11268065124750137, 0.8815250396728516]\ntest loss: 0.06520146284347926\ntest DSC: [0.11103463917970657, 0.9214561581611633]\nBest test DSC: 0.06520146284347926\nTime: 94.17115545272827\n\nEpoch 71/1000\ntrain loss: 0.07648943590966961\ntrain DSC: [0.11152376234531403, 0.8817332983016968]\ntest loss: 0.06479354852285141\ntest DSC: [0.11082962155342102, 0.9164620637893677]\nBest test DSC: 0.06479354852285141\nTime: 94.40514349937439\n\nEpoch 72/1000\ntrain loss: 0.07641624574419818\ntrain DSC: [0.11114618182182312, 0.880483090877533]\ntest loss: 0.0646948577501835\ntest DSC: [0.11115634441375732, 0.9217376708984375]\nBest test DSC: 0.0646948577501835\nTime: 93.91019535064697\n\nEpoch 73/1000\ntrain loss: 0.07559066595910471\ntrain DSC: [0.11153476685285568, 0.8866799473762512]\ntest loss: 0.06428384704467578\ntest DSC: [0.11094457656145096, 0.9239639043807983]\nBest test DSC: 0.06428384704467578\nTime: 94.12958645820618\n\nEpoch 74/1000\ntrain loss: 0.07500580537922774\ntrain DSC: [0.1115473285317421, 0.8842402696609497]\ntest loss: 0.06375214686760536\ntest DSC: [0.11140241473913193, 0.8876379728317261]\nBest test DSC: 0.06375214686760536\nTime: 94.19037318229675\n\nEpoch 75/1000\ntrain loss: 0.07465982889827294\ntrain DSC: [0.11197976022958755, 0.8866760730743408]\ntest loss: 0.063357840745877\ntest DSC: [0.11152683198451996, 0.9104389548301697]\nBest test DSC: 0.063357840745877\nTime: 93.15627098083496\n\nEpoch 76/1000\ntrain loss: 0.07407871944994866\ntrain DSC: [0.11244234442710876, 0.8844321370124817]\ntest loss: 0.06303045612115127\ntest DSC: [0.1115805059671402, 0.9029092192649841]\nBest test DSC: 0.06303045612115127\nTime: 93.95574808120728\n\nEpoch 77/1000\ntrain loss: 0.07409448695333698\ntrain DSC: [0.11073470860719681, 0.8916113376617432]\ntest loss: 0.06300113369257022\ntest DSC: [0.11110349744558334, 0.9094119071960449]\nBest test DSC: 0.06300113369257022\nTime: 93.79494524002075\n\nEpoch 78/1000\ntrain loss: 0.07413518768322619\ntrain DSC: [0.11056327819824219, 0.8888902068138123]\ntest loss: 0.06247638280575092\ntest DSC: [0.11139970272779465, 0.9221073985099792]\nBest test DSC: 0.06247638280575092\nTime: 93.90839719772339\n\nEpoch 79/1000\ntrain loss: 0.07359959713265865\ntrain DSC: [0.11277216672897339, 0.8880727291107178]\ntest loss: 0.06208616571548658\ntest DSC: [0.11162710189819336, 0.9221539497375488]\nBest test DSC: 0.06208616571548658\nTime: 93.76653790473938\n\nEpoch 80/1000\ntrain loss: 0.07360348048843915\ntrain DSC: [0.11174729466438293, 0.8911606073379517]\ntest loss: 0.06177154565468813\ntest DSC: [0.11127212643623352, 0.9145689606666565]\nBest test DSC: 0.06177154565468813\nTime: 94.14818525314331\n\nEpoch 81/1000\ntrain loss: 0.07333989931812769\ntrain DSC: [0.11103388667106628, 0.8930055499076843]\ntest loss: 0.06146288147339454\ntest DSC: [0.11141271144151688, 0.9277363419532776]\nBest test DSC: 0.06146288147339454\nTime: 94.08492684364319\n\nEpoch 82/1000\ntrain loss: 0.07249209944960437\ntrain DSC: [0.11211401224136353, 0.8931751251220703]\ntest loss: 0.060984231722660556\ntest DSC: [0.1114736795425415, 0.9237191677093506]\nBest test DSC: 0.060984231722660556\nTime: 93.67145085334778\n\nEpoch 83/1000\ntrain loss: 0.07235699118692664\ntrain DSC: [0.11251768469810486, 0.8925808072090149]\ntest loss: 0.06092674686358525\ntest DSC: [0.1115863248705864, 0.9316979646682739]\nBest test DSC: 0.06092674686358525\nTime: 94.77060914039612\n\nEpoch 84/1000\ntrain loss: 0.07231860673880275\ntrain DSC: [0.11222416907548904, 0.895663321018219]\ntest loss: 0.06078797425979223\ntest DSC: [0.11107881367206573, 0.9201166033744812]\nBest test DSC: 0.06078797425979223\nTime: 93.80025291442871\n\nEpoch 85/1000\ntrain loss: 0.07171873974649212\ntrain DSC: [0.11204615980386734, 0.8990881443023682]\ntest loss: 0.0602645170994294\ntest DSC: [0.11178247630596161, 0.9327915906906128]\nBest test DSC: 0.0602645170994294\nTime: 93.83364844322205\n\nEpoch 86/1000\ntrain loss: 0.07114874448957323\ntrain DSC: [0.11131469905376434, 0.8969804048538208]\ntest loss: 0.059962417070682235\ntest DSC: [0.11164573580026627, 0.9230282306671143]\nBest test DSC: 0.059962417070682235\nTime: 94.1736900806427\n\nEpoch 87/1000\ntrain loss: 0.07069274443614332\ntrain DSC: [0.11341242492198944, 0.8921418786048889]\ntest loss: 0.060135468458518006\ntest DSC: [0.11101514846086502, 0.928259551525116]\nBest test DSC: 0.060135468458518006\nTime: 94.06462144851685\n\nEpoch 88/1000\ntrain loss: 0.07031943073755578\ntrain DSC: [0.11213579028844833, 0.9024546146392822]\ntest loss: 0.05913037290939918\ntest DSC: [0.1115003228187561, 0.930748462677002]\nBest test DSC: 0.05913037290939918\nTime: 93.73929834365845\n\nEpoch 89/1000\ntrain loss: 0.07074064733106879\ntrain DSC: [0.11240178346633911, 0.9004993438720703]\ntest loss: 0.05916055960532946\ntest DSC: [0.11140934377908707, 0.9118110537528992]\nBest test DSC: 0.05916055960532946\nTime: 93.55122184753418\n\nEpoch 90/1000\ntrain loss: 0.07045646879491926\ntrain DSC: [0.11340762674808502, 0.9011605978012085]\ntest loss: 0.059013076317616\ntest DSC: [0.1118825376033783, 0.9242797493934631]\nBest test DSC: 0.059013076317616\nTime: 93.37482500076294\n\nEpoch 91/1000\ntrain loss: 0.07003015015698687\ntrain DSC: [0.1121053546667099, 0.9010426998138428]\ntest loss: 0.05847622568790729\ntest DSC: [0.11179618537425995, 0.9025325179100037]\nBest test DSC: 0.05847622568790729\nTime: 93.92720437049866\n\nEpoch 92/1000\ntrain loss: 0.06944569322881819\ntrain DSC: [0.11260013282299042, 0.9014612436294556]\ntest loss: 0.05792586543621161\ntest DSC: [0.11170613765716553, 0.9302522540092468]\nBest test DSC: 0.05792586543621161\nTime: 94.25292301177979\n\nEpoch 93/1000\ntrain loss: 0.06900752514977998\ntrain DSC: [0.11146882176399231, 0.9023891687393188]\ntest loss: 0.05816943981708624\ntest DSC: [0.11138349771499634, 0.9346328973770142]\nBest test DSC: 0.05816943981708624\nTime: 94.24267339706421\n\nEpoch 94/1000\ntrain loss: 0.06883602334728724\ntrain DSC: [0.11303704977035522, 0.9033997654914856]\ntest loss: 0.05842098822960487\ntest DSC: [0.11240386962890625, 0.9341251850128174]\nBest test DSC: 0.05842098822960487\nTime: 94.15236043930054\n\nEpoch 95/1000\ntrain loss: 0.06879132363615156\ntrain DSC: [0.1118626669049263, 0.903055727481842]\ntest loss: 0.057587594558031134\ntest DSC: [0.11198785901069641, 0.9335883855819702]\nBest test DSC: 0.057587594558031134\nTime: 93.47446393966675\n\nEpoch 96/1000\ntrain loss: 0.06842006950438777\ntrain DSC: [0.11155228316783905, 0.9036681652069092]\ntest loss: 0.05713872344065935\ntest DSC: [0.11182769387960434, 0.9206887483596802]\nBest test DSC: 0.05713872344065935\nTime: 93.60267305374146\n\nEpoch 97/1000\ntrain loss: 0.06769155720366707\ntrain DSC: [0.11401882767677307, 0.9056299924850464]\ntest loss: 0.056860701395915106\ntest DSC: [0.11196356266736984, 0.9363440275192261]\nBest test DSC: 0.056860701395915106\nTime: 93.60126614570618\n\nEpoch 98/1000\ntrain loss: 0.06807959607884853\ntrain DSC: [0.11160831153392792, 0.9055996537208557]\ntest loss: 0.056711776134295344\ntest DSC: [0.11216509342193604, 0.9339368939399719]\nBest test DSC: 0.056711776134295344\nTime: 93.66001582145691\n\nEpoch 99/1000\ntrain loss: 0.06778263328950616\ntrain DSC: [0.11172354966402054, 0.9060549139976501]\ntest loss: 0.056285763398194924\ntest DSC: [0.11182794719934464, 0.9332102537155151]\nBest test DSC: 0.056285763398194924\nTime: 93.61386942863464\n\nEpoch 100/1000\ntrain loss: 0.06708164381075508\ntrain DSC: [0.11442805081605911, 0.9068019986152649]\ntest loss: 0.05611702417716002\ntest DSC: [0.11176523566246033, 0.9325225949287415]\nBest test DSC: 0.05611702417716002\nTime: 94.18001222610474\n\nEpoch 101/1000\ntrain loss: 0.06741770611533636\ntrain DSC: [0.11247818171977997, 0.9041807651519775]\ntest loss: 0.05565530214554224\ntest DSC: [0.11182636022567749, 0.9340956211090088]\nBest test DSC: 0.05565530214554224\nTime: 94.03647351264954\n\nEpoch 102/1000\ntrain loss: 0.06758721625503106\ntrain DSC: [0.11245433241128922, 0.9069019556045532]\ntest loss: 0.05571339451349699\ntest DSC: [0.11222626268863678, 0.9314699172973633]\nBest test DSC: 0.05571339451349699\nTime: 93.6254518032074\n\nEpoch 103/1000\ntrain loss: 0.06710373091546795\ntrain DSC: [0.11293940991163254, 0.9079435467720032]\ntest loss: 0.055791404766914174\ntest DSC: [0.11151502281427383, 0.9352747797966003]\nBest test DSC: 0.055791404766914174\nTime: 94.49536561965942\n\nEpoch 104/1000\ntrain loss: 0.06656127451341363\ntrain DSC: [0.11203769594430923, 0.9096351265907288]\ntest loss: 0.055137246082990594\ntest DSC: [0.11192714422941208, 0.9337936043739319]\nBest test DSC: 0.055137246082990594\nTime: 94.47364020347595\n\nEpoch 105/1000\ntrain loss: 0.06662947260126283\ntrain DSC: [0.11113524436950684, 0.911719799041748]\ntest loss: 0.05505530345134246\ntest DSC: [0.11205753684043884, 0.9383854269981384]\nBest test DSC: 0.05505530345134246\nTime: 93.62585663795471\n\nEpoch 106/1000\ntrain loss: 0.0660776016832907\ntrain DSC: [0.11177222430706024, 0.908637523651123]\ntest loss: 0.05457889498808445\ntest DSC: [0.11194128543138504, 0.9341740012168884]\nBest test DSC: 0.05457889498808445\nTime: 93.42832899093628\n\nEpoch 107/1000\ntrain loss: 0.06571591975568217\ntrain DSC: [0.11287202686071396, 0.9104287624359131]\ntest loss: 0.054448019999724165\ntest DSC: [0.11204929649829865, 0.9396747946739197]\nBest test DSC: 0.054448019999724165\nTime: 94.1473240852356\n\nEpoch 108/1000\ntrain loss: 0.0661426320483413\ntrain DSC: [0.11144468933343887, 0.9109963774681091]\ntest loss: 0.05433920407906557\ntest DSC: [0.11218074709177017, 0.9386981129646301]\nBest test DSC: 0.05433920407906557\nTime: 93.37670087814331\n\nEpoch 109/1000\ntrain loss: 0.06544552724572676\ntrain DSC: [0.11186821758747101, 0.9113020300865173]\ntest loss: 0.0542770280287816\ntest DSC: [0.11222053319215775, 0.9389115571975708]\nBest test DSC: 0.0542770280287816\nTime: 93.83325958251953\n\nEpoch 110/1000\ntrain loss: 0.0653941325749023\ntrain DSC: [0.11266259104013443, 0.9100902080535889]\ntest loss: 0.05385809601881565\ntest DSC: [0.11227940022945404, 0.9392095804214478]\nBest test DSC: 0.05385809601881565\nTime: 93.62781190872192\n\nEpoch 111/1000\ntrain loss: 0.06495399735396422\ntrain DSC: [0.11344180256128311, 0.9102960824966431]\ntest loss: 0.05373240281374027\ntest DSC: [0.11216571927070618, 0.9386854767799377]\nBest test DSC: 0.05373240281374027\nTime: 93.49579811096191\n\nEpoch 112/1000\ntrain loss: 0.06458518003361134\ntrain DSC: [0.11312467604875565, 0.9104142785072327]\ntest loss: 0.053425690302482017\ntest DSC: [0.11177808791399002, 0.9361594915390015]\nBest test DSC: 0.053425690302482017\nTime: 93.88915848731995\n\nEpoch 113/1000\ntrain loss: 0.06529741140106056\ntrain DSC: [0.11054089665412903, 0.9136433601379395]\ntest loss: 0.05329046111840468\ntest DSC: [0.11232686787843704, 0.9393969774246216]\nBest test DSC: 0.05329046111840468\nTime: 94.46788024902344\n\nEpoch 114/1000\ntrain loss: 0.06409822385522383\ntrain DSC: [0.11316759139299393, 0.9133408069610596]\ntest loss: 0.053011188140282266\ntest DSC: [0.11222352832555771, 0.9357699155807495]\nBest test DSC: 0.053011188140282266\nTime: 93.99360847473145\n\nEpoch 115/1000\ntrain loss: 0.06345299056059198\ntrain DSC: [0.11394773423671722, 0.9143030643463135]\ntest loss: 0.052923502830358654\ntest DSC: [0.11237276345491409, 0.9426202178001404]\nBest test DSC: 0.052923502830358654\nTime: 94.4215145111084\n\nEpoch 116/1000\ntrain loss: 0.06389501238171058\ntrain DSC: [0.11177051067352295, 0.9145336747169495]\ntest loss: 0.05277648644569593\ntest DSC: [0.11197466403245926, 0.9382908344268799]\nBest test DSC: 0.05277648644569593\nTime: 93.87491059303284\n\nEpoch 117/1000\ntrain loss: 0.06376281512688987\ntrain DSC: [0.11356209218502045, 0.9131610989570618]\ntest loss: 0.05266133638528677\ntest DSC: [0.11225643008947372, 0.9417321681976318]\nBest test DSC: 0.05266133638528677\nTime: 93.5278537273407\n\nEpoch 118/1000\ntrain loss: 0.06406826309010952\ntrain DSC: [0.11064872145652771, 0.9128888249397278]\n"
        }
      ],
      "execution_count": null,
      "metadata": {
        "jupyter": {
          "source_hidden": false,
          "outputs_hidden": false
        },
        "nteract": {
          "transient": {
            "deleting": false
          }
        },
        "gather": {
          "logged": 1678562428615
        }
      },
      "id": "51e08d02-116b-443b-867d-ac75802cc1be"
    },
    {
      "cell_type": "code",
      "source": [],
      "outputs": [],
      "execution_count": null,
      "metadata": {
        "jupyter": {
          "source_hidden": false,
          "outputs_hidden": false
        },
        "nteract": {
          "transient": {
            "deleting": false
          }
        },
        "gather": {
          "logged": 1678551350286
        }
      },
      "id": "02c554fd-18f0-44e3-b13f-07ec8d6733f8"
    }
  ],
  "metadata": {
    "colab": {
      "provenance": []
    },
    "toc": {
      "toc_position": {},
      "skip_h1_title": false,
      "number_sections": true,
      "title_cell": "Table of Contents",
      "toc_window_display": false,
      "base_numbering": 1,
      "toc_section_display": true,
      "title_sidebar": "Contents",
      "toc_cell": false,
      "nav_menu": {},
      "sideBar": true
    },
    "accelerator": "GPU",
    "gpuClass": "premium",
    "microsoft": {
      "host": {
        "AzureML": {
          "notebookHasBeenCompleted": true
        }
      },
      "ms_spell_check": {
        "ms_spell_check_language": "en"
      }
    },
    "kernel_info": {
      "name": "python3"
    },
    "language_info": {
      "name": "python",
      "version": "3.8.5",
      "mimetype": "text/x-python",
      "codemirror_mode": {
        "name": "ipython",
        "version": 3
      },
      "pygments_lexer": "ipython3",
      "nbconvert_exporter": "python",
      "file_extension": ".py"
    },
    "kernelspec": {
      "name": "python3",
      "language": "python",
      "display_name": "Python 3 (ipykernel)"
    },
    "nteract": {
      "version": "nteract-front-end@1.0.0"
    }
  },
  "nbformat": 4,
  "nbformat_minor": 5
}