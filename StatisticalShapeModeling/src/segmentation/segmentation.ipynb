{
  "cells": [
    {
      "cell_type": "code",
      "source": [
        "import numpy as np\n",
        "import matplotlib.pyplot as plt\n",
        "import nibabel as nib\n",
        "import monai\n",
        "import torch\n",
        "import torchio as tio\n",
        "import os\n",
        "import gc\n",
        "from glob import glob\n",
        "from tqdm import tqdm\n",
        "from collections import defaultdict\n",
        "import json"
      ],
      "outputs": [
        {
          "output_type": "stream",
          "name": "stderr",
          "text": "<frozen importlib._bootstrap>:219: RuntimeWarning: scipy._lib.messagestream.MessageStream size changed, may indicate binary incompatibility. Expected 56 from C header, got 64 from PyObject\n"
        }
      ],
      "execution_count": 1,
      "metadata": {
        "id": "8246ca62",
        "gather": {
          "logged": 1672964094101
        }
      },
      "id": "8246ca62"
    },
    {
      "cell_type": "code",
      "source": [
        "city = 'Beijing_Zang'\n",
        "IMAGE_DIR = f'/home/azureuser/cloudfiles/code/Users/rduan6/dataset/{city}/MRI'\n",
        "MASK_DIR = f'/home/azureuser/cloudfiles/code/Users/rduan6/dataset/{city}/Ventricles'\n",
        "TRAIN_SIZE = 15 #158\n",
        "TEST_SIZE = 39\n",
        "BATCH_SIZE = 1\n",
        "\n",
        "# right inf\n",
        "# left inf\n",
        "# right\n",
        "# left\n",
        "output_dir = '../results/models_train15/'\n",
        "if not os.path.exists(output_dir):\n",
        "    os.mkdir(output_dir)\n",
        "\n",
        "DEVICE = torch.device('cuda' if torch.cuda.is_available() else 'cpu')\n",
        "DEVICE"
      ],
      "outputs": [
        {
          "output_type": "execute_result",
          "execution_count": 2,
          "data": {
            "text/plain": "device(type='cuda')"
          },
          "metadata": {}
        }
      ],
      "execution_count": 2,
      "metadata": {
        "colab": {
          "base_uri": "https://localhost:8080/"
        },
        "id": "75fb14be",
        "outputId": "281fa274-0e4e-46fd-e7fc-4867bb740b5b",
        "gather": {
          "logged": 1672964094373
        }
      },
      "id": "75fb14be"
    },
    {
      "cell_type": "code",
      "source": [
        "def show_cuda_memory():\n",
        "    t = torch.cuda.get_device_properties(0).total_memory\n",
        "    r = torch.cuda.memory_reserved(0)\n",
        "    a = torch.cuda.memory_allocated(0)\n",
        "    f = r-a  # free inside reserved\n",
        "    print('Total:     {:0.2f} GiB'.format(t / 2**30))\n",
        "    print('Reserved:  {:0.2f} GiB'.format(r / 2**30))\n",
        "    print('Allocated: {:0.2f} GiB'.format(a / 2**30))\n",
        "    print('Free:      {:0.2f} GiB'.format(f / 2**30))\n",
        "\n",
        "show_cuda_memory()"
      ],
      "outputs": [
        {
          "output_type": "stream",
          "name": "stdout",
          "text": "Total:     11.17 GiB\nReserved:  0.00 GiB\nAllocated: 0.00 GiB\nFree:      0.00 GiB\n"
        }
      ],
      "execution_count": 3,
      "metadata": {
        "colab": {
          "base_uri": "https://localhost:8080/"
        },
        "id": "NeWQt2Xy6dXc",
        "outputId": "38518ac2-98fd-47f8-aed1-c1f6b16777f4",
        "gather": {
          "logged": 1672964094611
        }
      },
      "id": "NeWQt2Xy6dXc"
    },
    {
      "cell_type": "code",
      "source": [
        "def get_subjects(image_dir, mask_dir):\n",
        "    subjects = []\n",
        "    for image_path in tqdm(sorted(glob(f'{image_dir}/*.nii.gz')), desc='Creating Subjects'):\n",
        "        filename = image_path.split('/')[-1]\n",
        "        mask_path = f'{mask_dir}/{filename}'\n",
        "        subject = tio.Subject(\n",
        "            t1=tio.ScalarImage(image_path),\n",
        "            label=tio.LabelMap(mask_path),\n",
        "        )\n",
        "        subjects.append(subject)\n",
        "    return subjects"
      ],
      "outputs": [],
      "execution_count": 4,
      "metadata": {
        "id": "iwKH3_Dd1ehr",
        "gather": {
          "logged": 1672964094891
        }
      },
      "id": "iwKH3_Dd1ehr"
    },
    {
      "cell_type": "code",
      "source": [
        "all_subjects = get_subjects(IMAGE_DIR, MASK_DIR)\n",
        "subjects = {\n",
        "    'train': all_subjects[:TRAIN_SIZE],\n",
        "    'validation': all_subjects[-TEST_SIZE:],\n",
        "}"
      ],
      "outputs": [
        {
          "output_type": "stream",
          "name": "stderr",
          "text": "Creating Subjects: 100%|██████████| 197/197 [00:02<00:00, 75.73it/s]\n"
        }
      ],
      "execution_count": 5,
      "metadata": {
        "colab": {
          "base_uri": "https://localhost:8080/"
        },
        "id": "W3uM9qFwN1eG",
        "outputId": "9423e6da-a15e-4328-c1de-493180b6b85f",
        "gather": {
          "logged": 1672964097241
        }
      },
      "id": "W3uM9qFwN1eG"
    },
    {
      "cell_type": "code",
      "source": [
        "spatial = tio.OneOf(\n",
        "    {tio.RandomAffine(degrees=(-3, 3), translation=(-0.1, 0.1)): 1.0},\n",
        "    p=0.75,\n",
        ")\n",
        "\n",
        "resample = tio.Compose([\n",
        "    tio.Resample(1),\n",
        "    tio.CropOrPad(256),\n",
        "])\n",
        "\n",
        "signal = tio.Compose([ \n",
        "    tio.RescaleIntensity(percentiles=(0.1, 99.9), out_min_max=(0, 1)),\n",
        "])"
      ],
      "outputs": [],
      "execution_count": 6,
      "metadata": {
        "id": "SugHDZKp6HdB",
        "gather": {
          "logged": 1672964097514
        }
      },
      "id": "SugHDZKp6HdB"
    },
    {
      "cell_type": "code",
      "source": [
        "def get_transform(std):\n",
        "    noise = tio.Compose([ \n",
        "        tio.RandomNoise(mean=0, std=(std, std)),\n",
        "    ])\n",
        "    transform = {\n",
        "        'train': tio.Compose([\n",
        "            spatial, \n",
        "            resample, \n",
        "            noise,\n",
        "            signal,\n",
        "        ]),\n",
        "        'validation': tio.Compose([\n",
        "            resample, \n",
        "            noise,\n",
        "            signal,\n",
        "        ]),\n",
        "    }\n",
        "    return transform\n",
        "\n",
        "def get_dataloader(transform):\n",
        "    dataloader = dict()\n",
        "    for mode in ['train', 'validation']:\n",
        "        dataloader[mode] = torch.utils.data.DataLoader(\n",
        "            tio.SubjectsDataset(\n",
        "                subjects[mode], \n",
        "                transform=transform[mode]\n",
        "            ),\n",
        "            batch_size=BATCH_SIZE, \n",
        "            num_workers=os.cpu_count()\n",
        "        )\n",
        "    return dataloader"
      ],
      "outputs": [],
      "execution_count": 7,
      "metadata": {
        "id": "RWe0BZebDKLq",
        "gather": {
          "logged": 1672964097776
        }
      },
      "id": "RWe0BZebDKLq"
    },
    {
      "cell_type": "code",
      "source": [
        "def validate(model, loss_fn, metric, losses, dscs, std, dataloader):\n",
        "    model.eval()\n",
        "    with torch.no_grad():\n",
        "        mean_loss = 0\n",
        "        for subject in dataloader['validation']:#tqdm(dataloader['validation'], desc=f'Validation'):\n",
        "            image = subject['t1'][tio.DATA].to(DEVICE)  # (B, 1, 256, 256, 256)\n",
        "            label = subject['label'][tio.DATA].to(DEVICE)  # (B, 1, 256, 256, 256)\n",
        "                \n",
        "            pred = model(image)  # (B, 5, 256, 256, 256)\n",
        "            one_hot_label = monai.networks.utils.one_hot(\n",
        "                label, num_classes=5, dim=1\n",
        "            ).to(DEVICE)  # (B, 5, 256, 256, 256)\n",
        "\n",
        "            loss = loss_fn(pred, one_hot_label)\n",
        "            mean_loss += loss * image.shape[0]\n",
        "\n",
        "            one_hot_pred = monai.networks.utils.one_hot(\n",
        "                torch.argmax(pred, dim=1, keepdim=True), \n",
        "                num_classes=5, \n",
        "                dim=1\n",
        "            ).to(DEVICE)\n",
        "            metric(one_hot_pred, one_hot_label)\n",
        "                \n",
        "            del image, label, pred, one_hot_label, loss, one_hot_pred\n",
        "            gc.collect()\n",
        "            torch.cuda.empty_cache()\n",
        "\n",
        "        mean_loss = mean_loss.item() / TEST_SIZE\n",
        "        losses['validation'].append(mean_loss)\n",
        "        print(f'Validation Loss: {mean_loss}')\n",
        "\n",
        "        if mean_loss == min(losses['validation']):\n",
        "            torch.save(model.state_dict(), f'{output_dir}/UNet_std{std}.pth')\n",
        "\n",
        "        mean_dsc = metric.aggregate().tolist()\n",
        "        metric.reset()\n",
        "        dscs['validation'].append(mean_dsc)\n",
        "        print(f'Validation DSC: {mean_dsc}\\n')"
      ],
      "outputs": [],
      "execution_count": 8,
      "metadata": {
        "jupyter": {
          "source_hidden": false,
          "outputs_hidden": false
        },
        "nteract": {
          "transient": {
            "deleting": false
          }
        },
        "gather": {
          "logged": 1672964098398
        }
      },
      "id": "cc2f8c64-ea28-4b87-8da2-8e4d63565feb"
    },
    {
      "cell_type": "code",
      "source": [
        "def train(model, n_epochs, dataloader, std):\n",
        "    losses, dscs = defaultdict(list), defaultdict(list)\n",
        "\n",
        "    optimizer = torch.optim.Adam(model.parameters(), lr=1e-3)\n",
        "    # scheduler = torch.optim.lr_scheduler.StepLR(optimizer, step_size=1, gamma=0.01)\n",
        "    loss_fn = monai.losses.DiceLoss(softmax=True, squared_pred=True).to(DEVICE)\n",
        "    metric = monai.metrics.DiceMetric(include_background=False, reduction='mean_batch')\n",
        "\n",
        "    for epoch in range(n_epochs):\n",
        "        print(f'Epoch {epoch+1}/{n_epochs}')\n",
        "        model.train()\n",
        "        mean_loss = 0\n",
        "        for i, subject in enumerate(dataloader['train']):#enumerate(tqdm(dataloader['train'], desc=f'Epoch {epoch+1}/{n_epochs} Train')):\n",
        "            image = subject['t1'][tio.DATA].to(DEVICE)  # (B, 1, 256, 256, 256)\n",
        "            label = subject['label'][tio.DATA].to(DEVICE)  # (B, 1, 256, 256, 256)\n",
        "\n",
        "            pred = model(image)  # (B, 5, 256, 256, 256)\n",
        "            one_hot_label = monai.networks.utils.one_hot(\n",
        "                label, num_classes=5, dim=1\n",
        "            ).to(DEVICE)  # (B, 5, 256, 256, 256)\n",
        "                \n",
        "            loss = loss_fn(pred, one_hot_label)\n",
        "            optimizer.zero_grad()\n",
        "            loss.backward()\n",
        "            optimizer.step()\n",
        "            mean_loss += loss * image.shape[0]\n",
        "\n",
        "            one_hot_pred = monai.networks.utils.one_hot(\n",
        "                torch.argmax(pred, dim=1, keepdim=True), \n",
        "                num_classes=5, \n",
        "                dim=1\n",
        "            ).to(DEVICE)\n",
        "            metric(one_hot_pred, one_hot_label)\n",
        "            \n",
        "            np.save(\n",
        "                f'{output_dir}/pred_std{std}_epoch{epoch+1}_image{i+1}', \n",
        "                one_hot_pred.detach().cpu().numpy()\n",
        "            )\n",
        "\n",
        "            del image, label, pred, one_hot_label, loss, one_hot_pred\n",
        "            gc.collect()\n",
        "            torch.cuda.empty_cache()\n",
        "\n",
        "        # scheduler.step()\n",
        "\n",
        "        mean_loss = mean_loss.item() / TRAIN_SIZE\n",
        "        losses['train'].append(mean_loss)\n",
        "        print(f'Train Loss: {mean_loss}')\n",
        "\n",
        "        mean_dsc = metric.aggregate().tolist()\n",
        "        metric.reset()\n",
        "        dscs['train'].append(mean_dsc)\n",
        "        print(f'Train DSC: {mean_dsc}')\n",
        "\n",
        "        validate(model, loss_fn, metric, losses, dscs, std, dataloader)\n",
        "\n",
        "    return losses, dscs"
      ],
      "outputs": [],
      "execution_count": 9,
      "metadata": {
        "jupyter": {
          "source_hidden": false,
          "outputs_hidden": false
        },
        "nteract": {
          "transient": {
            "deleting": false
          }
        },
        "gather": {
          "logged": 1672964098611
        }
      },
      "id": "41ac14e7-fc7d-41ac-9d40-18fa579578a2"
    },
    {
      "cell_type": "code",
      "source": [
        "for std in [1000, 2000]:\n",
        "    transform = get_transform(std=std)\n",
        "    dataloader = get_dataloader(transform)\n",
        "    model = monai.networks.nets.UNet(\n",
        "        spatial_dims=3,\n",
        "        in_channels=1,\n",
        "        out_channels=5,\n",
        "        channels=(32, 64, 128, 256, 512),\n",
        "        strides=(2, 2, 2, 2),\n",
        "        norm=monai.networks.layers.Norm.BATCH,\n",
        "    ).to(DEVICE)\n",
        "    losses, dscs = train(model, n_epochs=50, dataloader=dataloader, std=std)\n",
        "\n",
        "    losses = json.dumps(losses)\n",
        "    f = open(f'{output_dir}/losses_std{std}.json', 'w')\n",
        "    f.write(losses)\n",
        "    f.close()\n",
        "\n",
        "    dscs = json.dumps(dscs)\n",
        "    f = open(f'{output_dir}/dscs_std{std}.json', 'w')\n",
        "    f.write(dscs)\n",
        "    f.close()\n",
        "\n",
        "    del model, transform, dataloader, losses, dscs\n",
        "    gc.collect()\n",
        "    torch.cuda.empty_cache()"
      ],
      "outputs": [
        {
          "output_type": "stream",
          "name": "stdout",
          "text": "Epoch 1/50\nTrain Loss: 0.8730594635009765\nTrain DSC: [0.0009869291679933667, 0.0011891480535268784, 0.0001376793225063011, 0.00028293437208049]\nValidation Loss: 0.8782900296724759\nValidation DSC: [0.001413295860402286, 0.000813145365100354, 0.00016728368063922971, 0.00023681667516939342]\n\nEpoch 2/50\nTrain Loss: 0.8134078979492188\nTrain DSC: [0.005527791567146778, 0.0038023900706321, 0.0009054889669641852, 0.0007054306333884597]\nValidation Loss: 0.818069360195062\nValidation DSC: [0.009693700820207596, 0.011499617248773575, 0.0010941297514364123, 0.0013355028349906206]\n\nEpoch 3/50\nTrain Loss: 0.7822691599527994\nTrain DSC: [0.06192946806550026, 0.06087280064821243, 0.008442134596407413, 0.009225575253367424]\nValidation Loss: 0.9285631424341446\nValidation DSC: [0.0013179085217416286, 0.001524399733170867, 0.00016528925334569067, 0.00030544211040250957]\n\nEpoch 4/50\nTrain Loss: 0.7304951985677083\nTrain DSC: [0.1344667375087738, 0.17764711380004883, 0.01129075512290001, 0.003965189680457115]\nValidation Loss: 0.7719393510084885\nValidation DSC: [0.03428411856293678, 0.03871813043951988, 0.0012129310052841902, 0.0012549629900604486]\n\nEpoch 5/50\nTrain Loss: 0.6837689081827799\nTrain DSC: [0.18228751420974731, 0.23853442072868347, 0.0005392635939642787, 0.0]\nValidation Loss: 0.8744026575333033\nValidation DSC: [0.0020269041415303946, 0.002095544710755348, 0.0, 0.0]\n\nEpoch 6/50\nTrain Loss: 0.6516876856486002\nTrain DSC: [0.20979143679141998, 0.2917433977127075, 0.0004807824152521789, 0.00011810205614892766]\nValidation Loss: 0.8045616149902344\nValidation DSC: [0.0054683685302734375, 0.012465451844036579, 0.0, 0.0]\n\nEpoch 7/50\nTrain Loss: 0.6293179194132487\nTrain DSC: [0.21609748899936676, 0.33454692363739014, 0.007795334793627262, 0.0003560438344720751]\nValidation Loss: 0.78978758591872\nValidation DSC: [0.010161608457565308, 0.029317712411284447, 5.517743556993082e-05, 0.0003248527063988149]\n\nEpoch 8/50\nTrain Loss: 0.5836860020955403\nTrain DSC: [0.3512651324272156, 0.43707937002182007, 0.043694593012332916, 0.005821180064231157]\nValidation Loss: 0.7269337972005209\nValidation DSC: [0.09521471709012985, 0.11042822152376175, 0.01135395746678114, 0.00452260859310627]\n\nEpoch 9/50\nTrain Loss: 0.5008648872375489\nTrain DSC: [0.4999302327632904, 0.5556215643882751, 0.2094080001115799, 0.03079383820295334]\nValidation Loss: 0.6624481494610126\nValidation DSC: [0.20663432776927948, 0.1517876386642456, 0.11490564048290253, 0.026080230250954628]\n\nEpoch 10/50\nTrain Loss: 0.43635164896647133\nTrain DSC: [0.5296422839164734, 0.5808120369911194, 0.37867116928100586, 0.16363856196403503]\nValidation Loss: 0.5021073757073818\nValidation DSC: [0.3649244010448456, 0.4086162745952606, 0.2936248481273651, 0.17476412653923035]\n\nEpoch 11/50\nTrain Loss: 0.3628891944885254\nTrain DSC: [0.5485334992408752, 0.6055797338485718, 0.4900411069393158, 0.4160230755805969]\nValidation Loss: 0.7231481014153897\nValidation DSC: [0.07184690982103348, 0.06584513187408447, 0.12295711785554886, 0.04580231383442879]\n\nEpoch 12/50\nTrain Loss: 0.3289776802062988\nTrain DSC: [0.5936644673347473, 0.5928849577903748, 0.481802374124527, 0.5343805551528931]\nValidation Loss: 0.7671611981514173\nValidation DSC: [0.03353186324238777, 0.02322431653738022, 0.061829712241888046, 0.022990338504314423]\n\nEpoch 13/50\nTrain Loss: 0.2999929745992025\nTrain DSC: [0.6138715147972107, 0.630066990852356, 0.5348462462425232, 0.5668131709098816]\nValidation Loss: 0.5256464053422977\nValidation DSC: [0.17181237041950226, 0.23580387234687805, 0.3983275294303894, 0.38066601753234863]\n\nEpoch 14/50\nTrain Loss: 0.300993824005127\nTrain DSC: [0.5804439187049866, 0.6177817583084106, 0.554651141166687, 0.5787807106971741]\nValidation Loss: 0.7779331207275391\nValidation DSC: [0.019786285236477852, 0.018057558685541153, 0.03845222294330597, 0.039488453418016434]\n\nEpoch 15/50\nTrain Loss: 0.2890653928120931\nTrain DSC: [0.6152717471122742, 0.6444624066352844, 0.5508041381835938, 0.5881726741790771]\nValidation Loss: 0.3588431431696965\nValidation DSC: [0.5448338985443115, 0.4848310053348541, 0.4786128103733063, 0.5085099339485168]\n\nEpoch 16/50\nTrain Loss: 0.2839619000752767\nTrain DSC: [0.6098886132240295, 0.6481847167015076, 0.5580009818077087, 0.5889462828636169]\nValidation Loss: 0.3825932282667894\nValidation DSC: [0.492006778717041, 0.45747464895248413, 0.4597853720188141, 0.4706646800041199]\n\nEpoch 17/50\nTrain Loss: 0.2713154157002767\nTrain DSC: [0.6397315859794617, 0.6625892519950867, 0.5912299752235413, 0.5772928595542908]\nValidation Loss: 0.3590834446442433\nValidation DSC: [0.4832547605037689, 0.40636855363845825, 0.5445738434791565, 0.5830733180046082]\n\nEpoch 18/50\nTrain Loss: 0.26074585914611814\nTrain DSC: [0.6417260766029358, 0.6636622548103333, 0.6018282175064087, 0.6140996813774109]\nValidation Loss: 0.3167089560093024\nValidation DSC: [0.5407323837280273, 0.5497604608535767, 0.5592725276947021, 0.5754502415657043]\n\nEpoch 19/50\nTrain Loss: 0.2593189239501953\nTrain DSC: [0.6265640258789062, 0.6700372099876404, 0.6110069751739502, 0.6228147149085999]\nValidation Loss: 0.296723390236879\nValidation DSC: [0.603161633014679, 0.6349935531616211, 0.5451043844223022, 0.5406666994094849]\n\nEpoch 20/50\nTrain Loss: 0.24909744262695313\nTrain DSC: [0.6499055624008179, 0.6781501770019531, 0.6299693584442139, 0.6252613663673401]\nValidation Loss: 0.2764082688551683\nValidation DSC: [0.6148849725723267, 0.6410917639732361, 0.5917754769325256, 0.5914007425308228]\n\nEpoch 21/50\nTrain Loss: 0.24508132934570312\nTrain DSC: [0.6409121155738831, 0.6802151799201965, 0.6424166560173035, 0.6314979791641235]\nValidation Loss: 0.37164512047400844\nValidation DSC: [0.49168357253074646, 0.3787488639354706, 0.516379177570343, 0.5640142560005188]\n\nEpoch 22/50\nTrain Loss: 0.2539549191792806\nTrain DSC: [0.6517950892448425, 0.669926643371582, 0.6011234521865845, 0.6334520578384399]\nValidation Loss: 0.29263838743552184\nValidation DSC: [0.5819280743598938, 0.6377161741256714, 0.5630574226379395, 0.5781917572021484]\n\nEpoch 23/50\nTrain Loss: 0.2528265953063965\nTrain DSC: [0.6463876366615295, 0.6654899716377258, 0.6306738257408142, 0.6168640851974487]\nValidation Loss: 0.28823627569736576\nValidation DSC: [0.5837244391441345, 0.6338492631912231, 0.5736346244812012, 0.5834248661994934]\n\nEpoch 24/50\nTrain Loss: 0.2572716554005941\nTrain DSC: [0.6246010065078735, 0.6680469512939453, 0.6219297051429749, 0.6211147308349609]\nValidation Loss: 0.3288634618123372\nValidation DSC: [0.559637725353241, 0.5701262354850769, 0.48509758710861206, 0.533769965171814]\n\nEpoch 25/50\nTrain Loss: 0.23335711161295572\nTrain DSC: [0.6579969525337219, 0.6822397112846375, 0.6747379302978516, 0.6417710781097412]\nValidation Loss: 0.3157833294990735\nValidation DSC: [0.5449251532554626, 0.5198173522949219, 0.5617314577102661, 0.5948866009712219]\n\nEpoch 26/50\nTrain Loss: 0.24294137954711914\nTrain DSC: [0.655505359172821, 0.6835963129997253, 0.6401757001876831, 0.6272351145744324]\nValidation Loss: 0.2716774818224785\nValidation DSC: [0.6296920776367188, 0.6453043818473816, 0.5764304399490356, 0.6051867604255676]\n\nEpoch 27/50\nTrain Loss: 0.22761613527933758\nTrain DSC: [0.670770525932312, 0.6931101083755493, 0.6969724893569946, 0.62276291847229]\nValidation Loss: 0.3050366915189303\nValidation DSC: [0.5581483840942383, 0.5431013107299805, 0.594563364982605, 0.5812622904777527]\n\nEpoch 28/50\nTrain Loss: 0.22840086619059244\nTrain DSC: [0.6699186563491821, 0.6903625130653381, 0.6855087876319885, 0.6368250250816345]\nValidation Loss: 0.27141668857672274\nValidation DSC: [0.6240042448043823, 0.6101959347724915, 0.6010746359825134, 0.6109114289283752]\n\nEpoch 29/50\nTrain Loss: 0.22446236610412598\nTrain DSC: [0.6740908026695251, 0.7059661746025085, 0.6859987378120422, 0.6374309062957764]\nValidation Loss: 0.26823899684808195\nValidation DSC: [0.6282729506492615, 0.6470208168029785, 0.6014094352722168, 0.5890709757804871]\n\nEpoch 30/50\nTrain Loss: 0.23141191800435384\nTrain DSC: [0.677510678768158, 0.6957234740257263, 0.6466055512428284, 0.6420291662216187]\nValidation Loss: 0.3235752154619266\nValidation DSC: [0.4698661267757416, 0.5160690546035767, 0.5833197832107544, 0.6122207045555115]\n\nEpoch 31/50\nTrain Loss: 0.22577889760335287\nTrain DSC: [0.6685225963592529, 0.6955604553222656, 0.6748568415641785, 0.6497130990028381]\nValidation Loss: 0.26308353130634016\nValidation DSC: [0.6157551407814026, 0.6563026309013367, 0.6135296821594238, 0.6060882210731506]\n\nEpoch 32/50\nTrain Loss: 0.22014206250508625\nTrain DSC: [0.675178587436676, 0.7099387645721436, 0.6866827607154846, 0.646474301815033]\nValidation Loss: 0.269074953519381\nValidation DSC: [0.5969161987304688, 0.6424145102500916, 0.6100702285766602, 0.6137605905532837]\n\nEpoch 33/50\nTrain Loss: 0.209029483795166\nTrain DSC: [0.6755767464637756, 0.7001304626464844, 0.7471897006034851, 0.6581257581710815]\nValidation Loss: 0.2956498708480444\nValidation DSC: [0.5723902583122253, 0.5527380108833313, 0.5822306275367737, 0.6110466122627258]\n\nEpoch 34/50\nTrain Loss: 0.21514199574788412\nTrain DSC: [0.6768859624862671, 0.703112781047821, 0.7024161219596863, 0.6620196104049683]\nValidation Loss: 0.26533985137939453\nValidation DSC: [0.6011891961097717, 0.6390661597251892, 0.6226285099983215, 0.6137687563896179]\n\nEpoch 35/50\nTrain Loss: 0.21588845252990724\nTrain DSC: [0.6819931268692017, 0.7112991213798523, 0.6938591599464417, 0.656953752040863]\nValidation Loss: 0.26773980947641224\nValidation DSC: [0.6169019341468811, 0.6268347501754761, 0.6076192855834961, 0.6167721152305603]\n\nEpoch 36/50\nTrain Loss: 0.21511497497558593\nTrain DSC: [0.6747399568557739, 0.7044496536254883, 0.7066541314125061, 0.6619179844856262]\nValidation Loss: 0.25934938284067005\nValidation DSC: [0.6239551901817322, 0.6478847861289978, 0.6121196150779724, 0.6215059161186218]\n\nEpoch 37/50\nTrain Loss: 0.209712282816569\nTrain DSC: [0.6814559102058411, 0.700117290019989, 0.7177671194076538, 0.6730520725250244]\nValidation Loss: 0.2616996765136719\nValidation DSC: [0.6332280039787292, 0.6529790163040161, 0.5837993025779724, 0.6209465265274048]\n\nEpoch 38/50\nTrain Loss: 0.20777996381123862\nTrain DSC: [0.6871983408927917, 0.7156127095222473, 0.7210824489593506, 0.6602529883384705]\nValidation Loss: 0.2738734758817233\nValidation DSC: [0.6015191674232483, 0.5797429084777832, 0.6081139445304871, 0.6448689103126526]\n\nEpoch 39/50\nTrain Loss: 0.20105013847351075\nTrain DSC: [0.7005429863929749, 0.7250717282295227, 0.7230610251426697, 0.670910656452179]\nValidation Loss: 0.2608517866868239\nValidation DSC: [0.6230911612510681, 0.6357355117797852, 0.6111990809440613, 0.6235133409500122]\n\nEpoch 40/50\nTrain Loss: 0.2041179656982422\nTrain DSC: [0.6847997307777405, 0.7237653732299805, 0.7223709225654602, 0.6690592169761658]\nValidation Loss: 0.27037762372921675\nValidation DSC: [0.6355504989624023, 0.5915309190750122, 0.5989788770675659, 0.6302926540374756]\n\nEpoch 41/50\nTrain Loss: 0.20970029830932618\nTrain DSC: [0.6841914057731628, 0.7126320004463196, 0.7203232645988464, 0.6564387679100037]\nValidation Loss: 0.31269247103960085\nValidation DSC: [0.5776921510696411, 0.4972805082798004, 0.5948939919471741, 0.5609723329544067]\n\nEpoch 42/50\nTrain Loss: 0.2070726235707601\nTrain DSC: [0.6874479055404663, 0.6942303776741028, 0.728194534778595, 0.6773844957351685]\nValidation Loss: 0.2820380039704152\nValidation DSC: [0.567996621131897, 0.5805791020393372, 0.6179354786872864, 0.6262639164924622]\n\nEpoch 43/50\nTrain Loss: 0.2054962952931722\nTrain DSC: [0.6926978826522827, 0.7092759609222412, 0.7257797718048096, 0.6674354672431946]\nValidation Loss: 0.25573141146928835\nValidation DSC: [0.6307262182235718, 0.6248050928115845, 0.628957986831665, 0.6418223977088928]\n\nEpoch 44/50\nTrain Loss: 0.20086386998494465\nTrain DSC: [0.696091890335083, 0.7213747501373291, 0.7209548950195312, 0.6745929718017578]\nValidation Loss: 0.256961186726888\nValidation DSC: [0.6222230792045593, 0.6600452065467834, 0.6082825660705566, 0.6304745674133301]\n\nEpoch 45/50\nTrain Loss: 0.19974625905354818\nTrain DSC: [0.6936420202255249, 0.7191151976585388, 0.7441162467002869, 0.6698433756828308]\nValidation Loss: 0.2555256868020082\nValidation DSC: [0.6462188363075256, 0.6431105136871338, 0.6034652590751648, 0.6372894048690796]\n\nEpoch 46/50\nTrain Loss: 0.2048857529958089\nTrain DSC: [0.6769905090332031, 0.7036241292953491, 0.7333850860595703, 0.6779760718345642]\nValidation Loss: 0.2572864141219702\nValidation DSC: [0.6418880224227905, 0.6257888674736023, 0.6162809729576111, 0.6339352130889893]\n\nEpoch 47/50\nTrain Loss: 0.19925642013549805\nTrain DSC: [0.6988796591758728, 0.7266596555709839, 0.726135790348053, 0.676641047000885]\nValidation Loss: 0.257415526952499\nValidation DSC: [0.6414836645126343, 0.6433555483818054, 0.6268688440322876, 0.602514386177063]\n\nEpoch 48/50\nTrain Loss: 0.19886110623677572\nTrain DSC: [0.6996782422065735, 0.7159433364868164, 0.7436150908470154, 0.6705451607704163]\nValidation Loss: 0.28472135005853116\nValidation DSC: [0.609390914440155, 0.5624114274978638, 0.5727533102035522, 0.6354484558105469]\n\nEpoch 49/50\nTrain Loss: 0.20684318542480468\nTrain DSC: [0.6998084187507629, 0.7130934596061707, 0.7061560153961182, 0.664156973361969]\nValidation Loss: 0.26296454209547776\nValidation DSC: [0.6257210969924927, 0.6287977695465088, 0.6213039755821228, 0.6093664765357971]\n\nEpoch 50/50\nTrain Loss: 0.1894505818684896\nTrain DSC: [0.6963981986045837, 0.7334205508232117, 0.7604507207870483, 0.6891430020332336]\nValidation Loss: 0.2464473430926983\nValidation DSC: [0.648700475692749, 0.6469462513923645, 0.6203945875167847, 0.6579391360282898]\n\nEpoch 1/50\nTrain Loss: 0.8687311172485351\nTrain DSC: [0.000980536569841206, 0.0012446093605831265, 0.00012648999108932912, 0.00027614791179075837]\nValidation Loss: 0.8700825617863581\nValidation DSC: [0.0009961668401956558, 0.0010937449987977743, 0.0001285862090298906, 0.00026404164964333177]\n\nEpoch 2/50\nTrain Loss: 0.812631098429362\nTrain DSC: [0.0034633369650691748, 0.0019492186838760972, 0.00011210187221877277, 0.00041257368866354227]\nValidation Loss: 0.826263916798127\nValidation DSC: [0.011768165044486523, 0.01129949651658535, 0.0016786742489784956, 0.0028386563062667847]\n\nEpoch 3/50\nTrain Loss: 0.7853978474934896\nTrain DSC: [0.03574291616678238, 0.029371296986937523, 0.005565677769482136, 0.006189583335071802]\nValidation Loss: 0.9429235213842148\nValidation DSC: [0.0014028220903128386, 0.0011846849229186773, 0.00013678570394404233, 0.0002291812706971541]\n\nEpoch 4/50\nTrain Loss: 0.7409180323282878\nTrain DSC: [0.12257573008537292, 0.08794455230236053, 0.008974979631602764, 0.0036473372019827366]\nValidation Loss: 0.9661065126076723\nValidation DSC: [0.0012684548273682594, 0.0007575038471259177, 0.0, 1.8178034224547446e-06]\n\nEpoch 5/50\nTrain Loss: 0.7069283803304036\nTrain DSC: [0.1479535549879074, 0.10685522109270096, 0.0027448718901723623, 0.0008753780857659876]\nValidation Loss: 0.9807795989207733\nValidation DSC: [0.0010953735327348113, 0.0006672845338471234, 0.0, 0.0]\n\nEpoch 6/50\nTrain Loss: 0.6772153854370118\nTrain DSC: [0.1970660388469696, 0.1315678060054779, 0.004468552302569151, 0.0011076362570747733]\nValidation Loss: 0.9632681822165464\nValidation DSC: [0.0011663237819448113, 0.0003304821439087391, 0.0, 0.0]\n\nEpoch 7/50\nTrain Loss: 0.6661006291707356\nTrain DSC: [0.21229597926139832, 0.12074394524097443, 0.005282647907733917, 0.0036752100568264723]\nValidation Loss: 0.8064872057009966\nValidation DSC: [0.01023129466921091, 0.00045265586231835186, 0.0, 1.1925013495783787e-05]\n\nEpoch 8/50\nTrain Loss: 0.6593659083048503\nTrain DSC: [0.22770574688911438, 0.14841800928115845, 0.024023018777370453, 0.006009811069816351]\nValidation Loss: 0.8060205899752103\nValidation DSC: [0.01015649177134037, 0.00011729490506695583, 0.00011532874486874789, 0.0]\n\nEpoch 9/50\nTrain Loss: 0.6313789367675782\nTrain DSC: [0.2862868905067444, 0.1810588389635086, 0.10857054591178894, 0.00659267557784915]\nValidation Loss: 0.8058694203694662\nValidation DSC: [0.010922414250671864, 1.4323499271995388e-05, 0.0010543281678110361, 0.0]\n\nEpoch 10/50\nTrain Loss: 0.6037887573242188\nTrain DSC: [0.33633968234062195, 0.24068689346313477, 0.18372052907943726, 0.01765752024948597]\nValidation Loss: 0.7876929258688902\nValidation DSC: [0.022122591733932495, 0.001905845943838358, 0.015341968275606632, 9.614844020688906e-05]\n\nEpoch 11/50\nTrain Loss: 0.5747100830078125\nTrain DSC: [0.3797520399093628, 0.2813950181007385, 0.21382617950439453, 0.015694856643676758]\nValidation Loss: 0.6812923137958233\nValidation DSC: [0.11775141209363937, 0.12015464901924133, 0.1050628051161766, 0.013249990530312061]\n\nEpoch 12/50\nTrain Loss: 0.536771583557129\nTrain DSC: [0.39292553067207336, 0.3372572660446167, 0.3428521156311035, 0.03848310932517052]\nValidation Loss: 0.787413083589994\nValidation DSC: [0.014694550074636936, 0.012206974439322948, 0.029206838458776474, 4.029078991152346e-05]\n\nEpoch 13/50\nTrain Loss: 0.504951826731364\nTrain DSC: [0.44094592332839966, 0.4090350270271301, 0.3342083692550659, 0.07935505360364914]\nValidation Loss: 0.7697777381310096\nValidation DSC: [0.018833640962839127, 0.021588735282421112, 0.07839551568031311, 0.00031194210168905556]\n\nEpoch 14/50\nTrain Loss: 0.4969659169514974\nTrain DSC: [0.44188612699508667, 0.45631906390190125, 0.313078373670578, 0.09953021258115768]\nValidation Loss: 0.7344444959591596\nValidation DSC: [0.07026432454586029, 0.10109053552150726, 0.04234917834401131, 0.014155230484902859]\n\nEpoch 15/50\nTrain Loss: 0.4664316177368164\nTrain DSC: [0.46752479672431946, 0.4460395574569702, 0.3847701847553253, 0.167707622051239]\nValidation Loss: 0.6646731939071264\nValidation DSC: [0.09812512248754501, 0.13748973608016968, 0.23836441338062286, 0.04283832386136055]\n\nEpoch 16/50\nTrain Loss: 0.43560899098714195\nTrain DSC: [0.4711621105670929, 0.47361478209495544, 0.3786458671092987, 0.32354921102523804]\nValidation Loss: 0.575872323451898\nValidation DSC: [0.17806383967399597, 0.20084770023822784, 0.25555548071861267, 0.30749261379241943]\n\nEpoch 17/50\nTrain Loss: 0.41994447708129884\nTrain DSC: [0.4655318856239319, 0.49153050780296326, 0.3928925395011902, 0.3866468071937561]\nValidation Loss: 0.7046717619284605\nValidation DSC: [0.031536951661109924, 0.09054354578256607, 0.21670684218406677, 0.04187692701816559]\n\nEpoch 18/50\nTrain Loss: 0.3758930842081706\nTrain DSC: [0.5007203221321106, 0.5251713395118713, 0.4249882102012634, 0.5142849683761597]\nValidation Loss: 0.636229001558744\nValidation DSC: [0.0952785536646843, 0.15119270980358124, 0.22110411524772644, 0.18957240879535675]\n\nEpoch 19/50\nTrain Loss: 0.3712661107381185\nTrain DSC: [0.5033631920814514, 0.5462132692337036, 0.43801501393318176, 0.4845464825630188]\nValidation Loss: 0.5971349080403646\nValidation DSC: [0.10459364205598831, 0.14073775708675385, 0.3617393672466278, 0.2720036208629608]\n\nEpoch 20/50\nTrain Loss: 0.3637180964152018\nTrain DSC: [0.52054363489151, 0.5377853512763977, 0.4163804054260254, 0.5462825298309326]\nValidation Loss: 0.38535492236797625\nValidation DSC: [0.46476343274116516, 0.5036893486976624, 0.4429682791233063, 0.49007081985473633]\n\nEpoch 21/50\nTrain Loss: 0.33950745264689125\nTrain DSC: [0.5412755608558655, 0.5590841770172119, 0.4774184823036194, 0.5535833835601807]\nValidation Loss: 0.373415653522198\nValidation DSC: [0.47554969787597656, 0.5152472853660583, 0.4660548269748688, 0.5020556449890137]\n\nEpoch 22/50\nTrain Loss: 0.3346077601114909\nTrain DSC: [0.5539370179176331, 0.5787457823753357, 0.48965543508529663, 0.5365303158760071]\nValidation Loss: 0.5342096182016226\nValidation DSC: [0.18973788619041443, 0.35796186327934265, 0.33988097310066223, 0.2742401957511902]\n\nEpoch 23/50\nTrain Loss: 0.3547003110249837\nTrain DSC: [0.5390238165855408, 0.5733802914619446, 0.39094310998916626, 0.5474683046340942]\nValidation Loss: 0.4724051157633464\nValidation DSC: [0.2274559736251831, 0.2930622100830078, 0.4632929265499115, 0.48444345593452454]\n\nEpoch 24/50\nTrain Loss: 0.34143279393514\nTrain DSC: [0.5297940969467163, 0.5701996088027954, 0.4839475452899933, 0.5267029404640198]\nValidation Loss: 0.4166402572240585\nValidation DSC: [0.3512355089187622, 0.44920462369918823, 0.492339164018631, 0.44704169034957886]\n\nEpoch 25/50\nTrain Loss: 0.3188615798950195\nTrain DSC: [0.5684662461280823, 0.5943644046783447, 0.5282047986984253, 0.5454488396644592]\nValidation Loss: 0.4570151108961839\nValidation DSC: [0.3009389340877533, 0.3111598789691925, 0.48360589146614075, 0.4372597634792328]\n\nEpoch 26/50\nTrain Loss: 0.31135263442993166\nTrain DSC: [0.5667822957038879, 0.5822715759277344, 0.5628805756568909, 0.5516827702522278]\nValidation Loss: 0.3759466807047526\nValidation DSC: [0.43160775303840637, 0.45604920387268066, 0.515792727470398, 0.5289888381958008]\n\nEpoch 27/50\nTrain Loss: 0.3165490786234538\nTrain DSC: [0.5589158535003662, 0.6058379411697388, 0.5321141481399536, 0.5377853512763977]\nValidation Loss: 0.3604672016241612\nValidation DSC: [0.4702290892601013, 0.500300943851471, 0.5132927894592285, 0.517711341381073]\n\nEpoch 28/50\nTrain Loss: 0.3119179725646973\nTrain DSC: [0.5420705676078796, 0.5589762330055237, 0.5817213654518127, 0.5781328678131104]\nValidation Loss: 0.3623216091058193\nValidation DSC: [0.48594069480895996, 0.530267596244812, 0.46116945147514343, 0.5062534213066101]\n\nEpoch 29/50\nTrain Loss: 0.29780495961507164\nTrain DSC: [0.5680211186408997, 0.5944803953170776, 0.5955995321273804, 0.5738683938980103]\nValidation Loss: 0.41154704949794674\nValidation DSC: [0.3675478398799896, 0.3896395266056061, 0.5013241767883301, 0.49392828345298767]\n\nEpoch 30/50\nTrain Loss: 0.29748010635375977\nTrain DSC: [0.5941287875175476, 0.6055365204811096, 0.5905025601387024, 0.53642737865448]\nValidation Loss: 0.3834985097249349\nValidation DSC: [0.3843061625957489, 0.46987205743789673, 0.5224425196647644, 0.527664065361023]\n\nEpoch 31/50\nTrain Loss: 0.2882009824117025\nTrain DSC: [0.5933298468589783, 0.6144948601722717, 0.599202036857605, 0.5708267688751221]\nValidation Loss: 0.36213141221266526\nValidation DSC: [0.4741465151309967, 0.5356625318527222, 0.47546812891960144, 0.5126118063926697]\n\nEpoch 32/50\nTrain Loss: 0.2895396550496419\nTrain DSC: [0.5994065999984741, 0.6131151914596558, 0.5797379612922668, 0.5843499302864075]\nValidation Loss: 0.3691462003267728\nValidation DSC: [0.4084930121898651, 0.5302751064300537, 0.5088419914245605, 0.5165727138519287]\n\nEpoch 33/50\nTrain Loss: 0.29577296574910483\nTrain DSC: [0.5884910821914673, 0.6069139838218689, 0.5726439952850342, 0.5689226984977722]\nValidation Loss: 0.39386900877341247\nValidation DSC: [0.3137478232383728, 0.49843576550483704, 0.5021411776542664, 0.5205094814300537]\n\nEpoch 34/50\nTrain Loss: 0.2861407915751139\nTrain DSC: [0.5869214534759521, 0.5983283519744873, 0.6130726933479309, 0.584459662437439]\nValidation Loss: 0.44193605276254505\nValidation DSC: [0.19817103445529938, 0.402140349149704, 0.5305137038230896, 0.48385488986968994]\n\nEpoch 35/50\nTrain Loss: 0.285635248819987\nTrain DSC: [0.5851001143455505, 0.6294621825218201, 0.5979070067405701, 0.5808785557746887]\nValidation Loss: 0.355532108209072\nValidation DSC: [0.46676260232925415, 0.48461106419563293, 0.5360822081565857, 0.5363523960113525]\n\nEpoch 36/50\nTrain Loss: 0.28668238321940104\nTrain DSC: [0.5989055633544922, 0.6130225658416748, 0.5878918766975403, 0.5916614532470703]\nValidation Loss: 0.36929844587277144\nValidation DSC: [0.42520883679389954, 0.47142893075942993, 0.5435759425163269, 0.5216653347015381]\n\nEpoch 37/50\nTrain Loss: 0.2897433598836263\nTrain DSC: [0.5852951407432556, 0.5978965759277344, 0.6316896677017212, 0.5448074340820312]\nValidation Loss: 0.3500890242747771\nValidation DSC: [0.5127605199813843, 0.5286556482315063, 0.5186042785644531, 0.4871788024902344]\n\nEpoch 38/50\nTrain Loss: 0.2821826934814453\nTrain DSC: [0.6015607118606567, 0.5920253396034241, 0.6415383815765381, 0.5720729827880859]\nValidation Loss: 0.3406534194946289\nValidation DSC: [0.537460446357727, 0.535420835018158, 0.5165407061576843, 0.5038960576057434]\n\nEpoch 39/50\nTrain Loss: 0.2744402249654134\nTrain DSC: [0.6045340895652771, 0.6312401294708252, 0.6384763717651367, 0.5630855560302734]\nValidation Loss: 0.3496014032608423\nValidation DSC: [0.47836539149284363, 0.5276290774345398, 0.5320850610733032, 0.5096577405929565]\n\nEpoch 40/50\nTrain Loss: 0.26507609685262046\nTrain DSC: [0.6049898862838745, 0.6293780207633972, 0.6525856256484985, 0.5946885943412781]\nValidation Loss: 0.31491670853052384\nValidation DSC: [0.5516158938407898, 0.582129716873169, 0.52729731798172, 0.5555790066719055]\n\nEpoch 41/50\nTrain Loss: 0.2592851003011068\nTrain DSC: [0.608489990234375, 0.6481292247772217, 0.6597654819488525, 0.5935789346694946]\nValidation Loss: 0.4044119517008464\nValidation DSC: [0.3545035123825073, 0.4338889420032501, 0.5105626583099365, 0.4750964939594269]\n\nEpoch 42/50\nTrain Loss: 0.2796269734700521\nTrain DSC: [0.5917360186576843, 0.6244191527366638, 0.6143430471420288, 0.5760290026664734]\nValidation Loss: 0.31686905102852064\nValidation DSC: [0.549677848815918, 0.5866400599479675, 0.5193809270858765, 0.5663861036300659]\n\nEpoch 43/50\nTrain Loss: 0.2802640279134115\nTrain DSC: [0.5971967577934265, 0.6140334606170654, 0.6103017330169678, 0.5836699604988098]\nValidation Loss: 0.339413691789676\nValidation DSC: [0.49886155128479004, 0.5400689244270325, 0.5392987132072449, 0.5164724588394165]\n\nEpoch 44/50\nTrain Loss: 0.26623196601867677\nTrain DSC: [0.6037939786911011, 0.6250383257865906, 0.657120406627655, 0.5826367735862732]\nValidation Loss: 0.33002777588673127\nValidation DSC: [0.5025795698165894, 0.5579953193664551, 0.5358463525772095, 0.5396391749382019]\n\nEpoch 45/50\nTrain Loss: 0.2632822831471761\nTrain DSC: [0.6212645769119263, 0.6483863592147827, 0.637609601020813, 0.5834024548530579]\nValidation Loss: 0.34436516884045726\nValidation DSC: [0.47974538803100586, 0.5723918080329895, 0.5114507675170898, 0.5065164566040039]\n\nEpoch 46/50\nTrain Loss: 0.25186972618103026\nTrain DSC: [0.6259065866470337, 0.6513957977294922, 0.6805378198623657, 0.5993143320083618]\nValidation Loss: 0.3278050789466271\nValidation DSC: [0.49088525772094727, 0.5319086909294128, 0.5698896646499634, 0.5599775314331055]\n\nEpoch 47/50\nTrain Loss: 0.2485340118408203\nTrain DSC: [0.627262532711029, 0.6500317454338074, 0.6717075705528259, 0.6143727898597717]\nValidation Loss: 0.31529742020827073\nValidation DSC: [0.5320733785629272, 0.5700775384902954, 0.5576057434082031, 0.5589817762374878]\n\nEpoch 48/50\nTrain Loss: 0.2570241133371989\nTrain DSC: [0.6183831691741943, 0.6297515630722046, 0.660060465335846, 0.6143248081207275]\nValidation Loss: 0.3093242889795548\nValidation DSC: [0.5498189926147461, 0.5922141671180725, 0.547099769115448, 0.5634854435920715]\n\nEpoch 49/50\nTrain Loss: 0.25083282788594563\nTrain DSC: [0.6207677721977234, 0.6637187600135803, 0.6831849813461304, 0.5906727910041809]\nValidation Loss: 0.3191531254695012\nValidation DSC: [0.5016428828239441, 0.599061906337738, 0.5626431107521057, 0.5318305492401123]\n\nEpoch 50/50\nTrain Loss: 0.2447751522064209\nTrain DSC: [0.6325770616531372, 0.6574862599372864, 0.6795037388801575, 0.6258776783943176]\nValidation Loss: 0.3322278780814929\nValidation DSC: [0.47029876708984375, 0.5595465302467346, 0.5526443719863892, 0.5538918972015381]\n\n"
        }
      ],
      "execution_count": 10,
      "metadata": {
        "jupyter": {
          "source_hidden": false,
          "outputs_hidden": false
        },
        "nteract": {
          "transient": {
            "deleting": false
          }
        },
        "gather": {
          "logged": 1672976479548
        }
      },
      "id": "16c8d6e5-7af7-4b76-bf98-80a382eab2ab"
    },
    {
      "cell_type": "code",
      "source": [
        "!zip -r file.zip ../results/models_train15"
      ],
      "outputs": [
        {
          "output_type": "stream",
          "name": "stdout",
          "text": "  adding: ../results/models_train15/ (stored 0%)\n  adding: ../results/models_train15/.amlignore (deflated 32%)\n  adding: ../results/models_train15/.amlignore.amltmp (deflated 32%)\n  adding: ../results/models_train15/dscs_std1000.json (deflated 54%)\n  adding: ../results/models_train15/dscs_std2000.json (deflated 53%)\n  adding: ../results/models_train15/losses_std1000.json (deflated 52%)\n  adding: ../results/models_train15/losses_std2000.json (deflated 52%)\n  adding: ../results/models_train15/pred_std0_epoch10_image1.pth.npy (deflated 100%)\n  adding: ../results/models_train15/pred_std0_epoch10_image10.pth.npy (deflated 100%)\n  adding: ../results/models_train15/pred_std0_epoch10_image11.pth.npy (deflated 100%)\n  adding: ../results/models_train15/pred_std0_epoch10_image12.pth.npy (deflated 100%)\n  adding: ../results/models_train15/pred_std0_epoch10_image13.pth.npy (deflated 100%)\n  adding: ../results/models_train15/pred_std0_epoch10_image14.pth.npy (deflated 100%)\n  adding: ../results/models_train15/pred_std0_epoch10_image15.pth.npy (deflated 100%)\n  adding: ../results/models_train15/pred_std0_epoch10_image2.pth.npy (deflated 100%)\n  adding: ../results/models_train15/pred_std0_epoch10_image3.pth.npy (deflated 100%)\n  adding: ../results/models_train15/pred_std0_epoch10_image4.pth.npy (deflated 100%)\n  adding: ../results/models_train15/pred_std0_epoch10_image5.pth.npy (deflated 100%)\n  adding: ../results/models_train15/pred_std0_epoch10_image6.pth.npy (deflated 100%)\n  adding: ../results/models_train15/pred_std0_epoch10_image7.pth.npy (deflated 100%)\n  adding: ../results/models_train15/pred_std0_epoch10_image8.pth.npy (deflated 100%)\n  adding: ../results/models_train15/pred_std0_epoch10_image9.pth.npy (deflated 100%)\n  adding: ../results/models_train15/pred_std0_epoch11_image1.pth.npy (deflated 100%)\n  adding: ../results/models_train15/pred_std0_epoch11_image10.pth.npy (deflated 100%)\n  adding: ../results/models_train15/pred_std0_epoch11_image11.pth.npy (deflated 100%)\n  adding: ../results/models_train15/pred_std0_epoch11_image12.pth.npy (deflated 100%)\n  adding: ../results/models_train15/pred_std0_epoch11_image13.pth.npy (deflated 100%)\n  adding: ../results/models_train15/pred_std0_epoch11_image14.pth.npy (deflated 100%)\n  adding: ../results/models_train15/pred_std0_epoch11_image15.pth.npy (deflated 100%)\n  adding: ../results/models_train15/pred_std0_epoch11_image2.pth.npy (deflated 100%)\n  adding: ../results/models_train15/pred_std0_epoch11_image3.pth.npy (deflated 100%)\n  adding: ../results/models_train15/pred_std0_epoch11_image4.pth.npy (deflated 100%)\n  adding: ../results/models_train15/pred_std0_epoch11_image5.pth.npy (deflated 100%)\n  adding: ../results/models_train15/pred_std0_epoch11_image6.pth.npy (deflated 100%)\n  adding: ../results/models_train15/pred_std0_epoch11_image7.pth.npy (deflated 100%)\n  adding: ../results/models_train15/pred_std0_epoch11_image8.pth.npy (deflated 100%)\n  adding: ../results/models_train15/pred_std0_epoch11_image9.pth.npy (deflated 100%)\n  adding: ../results/models_train15/pred_std0_epoch12_image1.pth.npy (deflated 100%)\n  adding: ../results/models_train15/pred_std0_epoch12_image10.pth.npy (deflated 100%)\n  adding: ../results/models_train15/pred_std0_epoch12_image11.pth.npy (deflated 100%)\n  adding: ../results/models_train15/pred_std0_epoch12_image12.pth.npy (deflated 100%)\n  adding: ../results/models_train15/pred_std0_epoch12_image13.pth.npy (deflated 100%)\n  adding: ../results/models_train15/pred_std0_epoch12_image14.pth.npy (deflated 100%)\n  adding: ../results/models_train15/pred_std0_epoch12_image15.pth.npy (deflated 100%)\n  adding: ../results/models_train15/pred_std0_epoch12_image2.pth.npy (deflated 100%)\n  adding: ../results/models_train15/pred_std0_epoch12_image3.pth.npy (deflated 100%)\n  adding: ../results/models_train15/pred_std0_epoch12_image4.pth.npy (deflated 100%)\n  adding: ../results/models_train15/pred_std0_epoch12_image5.pth.npy (deflated 100%)\n  adding: ../results/models_train15/pred_std0_epoch12_image6.pth.npy (deflated 100%)\n  adding: ../results/models_train15/pred_std0_epoch12_image7.pth.npy (deflated 100%)\n  adding: ../results/models_train15/pred_std0_epoch12_image8.pth.npy (deflated 100%)\n  adding: ../results/models_train15/pred_std0_epoch12_image9.pth.npy (deflated 100%)\n  adding: ../results/models_train15/pred_std0_epoch13_image1.pth.npy (deflated 100%)\n  adding: ../results/models_train15/pred_std0_epoch13_image10.pth.npy (deflated 100%)\n  adding: ../results/models_train15/pred_std0_epoch13_image11.pth.npy (deflated 100%)\n  adding: ../results/models_train15/pred_std0_epoch13_image12.pth.npy (deflated 100%)\n  adding: ../results/models_train15/pred_std0_epoch13_image13.pth.npy (deflated 100%)\n  adding: ../results/models_train15/pred_std0_epoch13_image14.pth.npy (deflated 100%)\n  adding: ../results/models_train15/pred_std0_epoch13_image15.pth.npy (deflated 100%)\n  adding: ../results/models_train15/pred_std0_epoch13_image2.pth.npy (deflated 100%)\n  adding: ../results/models_train15/pred_std0_epoch13_image3.pth.npy (deflated 100%)\n  adding: ../results/models_train15/pred_std0_epoch13_image4.pth.npy (deflated 100%)\n  adding: ../results/models_train15/pred_std0_epoch13_image5.pth.npy (deflated 100%)\n  adding: ../results/models_train15/pred_std0_epoch13_image6.pth.npy (deflated 100%)\n  adding: ../results/models_train15/pred_std0_epoch13_image7.pth.npy (deflated 100%)\n  adding: ../results/models_train15/pred_std0_epoch13_image8.pth.npy (deflated 100%)\n  adding: ../results/models_train15/pred_std0_epoch13_image9.pth.npy (deflated 100%)\n  adding: ../results/models_train15/pred_std0_epoch14_image1.pth.npy (deflated 100%)\n  adding: ../results/models_train15/pred_std0_epoch14_image10.pth.npy (deflated 100%)\n  adding: ../results/models_train15/pred_std0_epoch14_image11.pth.npy (deflated 100%)\n  adding: ../results/models_train15/pred_std0_epoch14_image12.pth.npy (deflated 100%)\n  adding: ../results/models_train15/pred_std0_epoch14_image13.pth.npy (deflated 100%)\n  adding: ../results/models_train15/pred_std0_epoch14_image14.pth.npy (deflated 100%)\n  adding: ../results/models_train15/pred_std0_epoch14_image15.pth.npy (deflated 100%)\n  adding: ../results/models_train15/pred_std0_epoch14_image2.pth.npy (deflated 100%)\n  adding: ../results/models_train15/pred_std0_epoch14_image3.pth.npy (deflated 100%)\n  adding: ../results/models_train15/pred_std0_epoch14_image4.pth.npy (deflated 100%)\n  adding: ../results/models_train15/pred_std0_epoch14_image5.pth.npy (deflated 100%)\n  adding: ../results/models_train15/pred_std0_epoch14_image6.pth.npy (deflated 100%)\n  adding: ../results/models_train15/pred_std0_epoch14_image7.pth.npy (deflated 100%)\n  adding: ../results/models_train15/pred_std0_epoch14_image8.pth.npy (deflated 100%)\n  adding: ../results/models_train15/pred_std0_epoch14_image9.pth.npy (deflated 100%)\n  adding: ../results/models_train15/pred_std0_epoch15_image1.pth.npy (deflated 100%)\n  adding: ../results/models_train15/pred_std0_epoch15_image10.pth.npy (deflated 100%)\n  adding: ../results/models_train15/pred_std0_epoch15_image11.pth.npy (deflated 100%)\n  adding: ../results/models_train15/pred_std0_epoch15_image12.pth.npy (deflated 100%)\n  adding: ../results/models_train15/pred_std0_epoch15_image13.pth.npy (deflated 100%)\n  adding: ../results/models_train15/pred_std0_epoch15_image14.pth.npy (deflated 100%)\n  adding: ../results/models_train15/pred_std0_epoch15_image15.pth.npy (deflated 100%)\n  adding: ../results/models_train15/pred_std0_epoch15_image2.pth.npy (deflated 100%)\n  adding: ../results/models_train15/pred_std0_epoch15_image3.pth.npy (deflated 100%)\n  adding: ../results/models_train15/pred_std0_epoch15_image4.pth.npy (deflated 100%)\n  adding: ../results/models_train15/pred_std0_epoch15_image5.pth.npy (deflated 100%)\n  adding: ../results/models_train15/pred_std0_epoch15_image6.pth.npy (deflated 100%)\n  adding: ../results/models_train15/pred_std0_epoch15_image7.pth.npy (deflated 100%)\n  adding: ../results/models_train15/pred_std0_epoch15_image8.pth.npy (deflated 100%)\n  adding: ../results/models_train15/pred_std0_epoch15_image9.pth.npy (deflated 100%)\n  adding: ../results/models_train15/pred_std0_epoch16_image1.pth.npy (deflated 100%)\n  adding: ../results/models_train15/pred_std0_epoch16_image10.pth.npy (deflated 100%)\n  adding: ../results/models_train15/pred_std0_epoch16_image11.pth.npy (deflated 100%)\n  adding: ../results/models_train15/pred_std0_epoch16_image12.pth.npy (deflated 100%)\n  adding: ../results/models_train15/pred_std0_epoch16_image13.pth.npy (deflated 100%)\n  adding: ../results/models_train15/pred_std0_epoch16_image14.pth.npy (deflated 100%)\n  adding: ../results/models_train15/pred_std0_epoch16_image15.pth.npy (deflated 100%)\n  adding: ../results/models_train15/pred_std0_epoch16_image2.pth.npy (deflated 100%)\n  adding: ../results/models_train15/pred_std0_epoch16_image3.pth.npy (deflated 100%)\n  adding: ../results/models_train15/pred_std0_epoch16_image4.pth.npy (deflated 100%)\n  adding: ../results/models_train15/pred_std0_epoch16_image5.pth.npy (deflated 100%)\n  adding: ../results/models_train15/pred_std0_epoch16_image6.pth.npy (deflated 100%)\n  adding: ../results/models_train15/pred_std0_epoch16_image7.pth.npy (deflated 100%)\n  adding: ../results/models_train15/pred_std0_epoch16_image8.pth.npy (deflated 100%)\n  adding: ../results/models_train15/pred_std0_epoch16_image9.pth.npy (deflated 100%)\n  adding: ../results/models_train15/pred_std0_epoch17_image1.pth.npy (deflated 100%)\n  adding: ../results/models_train15/pred_std0_epoch17_image10.pth.npy (deflated 100%)\n  adding: ../results/models_train15/pred_std0_epoch17_image11.pth.npy (deflated 100%)\n  adding: ../results/models_train15/pred_std0_epoch17_image12.pth.npy (deflated 100%)\n  adding: ../results/models_train15/pred_std0_epoch17_image13.pth.npy (deflated 100%)\n  adding: ../results/models_train15/pred_std0_epoch17_image14.pth.npy (deflated 100%)\n  adding: ../results/models_train15/pred_std0_epoch17_image15.pth.npy (deflated 100%)\n  adding: ../results/models_train15/pred_std0_epoch17_image2.pth.npy (deflated 100%)\n  adding: ../results/models_train15/pred_std0_epoch17_image3.pth.npy (deflated 100%)\n  adding: ../results/models_train15/pred_std0_epoch17_image4.pth.npy (deflated 100%)\n  adding: ../results/models_train15/pred_std0_epoch17_image5.pth.npy (deflated 100%)\n  adding: ../results/models_train15/pred_std0_epoch17_image6.pth.npy"
        }
      ],
      "execution_count": null,
      "metadata": {
        "jupyter": {
          "source_hidden": false,
          "outputs_hidden": false
        },
        "nteract": {
          "transient": {
            "deleting": false
          }
        },
        "gather": {
          "logged": 1673014157995
        }
      },
      "id": "8888964b-2a27-444a-b9db-1529747e6df6"
    },
    {
      "cell_type": "code",
      "source": [],
      "outputs": [],
      "execution_count": null,
      "metadata": {
        "jupyter": {
          "source_hidden": false,
          "outputs_hidden": false
        },
        "nteract": {
          "transient": {
            "deleting": false
          }
        }
      },
      "id": "b15cbafe-66df-4321-b255-e1339badff36"
    }
  ],
  "metadata": {
    "colab": {
      "provenance": []
    },
    "toc": {
      "toc_position": {},
      "skip_h1_title": false,
      "number_sections": true,
      "title_cell": "Table of Contents",
      "toc_window_display": false,
      "base_numbering": 1,
      "toc_section_display": true,
      "title_sidebar": "Contents",
      "toc_cell": false,
      "nav_menu": {},
      "sideBar": true
    },
    "accelerator": "GPU",
    "gpuClass": "premium",
    "microsoft": {
      "host": {
        "AzureML": {
          "notebookHasBeenCompleted": true
        }
      }
    },
    "kernel_info": {
      "name": "python3"
    },
    "language_info": {
      "name": "python",
      "version": "3.8.5",
      "mimetype": "text/x-python",
      "codemirror_mode": {
        "name": "ipython",
        "version": 3
      },
      "pygments_lexer": "ipython3",
      "nbconvert_exporter": "python",
      "file_extension": ".py"
    },
    "kernelspec": {
      "name": "python3",
      "language": "python",
      "display_name": "Python 3 (ipykernel)"
    },
    "nteract": {
      "version": "nteract-front-end@1.0.0"
    }
  },
  "nbformat": 4,
  "nbformat_minor": 5
}