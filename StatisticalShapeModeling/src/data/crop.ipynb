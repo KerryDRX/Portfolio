{
  "cells": [
    {
      "cell_type": "code",
      "source": [
        "import nibabel as nib\n",
        "from glob import glob\n",
        "import nrrd\n",
        "import numpy as np\n",
        "from tqdm import tqdm\n",
        "from scipy import ndimage\n",
        "import torchio as tio\n",
        "import os"
      ],
      "outputs": [],
      "execution_count": 1,
      "metadata": {
        "gather": {
          "logged": 1672625279691
        }
      }
    },
    {
      "cell_type": "code",
      "source": [
        "city = 'Beijing_Zang'\n",
        "vent = '1'\n",
        "size = 64\n",
        "MASK_DIR = f'../dataset/{city}/6classes/Ventricles{vent}'\n",
        "mask_paths = sorted(glob(f'{MASK_DIR}/*.nii.gz'))\n",
        "subjects = [tio.Subject(label=tio.LabelMap(mask_path)) for mask_path in mask_paths]"
      ],
      "outputs": [],
      "execution_count": 2,
      "metadata": {
        "jupyter": {
          "source_hidden": false,
          "outputs_hidden": false
        },
        "nteract": {
          "transient": {
            "deleting": false
          }
        },
        "gather": {
          "logged": 1672625315787
        }
      }
    },
    {
      "cell_type": "code",
      "source": [
        "resample = tio.Compose([\n",
        "    tio.Resample(1),\n",
        "    tio.CropOrPad(size, mask_name='label'),\n",
        "])\n",
        "\n",
        "dataset = tio.SubjectsDataset(\n",
        "    subjects, \n",
        "    transform=resample\n",
        ")"
      ],
      "outputs": [],
      "execution_count": 3,
      "metadata": {
        "jupyter": {
          "source_hidden": false,
          "outputs_hidden": false
        },
        "nteract": {
          "transient": {
            "deleting": false
          }
        },
        "gather": {
          "logged": 1672625322059
        }
      }
    },
    {
      "cell_type": "code",
      "source": [
        "out_dir = f'../dataset/{city}/6classes/Ventricles_{size}_{vent}'\n",
        "if not os.path.exists(out_dir):\n",
        "    os.mkdir(out_dir)\n",
        "\n",
        "for img, filename in tqdm(zip(dataset, mask_paths), total=len(mask_paths)):\n",
        "    uid = filename.split('/')[-1][:5]\n",
        "    mask = img['label'].data[0].numpy()\n",
        "    nrrd.write(f'{out_dir}/{uid}.nrrd', mask)"
      ],
      "outputs": [
        {
          "output_type": "stream",
          "name": "stderr",
          "text": "100%|██████████| 197/197 [01:40<00:00,  1.95it/s]\n"
        }
      ],
      "execution_count": 4,
      "metadata": {
        "jupyter": {
          "source_hidden": false,
          "outputs_hidden": false
        },
        "nteract": {
          "transient": {
            "deleting": false
          }
        },
        "gather": {
          "logged": 1672625441651
        }
      }
    },
    {
      "cell_type": "code",
      "source": [
        "filenames = glob('../dataset/All/Ventricles_256_4/*.nrrd')\n",
        "sizes = np.zeros((len(filenames), 3))\n",
        "sizes.shape"
      ],
      "outputs": [
        {
          "output_type": "execute_result",
          "execution_count": 10,
          "data": {
            "text/plain": "(1090, 3)"
          },
          "metadata": {}
        }
      ],
      "execution_count": 10,
      "metadata": {
        "jupyter": {
          "source_hidden": false,
          "outputs_hidden": false
        },
        "nteract": {
          "transient": {
            "deleting": false
          }
        },
        "gather": {
          "logged": 1672323992826
        }
      }
    },
    {
      "cell_type": "code",
      "source": [
        "for i, filename in enumerate(tqdm(filenames)):\n",
        "    mask = nrrd.read(filename)[0]\n",
        "    indices = np.argwhere(mask)\n",
        "    center = ndimage.measurements.center_of_mass(mask)\n",
        "    for j in range(3):\n",
        "        sizes[i, j] = int(2 * max(indices[:, j].max() - center[j], center[j] - indices[:, j].min())) + 1 "
      ],
      "outputs": [
        {
          "output_type": "stream",
          "name": "stderr",
          "text": "100%|██████████| 1090/1090 [21:16<00:00,  1.17s/it]\n"
        }
      ],
      "execution_count": 11,
      "metadata": {
        "jupyter": {
          "source_hidden": false,
          "outputs_hidden": false
        },
        "nteract": {
          "transient": {
            "deleting": false
          }
        },
        "gather": {
          "logged": 1672325274939
        }
      }
    },
    {
      "cell_type": "code",
      "source": [
        "for j in range(3):\n",
        "    print(sizes[:, j].min(), sizes[:, j].max())"
      ],
      "outputs": [
        {
          "output_type": "stream",
          "name": "stdout",
          "text": "12.0 39.0\n10.0 60.0\n26.0 72.0\n"
        }
      ],
      "execution_count": 12,
      "metadata": {
        "jupyter": {
          "source_hidden": false,
          "outputs_hidden": false
        },
        "nteract": {
          "transient": {
            "deleting": false
          }
        },
        "gather": {
          "logged": 1672325275123
        }
      }
    },
    {
      "cell_type": "code",
      "source": [
        "# 1st vent\n",
        "# 30.0 65.0\n",
        "# 70.0 144.0\n",
        "# 46.0 96.0\n",
        "\n",
        "# 3rd vent\n",
        "# 4.0 20.0\n",
        "# 23.0 41.0\n",
        "# 15.0 32.0\n",
        "\n",
        "# 4th vent\n",
        "# 12.0 39.0\n",
        "# 10.0 60.0\n",
        "# 26.0 72.0"
      ],
      "outputs": [],
      "execution_count": null,
      "metadata": {
        "jupyter": {
          "source_hidden": false,
          "outputs_hidden": false
        },
        "nteract": {
          "transient": {
            "deleting": false
          }
        }
      }
    },
    {
      "cell_type": "code",
      "source": [],
      "outputs": [],
      "execution_count": null,
      "metadata": {
        "jupyter": {
          "source_hidden": false,
          "outputs_hidden": false
        },
        "nteract": {
          "transient": {
            "deleting": false
          }
        }
      }
    }
  ],
  "metadata": {
    "kernelspec": {
      "name": "python3",
      "language": "python",
      "display_name": "Python 3 (ipykernel)"
    },
    "language_info": {
      "name": "python",
      "version": "3.8.5",
      "mimetype": "text/x-python",
      "codemirror_mode": {
        "name": "ipython",
        "version": 3
      },
      "pygments_lexer": "ipython3",
      "nbconvert_exporter": "python",
      "file_extension": ".py"
    },
    "kernel_info": {
      "name": "python3"
    },
    "nteract": {
      "version": "nteract-front-end@1.0.0"
    },
    "microsoft": {
      "host": {
        "AzureML": {
          "notebookHasBeenCompleted": true
        }
      },
      "ms_spell_check": {
        "ms_spell_check_language": "en"
      }
    }
  },
  "nbformat": 4,
  "nbformat_minor": 2
}