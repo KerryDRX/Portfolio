{
  "cells": [
    {
      "cell_type": "code",
      "source": [
        "import numpy as np\n",
        "import nibabel as nib\n",
        "from glob import glob\n",
        "from tqdm import tqdm\n",
        "import os\n",
        "import torchio as tio\n",
        "import nrrd"
      ],
      "outputs": [],
      "execution_count": 1,
      "metadata": {
        "gather": {
          "logged": 1672589148814
        }
      }
    },
    {
      "cell_type": "code",
      "source": [
        "city = 'All'\n",
        "for vent in range(1, 5):\n",
        "    os.mkdir(f'../dataset/{city}/Ventricles{vent}/')"
      ],
      "outputs": [],
      "execution_count": 4,
      "metadata": {
        "jupyter": {
          "source_hidden": false,
          "outputs_hidden": false
        },
        "nteract": {
          "transient": {
            "deleting": false
          }
        },
        "gather": {
          "logged": 1672589373967
        }
      }
    },
    {
      "cell_type": "code",
      "source": [
        "for filename in tqdm(glob(f'../dataset/{city}/Ventricles/*.nii.gz')):\n",
        "    fn = filename.split('/')[-1]\n",
        "    image = nib.load(filename)\n",
        "    data = image.get_fdata()\n",
        "    for vent in range(1, 5):\n",
        "        new_data = np.zeros_like(data)\n",
        "        new_data[data == vent] = 1\n",
        "        new_image = nib.Nifti1Image(new_data, image.affine, image.header)\n",
        "        nib.save(new_image, f'../dataset/{city}/Ventricles{vent}/{fn}')"
      ],
      "outputs": [
        {
          "output_type": "stream",
          "name": "stderr",
          "text": "100%|██████████| 1090/1090 [28:54<00:00,  1.59s/it]\n"
        }
      ],
      "execution_count": 5,
      "metadata": {
        "jupyter": {
          "source_hidden": false,
          "outputs_hidden": false
        },
        "nteract": {
          "transient": {
            "deleting": false
          }
        },
        "gather": {
          "logged": 1672591127958
        }
      }
    },
    {
      "cell_type": "code",
      "source": [
        "city = 'Beijing_Zang'\n",
        "for vent in range(1, 7):\n",
        "    os.makedirs(f'../dataset/{city}/6classes/Ventricles{vent}')\n",
        "    os.makedirs(f'../dataset/{city}/6classes/Ventricles_256_{vent}')"
      ],
      "outputs": [],
      "execution_count": 2,
      "metadata": {
        "jupyter": {
          "source_hidden": false,
          "outputs_hidden": false
        },
        "nteract": {
          "transient": {
            "deleting": false
          }
        },
        "gather": {
          "logged": 1672179346655
        }
      }
    },
    {
      "cell_type": "code",
      "source": [
        "# for filename in tqdm(glob(f'../dataset/{city}/Segmentation/*.nii.gz')):\n",
        "#     fn = filename.split('/')[-1]\n",
        "#     image = nib.load(filename)\n",
        "#     data = image.get_fdata()\n",
        "#     new_data = np.zeros_like(data)\n",
        "#     new_data[data == 21] = 1\n",
        "#     new_data[data == 22] = 2\n",
        "#     new_data[data == 23] = 3\n",
        "#     new_data[data == 24] = 4\n",
        "#     new_data[data == 1] = 5\n",
        "#     new_data[data == 2] = 6\n",
        "#     new_data = new_data[:, :, :, 0]\n",
        "#     new_image = nib.Nifti1Image(new_data, image.affine, image.header)\n",
        "#     nib.save(new_image, f'../dataset/{city}/Ventricles123456/{fn}')"
      ],
      "outputs": [
        {
          "output_type": "stream",
          "name": "stderr",
          "text": "  2%|▏         | 3/197 [00:05<06:01,  1.87s/it]"
        }
      ],
      "execution_count": 12,
      "metadata": {
        "jupyter": {
          "source_hidden": false,
          "outputs_hidden": false
        },
        "nteract": {
          "transient": {
            "deleting": false
          }
        },
        "gather": {
          "logged": 1672179330677
        }
      }
    },
    {
      "cell_type": "code",
      "source": [
        "for filename in tqdm(glob(f'../dataset/{city}/Ventricles123456/*.nii.gz')):\n",
        "    fn = filename.split('/')[-1]\n",
        "    image = nib.load(filename)\n",
        "    data = image.get_fdata()\n",
        "    for vent in range(1, 7):\n",
        "        new_data = np.zeros_like(data)\n",
        "        new_data[data == vent] = 1\n",
        "        new_image = nib.Nifti1Image(new_data, image.affine, image.header)\n",
        "        nib.save(new_image, f'../dataset/{city}/6classes/Ventricles{vent}/{fn}')"
      ],
      "outputs": [
        {
          "output_type": "stream",
          "name": "stderr",
          "text": "100%|██████████| 197/197 [04:49<00:00,  1.47s/it]\n"
        }
      ],
      "execution_count": 3,
      "metadata": {
        "jupyter": {
          "source_hidden": false,
          "outputs_hidden": false
        },
        "nteract": {
          "transient": {
            "deleting": false
          }
        },
        "gather": {
          "logged": 1672179638432
        }
      }
    },
    {
      "cell_type": "code",
      "source": [
        "size = 256\n",
        "MASK_DIR = f'../dataset/{city}/Ventricles123456'\n",
        "resample = tio.Compose([\n",
        "    tio.Resample(1),\n",
        "    tio.CropOrPad(size),\n",
        "])"
      ],
      "outputs": [],
      "execution_count": 5,
      "metadata": {
        "jupyter": {
          "source_hidden": false,
          "outputs_hidden": false
        },
        "nteract": {
          "transient": {
            "deleting": false
          }
        },
        "gather": {
          "logged": 1672179728621
        }
      }
    },
    {
      "cell_type": "code",
      "source": [
        "for filename in tqdm(sorted(glob(f'{MASK_DIR}/*.nii.gz'))):\n",
        "    uid = filename.split('/')[-1][:5]\n",
        "    lm = tio.LabelMap(filename)\n",
        "    resampled = resample(lm).data.numpy()[0]\n",
        "    for vent in range(1, 7):\n",
        "        new_data = np.zeros_like(resampled)\n",
        "        new_data[resampled == vent] = 1\n",
        "        nrrd.write(f'../dataset/{city}/6classes/Ventricles_{size}_{vent}/{uid}.nrrd', new_data)"
      ],
      "outputs": [
        {
          "output_type": "stream",
          "name": "stderr",
          "text": "100%|██████████| 197/197 [24:53<00:00,  7.58s/it]\n"
        }
      ],
      "execution_count": 6,
      "metadata": {
        "jupyter": {
          "source_hidden": false,
          "outputs_hidden": false
        },
        "nteract": {
          "transient": {
            "deleting": false
          }
        },
        "gather": {
          "logged": 1672181227549
        }
      }
    },
    {
      "cell_type": "code",
      "source": [],
      "outputs": [],
      "execution_count": null,
      "metadata": {
        "jupyter": {
          "source_hidden": false,
          "outputs_hidden": false
        },
        "nteract": {
          "transient": {
            "deleting": false
          }
        }
      }
    }
  ],
  "metadata": {
    "kernelspec": {
      "name": "python3",
      "language": "python",
      "display_name": "Python 3 (ipykernel)"
    },
    "language_info": {
      "name": "python",
      "version": "3.8.5",
      "mimetype": "text/x-python",
      "codemirror_mode": {
        "name": "ipython",
        "version": 3
      },
      "pygments_lexer": "ipython3",
      "nbconvert_exporter": "python",
      "file_extension": ".py"
    },
    "kernel_info": {
      "name": "python3"
    },
    "microsoft": {
      "host": {
        "AzureML": {
          "notebookHasBeenCompleted": true
        }
      }
    },
    "nteract": {
      "version": "nteract-front-end@1.0.0"
    }
  },
  "nbformat": 4,
  "nbformat_minor": 2
}