{
  "cells": [
    {
      "cell_type": "code",
      "source": [
        "# !pip install -U azureml-fsspec\n",
        "import numpy as np\n",
        "import matplotlib.pyplot as plt\n",
        "from azureml.core import Workspace, Dataset, Datastore\n",
        "import os"
      ],
      "outputs": [],
      "execution_count": 1,
      "metadata": {
        "jupyter": {
          "source_hidden": false,
          "outputs_hidden": false
        },
        "nteract": {
          "transient": {
            "deleting": false
          }
        },
        "gather": {
          "logged": 1671291346479
        }
      }
    },
    {
      "cell_type": "code",
      "source": [
        "subscription_id = '5ca65406-1d3d-44fa-b814-0e7e6c391246'\n",
        "resource_group = 'JH-DEEPIMAGING-NEURORAD-FMRI'\n",
        "workspace_name = 'JH-DEEPIMAGING-NEURORAD-FMRI'\n",
        "workspace = Workspace(subscription_id, resource_group, workspace_name)\n",
        "datastore = Datastore.get(workspace, 'connectome')"
      ],
      "outputs": [],
      "execution_count": 2,
      "metadata": {
        "jupyter": {
          "source_hidden": false,
          "outputs_hidden": false
        },
        "nteract": {
          "transient": {
            "deleting": false
          }
        },
        "gather": {
          "logged": 1671291347468
        }
      }
    },
    {
      "cell_type": "code",
      "source": [
        "# 33 cities in total\n",
        "# Dallas, Leipzig, NewHaven_a, NewHaven_b, Pittsburgh: no T1\n",
        "# NYU_TRT: 3 sessions\n",
        "cities = [\n",
        "    'AnnArbor_a', 'AnnArbor_b', 'Atlanta', \n",
        "    'Baltimore', \n",
        "    'Bangor', \n",
        "    'Beijing_Zang', \n",
        "    'Berlin_Margulies', 'Cambridge_Buckner', \n",
        "    #'Dallas', \n",
        "    'ICBM', 'Leiden_2180', 'Leiden_2200', \n",
        "    #'Leipzig', \n",
        "    'Milwaukee_a', 'Milwaukee_b', 'Munchen', \n",
        "    #'NYU_TRT', \n",
        "    #'NewHaven_a', 'NewHaven_b', \n",
        "    'NewYork_a', 'NewYork_a_ADHD', 'NewYork_b', 'Newark', 'Ontario', 'Orangeburg', 'Oulu', 'Oxford', 'PaloAlto', \n",
        "    #'Pittsburgh', \n",
        "    'Queensland', 'SaintLouis', 'Taipei_a', 'Taipei_b']\n",
        "len(cities)"
      ],
      "outputs": [
        {
          "output_type": "execute_result",
          "execution_count": 12,
          "data": {
            "text/plain": "27"
          },
          "metadata": {}
        }
      ],
      "execution_count": 12,
      "metadata": {
        "jupyter": {
          "source_hidden": false,
          "outputs_hidden": false
        },
        "nteract": {
          "transient": {
            "deleting": false
          }
        },
        "gather": {
          "logged": 1671292193417
        }
      }
    },
    {
      "cell_type": "code",
      "source": [
        "for city in ['Beijing_Zang']:\n",
        "    print(city)\n",
        "    dataset = Dataset.File.from_files(path=(datastore, f'fmri_1000_connectomes/{city}/sourcedata/*/anat/*.nii.gz'))\n",
        "    dataset.download(target_path=f'./dataset/{city}/MRI', overwrite=True)"
      ],
      "outputs": [
        {
          "output_type": "stream",
          "name": "stdout",
          "text": "Beijing_Zang\n"
        }
      ],
      "execution_count": 8,
      "metadata": {
        "jupyter": {
          "source_hidden": false,
          "outputs_hidden": false
        },
        "nteract": {
          "transient": {
            "deleting": false
          }
        },
        "gather": {
          "logged": 1671291939198
        }
      }
    },
    {
      "cell_type": "code",
      "source": [
        "from glob import glob\n",
        "len(glob(f'./dataset/{city}/MRI/*'))"
      ],
      "outputs": [
        {
          "output_type": "execute_result",
          "execution_count": 11,
          "data": {
            "text/plain": "197"
          },
          "metadata": {}
        }
      ],
      "execution_count": 11,
      "metadata": {
        "jupyter": {
          "source_hidden": false,
          "outputs_hidden": false
        },
        "nteract": {
          "transient": {
            "deleting": false
          }
        },
        "gather": {
          "logged": 1671292000002
        }
      }
    },
    {
      "cell_type": "code",
      "source": [],
      "outputs": [],
      "execution_count": null,
      "metadata": {
        "jupyter": {
          "source_hidden": false,
          "outputs_hidden": false
        },
        "nteract": {
          "transient": {
            "deleting": false
          }
        }
      }
    }
  ],
  "metadata": {
    "kernelspec": {
      "name": "python38-azureml",
      "language": "python",
      "display_name": "Python 3.8 - AzureML"
    },
    "language_info": {
      "name": "python",
      "version": "3.8.5",
      "mimetype": "text/x-python",
      "codemirror_mode": {
        "name": "ipython",
        "version": 3
      },
      "pygments_lexer": "ipython3",
      "nbconvert_exporter": "python",
      "file_extension": ".py"
    },
    "kernel_info": {
      "name": "python38-azureml"
    },
    "nteract": {
      "version": "nteract-front-end@1.0.0"
    },
    "microsoft": {
      "host": {
        "AzureML": {
          "notebookHasBeenCompleted": true
        }
      }
    }
  },
  "nbformat": 4,
  "nbformat_minor": 2
}