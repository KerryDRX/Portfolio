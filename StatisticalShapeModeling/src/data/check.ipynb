{
  "cells": [
    {
      "cell_type": "code",
      "source": [
        "import os\n",
        "import time\n",
        "import json\n",
        "import numpy as np\n",
        "from numpy import matlib\n",
        "import matplotlib.pyplot as plt \n",
        "import torch\n",
        "from torch import nn\n",
        "from torch.nn import functional as F\n",
        "from torch.utils.data import DataLoader\n",
        "from torch.optim.lr_scheduler import StepLR\n",
        "from DeepSSMUtils import model\n",
        "from DeepSSMUtils import losses\n",
        "from DeepSSMUtils import train_viz\n",
        "from shapeworks.utils import sw_message\n",
        "from shapeworks.utils import sw_progress\n",
        "from shapeworks.utils import sw_check_abort\n",
        "import warnings\n",
        "warnings.filterwarnings(\"ignore\")\n",
        "import os\n",
        "from glob import glob\n",
        "import platform\n",
        "import torch\n",
        "import random\n",
        "import numpy as np\n",
        "import subprocess\n",
        "import json\n",
        "from tqdm import tqdm\n",
        "import shapeworks as sw\n",
        "import DataAugmentationUtils\n",
        "import DeepSSMUtils"
      ],
      "outputs": [
        {
          "output_type": "stream",
          "name": "stderr",
          "text": "/anaconda/envs/shapeworks/lib/python3.7/site-packages/sklearn/linear_model/least_angle.py:30: DeprecationWarning: `np.float` is a deprecated alias for the builtin `float`. To silence this warning, use `float` by itself. Doing this will not modify any behavior and is safe. If you specifically wanted the numpy scalar type, use `np.float64` here.\nDeprecated in NumPy 1.20; for more details and guidance: https://numpy.org/devdocs/release/1.20.0-notes.html#deprecations\n  method='lar', copy_X=True, eps=np.finfo(np.float).eps,\n/anaconda/envs/shapeworks/lib/python3.7/site-packages/sklearn/linear_model/least_angle.py:167: DeprecationWarning: `np.float` is a deprecated alias for the builtin `float`. To silence this warning, use `float` by itself. Doing this will not modify any behavior and is safe. If you specifically wanted the numpy scalar type, use `np.float64` here.\nDeprecated in NumPy 1.20; for more details and guidance: https://numpy.org/devdocs/release/1.20.0-notes.html#deprecations\n  method='lar', copy_X=True, eps=np.finfo(np.float).eps,\n/anaconda/envs/shapeworks/lib/python3.7/site-packages/sklearn/linear_model/least_angle.py:284: DeprecationWarning: `np.float` is a deprecated alias for the builtin `float`. To silence this warning, use `float` by itself. Doing this will not modify any behavior and is safe. If you specifically wanted the numpy scalar type, use `np.float64` here.\nDeprecated in NumPy 1.20; for more details and guidance: https://numpy.org/devdocs/release/1.20.0-notes.html#deprecations\n  eps=np.finfo(np.float).eps, copy_Gram=True, verbose=0,\n/anaconda/envs/shapeworks/lib/python3.7/site-packages/sklearn/linear_model/least_angle.py:862: DeprecationWarning: `np.float` is a deprecated alias for the builtin `float`. To silence this warning, use `float` by itself. Doing this will not modify any behavior and is safe. If you specifically wanted the numpy scalar type, use `np.float64` here.\nDeprecated in NumPy 1.20; for more details and guidance: https://numpy.org/devdocs/release/1.20.0-notes.html#deprecations\n  eps=np.finfo(np.float).eps, copy_X=True, fit_path=True,\n/anaconda/envs/shapeworks/lib/python3.7/site-packages/sklearn/linear_model/least_angle.py:1101: DeprecationWarning: `np.float` is a deprecated alias for the builtin `float`. To silence this warning, use `float` by itself. Doing this will not modify any behavior and is safe. If you specifically wanted the numpy scalar type, use `np.float64` here.\nDeprecated in NumPy 1.20; for more details and guidance: https://numpy.org/devdocs/release/1.20.0-notes.html#deprecations\n  eps=np.finfo(np.float).eps, copy_X=True, fit_path=True,\n/anaconda/envs/shapeworks/lib/python3.7/site-packages/sklearn/linear_model/least_angle.py:1127: DeprecationWarning: `np.float` is a deprecated alias for the builtin `float`. To silence this warning, use `float` by itself. Doing this will not modify any behavior and is safe. If you specifically wanted the numpy scalar type, use `np.float64` here.\nDeprecated in NumPy 1.20; for more details and guidance: https://numpy.org/devdocs/release/1.20.0-notes.html#deprecations\n  eps=np.finfo(np.float).eps, positive=False):\n/anaconda/envs/shapeworks/lib/python3.7/site-packages/sklearn/linear_model/least_angle.py:1362: DeprecationWarning: `np.float` is a deprecated alias for the builtin `float`. To silence this warning, use `float` by itself. Doing this will not modify any behavior and is safe. If you specifically wanted the numpy scalar type, use `np.float64` here.\nDeprecated in NumPy 1.20; for more details and guidance: https://numpy.org/devdocs/release/1.20.0-notes.html#deprecations\n  max_n_alphas=1000, n_jobs=None, eps=np.finfo(np.float).eps,\n/anaconda/envs/shapeworks/lib/python3.7/site-packages/sklearn/linear_model/least_angle.py:1602: DeprecationWarning: `np.float` is a deprecated alias for the builtin `float`. To silence this warning, use `float` by itself. Doing this will not modify any behavior and is safe. If you specifically wanted the numpy scalar type, use `np.float64` here.\nDeprecated in NumPy 1.20; for more details and guidance: https://numpy.org/devdocs/release/1.20.0-notes.html#deprecations\n  max_n_alphas=1000, n_jobs=None, eps=np.finfo(np.float).eps,\n/anaconda/envs/shapeworks/lib/python3.7/site-packages/sklearn/linear_model/least_angle.py:1738: DeprecationWarning: `np.float` is a deprecated alias for the builtin `float`. To silence this warning, use `float` by itself. Doing this will not modify any behavior and is safe. If you specifically wanted the numpy scalar type, use `np.float64` here.\nDeprecated in NumPy 1.20; for more details and guidance: https://numpy.org/devdocs/release/1.20.0-notes.html#deprecations\n  eps=np.finfo(np.float).eps, copy_X=True, positive=False):\n/anaconda/envs/shapeworks/lib/python3.7/site-packages/sklearn/decomposition/online_lda.py:29: DeprecationWarning: `np.float` is a deprecated alias for the builtin `float`. To silence this warning, use `float` by itself. Doing this will not modify any behavior and is safe. If you specifically wanted the numpy scalar type, use `np.float64` here.\nDeprecated in NumPy 1.20; for more details and guidance: https://numpy.org/devdocs/release/1.20.0-notes.html#deprecations\n  EPS = np.finfo(np.float).eps\n"
        }
      ],
      "execution_count": 1,
      "metadata": {
        "gather": {
          "logged": 1675036690866
        }
      }
    },
    {
      "cell_type": "code",
      "source": [
        "import os\n"
      ],
      "outputs": [],
      "execution_count": null,
      "metadata": {
        "jupyter": {
          "source_hidden": false,
          "outputs_hidden": false
        },
        "nteract": {
          "transient": {
            "deleting": false
          }
        }
      }
    },
    {
      "cell_type": "code",
      "source": [],
      "outputs": [],
      "execution_count": null,
      "metadata": {
        "jupyter": {
          "source_hidden": false,
          "outputs_hidden": false
        },
        "nteract": {
          "transient": {
            "deleting": false
          }
        }
      }
    },
    {
      "cell_type": "code",
      "source": [
        "explained_var = 90\n",
        "train_loader = torch.load(\n",
        "    f'../dataset/All/Ventricles_64_3_cleaned/DeepSSM_rw1/torch_loaders{explained_var}/train', \n",
        ")\n",
        "val_loader = torch.load(\n",
        "    f'../dataset/All/Ventricles_64_3_cleaned/DeepSSM_rw1/torch_loaders{explained_var}/validation', \n",
        ")"
      ],
      "outputs": [],
      "execution_count": 2,
      "metadata": {
        "gather": {
          "logged": 1675036701116
        }
      }
    },
    {
      "cell_type": "code",
      "source": [
        "DEVICE = 'cuda'\n",
        "explained_var = 90\n",
        "config_file = f'../dataset/All/Ventricles_64_3_cleaned/DeepSSM_rw1/DeepSSM{explained_var}.json'\n",
        "net = model.DeepSSMNet(config_file)\n",
        "net.load_state_dict(\n",
        "    torch.load(\n",
        "        f'../dataset/All/Ventricles_64_3_cleaned/DeepSSM_rw1/DeepSSM{explained_var}/best_model.torch',\n",
        "    )\n",
        ")\n",
        "for param in net.parameters():\n",
        "    param.requires_grad = False\n",
        "net.to(DEVICE)\n",
        "net.eval();"
      ],
      "outputs": [
        {
          "output_type": "stream",
          "name": "stdout",
          "text": "MLP layers: 192 -> 96 -> 48 -> 23\n"
        }
      ],
      "execution_count": 3,
      "metadata": {
        "jupyter": {
          "source_hidden": false,
          "outputs_hidden": false
        },
        "nteract": {
          "transient": {
            "deleting": false
          }
        },
        "gather": {
          "logged": 1675036735124
        }
      }
    },
    {
      "cell_type": "code",
      "source": [
        "# train:    (0.5948880372851875, 0.24535532309374677)\n",
        "# val:      (0.7765622819782397, 0.4438534944976142)\n",
        "# val mean au: 0.6223745936647468\n",
        "# val mean eu: 0.769389968126192\n",
        "#\n",
        "aus, eus = [], []\n",
        "loader = val_loader\n",
        "for img, pca, mdl in tqdm(loader):\n",
        "    img = img.to(DEVICE)\n",
        "    pca = pca.to(DEVICE)\n",
        "    mdl = mdl.to(DEVICE)\n",
        "    [mu, v, alpha, beta], pred_mdl = net(img)\n",
        "    au = (beta / (alpha - 1)).mean().item() \n",
        "    eu = (beta / (v * (alpha - 1))).mean().item()\n",
        "    aus.append(au)\n",
        "    eus.append(eu)"
      ],
      "outputs": [
        {
          "output_type": "stream",
          "name": "stderr",
          "text": "100%|██████████| 109/109 [00:02<00:00, 46.75it/s]\n"
        }
      ],
      "execution_count": 6,
      "metadata": {
        "gather": {
          "logged": 1675037023425
        }
      }
    },
    {
      "cell_type": "code",
      "source": [
        "for threshold in np.linspace(0, 1, 11):\n",
        "    aus, eus = [], []\n",
        "    for _ in range(109):\n",
        "        img = torch.rand(1, 1, 64, 64, 64)\n",
        "        img = img = (img > threshold).float().to(DEVICE)\n",
        "        [mu, v, alpha, beta], pred_mdl = net(img)\n",
        "        au = (beta / (alpha - 1)).mean().item() \n",
        "        eu = (beta / (v * (alpha - 1))).mean().item()\n",
        "        aus.append(au)\n",
        "        eus.append(eu)\n",
        "    print(f'threshold: {threshold}')\n",
        "    print(f'Mean AU: {np.mean(aus)}')\n",
        "    print(f'Mean EU: {np.mean(eus)}\\n')"
      ],
      "outputs": [
        {
          "output_type": "stream",
          "name": "stdout",
          "text": "threshold: 0.0\nMean AU: 0.8326398653721591\nMean EU: 1.4714468072313782\n\nthreshold: 0.1\nMean AU: 1.1167246393107493\nMean EU: 7.3251694320538725\n\nthreshold: 0.2\nMean AU: 1.5439566953466572\nMean EU: 24.745871972600256\n\nthreshold: 0.30000000000000004\nMean AU: 1.7415634874903827\nMean EU: 33.829592591031975\n\nthreshold: 0.4\nMean AU: 1.9274511085737736\nMean EU: 34.81520728015025\n\nthreshold: 0.5\nMean AU: 2.0344065974611754\nMean EU: 25.319916628916328\n\nthreshold: 0.6000000000000001\nMean AU: 2.0131881422952773\nMean EU: 16.1954513558554\n\nthreshold: 0.7000000000000001\nMean AU: 1.846233098878773\nMean EU: 9.380124667368898\n\nthreshold: 0.8\nMean AU: 1.4991010941496683\nMean EU: 4.928198455670558\n\nthreshold: 0.9\nMean AU: 1.1168724314882121\nMean EU: 2.4027364603970027\n\nthreshold: 1.0\nMean AU: 0.9325690865516663\nMean EU: 1.3581233024597168\n\n"
        }
      ],
      "execution_count": 29,
      "metadata": {
        "jupyter": {
          "source_hidden": false,
          "outputs_hidden": false
        },
        "nteract": {
          "transient": {
            "deleting": false
          }
        },
        "gather": {
          "logged": 1675037657242
        }
      }
    },
    {
      "cell_type": "code",
      "source": [
        "img.shape"
      ],
      "outputs": [
        {
          "output_type": "execute_result",
          "execution_count": 12,
          "data": {
            "text/plain": "torch.Size([1, 1, 64, 64, 64])"
          },
          "metadata": {}
        }
      ],
      "execution_count": 12,
      "metadata": {
        "jupyter": {
          "source_hidden": false,
          "outputs_hidden": false
        },
        "nteract": {
          "transient": {
            "deleting": false
          }
        },
        "gather": {
          "logged": 1675037089233
        }
      }
    },
    {
      "cell_type": "code",
      "source": [
        "val_scores = np.load('../dataset/All/Ventricles_64_3_cleaned/DeepSSM_rw1/torch_loaders90/val_pca_scores.npy')\n",
        "val_scores.shape"
      ],
      "outputs": [
        {
          "output_type": "execute_result",
          "execution_count": 16,
          "data": {
            "text/plain": "(109, 23)"
          },
          "metadata": {}
        }
      ],
      "execution_count": 16,
      "metadata": {
        "jupyter": {
          "source_hidden": false,
          "outputs_hidden": false
        },
        "nteract": {
          "transient": {
            "deleting": false
          }
        },
        "gather": {
          "logged": 1675032765493
        }
      }
    },
    {
      "cell_type": "code",
      "source": [
        "temp = np.zeros((109, 23))\n",
        "for i, (img, pca, mdl) in enumerate(tqdm(val_loader)):\n",
        "    temp[i] = pca.numpy()"
      ],
      "outputs": [
        {
          "output_type": "stream",
          "name": "stderr",
          "text": "100%|██████████| 109/109 [00:00<00:00, 186.83it/s]\n"
        }
      ],
      "execution_count": 23,
      "metadata": {
        "jupyter": {
          "source_hidden": false,
          "outputs_hidden": false
        },
        "nteract": {
          "transient": {
            "deleting": false
          }
        },
        "gather": {
          "logged": 1675032903406
        }
      }
    },
    {
      "cell_type": "code",
      "source": [
        "temp.shape"
      ],
      "outputs": [
        {
          "output_type": "execute_result",
          "execution_count": 25,
          "data": {
            "text/plain": "(109, 23)"
          },
          "metadata": {}
        }
      ],
      "execution_count": 25,
      "metadata": {
        "jupyter": {
          "source_hidden": false,
          "outputs_hidden": false
        },
        "nteract": {
          "transient": {
            "deleting": false
          }
        },
        "gather": {
          "logged": 1675032922497
        }
      }
    },
    {
      "cell_type": "code",
      "source": [
        "plt.hist(val_scores[:, 0].flatten(), bins=30)\n",
        "plt.show()"
      ],
      "outputs": [
        {
          "output_type": "display_data",
          "data": {
            "text/plain": "<Figure size 640x480 with 1 Axes>",
            "image/png": "[encoded data removed]"
          },
          "metadata": {}
        }
      ],
      "execution_count": 27,
      "metadata": {
        "jupyter": {
          "source_hidden": false,
          "outputs_hidden": false
        },
        "nteract": {
          "transient": {
            "deleting": false
          }
        },
        "gather": {
          "logged": 1675032958242
        }
      }
    },
    {
      "cell_type": "code",
      "source": [
        "plt.hist(temp[:, 0].flatten(), bins=30)\n",
        "plt.show()"
      ],
      "outputs": [
        {
          "output_type": "display_data",
          "data": {
            "text/plain": "<Figure size 640x480 with 1 Axes>",
            "image/png": "[encoded data removed]"
          },
          "metadata": {}
        }
      ],
      "execution_count": 26,
      "metadata": {
        "jupyter": {
          "source_hidden": false,
          "outputs_hidden": false
        },
        "nteract": {
          "transient": {
            "deleting": false
          }
        },
        "gather": {
          "logged": 1675032935298
        }
      }
    },
    {
      "cell_type": "code",
      "source": [],
      "outputs": [],
      "execution_count": null,
      "metadata": {
        "jupyter": {
          "source_hidden": false,
          "outputs_hidden": false
        },
        "nteract": {
          "transient": {
            "deleting": false
          }
        }
      }
    }
  ],
  "metadata": {
    "kernelspec": {
      "name": "shapeworks",
      "language": "python",
      "display_name": "Python (shapeworks)"
    },
    "language_info": {
      "name": "python",
      "version": "3.7.8",
      "mimetype": "text/x-python",
      "codemirror_mode": {
        "name": "ipython",
        "version": 3
      },
      "pygments_lexer": "ipython3",
      "nbconvert_exporter": "python",
      "file_extension": ".py"
    },
    "toc": {
      "toc_position": {},
      "skip_h1_title": false,
      "number_sections": true,
      "title_cell": "Table of Contents",
      "toc_window_display": false,
      "base_numbering": 1,
      "toc_section_display": true,
      "title_sidebar": "Contents",
      "toc_cell": false,
      "nav_menu": {},
      "sideBar": true
    },
    "vscode": {
      "interpreter": {
        "hash": "20284889676a59d6a6b8edb213666d2e02cd0c9d2ca44919af197643ac84589d"
      }
    },
    "kernel_info": {
      "name": "shapeworks"
    },
    "microsoft": {
      "host": {
        "AzureML": {
          "notebookHasBeenCompleted": true
        }
      },
      "ms_spell_check": {
        "ms_spell_check_language": "en"
      }
    },
    "nteract": {
      "version": "nteract-front-end@1.0.0"
    }
  },
  "nbformat": 4,
  "nbformat_minor": 2
}