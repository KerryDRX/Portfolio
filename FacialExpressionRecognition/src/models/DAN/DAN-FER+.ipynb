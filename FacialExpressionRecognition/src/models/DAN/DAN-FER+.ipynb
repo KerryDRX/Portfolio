{
 "cells": [
  {
   "cell_type": "code",
   "execution_count": 1,
   "id": "c4b0da97",
   "metadata": {},
   "outputs": [
    {
     "name": "stderr",
     "output_type": "stream",
     "text": [
      "C:\\Users\\Darkl\\anaconda3\\envs\\mtcnn\\lib\\site-packages\\torchvision\\io\\image.py:11: UserWarning: Failed to load image Python extension: Could not find module 'C:\\Users\\Darkl\\anaconda3\\envs\\mtcnn\\Lib\\site-packages\\torchvision\\image.pyd' (or one of its dependencies). Try using the full path with constructor syntax.\n",
      "  warn(f\"Failed to load image Python extension: {e}\")\n"
     ]
    }
   ],
   "source": [
    "import os\n",
    "import warnings\n",
    "from tqdm.notebook import tqdm\n",
    "import copy\n",
    "from PIL import Image\n",
    "import numpy as np\n",
    "import pandas as pd\n",
    "import torch\n",
    "import torch.nn as nn\n",
    "import torch.utils.data as data\n",
    "from torchvision import transforms\n",
    "\n",
    "from networks.dan import DAN\n",
    "\n",
    "device = torch.device(\"cuda\" if torch.cuda.is_available() else \"cpu\")"
   ]
  },
  {
   "cell_type": "code",
   "execution_count": 2,
   "id": "649ee90e",
   "metadata": {},
   "outputs": [],
   "source": [
    "def warn(*args, **kwargs):\n",
    "    pass\n",
    "warnings.warn = warn\n",
    "\n",
    "def load_data(image_path, emotion_path, subset):\n",
    "    images = np.load(image_path)        # shape = (35393, 48, 48, 1)\n",
    "    # images = images/255.0\n",
    "    images = np.float32(images)\n",
    "    \n",
    "    if subset == 'train':\n",
    "        training_emotions = np.load(training_emotion_path)    # shape = (35393, 8)\n",
    "        training_emotions = np.float32(training_emotions)\n",
    "        return images[:training_size], training_emotions[:training_size]\n",
    "    if subset == 'test':\n",
    "        test_emotions = np.load(test_emotion_path)\n",
    "        test_emotions = np.float32(test_emotions)\n",
    "        return images[training_size:], test_emotions[training_size:]"
   ]
  },
  {
   "cell_type": "code",
   "execution_count": 3,
   "id": "08c69364",
   "metadata": {},
   "outputs": [],
   "source": [
    "class FERPlusDataset(data.Dataset):\n",
    "    def __init__(self, image_path, emotion_path, subset, transform = None):\n",
    "        self.transform = transform\n",
    "        assert(subset=='train' or subset=='test')\n",
    "        self.images, self.emotions = load_data(image_path, emotion_path, subset)\n",
    "\n",
    "    def __getitem__(self, index):\n",
    "        image = self.images[index]\n",
    "        emotion = self.emotions[index]\n",
    "        if self.transform is not None:\n",
    "            image = self.transform(image)\n",
    "        return image, emotion\n",
    "    \n",
    "    def __len__(self):\n",
    "        return len(self.images)"
   ]
  },
  {
   "cell_type": "code",
   "execution_count": 4,
   "id": "247b4f14",
   "metadata": {},
   "outputs": [],
   "source": [
    "class AffinityLoss(nn.Module):\n",
    "    def __init__(self, device, num_class=8, feat_dim=512):\n",
    "        super(AffinityLoss, self).__init__()\n",
    "        self.num_class = num_class\n",
    "        self.feat_dim = feat_dim\n",
    "        self.gap = nn.AdaptiveAvgPool2d(1)\n",
    "        self.device = device\n",
    "\n",
    "        self.centers = nn.Parameter(torch.randn(self.num_class, self.feat_dim).to(device))\n",
    "\n",
    "    def forward(self, x, labels):\n",
    "        x = self.gap(x).view(x.size(0), -1)\n",
    "\n",
    "        batch_size = x.size(0)\n",
    "        distmat = torch.pow(x, 2).sum(dim=1, keepdim=True).expand(batch_size, self.num_class) + \\\n",
    "                  torch.pow(self.centers, 2).sum(dim=1, keepdim=True).expand(self.num_class, batch_size).t()\n",
    "        distmat.addmm_(x, self.centers.t(), beta=1, alpha=-2)\n",
    "\n",
    "        classes = torch.arange(self.num_class).long().to(self.device)\n",
    "        labels = labels.expand(batch_size, self.num_class)\n",
    "        mask = labels.eq(classes.expand(batch_size, self.num_class))\n",
    "\n",
    "        dist = distmat * mask.float()\n",
    "        dist = dist / self.centers.var(dim=0).sum()\n",
    "\n",
    "        loss = dist.clamp(min=1e-12, max=1e+12).sum() / batch_size\n",
    "\n",
    "        return loss"
   ]
  },
  {
   "cell_type": "code",
   "execution_count": 5,
   "id": "1f8b05ad",
   "metadata": {},
   "outputs": [],
   "source": [
    "class PartitionLoss(nn.Module):\n",
    "    def __init__(self, ):\n",
    "        super(PartitionLoss, self).__init__()\n",
    "    \n",
    "    def forward(self, x):\n",
    "        num_head = x.size(1)\n",
    "\n",
    "        if num_head > 1:\n",
    "            var = x.var(dim=1).mean()\n",
    "            loss = torch.log(1+num_head/var)\n",
    "        else:\n",
    "            loss = 0\n",
    "            \n",
    "        return loss"
   ]
  },
  {
   "cell_type": "code",
   "execution_count": 6,
   "id": "15470568",
   "metadata": {},
   "outputs": [],
   "source": [
    "def accuracy(output, target):\n",
    "    batch_size = target.size(0)\n",
    "    acc = 0\n",
    "    for i in range(batch_size):\n",
    "        true = target[i]\n",
    "        pred = output[i]\n",
    "        index_max = torch.argmax(pred)\n",
    "        if true[index_max] == torch.max(true):\n",
    "            acc += 1\n",
    "    acc = float(acc)/batch_size\n",
    "    return acc"
   ]
  },
  {
   "cell_type": "code",
   "execution_count": 7,
   "id": "91d252fb",
   "metadata": {},
   "outputs": [],
   "source": [
    "batch_size=32\n",
    "num_head=4  # Number of attention head.\n",
    "training_size = 28317 + 3541\n",
    "\n",
    "image_path = '../dataset/aligned_images.npy'\n",
    "training_emotion_path = \"../dataset/emotions_multi.npy\"\n",
    "test_emotion_path = '../dataset/emotions_multi.npy'"
   ]
  },
  {
   "cell_type": "code",
   "execution_count": 8,
   "id": "468917c0",
   "metadata": {},
   "outputs": [
    {
     "name": "stdout",
     "output_type": "stream",
     "text": [
      "GPU True\n",
      "Whole train set size: 31858\n",
      "Validation set size: 3535\n"
     ]
    }
   ],
   "source": [
    "if torch.cuda.is_available():\n",
    "    torch.backends.cudnn.benchmark = True\n",
    "    torch.backends.cudnn.deterministic = True\n",
    "    torch.backends.cudnn.enabled = True\n",
    "print(\"GPU\",torch.cuda.is_available())\n",
    "\n",
    "model = DAN(num_head=num_head)\n",
    "model = model.to(device)\n",
    "\n",
    "data_transforms = transforms.Compose([\n",
    "    transforms.ToPILImage(),\n",
    "    transforms.Grayscale(num_output_channels=3),\n",
    "    transforms.Resize((224, 224)),\n",
    "    transforms.RandomHorizontalFlip(),\n",
    "    transforms.RandomApply([\n",
    "            transforms.RandomRotation(20),\n",
    "            transforms.RandomCrop(224, padding=32)\n",
    "        ], p=0.2),\n",
    "    transforms.ToTensor(),\n",
    "    transforms.Normalize(mean=[0.485, 0.456, 0.406],std=[0.229, 0.224, 0.225]),\n",
    "                                \n",
    "    transforms.RandomErasing(scale=(0.02,0.25)),\n",
    "    ])    \n",
    "train_dataset = FERPlusDataset(image_path=image_path, \n",
    "                               emotion_path=training_emotion_path, \n",
    "                               subset=\"train\", \n",
    "                               transform=data_transforms)    \n",
    "print('Whole train set size:', train_dataset.__len__())\n",
    "train_loader = torch.utils.data.DataLoader(\n",
    "    train_dataset,\n",
    "    batch_size=batch_size,\n",
    "    shuffle=True,\n",
    "    #num_workers=num_workers,\n",
    "    #pin_memory = True\n",
    ")\n",
    "\n",
    "data_transforms_val = transforms.Compose([\n",
    "    transforms.ToPILImage(),\n",
    "    transforms.Grayscale(num_output_channels=3),\n",
    "    transforms.Resize((224, 224)),\n",
    "    transforms.ToTensor(),\n",
    "    transforms.Normalize(mean=[0.485, 0.456, 0.406],std=[0.229, 0.224, 0.225])\n",
    "])\n",
    "                                   \n",
    "val_dataset = FERPlusDataset(image_path=image_path, \n",
    "                             emotion_path=test_emotion_path, \n",
    "                             subset=\"test\", \n",
    "                             transform=data_transforms_val) \n",
    "print('Validation set size:', val_dataset.__len__())\n",
    "val_loader = torch.utils.data.DataLoader(\n",
    "    val_dataset,\n",
    "    batch_size=batch_size,\n",
    "    shuffle=False,\n",
    "    #num_workers=num_workers,\n",
    "    #pin_memory = True\n",
    ")\n",
    "\n",
    "loss1 = AffinityLoss(device)\n",
    "loss2 = PartitionLoss()\n",
    "params = list(model.parameters()) + list(loss1.parameters())"
   ]
  },
  {
   "cell_type": "code",
   "execution_count": 9,
   "id": "9dd8673c",
   "metadata": {},
   "outputs": [],
   "source": [
    "def fit(model, epochs, lr, factor1=1, factor2=1, adam=False, mse=False):\n",
    "    \n",
    "    best_model = None\n",
    "    best_optim = None\n",
    "    best_acc = 0 \n",
    "    \n",
    "    with torch.no_grad():\n",
    "        \n",
    "        iter_cnt = 0\n",
    "        acc = 0\n",
    "        model.eval()\n",
    "        for (imgs, targets) in val_loader:\n",
    "            imgs = imgs.to(device)\n",
    "            targets = targets.to(device)\n",
    "            \n",
    "            out,feat,heads = model(imgs)\n",
    "            iter_cnt+=1\n",
    "            \n",
    "            correctness = accuracy(out, targets)\n",
    "            acc += correctness / len(val_loader)\n",
    "        best_acc = acc\n",
    "        best_model=copy.deepcopy(model.state_dict())\n",
    "        print(\"copy best successfully!\") \n",
    "        tqdm.write(\"Current best accuracy:%.4f.\" % (acc))\n",
    "        \n",
    "    if mse == True:\n",
    "        loss0 = torch.nn.MSELoss().to(device) \n",
    "    else:\n",
    "        loss0 = torch.nn.CrossEntropyLoss().to(device)\n",
    "\n",
    "    if adam == True:\n",
    "        optimizer = torch.optim.Adam(filter(lambda p: p.requires_grad, model.parameters()), lr=lr)\n",
    "    else:\n",
    "        optimizer = torch.optim.SGD(params,lr=lr, weight_decay = 1e-4, momentum=0.9)\n",
    "    scheduler = torch.optim.lr_scheduler.StepLR(optimizer, step_size=10, gamma=0.5)\n",
    "    \n",
    "    \n",
    "    for epoch in range(1, epochs + 1):\n",
    "        running_loss = 0.0\n",
    "        acc = 0\n",
    "        iter_cnt = 0\n",
    "        model.train()\n",
    "\n",
    "        for (imgs, targets) in tqdm(train_loader):\n",
    "            iter_cnt += 1\n",
    "            optimizer.zero_grad()\n",
    "            \n",
    "            imgs = imgs.to(device)\n",
    "            targets = targets.to(device)\n",
    "            out,feat,heads = model(imgs)\n",
    "            \n",
    "            loss = loss0(out,targets) + factor1*loss1(feat,targets) + factor2*loss2(heads)  #89.3 89.4\n",
    "\n",
    "            loss.backward()\n",
    "            optimizer.step()\n",
    "\n",
    "            running_loss += loss\n",
    "\n",
    "            correctness = (out.argmax(dim=1) == targets.argmax(dim=1)).float().mean()\n",
    "            acc += correctness / len(train_loader)\n",
    "\n",
    "        #acc = correct_sum.float() / float(train_dataset.__len__())\n",
    "        running_loss = running_loss/iter_cnt\n",
    "        tqdm.write('[Epoch %d] Training accuracy: %.4f. Loss: %.4f. LR %.6f' % (epoch, acc, running_loss, optimizer.param_groups[0]['lr']))\n",
    "\n",
    "        with torch.no_grad():\n",
    "            running_loss = 0.0\n",
    "            iter_cnt = 0\n",
    "            acc = 0\n",
    "            #bingo_cnt = 0\n",
    "            #sample_cnt = 0\n",
    "            #baccs = []\n",
    "\n",
    "            model.eval()\n",
    "            for (imgs, targets) in val_loader:\n",
    "                imgs = imgs.to(device)\n",
    "                targets = targets.to(device)\n",
    "\n",
    "                out,feat,heads = model(imgs)\n",
    "                loss = loss0(out,targets) + loss1(feat,targets) + loss2(heads)\n",
    "\n",
    "                running_loss += loss\n",
    "                iter_cnt+=1\n",
    "                #_, predicts = torch.max(out, 1)\n",
    "                #correct_num  = torch.eq(predicts,targets)\n",
    "                #bingo_cnt += correct_num.sum().cpu()\n",
    "                #sample_cnt += out.size(0)\n",
    "\n",
    "                correctness = accuracy(out, targets)\n",
    "                acc += correctness / len(val_loader)\n",
    "\n",
    "                #baccs.append(balanced_accuracy_score(targets.cpu().numpy(),predicts.cpu().numpy()))\n",
    "\n",
    "            running_loss = running_loss/iter_cnt   \n",
    "            #scheduler.step()\n",
    "\n",
    "            #acc = bingo_cnt.float()/float(sample_cnt)\n",
    "            #acc = np.around(acc.numpy(),4)\n",
    "            #bacc = np.around(np.mean(baccs),4)\n",
    "            tqdm.write(\"[Epoch %d] Validation accuracy:%.4f. Loss:%.4f\" % (epoch, acc,  running_loss))\n",
    "                            \n",
    "        if best_acc < acc:\n",
    "            best_acc = acc\n",
    "            best_model=copy.deepcopy(model.state_dict())\n",
    "            #best_optim=copy.deepcopy(optimizer.state_dict())\n",
    "            print(\"copy best successfully!\")    \n",
    "        tqdm.write(\"best_acc:\" + str(best_acc))\n",
    "            \n",
    "    if best_model is not None:\n",
    "        #optimizer.load_state_dict(best_optim)\n",
    "        model.load_state_dict(best_model)\n",
    "        print(\"load best successfully!\")    "
   ]
  },
  {
   "cell_type": "code",
   "execution_count": null,
   "id": "1a54fc50",
   "metadata": {
    "scrolled": false
   },
   "outputs": [
    {
     "name": "stdout",
     "output_type": "stream",
     "text": [
      "copy best successfully!\n",
      "Current best accuracy:0.0121.\n"
     ]
    },
    {
     "data": {
      "application/vnd.jupyter.widget-view+json": {
       "model_id": "46f787576b9144f0b8e81d1ce21b4ac7",
       "version_major": 2,
       "version_minor": 0
      },
      "text/plain": [
       "  0%|          | 0/996 [00:00<?, ?it/s]"
      ]
     },
     "metadata": {},
     "output_type": "display_data"
    },
    {
     "name": "stdout",
     "output_type": "stream",
     "text": [
      "[Epoch 1] Training accuracy: 0.7228. Loss: 1.2406. LR 0.100000\n",
      "[Epoch 1] Validation accuracy:0.7914. Loss:0.9896\n",
      "copy best successfully!\n",
      "best_acc:0.7914414414414411\n"
     ]
    },
    {
     "data": {
      "application/vnd.jupyter.widget-view+json": {
       "model_id": "d7957878302d4669883fb90063410cc1",
       "version_major": 2,
       "version_minor": 0
      },
      "text/plain": [
       "  0%|          | 0/996 [00:00<?, ?it/s]"
      ]
     },
     "metadata": {},
     "output_type": "display_data"
    },
    {
     "name": "stdout",
     "output_type": "stream",
     "text": [
      "[Epoch 2] Training accuracy: 0.7754. Loss: 0.9787. LR 0.100000\n",
      "[Epoch 2] Validation accuracy:0.8083. Loss:0.8911\n",
      "copy best successfully!\n",
      "best_acc:0.8083333333333331\n"
     ]
    },
    {
     "data": {
      "application/vnd.jupyter.widget-view+json": {
       "model_id": "fec1eef9e51741e1be5e6b74f680fbf0",
       "version_major": 2,
       "version_minor": 0
      },
      "text/plain": [
       "  0%|          | 0/996 [00:00<?, ?it/s]"
      ]
     },
     "metadata": {},
     "output_type": "display_data"
    },
    {
     "name": "stdout",
     "output_type": "stream",
     "text": [
      "[Epoch 3] Training accuracy: 0.7889. Loss: 0.9283. LR 0.100000\n",
      "[Epoch 3] Validation accuracy:0.8121. Loss:0.8773\n",
      "copy best successfully!\n",
      "best_acc:0.8120683183183177\n"
     ]
    },
    {
     "data": {
      "application/vnd.jupyter.widget-view+json": {
       "model_id": "b1519234d5854d31ad3664f60824667c",
       "version_major": 2,
       "version_minor": 0
      },
      "text/plain": [
       "  0%|          | 0/996 [00:00<?, ?it/s]"
      ]
     },
     "metadata": {},
     "output_type": "display_data"
    },
    {
     "name": "stdout",
     "output_type": "stream",
     "text": [
      "[Epoch 4] Training accuracy: 0.7987. Loss: 0.9101. LR 0.100000\n",
      "[Epoch 4] Validation accuracy:0.8013. Loss:0.8832\n",
      "best_acc:0.8120683183183177\n"
     ]
    },
    {
     "data": {
      "application/vnd.jupyter.widget-view+json": {
       "model_id": "8f06b780724542d4b6d2ab21666cc498",
       "version_major": 2,
       "version_minor": 0
      },
      "text/plain": [
       "  0%|          | 0/996 [00:00<?, ?it/s]"
      ]
     },
     "metadata": {},
     "output_type": "display_data"
    },
    {
     "name": "stdout",
     "output_type": "stream",
     "text": [
      "[Epoch 5] Training accuracy: 0.8019. Loss: 0.9058. LR 0.100000\n",
      "[Epoch 5] Validation accuracy:0.8095. Loss:0.8811\n",
      "best_acc:0.8120683183183177\n"
     ]
    },
    {
     "data": {
      "application/vnd.jupyter.widget-view+json": {
       "model_id": "64c854c67869457da2f8a4d423234e56",
       "version_major": 2,
       "version_minor": 0
      },
      "text/plain": [
       "  0%|          | 0/996 [00:00<?, ?it/s]"
      ]
     },
     "metadata": {},
     "output_type": "display_data"
    },
    {
     "name": "stdout",
     "output_type": "stream",
     "text": [
      "[Epoch 6] Training accuracy: 0.8029. Loss: 0.8962. LR 0.100000\n",
      "[Epoch 6] Validation accuracy:0.8203. Loss:0.8602\n",
      "copy best successfully!\n",
      "best_acc:0.8202702702702699\n"
     ]
    },
    {
     "data": {
      "application/vnd.jupyter.widget-view+json": {
       "model_id": "6cedcec2e3e54dd1ad933350b4974c82",
       "version_major": 2,
       "version_minor": 0
      },
      "text/plain": [
       "  0%|          | 0/996 [00:00<?, ?it/s]"
      ]
     },
     "metadata": {},
     "output_type": "display_data"
    },
    {
     "name": "stdout",
     "output_type": "stream",
     "text": [
      "[Epoch 7] Training accuracy: 0.8056. Loss: 0.8910. LR 0.100000\n",
      "[Epoch 7] Validation accuracy:0.7929. Loss:0.8875\n",
      "best_acc:0.8202702702702699\n"
     ]
    },
    {
     "data": {
      "application/vnd.jupyter.widget-view+json": {
       "model_id": "139b0a687f8a4b45a46d2a709b33b1ed",
       "version_major": 2,
       "version_minor": 0
      },
      "text/plain": [
       "  0%|          | 0/996 [00:00<?, ?it/s]"
      ]
     },
     "metadata": {},
     "output_type": "display_data"
    },
    {
     "name": "stdout",
     "output_type": "stream",
     "text": [
      "[Epoch 8] Training accuracy: 0.8087. Loss: 0.8927. LR 0.100000\n",
      "[Epoch 8] Validation accuracy:0.8286. Loss:0.8514\n",
      "copy best successfully!\n",
      "best_acc:0.8286411411411407\n"
     ]
    },
    {
     "data": {
      "application/vnd.jupyter.widget-view+json": {
       "model_id": "373e33ea7777498b8a9e50ef535a4b5e",
       "version_major": 2,
       "version_minor": 0
      },
      "text/plain": [
       "  0%|          | 0/996 [00:00<?, ?it/s]"
      ]
     },
     "metadata": {},
     "output_type": "display_data"
    },
    {
     "name": "stdout",
     "output_type": "stream",
     "text": [
      "[Epoch 9] Training accuracy: 0.8120. Loss: 0.8858. LR 0.100000\n",
      "[Epoch 9] Validation accuracy:0.8304. Loss:0.8600\n",
      "copy best successfully!\n",
      "best_acc:0.8304054054054049\n"
     ]
    },
    {
     "data": {
      "application/vnd.jupyter.widget-view+json": {
       "model_id": "214a4e22415b4ec4b3c77b0d95f163bc",
       "version_major": 2,
       "version_minor": 0
      },
      "text/plain": [
       "  0%|          | 0/996 [00:00<?, ?it/s]"
      ]
     },
     "metadata": {},
     "output_type": "display_data"
    },
    {
     "name": "stdout",
     "output_type": "stream",
     "text": [
      "[Epoch 10] Training accuracy: 0.8105. Loss: 0.8854. LR 0.100000\n",
      "[Epoch 10] Validation accuracy:0.8213. Loss:0.8470\n",
      "best_acc:0.8304054054054049\n",
      "load best successfully!\n",
      "copy best successfully!\n",
      "Current best accuracy:0.8304.\n"
     ]
    },
    {
     "data": {
      "application/vnd.jupyter.widget-view+json": {
       "model_id": "a7e73a0fa7934494b1f1a46fa11351df",
       "version_major": 2,
       "version_minor": 0
      },
      "text/plain": [
       "  0%|          | 0/996 [00:00<?, ?it/s]"
      ]
     },
     "metadata": {},
     "output_type": "display_data"
    },
    {
     "name": "stdout",
     "output_type": "stream",
     "text": [
      "[Epoch 1] Training accuracy: 0.8464. Loss: 0.8201. LR 0.020000\n",
      "[Epoch 1] Validation accuracy:0.8585. Loss:0.7908\n",
      "copy best successfully!\n",
      "best_acc:0.8585210210210202\n"
     ]
    },
    {
     "data": {
      "application/vnd.jupyter.widget-view+json": {
       "model_id": "ac685dfa529f4f3192f82c480a6846b4",
       "version_major": 2,
       "version_minor": 0
      },
      "text/plain": [
       "  0%|          | 0/996 [00:00<?, ?it/s]"
      ]
     },
     "metadata": {},
     "output_type": "display_data"
    },
    {
     "name": "stdout",
     "output_type": "stream",
     "text": [
      "[Epoch 2] Training accuracy: 0.8580. Loss: 0.8014. LR 0.020000\n",
      "[Epoch 2] Validation accuracy:0.8658. Loss:0.7835\n",
      "copy best successfully!\n",
      "best_acc:0.86584084084084\n"
     ]
    },
    {
     "data": {
      "application/vnd.jupyter.widget-view+json": {
       "model_id": "7191d0233ad04427b2bb4d368f6a4cf5",
       "version_major": 2,
       "version_minor": 0
      },
      "text/plain": [
       "  0%|          | 0/996 [00:00<?, ?it/s]"
      ]
     },
     "metadata": {},
     "output_type": "display_data"
    },
    {
     "name": "stdout",
     "output_type": "stream",
     "text": [
      "[Epoch 3] Training accuracy: 0.8638. Loss: 0.7899. LR 0.020000\n",
      "[Epoch 3] Validation accuracy:0.8684. Loss:0.7820\n",
      "copy best successfully!\n",
      "best_acc:0.8684496996996988\n"
     ]
    },
    {
     "data": {
      "application/vnd.jupyter.widget-view+json": {
       "model_id": "e59a5978ad2349f0829e1d2271bd1908",
       "version_major": 2,
       "version_minor": 0
      },
      "text/plain": [
       "  0%|          | 0/996 [00:00<?, ?it/s]"
      ]
     },
     "metadata": {},
     "output_type": "display_data"
    },
    {
     "name": "stdout",
     "output_type": "stream",
     "text": [
      "[Epoch 4] Training accuracy: 0.8662. Loss: 0.7827. LR 0.020000\n",
      "[Epoch 4] Validation accuracy:0.8673. Loss:0.7806\n",
      "best_acc:0.8684496996996988\n"
     ]
    },
    {
     "data": {
      "application/vnd.jupyter.widget-view+json": {
       "model_id": "8ccbd95882294c0a88e7c2377a6254f8",
       "version_major": 2,
       "version_minor": 0
      },
      "text/plain": [
       "  0%|          | 0/996 [00:00<?, ?it/s]"
      ]
     },
     "metadata": {},
     "output_type": "display_data"
    },
    {
     "name": "stdout",
     "output_type": "stream",
     "text": [
      "[Epoch 5] Training accuracy: 0.8690. Loss: 0.7769. LR 0.020000\n",
      "[Epoch 5] Validation accuracy:0.8679. Loss:0.7816\n",
      "best_acc:0.8684496996996988\n"
     ]
    },
    {
     "data": {
      "application/vnd.jupyter.widget-view+json": {
       "model_id": "322bf63dd490476e8409a23c131732a4",
       "version_major": 2,
       "version_minor": 0
      },
      "text/plain": [
       "  0%|          | 0/996 [00:00<?, ?it/s]"
      ]
     },
     "metadata": {},
     "output_type": "display_data"
    },
    {
     "name": "stdout",
     "output_type": "stream",
     "text": [
      "[Epoch 6] Training accuracy: 0.8710. Loss: 0.7735. LR 0.020000\n",
      "[Epoch 6] Validation accuracy:0.8628. Loss:0.7870\n",
      "best_acc:0.8684496996996988\n"
     ]
    },
    {
     "data": {
      "application/vnd.jupyter.widget-view+json": {
       "model_id": "66b28beeb56d4857af44807eab66dfb1",
       "version_major": 2,
       "version_minor": 0
      },
      "text/plain": [
       "  0%|          | 0/996 [00:00<?, ?it/s]"
      ]
     },
     "metadata": {},
     "output_type": "display_data"
    },
    {
     "name": "stdout",
     "output_type": "stream",
     "text": [
      "[Epoch 7] Training accuracy: 0.8746. Loss: 0.7674. LR 0.020000\n",
      "[Epoch 7] Validation accuracy:0.8642. Loss:0.7814\n",
      "best_acc:0.8684496996996988\n"
     ]
    },
    {
     "data": {
      "application/vnd.jupyter.widget-view+json": {
       "model_id": "fe5aa8558ae545378d627013d971746f",
       "version_major": 2,
       "version_minor": 0
      },
      "text/plain": [
       "  0%|          | 0/996 [00:00<?, ?it/s]"
      ]
     },
     "metadata": {},
     "output_type": "display_data"
    },
    {
     "name": "stdout",
     "output_type": "stream",
     "text": [
      "[Epoch 8] Training accuracy: 0.8757. Loss: 0.7623. LR 0.020000\n",
      "[Epoch 8] Validation accuracy:0.8639. Loss:0.7798\n",
      "best_acc:0.8684496996996988\n"
     ]
    },
    {
     "data": {
      "application/vnd.jupyter.widget-view+json": {
       "model_id": "8fdac79de96c40ceafe618f0c875350d",
       "version_major": 2,
       "version_minor": 0
      },
      "text/plain": [
       "  0%|          | 0/996 [00:00<?, ?it/s]"
      ]
     },
     "metadata": {},
     "output_type": "display_data"
    },
    {
     "name": "stdout",
     "output_type": "stream",
     "text": [
      "[Epoch 9] Training accuracy: 0.8758. Loss: 0.7605. LR 0.020000\n",
      "[Epoch 9] Validation accuracy:0.8611. Loss:0.7867\n",
      "best_acc:0.8684496996996988\n"
     ]
    },
    {
     "data": {
      "application/vnd.jupyter.widget-view+json": {
       "model_id": "da753d61cecc4bc2bd73bb357ccedada",
       "version_major": 2,
       "version_minor": 0
      },
      "text/plain": [
       "  0%|          | 0/996 [00:00<?, ?it/s]"
      ]
     },
     "metadata": {},
     "output_type": "display_data"
    },
    {
     "name": "stdout",
     "output_type": "stream",
     "text": [
      "[Epoch 10] Training accuracy: 0.8732. Loss: 0.7578. LR 0.020000\n",
      "[Epoch 10] Validation accuracy:0.8660. Loss:0.7836\n",
      "best_acc:0.8684496996996988\n",
      "load best successfully!\n",
      "copy best successfully!\n",
      "Current best accuracy:0.8684.\n"
     ]
    },
    {
     "data": {
      "application/vnd.jupyter.widget-view+json": {
       "model_id": "ed64a8b70d9f428a9e84615c565c7bdd",
       "version_major": 2,
       "version_minor": 0
      },
      "text/plain": [
       "  0%|          | 0/996 [00:00<?, ?it/s]"
      ]
     },
     "metadata": {},
     "output_type": "display_data"
    },
    {
     "name": "stdout",
     "output_type": "stream",
     "text": [
      "[Epoch 1] Training accuracy: 0.8726. Loss: 0.7747. LR 0.005000\n",
      "[Epoch 1] Validation accuracy:0.8713. Loss:0.7735\n",
      "copy best successfully!\n",
      "best_acc:0.871265015015014\n"
     ]
    },
    {
     "data": {
      "application/vnd.jupyter.widget-view+json": {
       "model_id": "a4e7f0a810dd4cb1855ce5c7bf615716",
       "version_major": 2,
       "version_minor": 0
      },
      "text/plain": [
       "  0%|          | 0/996 [00:00<?, ?it/s]"
      ]
     },
     "metadata": {},
     "output_type": "display_data"
    },
    {
     "name": "stdout",
     "output_type": "stream",
     "text": [
      "[Epoch 2] Training accuracy: 0.8743. Loss: 0.7684. LR 0.005000\n",
      "[Epoch 2] Validation accuracy:0.8704. Loss:0.7725\n",
      "best_acc:0.871265015015014\n"
     ]
    },
    {
     "data": {
      "application/vnd.jupyter.widget-view+json": {
       "model_id": "29e9acee211644e48b1a56724446c57c",
       "version_major": 2,
       "version_minor": 0
      },
      "text/plain": [
       "  0%|          | 0/996 [00:00<?, ?it/s]"
      ]
     },
     "metadata": {},
     "output_type": "display_data"
    },
    {
     "name": "stdout",
     "output_type": "stream",
     "text": [
      "[Epoch 3] Training accuracy: 0.8780. Loss: 0.7648. LR 0.005000\n",
      "[Epoch 3] Validation accuracy:0.8724. Loss:0.7729\n",
      "copy best successfully!\n",
      "best_acc:0.872353603603603\n"
     ]
    },
    {
     "data": {
      "application/vnd.jupyter.widget-view+json": {
       "model_id": "296a75fb1f2c4831ac725cf9a8b27db7",
       "version_major": 2,
       "version_minor": 0
      },
      "text/plain": [
       "  0%|          | 0/996 [00:00<?, ?it/s]"
      ]
     },
     "metadata": {},
     "output_type": "display_data"
    },
    {
     "name": "stdout",
     "output_type": "stream",
     "text": [
      "[Epoch 4] Training accuracy: 0.8793. Loss: 0.7612. LR 0.005000\n",
      "[Epoch 4] Validation accuracy:0.8746. Loss:0.7747\n",
      "copy best successfully!\n",
      "best_acc:0.8746058558558549\n"
     ]
    },
    {
     "data": {
      "application/vnd.jupyter.widget-view+json": {
       "model_id": "89d0c25779be4fe9a0ab84e18c785955",
       "version_major": 2,
       "version_minor": 0
      },
      "text/plain": [
       "  0%|          | 0/996 [00:00<?, ?it/s]"
      ]
     },
     "metadata": {},
     "output_type": "display_data"
    },
    {
     "name": "stdout",
     "output_type": "stream",
     "text": [
      "[Epoch 5] Training accuracy: 0.8822. Loss: 0.7580. LR 0.005000\n",
      "[Epoch 5] Validation accuracy:0.8755. Loss:0.7708\n",
      "copy best successfully!\n",
      "best_acc:0.8754879879879869\n"
     ]
    },
    {
     "data": {
      "application/vnd.jupyter.widget-view+json": {
       "model_id": "44d805eaa3834239a326d9e6d1e629c2",
       "version_major": 2,
       "version_minor": 0
      },
      "text/plain": [
       "  0%|          | 0/996 [00:00<?, ?it/s]"
      ]
     },
     "metadata": {},
     "output_type": "display_data"
    },
    {
     "name": "stdout",
     "output_type": "stream",
     "text": [
      "[Epoch 6] Training accuracy: 0.8799. Loss: 0.7586. LR 0.005000\n",
      "[Epoch 6] Validation accuracy:0.8718. Loss:0.7719\n",
      "best_acc:0.8754879879879869\n"
     ]
    },
    {
     "data": {
      "application/vnd.jupyter.widget-view+json": {
       "model_id": "28947f68acc0473bac81de3ad7aede0c",
       "version_major": 2,
       "version_minor": 0
      },
      "text/plain": [
       "  0%|          | 0/996 [00:00<?, ?it/s]"
      ]
     },
     "metadata": {},
     "output_type": "display_data"
    }
   ],
   "source": [
    "fit(model, epochs=10, lr=1e-1, factor1=1, factor2=1, adam=0, mse=0)\n",
    "fit(model, epochs=10, lr=2e-2, factor1=1, factor2=1, adam=0, mse=0)\n",
    "fit(model, epochs=10, lr=5e-3, factor1=1, factor2=1, adam=0, mse=0)\n",
    "fit(model, epochs=10, lr=1e-3, factor1=1, factor2=1, adam=0, mse=0)\n",
    "fit(model, epochs=10, lr=2e-4, factor1=1, factor2=1, adam=0, mse=0)"
   ]
  },
  {
   "cell_type": "code",
   "execution_count": null,
   "id": "3230ab50",
   "metadata": {},
   "outputs": [],
   "source": [
    "fit(model, epochs=5, lr=1e-4, factor1=1, factor2=1, adam=0, mse=0)"
   ]
  },
  {
   "cell_type": "code",
   "execution_count": null,
   "id": "f373f062",
   "metadata": {},
   "outputs": [],
   "source": [
    "fit(model, epochs=15, lr=1e-3, factor1=1, factor2=1, adam=0, mse=0)"
   ]
  },
  {
   "cell_type": "code",
   "execution_count": null,
   "id": "5b021275",
   "metadata": {},
   "outputs": [
    {
     "name": "stdout",
     "output_type": "stream",
     "text": [
      "copy best successfully!\n",
      "Current best accuracy:0.0417.\n"
     ]
    },
    {
     "data": {
      "application/vnd.jupyter.widget-view+json": {
       "model_id": "c2178675c6c44363a928345c36426906",
       "version_major": 2,
       "version_minor": 0
      },
      "text/plain": [
       "  0%|          | 0/996 [00:00<?, ?it/s]"
      ]
     },
     "metadata": {},
     "output_type": "display_data"
    },
    {
     "name": "stdout",
     "output_type": "stream",
     "text": [
      "[Epoch 1] Training accuracy: 0.3772. Loss: 0.0840. LR 0.100000\n",
      "[Epoch 1] Validation accuracy:0.2676. Loss:0.2061\n",
      "copy best successfully!\n",
      "best_acc:0.26756756756756755\n"
     ]
    },
    {
     "data": {
      "application/vnd.jupyter.widget-view+json": {
       "model_id": "01459561158240919cd5bec0e8a59ed6",
       "version_major": 2,
       "version_minor": 0
      },
      "text/plain": [
       "  0%|          | 0/996 [00:00<?, ?it/s]"
      ]
     },
     "metadata": {},
     "output_type": "display_data"
    },
    {
     "name": "stdout",
     "output_type": "stream",
     "text": [
      "[Epoch 2] Training accuracy: 0.5225. Loss: 0.0595. LR 0.100000\n",
      "[Epoch 2] Validation accuracy:0.5293. Loss:0.0574\n",
      "copy best successfully!\n",
      "best_acc:0.5292980480480479\n"
     ]
    },
    {
     "data": {
      "application/vnd.jupyter.widget-view+json": {
       "model_id": "2b0301c0916b43abbb761cf4ece93b9a",
       "version_major": 2,
       "version_minor": 0
      },
      "text/plain": [
       "  0%|          | 0/996 [00:00<?, ?it/s]"
      ]
     },
     "metadata": {},
     "output_type": "display_data"
    },
    {
     "name": "stdout",
     "output_type": "stream",
     "text": [
      "[Epoch 3] Training accuracy: 0.5986. Loss: 0.0496. LR 0.100000\n",
      "[Epoch 3] Validation accuracy:0.5580. Loss:0.0599\n",
      "copy best successfully!\n",
      "best_acc:0.5580142642642639\n"
     ]
    },
    {
     "data": {
      "application/vnd.jupyter.widget-view+json": {
       "model_id": "4f085f9e799a40deb02083b0338c815e",
       "version_major": 2,
       "version_minor": 0
      },
      "text/plain": [
       "  0%|          | 0/996 [00:00<?, ?it/s]"
      ]
     },
     "metadata": {},
     "output_type": "display_data"
    },
    {
     "name": "stdout",
     "output_type": "stream",
     "text": [
      "[Epoch 4] Training accuracy: 0.6365. Loss: 0.0441. LR 0.100000\n",
      "[Epoch 4] Validation accuracy:0.6954. Loss:0.0411\n",
      "copy best successfully!\n",
      "best_acc:0.6954016516516518\n"
     ]
    },
    {
     "data": {
      "application/vnd.jupyter.widget-view+json": {
       "model_id": "cc5037ce994446bbbd25412a82b64097",
       "version_major": 2,
       "version_minor": 0
      },
      "text/plain": [
       "  0%|          | 0/996 [00:00<?, ?it/s]"
      ]
     },
     "metadata": {},
     "output_type": "display_data"
    },
    {
     "name": "stdout",
     "output_type": "stream",
     "text": [
      "[Epoch 5] Training accuracy: 0.6599. Loss: 0.0410. LR 0.100000\n",
      "[Epoch 5] Validation accuracy:0.5776. Loss:0.0647\n",
      "best_acc:0.6954016516516518\n"
     ]
    },
    {
     "data": {
      "application/vnd.jupyter.widget-view+json": {
       "model_id": "301b71ec9211448ea3d19a6e13a21937",
       "version_major": 2,
       "version_minor": 0
      },
      "text/plain": [
       "  0%|          | 0/996 [00:00<?, ?it/s]"
      ]
     },
     "metadata": {},
     "output_type": "display_data"
    },
    {
     "name": "stdout",
     "output_type": "stream",
     "text": [
      "[Epoch 6] Training accuracy: 0.6771. Loss: 0.0395. LR 0.100000\n",
      "[Epoch 6] Validation accuracy:0.6676. Loss:0.0639\n",
      "best_acc:0.6954016516516518\n"
     ]
    },
    {
     "data": {
      "application/vnd.jupyter.widget-view+json": {
       "model_id": "37004a2d416f4daaafb08e634533bebd",
       "version_major": 2,
       "version_minor": 0
      },
      "text/plain": [
       "  0%|          | 0/996 [00:00<?, ?it/s]"
      ]
     },
     "metadata": {},
     "output_type": "display_data"
    }
   ],
   "source": [
    "torch.cuda.empty_cache()\n",
    "model = DAN(num_head=num_head)\n",
    "model = model.to(device)\n",
    "\n",
    "fit(model, epochs=10, lr=1e-1, factor1=1, factor2=1, adam=1, mse=1)\n",
    "fit(model, epochs=10, lr=2e-2, factor1=1, factor2=1, adam=1, mse=1)\n",
    "fit(model, epochs=10, lr=5e-3, factor1=1, factor2=1, adam=1, mse=1)\n",
    "fit(model, epochs=10, lr=1e-3, factor1=1, factor2=1, adam=1, mse=1)\n",
    "fit(model, epochs=10, lr=2e-4, factor1=1, factor2=1, adam=1, mse=1)\n",
    "torch.save({\n",
    "            'model_state_dict': model.state_dict(),},\n",
    "           os.path.join('checkpoints', \"fer11.pth\"))\n",
    "tqdm.write('Model saved.')"
   ]
  },
  {
   "cell_type": "code",
   "execution_count": null,
   "id": "302c93e1",
   "metadata": {},
   "outputs": [],
   "source": [
    "torch.cuda.empty_cache()\n",
    "model = DAN(num_head=num_head)\n",
    "model = model.to(device)\n",
    "\n",
    "fit(model, epochs=10, lr=1e-1, factor1=1, factor2=1, adam=0, mse=0)\n",
    "fit(model, epochs=10, lr=2e-2, factor1=1, factor2=1, adam=0, mse=0)\n",
    "fit(model, epochs=10, lr=5e-3, factor1=1, factor2=1, adam=0, mse=0)\n",
    "fit(model, epochs=10, lr=1e-3, factor1=1, factor2=1, adam=0, mse=0)\n",
    "fit(model, epochs=10, lr=2e-4, factor1=1, factor2=1, adam=0, mse=0)\n",
    "torch.save({\n",
    "            'model_state_dict': model.state_dict(),},\n",
    "           os.path.join('checkpoints', \"fer00.pth\"))\n",
    "tqdm.write('Model saved.')"
   ]
  },
  {
   "cell_type": "code",
   "execution_count": null,
   "id": "71193d53",
   "metadata": {},
   "outputs": [],
   "source": [
    "torch.cuda.empty_cache()\n",
    "model = DAN(num_head=num_head)\n",
    "model = model.to(device)\n",
    "\n",
    "fit(model, epochs=10, lr=1e-1, factor1=1, factor2=1, adam=1, mse=0)\n",
    "fit(model, epochs=10, lr=2e-2, factor1=1, factor2=1, adam=1, mse=0)\n",
    "fit(model, epochs=10, lr=5e-3, factor1=1, factor2=1, adam=1, mse=0)\n",
    "fit(model, epochs=10, lr=1e-3, factor1=1, factor2=1, adam=1, mse=0)\n",
    "fit(model, epochs=10, lr=2e-4, factor1=1, factor2=1, adam=1, mse=0)\n",
    "torch.save({\n",
    "            'model_state_dict': model.state_dict(),},\n",
    "           os.path.join('checkpoints', \"fer10.pth\"))\n",
    "tqdm.write('Model saved.')"
   ]
  }
 ],
 "metadata": {
  "kernelspec": {
   "display_name": "Python 3.8.2 64-bit",
   "language": "python",
   "name": "python3"
  },
  "language_info": {
   "codemirror_mode": {
    "name": "ipython",
    "version": 3
   },
   "file_extension": ".py",
   "mimetype": "text/x-python",
   "name": "python",
   "nbconvert_exporter": "python",
   "pygments_lexer": "ipython3",
   "version": "3.8.2"
  },
  "vscode": {
   "interpreter": {
    "hash": "31f2aee4e71d21fbe5cf8b01ff0e069b9275f58929596ceb00d14d90e3e16cd6"
   }
  }
 },
 "nbformat": 4,
 "nbformat_minor": 5
}
