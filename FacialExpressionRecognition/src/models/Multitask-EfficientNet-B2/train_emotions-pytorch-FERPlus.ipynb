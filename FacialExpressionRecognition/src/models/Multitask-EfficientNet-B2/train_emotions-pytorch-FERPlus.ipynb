{
 "cells": [
  {
   "cell_type": "code",
   "execution_count": 1,
   "metadata": {},
   "outputs": [
    {
     "name": "stdout",
     "output_type": "stream",
     "text": [
      "Torch: 1.10.2\n"
     ]
    },
    {
     "name": "stderr",
     "output_type": "stream",
     "text": [
      "C:\\Users\\Darkl\\anaconda3\\envs\\mtcnn\\lib\\site-packages\\torchvision\\io\\image.py:11: UserWarning: Failed to load image Python extension: Could not find module 'C:\\Users\\Darkl\\anaconda3\\envs\\mtcnn\\Lib\\site-packages\\torchvision\\image.pyd' (or one of its dependencies). Try using the full path with constructor syntax.\n",
      "  warn(f\"Failed to load image Python extension: {e}\")\n"
     ]
    }
   ],
   "source": [
    "import os\n",
    "import numpy as np\n",
    "from sklearn.preprocessing import LabelEncoder\n",
    "import matplotlib.pyplot as plt\n",
    "import cv2\n",
    "from PIL import Image\n",
    "from random import shuffle\n",
    "\n",
    "import pandas as pd\n",
    "\n",
    "import pickle\n",
    "\n",
    "from sklearn.svm import SVC,LinearSVC\n",
    "from sklearn.ensemble import RandomForestClassifier, BaggingClassifier,ExtraTreesClassifier\n",
    "from sklearn import svm,metrics,preprocessing\n",
    "from sklearn.neighbors import KNeighborsClassifier\n",
    "from sklearn.neural_network import MLPClassifier\n",
    "from sklearn import preprocessing\n",
    "\n",
    "#from scipy.misc import imread, imresize\n",
    "%matplotlib inline\n",
    "\n",
    "import glob\n",
    "from itertools import chain\n",
    "import os\n",
    "import random\n",
    "import zipfile\n",
    "\n",
    "import matplotlib.pyplot as plt\n",
    "import numpy as np\n",
    "import pandas as pd\n",
    "import torch\n",
    "import torch.nn as nn\n",
    "import torch.nn.functional as F\n",
    "import torch.optim as optim\n",
    "from PIL import Image\n",
    "from sklearn.model_selection import train_test_split\n",
    "from torch.optim.lr_scheduler import StepLR\n",
    "from torch.utils.data import DataLoader, Dataset\n",
    "from torchvision import datasets, transforms\n",
    "from tqdm import tqdm\n",
    "from robust_optimization import RobustOptimizer\n",
    "import copy\n",
    "import timm\n",
    "import torch.utils.data as data\n",
    "\n",
    "print(f\"Torch: {torch.__version__}\")"
   ]
  },
  {
   "cell_type": "code",
   "execution_count": 2,
   "metadata": {},
   "outputs": [
    {
     "name": "stdout",
     "output_type": "stream",
     "text": [
      "True\n"
     ]
    }
   ],
   "source": [
    "# Training settings\n",
    "batch_size = 32\n",
    "epochs = 40\n",
    "lr = 3e-5\n",
    "\n",
    "device = torch.device(\"cuda\" if torch.cuda.is_available() else \"cpu\")\n",
    "print(torch.cuda.is_available())\n",
    "\n",
    "training_size = 28317 + 3541\n",
    "IMG_SIZE=260\n",
    "image_path = '../dataset/images.npy'\n",
    "training_emotion_path = \"../dataset/emotions_1.npy\"\n",
    "test_emotion_path = '../dataset/emotions_multi.npy'"
   ]
  },
  {
   "cell_type": "code",
   "execution_count": 3,
   "metadata": {},
   "outputs": [],
   "source": [
    "'''\n",
    "def load_data(image_path, training_emotion_path, subset):\n",
    "    images = np.load(image_path)        # shape = (35393, 48, 48, 1)\n",
    "    # images = images/255.0\n",
    "    images = np.float32(images)\n",
    "    \n",
    "    if subset == 'train':\n",
    "        training_emotions = np.load(training_emotion_path)    # shape = (35393, 8)\n",
    "        training_emotions = np.float32(training_emotions)\n",
    "        return images[:training_size], training_emotions[:training_size]\n",
    "    if subset == 'test':\n",
    "        test_emotions = np.load(test_emotion_path)\n",
    "        test_emotions = np.float32(test_emotions)\n",
    "        return images[training_size:], test_emotions[training_size:]\n",
    "'''\n",
    "sample_size = 35393\n",
    "training_size = 28317 + 3541\n",
    "emotions = np.load(test_emotion_path)\n",
    "test_subset_indices = []\n",
    "for i in range(sample_size):\n",
    "    if np.count_nonzero(emotions[i] > 0) >= 4:\n",
    "        test_subset_indices.append(i)\n",
    "test_subset_indices = random.sample(test_subset_indices, k=sample_size-training_size)\n",
    "train_subset_indices = [item for item in range(sample_size) if not item in test_subset_indices]\n",
    "\n",
    "def load_data(image_path, training_emotion_path, subset):\n",
    "    images = np.load(image_path)   \n",
    "    images = np.float32(images)\n",
    "    if subset == 'train':\n",
    "        training_emotions = np.load(training_emotion_path) \n",
    "        training_emotions = np.float32(training_emotions)\n",
    "        return images[train_subset_indices], training_emotions[train_subset_indices]\n",
    "    if subset == 'test':\n",
    "        test_emotions = np.load(test_emotion_path)\n",
    "        test_emotions = np.float32(test_emotions)\n",
    "        return images[test_subset_indices], test_emotions[test_subset_indices]\n",
    "    \n",
    "def img_proc(img):\n",
    "    img = torch.tensor(img)                             # (48, 48, 1)\n",
    "    img = torch.reshape(img, (1, 48, 48))               # (1, 48, 48)\n",
    "    img = transforms.Resize([IMG_SIZE, IMG_SIZE])(img)  # (1, 260, 260)\n",
    "    # transforms.Normalize(mean=[0.485, 0.456, 0.406], std=[0.229, 0.224, 0.225])\n",
    "    img = img.repeat(3, 1, 1)                           # (3, 260, 260)\n",
    "    return img\n",
    "\n",
    "class FERPlusDataset(data.Dataset):\n",
    "    def __init__(self, image_path, training_emotion_path, subset):\n",
    "        assert(subset=='train' or subset=='test')\n",
    "        self.images, self.emotions = load_data(image_path, training_emotion_path, subset)\n",
    "\n",
    "    def __getitem__(self, index):\n",
    "        image = self.images[index]\n",
    "        emotion = self.emotions[index]\n",
    "\n",
    "        return img_proc(image), emotion\n",
    "\n",
    "    def __len__(self):\n",
    "        return len(self.images)\n",
    "\n",
    "train_loader = torch.utils.data.DataLoader(\n",
    "    FERPlusDataset(\n",
    "        image_path,\n",
    "        training_emotion_path,\n",
    "        'train'\n",
    "    ),\n",
    "    batch_size=batch_size,\n",
    "    shuffle=True,\n",
    ")\n",
    "\n",
    "val_loader = torch.utils.data.DataLoader(\n",
    "    FERPlusDataset(\n",
    "        image_path,\n",
    "        training_emotion_path,\n",
    "        'test'\n",
    "    ),\n",
    "    batch_size=batch_size,\n",
    "    shuffle=False,\n",
    ")\n",
    "\n",
    "def accuracy(output, target):\n",
    "    batch_size = target.size(0)\n",
    "    acc = 0\n",
    "    for i in range(batch_size):\n",
    "        true = target[i]\n",
    "        pred = output[i]\n",
    "        index_max = torch.argmax(pred)\n",
    "        if true[index_max] == torch.max(true):\n",
    "            acc += 1\n",
    "    acc = float(acc)/batch_size\n",
    "    return acc"
   ]
  },
  {
   "cell_type": "code",
   "execution_count": 4,
   "metadata": {},
   "outputs": [],
   "source": [
    "def train(model,n_epochs=epochs, learningrate=lr, robust=False):\n",
    "    # optimizer\n",
    "    if robust:\n",
    "        optimizer = RobustOptimizer(filter(lambda p: p.requires_grad, model.parameters()), optim.Adam, lr=learningrate)\n",
    "    else:\n",
    "        optimizer=optim.Adam(filter(lambda p: p.requires_grad, model.parameters()), lr=learningrate)\n",
    "\n",
    "    best_acc=0\n",
    "    best_model=None\n",
    "    for epoch in range(n_epochs):\n",
    "        epoch_loss = 0\n",
    "        epoch_accuracy = 0\n",
    "        model.train()\n",
    "        for img, label in tqdm(train_loader):\n",
    "            img = img.to(device)\n",
    "            label = label.to(device)\n",
    "\n",
    "            output = model(img)\n",
    "            loss = criterion(output, label)\n",
    "\n",
    "            if robust:\n",
    "                #optimizer.zero_grad()\n",
    "                loss.backward()\n",
    "                optimizer.first_step(zero_grad=True)\n",
    "  \n",
    "                # second forward-backward pass\n",
    "                output = model(img)\n",
    "                loss = criterion(output, label)\n",
    "                loss.backward()\n",
    "                optimizer.second_step(zero_grad=True)\n",
    "            else:\n",
    "                optimizer.zero_grad()\n",
    "                loss.backward()\n",
    "                optimizer.step()\n",
    "\n",
    "            acc = (output.argmax(dim=1) == label.argmax(dim=1)).float().mean()\n",
    "            epoch_accuracy += acc / len(train_loader)\n",
    "            epoch_loss += loss / len(train_loader)\n",
    "\n",
    "        model.eval()\n",
    "        with torch.no_grad():\n",
    "            epoch_val_accuracy = 0\n",
    "            epoch_val_loss = 0\n",
    "            for img, label in val_loader:\n",
    "                img = img.to(device)\n",
    "                label = label.to(device)\n",
    "\n",
    "                val_output = model(img)\n",
    "                val_loss = criterion(val_output, label)\n",
    "\n",
    "                acc = accuracy(val_output, label)\n",
    "                epoch_val_accuracy += acc / len(val_loader)\n",
    "                epoch_val_loss += val_loss / len(val_loader)\n",
    "\n",
    "        print(\n",
    "            f\"Epoch : {epoch+1} - loss : {epoch_loss:.4f} - acc: {epoch_accuracy:.4f} - val_loss : {epoch_val_loss:.4f} - val_acc: {epoch_val_accuracy:.4f}\\n\"\n",
    "        )\n",
    "        if best_acc<epoch_val_accuracy:\n",
    "            best_acc=epoch_val_accuracy\n",
    "            best_model=copy.deepcopy(model.state_dict())\n",
    "        #scheduler.step()\n",
    "    \n",
    "    if best_model is not None:\n",
    "        model.load_state_dict(best_model)\n",
    "        print(f\"Best acc:{best_acc}\")\n",
    "        model.eval()\n",
    "        with torch.no_grad():\n",
    "            epoch_val_accuracy = 0\n",
    "            epoch_val_loss = 0\n",
    "            for img, label in val_loader:\n",
    "                img = img.to(device)\n",
    "                label = label.to(device)\n",
    "\n",
    "                val_output = model(img)\n",
    "                val_loss = criterion(val_output, label)\n",
    "\n",
    "                acc = accuracy(val_output, label)\n",
    "                epoch_val_accuracy += acc / len(val_loader)\n",
    "                epoch_val_loss += val_loss / len(val_loader)\n",
    "\n",
    "        print(\n",
    "            f\"val_loss : {epoch_val_loss:.4f} - val_acc: {epoch_val_accuracy:.4f}\\n\"\n",
    "        )\n",
    "    else:\n",
    "        print(f\"No best model Best acc:{best_acc}\")"
   ]
  },
  {
   "cell_type": "code",
   "execution_count": 5,
   "metadata": {},
   "outputs": [],
   "source": [
    "def set_parameter_requires_grad(model, requires_grad):\n",
    "    for param in model.parameters():\n",
    "        param.requires_grad = requires_grad"
   ]
  },
  {
   "cell_type": "code",
   "execution_count": 6,
   "metadata": {},
   "outputs": [],
   "source": [
    "criterion = nn.MSELoss().to(device) \n",
    "model=timm.create_model('tf_efficientnet_b0_ns', pretrained=False)\n",
    "model.classifier=torch.nn.Identity()\n",
    "model.load_state_dict(torch.load('state_vggface2_enet0_new.pt'))\n",
    "\n",
    "model.classifier=nn.Sequential(nn.Linear(in_features=1280, out_features=8))\n",
    "model=model.to(device)"
   ]
  },
  {
   "cell_type": "code",
   "execution_count": 7,
   "metadata": {
    "scrolled": true
   },
   "outputs": [
    {
     "name": "stderr",
     "output_type": "stream",
     "text": [
      "100%|████████████████████████████████████████████████████████████████████████████████| 996/996 [00:47<00:00, 20.83it/s]\n"
     ]
    },
    {
     "name": "stdout",
     "output_type": "stream",
     "text": [
      "Epoch : 1 - loss : 0.0585 - acc: 0.7440 - val_loss : 0.0343 - val_acc: 0.5503\n",
      "\n"
     ]
    },
    {
     "name": "stderr",
     "output_type": "stream",
     "text": [
      "100%|████████████████████████████████████████████████████████████████████████████████| 996/996 [00:45<00:00, 21.83it/s]\n"
     ]
    },
    {
     "name": "stdout",
     "output_type": "stream",
     "text": [
      "Epoch : 2 - loss : 0.0523 - acc: 0.7785 - val_loss : 0.0331 - val_acc: 0.5501\n",
      "\n"
     ]
    },
    {
     "name": "stderr",
     "output_type": "stream",
     "text": [
      "100%|████████████████████████████████████████████████████████████████████████████████| 996/996 [00:44<00:00, 22.27it/s]\n"
     ]
    },
    {
     "name": "stdout",
     "output_type": "stream",
     "text": [
      "Epoch : 3 - loss : 0.0511 - acc: 0.7903 - val_loss : 0.0333 - val_acc: 0.5352\n",
      "\n"
     ]
    },
    {
     "name": "stderr",
     "output_type": "stream",
     "text": [
      "100%|████████████████████████████████████████████████████████████████████████████████| 996/996 [00:45<00:00, 21.93it/s]\n"
     ]
    },
    {
     "name": "stdout",
     "output_type": "stream",
     "text": [
      "Epoch : 4 - loss : 0.0507 - acc: 0.7886 - val_loss : 0.0311 - val_acc: 0.5532\n",
      "\n"
     ]
    },
    {
     "name": "stderr",
     "output_type": "stream",
     "text": [
      "100%|████████████████████████████████████████████████████████████████████████████████| 996/996 [00:44<00:00, 22.16it/s]\n"
     ]
    },
    {
     "name": "stdout",
     "output_type": "stream",
     "text": [
      "Epoch : 5 - loss : 0.0502 - acc: 0.7925 - val_loss : 0.0342 - val_acc: 0.5441\n",
      "\n"
     ]
    },
    {
     "name": "stderr",
     "output_type": "stream",
     "text": [
      "100%|████████████████████████████████████████████████████████████████████████████████| 996/996 [00:45<00:00, 21.93it/s]\n"
     ]
    },
    {
     "name": "stdout",
     "output_type": "stream",
     "text": [
      "Epoch : 6 - loss : 0.0503 - acc: 0.7919 - val_loss : 0.0321 - val_acc: 0.5352\n",
      "\n"
     ]
    },
    {
     "name": "stderr",
     "output_type": "stream",
     "text": [
      "100%|████████████████████████████████████████████████████████████████████████████████| 996/996 [00:45<00:00, 21.83it/s]\n"
     ]
    },
    {
     "name": "stdout",
     "output_type": "stream",
     "text": [
      "Epoch : 7 - loss : 0.0501 - acc: 0.7959 - val_loss : 0.0375 - val_acc: 0.5690\n",
      "\n"
     ]
    },
    {
     "name": "stderr",
     "output_type": "stream",
     "text": [
      "100%|████████████████████████████████████████████████████████████████████████████████| 996/996 [00:46<00:00, 21.64it/s]\n"
     ]
    },
    {
     "name": "stdout",
     "output_type": "stream",
     "text": [
      "Epoch : 8 - loss : 0.0499 - acc: 0.7938 - val_loss : 0.0350 - val_acc: 0.5687\n",
      "\n"
     ]
    },
    {
     "name": "stderr",
     "output_type": "stream",
     "text": [
      "100%|████████████████████████████████████████████████████████████████████████████████| 996/996 [00:44<00:00, 22.18it/s]\n"
     ]
    },
    {
     "name": "stdout",
     "output_type": "stream",
     "text": [
      "Epoch : 9 - loss : 0.0502 - acc: 0.7944 - val_loss : 0.0337 - val_acc: 0.5661\n",
      "\n"
     ]
    },
    {
     "name": "stderr",
     "output_type": "stream",
     "text": [
      "100%|████████████████████████████████████████████████████████████████████████████████| 996/996 [00:44<00:00, 22.15it/s]\n"
     ]
    },
    {
     "name": "stdout",
     "output_type": "stream",
     "text": [
      "Epoch : 10 - loss : 0.0501 - acc: 0.7970 - val_loss : 0.0392 - val_acc: 0.5527\n",
      "\n",
      "Best acc:0.5689564564564563\n",
      "val_loss : 0.0375 - val_acc: 0.5690\n",
      "\n"
     ]
    }
   ],
   "source": [
    "set_parameter_requires_grad(model, requires_grad=False)\n",
    "set_parameter_requires_grad(model.classifier, requires_grad=True)\n",
    "train(model, 10, 1e-3, robust=False)"
   ]
  },
  {
   "cell_type": "code",
   "execution_count": 8,
   "metadata": {},
   "outputs": [
    {
     "name": "stderr",
     "output_type": "stream",
     "text": [
      "100%|████████████████████████████████████████████████████████████████████████████████| 996/996 [02:35<00:00,  6.40it/s]\n"
     ]
    },
    {
     "name": "stdout",
     "output_type": "stream",
     "text": [
      "Epoch : 1 - loss : 0.0385 - acc: 0.8374 - val_loss : 0.0254 - val_acc: 0.6409\n",
      "\n"
     ]
    },
    {
     "name": "stderr",
     "output_type": "stream",
     "text": [
      "100%|████████████████████████████████████████████████████████████████████████████████| 996/996 [02:33<00:00,  6.48it/s]\n"
     ]
    },
    {
     "name": "stdout",
     "output_type": "stream",
     "text": [
      "Epoch : 2 - loss : 0.0295 - acc: 0.8769 - val_loss : 0.0265 - val_acc: 0.6570\n",
      "\n"
     ]
    },
    {
     "name": "stderr",
     "output_type": "stream",
     "text": [
      "100%|████████████████████████████████████████████████████████████████████████████████| 996/996 [02:33<00:00,  6.48it/s]\n"
     ]
    },
    {
     "name": "stdout",
     "output_type": "stream",
     "text": [
      "Epoch : 3 - loss : 0.0242 - acc: 0.9006 - val_loss : 0.0269 - val_acc: 0.6668\n",
      "\n"
     ]
    },
    {
     "name": "stderr",
     "output_type": "stream",
     "text": [
      "100%|████████████████████████████████████████████████████████████████████████████████| 996/996 [02:33<00:00,  6.48it/s]\n"
     ]
    },
    {
     "name": "stdout",
     "output_type": "stream",
     "text": [
      "Epoch : 4 - loss : 0.0196 - acc: 0.9258 - val_loss : 0.0309 - val_acc: 0.6685\n",
      "\n"
     ]
    },
    {
     "name": "stderr",
     "output_type": "stream",
     "text": [
      "100%|████████████████████████████████████████████████████████████████████████████████| 996/996 [02:33<00:00,  6.48it/s]\n"
     ]
    },
    {
     "name": "stdout",
     "output_type": "stream",
     "text": [
      "Epoch : 5 - loss : 0.0159 - acc: 0.9439 - val_loss : 0.0312 - val_acc: 0.6733\n",
      "\n"
     ]
    },
    {
     "name": "stderr",
     "output_type": "stream",
     "text": [
      "100%|████████████████████████████████████████████████████████████████████████████████| 996/996 [02:33<00:00,  6.48it/s]\n"
     ]
    },
    {
     "name": "stdout",
     "output_type": "stream",
     "text": [
      "Epoch : 6 - loss : 0.0128 - acc: 0.9572 - val_loss : 0.0337 - val_acc: 0.6697\n",
      "\n"
     ]
    },
    {
     "name": "stderr",
     "output_type": "stream",
     "text": [
      "100%|████████████████████████████████████████████████████████████████████████████████| 996/996 [02:33<00:00,  6.48it/s]\n"
     ]
    },
    {
     "name": "stdout",
     "output_type": "stream",
     "text": [
      "Epoch : 7 - loss : 0.0102 - acc: 0.9675 - val_loss : 0.0360 - val_acc: 0.6736\n",
      "\n"
     ]
    },
    {
     "name": "stderr",
     "output_type": "stream",
     "text": [
      "100%|████████████████████████████████████████████████████████████████████████████████| 996/996 [02:33<00:00,  6.48it/s]\n"
     ]
    },
    {
     "name": "stdout",
     "output_type": "stream",
     "text": [
      "Epoch : 8 - loss : 0.0082 - acc: 0.9741 - val_loss : 0.0381 - val_acc: 0.6736\n",
      "\n"
     ]
    },
    {
     "name": "stderr",
     "output_type": "stream",
     "text": [
      "100%|████████████████████████████████████████████████████████████████████████████████| 996/996 [02:33<00:00,  6.48it/s]\n"
     ]
    },
    {
     "name": "stdout",
     "output_type": "stream",
     "text": [
      "Epoch : 9 - loss : 0.0070 - acc: 0.9791 - val_loss : 0.0396 - val_acc: 0.6648\n",
      "\n"
     ]
    },
    {
     "name": "stderr",
     "output_type": "stream",
     "text": [
      "100%|████████████████████████████████████████████████████████████████████████████████| 996/996 [02:36<00:00,  6.38it/s]\n"
     ]
    },
    {
     "name": "stdout",
     "output_type": "stream",
     "text": [
      "Epoch : 10 - loss : 0.0059 - acc: 0.9815 - val_loss : 0.0378 - val_acc: 0.6682\n",
      "\n"
     ]
    },
    {
     "name": "stderr",
     "output_type": "stream",
     "text": [
      "100%|████████████████████████████████████████████████████████████████████████████████| 996/996 [02:39<00:00,  6.23it/s]\n"
     ]
    },
    {
     "name": "stdout",
     "output_type": "stream",
     "text": [
      "Epoch : 11 - loss : 0.0048 - acc: 0.9866 - val_loss : 0.0386 - val_acc: 0.6702\n",
      "\n"
     ]
    },
    {
     "name": "stderr",
     "output_type": "stream",
     "text": [
      "100%|████████████████████████████████████████████████████████████████████████████████| 996/996 [02:37<00:00,  6.33it/s]\n"
     ]
    },
    {
     "name": "stdout",
     "output_type": "stream",
     "text": [
      "Epoch : 12 - loss : 0.0043 - acc: 0.9875 - val_loss : 0.0394 - val_acc: 0.6773\n",
      "\n"
     ]
    },
    {
     "name": "stderr",
     "output_type": "stream",
     "text": [
      "100%|████████████████████████████████████████████████████████████████████████████████| 996/996 [02:38<00:00,  6.30it/s]\n"
     ]
    },
    {
     "name": "stdout",
     "output_type": "stream",
     "text": [
      "Epoch : 13 - loss : 0.0038 - acc: 0.9891 - val_loss : 0.0406 - val_acc: 0.6614\n",
      "\n"
     ]
    },
    {
     "name": "stderr",
     "output_type": "stream",
     "text": [
      "100%|████████████████████████████████████████████████████████████████████████████████| 996/996 [02:41<00:00,  6.16it/s]\n"
     ]
    },
    {
     "name": "stdout",
     "output_type": "stream",
     "text": [
      "Epoch : 14 - loss : 0.0032 - acc: 0.9903 - val_loss : 0.0417 - val_acc: 0.6651\n",
      "\n"
     ]
    },
    {
     "name": "stderr",
     "output_type": "stream",
     "text": [
      "100%|████████████████████████████████████████████████████████████████████████████████| 996/996 [07:15<00:00,  2.29it/s]\n"
     ]
    },
    {
     "name": "stdout",
     "output_type": "stream",
     "text": [
      "Epoch : 15 - loss : 0.0028 - acc: 0.9917 - val_loss : 0.0423 - val_acc: 0.6639\n",
      "\n"
     ]
    },
    {
     "name": "stderr",
     "output_type": "stream",
     "text": [
      "100%|████████████████████████████████████████████████████████████████████████████████| 996/996 [05:45<00:00,  2.89it/s]\n"
     ]
    },
    {
     "name": "stdout",
     "output_type": "stream",
     "text": [
      "Epoch : 16 - loss : 0.0025 - acc: 0.9930 - val_loss : 0.0434 - val_acc: 0.6688\n",
      "\n"
     ]
    },
    {
     "name": "stderr",
     "output_type": "stream",
     "text": [
      "100%|████████████████████████████████████████████████████████████████████████████████| 996/996 [04:20<00:00,  3.82it/s]\n"
     ]
    },
    {
     "name": "stdout",
     "output_type": "stream",
     "text": [
      "Epoch : 17 - loss : 0.0024 - acc: 0.9932 - val_loss : 0.0444 - val_acc: 0.6665\n",
      "\n"
     ]
    },
    {
     "name": "stderr",
     "output_type": "stream",
     "text": [
      "100%|████████████████████████████████████████████████████████████████████████████████| 996/996 [03:30<00:00,  4.73it/s]\n"
     ]
    },
    {
     "name": "stdout",
     "output_type": "stream",
     "text": [
      "Epoch : 18 - loss : 0.0020 - acc: 0.9944 - val_loss : 0.0438 - val_acc: 0.6657\n",
      "\n"
     ]
    },
    {
     "name": "stderr",
     "output_type": "stream",
     "text": [
      "100%|████████████████████████████████████████████████████████████████████████████████| 996/996 [02:46<00:00,  5.99it/s]\n"
     ]
    },
    {
     "name": "stdout",
     "output_type": "stream",
     "text": [
      "Epoch : 19 - loss : 0.0019 - acc: 0.9946 - val_loss : 0.0461 - val_acc: 0.6617\n",
      "\n"
     ]
    },
    {
     "name": "stderr",
     "output_type": "stream",
     "text": [
      "100%|████████████████████████████████████████████████████████████████████████████████| 996/996 [02:46<00:00,  5.99it/s]\n"
     ]
    },
    {
     "name": "stdout",
     "output_type": "stream",
     "text": [
      "Epoch : 20 - loss : 0.0019 - acc: 0.9943 - val_loss : 0.0453 - val_acc: 0.6632\n",
      "\n"
     ]
    },
    {
     "name": "stderr",
     "output_type": "stream",
     "text": [
      "100%|████████████████████████████████████████████████████████████████████████████████| 996/996 [02:46<00:00,  5.97it/s]\n"
     ]
    },
    {
     "name": "stdout",
     "output_type": "stream",
     "text": [
      "Epoch : 21 - loss : 0.0017 - acc: 0.9944 - val_loss : 0.0452 - val_acc: 0.6544\n",
      "\n"
     ]
    },
    {
     "name": "stderr",
     "output_type": "stream",
     "text": [
      "100%|████████████████████████████████████████████████████████████████████████████████| 996/996 [02:46<00:00,  5.98it/s]\n"
     ]
    },
    {
     "name": "stdout",
     "output_type": "stream",
     "text": [
      "Epoch : 22 - loss : 0.0015 - acc: 0.9951 - val_loss : 0.0466 - val_acc: 0.6533\n",
      "\n"
     ]
    },
    {
     "name": "stderr",
     "output_type": "stream",
     "text": [
      "100%|████████████████████████████████████████████████████████████████████████████████| 996/996 [02:45<00:00,  6.01it/s]\n"
     ]
    },
    {
     "name": "stdout",
     "output_type": "stream",
     "text": [
      "Epoch : 23 - loss : 0.0015 - acc: 0.9951 - val_loss : 0.0460 - val_acc: 0.6603\n",
      "\n"
     ]
    },
    {
     "name": "stderr",
     "output_type": "stream",
     "text": [
      "100%|████████████████████████████████████████████████████████████████████████████████| 996/996 [02:40<00:00,  6.21it/s]\n"
     ]
    },
    {
     "name": "stdout",
     "output_type": "stream",
     "text": [
      "Epoch : 24 - loss : 0.0016 - acc: 0.9945 - val_loss : 0.0484 - val_acc: 0.6409\n",
      "\n"
     ]
    },
    {
     "name": "stderr",
     "output_type": "stream",
     "text": [
      "100%|████████████████████████████████████████████████████████████████████████████████| 996/996 [02:39<00:00,  6.24it/s]\n"
     ]
    },
    {
     "name": "stdout",
     "output_type": "stream",
     "text": [
      "Epoch : 25 - loss : 0.0012 - acc: 0.9962 - val_loss : 0.0454 - val_acc: 0.6738\n",
      "\n"
     ]
    },
    {
     "name": "stderr",
     "output_type": "stream",
     "text": [
      "100%|████████████████████████████████████████████████████████████████████████████████| 996/996 [02:40<00:00,  6.22it/s]\n"
     ]
    },
    {
     "name": "stdout",
     "output_type": "stream",
     "text": [
      "Epoch : 26 - loss : 0.0014 - acc: 0.9952 - val_loss : 0.0483 - val_acc: 0.6649\n",
      "\n"
     ]
    },
    {
     "name": "stderr",
     "output_type": "stream",
     "text": [
      "100%|████████████████████████████████████████████████████████████████████████████████| 996/996 [02:39<00:00,  6.26it/s]\n"
     ]
    },
    {
     "name": "stdout",
     "output_type": "stream",
     "text": [
      "Epoch : 27 - loss : 0.0011 - acc: 0.9965 - val_loss : 0.0478 - val_acc: 0.6671\n",
      "\n"
     ]
    },
    {
     "name": "stderr",
     "output_type": "stream",
     "text": [
      "100%|████████████████████████████████████████████████████████████████████████████████| 996/996 [02:35<00:00,  6.40it/s]\n"
     ]
    },
    {
     "name": "stdout",
     "output_type": "stream",
     "text": [
      "Epoch : 28 - loss : 0.0011 - acc: 0.9965 - val_loss : 0.0498 - val_acc: 0.6547\n",
      "\n"
     ]
    },
    {
     "name": "stderr",
     "output_type": "stream",
     "text": [
      "100%|████████████████████████████████████████████████████████████████████████████████| 996/996 [02:34<00:00,  6.46it/s]\n"
     ]
    },
    {
     "name": "stdout",
     "output_type": "stream",
     "text": [
      "Epoch : 29 - loss : 0.0012 - acc: 0.9953 - val_loss : 0.0497 - val_acc: 0.6520\n",
      "\n"
     ]
    },
    {
     "name": "stderr",
     "output_type": "stream",
     "text": [
      "100%|████████████████████████████████████████████████████████████████████████████████| 996/996 [02:36<00:00,  6.35it/s]\n"
     ]
    },
    {
     "name": "stdout",
     "output_type": "stream",
     "text": [
      "Epoch : 30 - loss : 0.0012 - acc: 0.9957 - val_loss : 0.0484 - val_acc: 0.6462\n",
      "\n",
      "Best acc:0.6772522522522525\n",
      "val_loss : 0.0394 - val_acc: 0.6773\n",
      "\n"
     ]
    }
   ],
   "source": [
    "set_parameter_requires_grad(model, requires_grad=True)\n",
    "train(model, 30, 1e-4, robust=False)\n",
    "\n",
    "torch.save(model.state_dict(), './models/mtcnn-1label-cplx.pth')"
   ]
  },
  {
   "cell_type": "code",
   "execution_count": 9,
   "metadata": {},
   "outputs": [
    {
     "name": "stderr",
     "output_type": "stream",
     "text": [
      "100%|████████████████████████████████████████████████████████████████████████████████| 996/996 [00:49<00:00, 20.27it/s]\n"
     ]
    },
    {
     "name": "stdout",
     "output_type": "stream",
     "text": [
      "Epoch : 1 - loss : 0.0587 - acc: 0.7417 - val_loss : 0.0362 - val_acc: 0.5408\n",
      "\n"
     ]
    },
    {
     "name": "stderr",
     "output_type": "stream",
     "text": [
      "100%|████████████████████████████████████████████████████████████████████████████████| 996/996 [00:46<00:00, 21.50it/s]\n"
     ]
    },
    {
     "name": "stdout",
     "output_type": "stream",
     "text": [
      "Epoch : 2 - loss : 0.0520 - acc: 0.7816 - val_loss : 0.0354 - val_acc: 0.5447\n",
      "\n"
     ]
    },
    {
     "name": "stderr",
     "output_type": "stream",
     "text": [
      "100%|████████████████████████████████████████████████████████████████████████████████| 996/996 [00:47<00:00, 21.09it/s]\n"
     ]
    },
    {
     "name": "stdout",
     "output_type": "stream",
     "text": [
      "Epoch : 3 - loss : 0.0513 - acc: 0.7878 - val_loss : 0.0369 - val_acc: 0.5498\n",
      "\n"
     ]
    },
    {
     "name": "stderr",
     "output_type": "stream",
     "text": [
      "100%|████████████████████████████████████████████████████████████████████████████████| 996/996 [00:45<00:00, 21.71it/s]\n"
     ]
    },
    {
     "name": "stdout",
     "output_type": "stream",
     "text": [
      "Epoch : 4 - loss : 0.0507 - acc: 0.7911 - val_loss : 0.0332 - val_acc: 0.5603\n",
      "\n"
     ]
    },
    {
     "name": "stderr",
     "output_type": "stream",
     "text": [
      "100%|████████████████████████████████████████████████████████████████████████████████| 996/996 [00:44<00:00, 22.40it/s]\n"
     ]
    },
    {
     "name": "stdout",
     "output_type": "stream",
     "text": [
      "Epoch : 5 - loss : 0.0503 - acc: 0.7911 - val_loss : 0.0377 - val_acc: 0.5125\n",
      "\n"
     ]
    },
    {
     "name": "stderr",
     "output_type": "stream",
     "text": [
      "100%|████████████████████████████████████████████████████████████████████████████████| 996/996 [00:47<00:00, 21.15it/s]\n"
     ]
    },
    {
     "name": "stdout",
     "output_type": "stream",
     "text": [
      "Epoch : 6 - loss : 0.0507 - acc: 0.7903 - val_loss : 0.0340 - val_acc: 0.5532\n",
      "\n"
     ]
    },
    {
     "name": "stderr",
     "output_type": "stream",
     "text": [
      "100%|████████████████████████████████████████████████████████████████████████████████| 996/996 [00:49<00:00, 20.20it/s]\n"
     ]
    },
    {
     "name": "stdout",
     "output_type": "stream",
     "text": [
      "Epoch : 7 - loss : 0.0498 - acc: 0.7962 - val_loss : 0.0343 - val_acc: 0.5521\n",
      "\n"
     ]
    },
    {
     "name": "stderr",
     "output_type": "stream",
     "text": [
      "100%|████████████████████████████████████████████████████████████████████████████████| 996/996 [00:46<00:00, 21.21it/s]\n"
     ]
    },
    {
     "name": "stdout",
     "output_type": "stream",
     "text": [
      "Epoch : 8 - loss : 0.0503 - acc: 0.7932 - val_loss : 0.0317 - val_acc: 0.5689\n",
      "\n"
     ]
    },
    {
     "name": "stderr",
     "output_type": "stream",
     "text": [
      "100%|████████████████████████████████████████████████████████████████████████████████| 996/996 [00:46<00:00, 21.43it/s]\n"
     ]
    },
    {
     "name": "stdout",
     "output_type": "stream",
     "text": [
      "Epoch : 9 - loss : 0.0502 - acc: 0.7957 - val_loss : 0.0354 - val_acc: 0.5348\n",
      "\n"
     ]
    },
    {
     "name": "stderr",
     "output_type": "stream",
     "text": [
      "100%|████████████████████████████████████████████████████████████████████████████████| 996/996 [00:46<00:00, 21.48it/s]\n"
     ]
    },
    {
     "name": "stdout",
     "output_type": "stream",
     "text": [
      "Epoch : 10 - loss : 0.0496 - acc: 0.7976 - val_loss : 0.0406 - val_acc: 0.5046\n",
      "\n",
      "Best acc:0.5689189189189188\n",
      "val_loss : 0.0317 - val_acc: 0.5689\n",
      "\n"
     ]
    },
    {
     "name": "stderr",
     "output_type": "stream",
     "text": [
      "100%|████████████████████████████████████████████████████████████████████████████████| 996/996 [02:38<00:00,  6.30it/s]\n"
     ]
    },
    {
     "name": "stdout",
     "output_type": "stream",
     "text": [
      "Epoch : 1 - loss : 0.0383 - acc: 0.8375 - val_loss : 0.0257 - val_acc: 0.6302\n",
      "\n"
     ]
    },
    {
     "name": "stderr",
     "output_type": "stream",
     "text": [
      "100%|████████████████████████████████████████████████████████████████████████████████| 996/996 [02:38<00:00,  6.30it/s]\n"
     ]
    },
    {
     "name": "stdout",
     "output_type": "stream",
     "text": [
      "Epoch : 2 - loss : 0.0296 - acc: 0.8762 - val_loss : 0.0264 - val_acc: 0.6494\n",
      "\n"
     ]
    },
    {
     "name": "stderr",
     "output_type": "stream",
     "text": [
      "100%|████████████████████████████████████████████████████████████████████████████████| 996/996 [02:37<00:00,  6.31it/s]\n"
     ]
    },
    {
     "name": "stdout",
     "output_type": "stream",
     "text": [
      "Epoch : 3 - loss : 0.0242 - acc: 0.9041 - val_loss : 0.0278 - val_acc: 0.6548\n",
      "\n"
     ]
    },
    {
     "name": "stderr",
     "output_type": "stream",
     "text": [
      "100%|████████████████████████████████████████████████████████████████████████████████| 996/996 [02:42<00:00,  6.13it/s]\n"
     ]
    },
    {
     "name": "stdout",
     "output_type": "stream",
     "text": [
      "Epoch : 4 - loss : 0.0197 - acc: 0.9253 - val_loss : 0.0295 - val_acc: 0.6728\n",
      "\n"
     ]
    },
    {
     "name": "stderr",
     "output_type": "stream",
     "text": [
      "100%|████████████████████████████████████████████████████████████████████████████████| 996/996 [02:43<00:00,  6.09it/s]\n"
     ]
    },
    {
     "name": "stdout",
     "output_type": "stream",
     "text": [
      "Epoch : 5 - loss : 0.0161 - acc: 0.9417 - val_loss : 0.0314 - val_acc: 0.6629\n",
      "\n"
     ]
    },
    {
     "name": "stderr",
     "output_type": "stream",
     "text": [
      "100%|████████████████████████████████████████████████████████████████████████████████| 996/996 [02:41<00:00,  6.17it/s]\n"
     ]
    },
    {
     "name": "stdout",
     "output_type": "stream",
     "text": [
      "Epoch : 6 - loss : 0.0129 - acc: 0.9561 - val_loss : 0.0340 - val_acc: 0.6693\n",
      "\n"
     ]
    },
    {
     "name": "stderr",
     "output_type": "stream",
     "text": [
      "100%|████████████████████████████████████████████████████████████████████████████████| 996/996 [02:40<00:00,  6.22it/s]\n"
     ]
    },
    {
     "name": "stdout",
     "output_type": "stream",
     "text": [
      "Epoch : 7 - loss : 0.0105 - acc: 0.9659 - val_loss : 0.0361 - val_acc: 0.6778\n",
      "\n"
     ]
    },
    {
     "name": "stderr",
     "output_type": "stream",
     "text": [
      "100%|████████████████████████████████████████████████████████████████████████████████| 996/996 [02:39<00:00,  6.24it/s]\n"
     ]
    },
    {
     "name": "stdout",
     "output_type": "stream",
     "text": [
      "Epoch : 8 - loss : 0.0083 - acc: 0.9749 - val_loss : 0.0355 - val_acc: 0.6738\n",
      "\n"
     ]
    },
    {
     "name": "stderr",
     "output_type": "stream",
     "text": [
      "100%|████████████████████████████████████████████████████████████████████████████████| 996/996 [02:39<00:00,  6.25it/s]\n"
     ]
    },
    {
     "name": "stdout",
     "output_type": "stream",
     "text": [
      "Epoch : 9 - loss : 0.0072 - acc: 0.9783 - val_loss : 0.0364 - val_acc: 0.6660\n",
      "\n"
     ]
    },
    {
     "name": "stderr",
     "output_type": "stream",
     "text": [
      "100%|████████████████████████████████████████████████████████████████████████████████| 996/996 [02:39<00:00,  6.25it/s]\n"
     ]
    },
    {
     "name": "stdout",
     "output_type": "stream",
     "text": [
      "Epoch : 10 - loss : 0.0058 - acc: 0.9824 - val_loss : 0.0375 - val_acc: 0.6694\n",
      "\n"
     ]
    },
    {
     "name": "stderr",
     "output_type": "stream",
     "text": [
      "100%|████████████████████████████████████████████████████████████████████████████████| 996/996 [02:41<00:00,  6.15it/s]\n"
     ]
    },
    {
     "name": "stdout",
     "output_type": "stream",
     "text": [
      "Epoch : 11 - loss : 0.0050 - acc: 0.9852 - val_loss : 0.0381 - val_acc: 0.6744\n",
      "\n"
     ]
    },
    {
     "name": "stderr",
     "output_type": "stream",
     "text": [
      "100%|████████████████████████████████████████████████████████████████████████████████| 996/996 [02:41<00:00,  6.17it/s]\n"
     ]
    },
    {
     "name": "stdout",
     "output_type": "stream",
     "text": [
      "Epoch : 12 - loss : 0.0043 - acc: 0.9870 - val_loss : 0.0370 - val_acc: 0.6781\n",
      "\n"
     ]
    },
    {
     "name": "stderr",
     "output_type": "stream",
     "text": [
      "100%|████████████████████████████████████████████████████████████████████████████████| 996/996 [02:41<00:00,  6.16it/s]\n"
     ]
    },
    {
     "name": "stdout",
     "output_type": "stream",
     "text": [
      "Epoch : 13 - loss : 0.0037 - acc: 0.9893 - val_loss : 0.0391 - val_acc: 0.6662\n",
      "\n"
     ]
    },
    {
     "name": "stderr",
     "output_type": "stream",
     "text": [
      "100%|████████████████████████████████████████████████████████████████████████████████| 996/996 [02:40<00:00,  6.22it/s]\n"
     ]
    },
    {
     "name": "stdout",
     "output_type": "stream",
     "text": [
      "Epoch : 14 - loss : 0.0034 - acc: 0.9903 - val_loss : 0.0430 - val_acc: 0.6651\n",
      "\n"
     ]
    },
    {
     "name": "stderr",
     "output_type": "stream",
     "text": [
      "100%|████████████████████████████████████████████████████████████████████████████████| 996/996 [02:40<00:00,  6.21it/s]\n"
     ]
    },
    {
     "name": "stdout",
     "output_type": "stream",
     "text": [
      "Epoch : 15 - loss : 0.0029 - acc: 0.9921 - val_loss : 0.0408 - val_acc: 0.6735\n",
      "\n"
     ]
    },
    {
     "name": "stderr",
     "output_type": "stream",
     "text": [
      "100%|████████████████████████████████████████████████████████████████████████████████| 996/996 [02:39<00:00,  6.23it/s]\n"
     ]
    },
    {
     "name": "stdout",
     "output_type": "stream",
     "text": [
      "Epoch : 16 - loss : 0.0025 - acc: 0.9932 - val_loss : 0.0437 - val_acc: 0.6651\n",
      "\n"
     ]
    },
    {
     "name": "stderr",
     "output_type": "stream",
     "text": [
      "100%|████████████████████████████████████████████████████████████████████████████████| 996/996 [02:39<00:00,  6.26it/s]\n"
     ]
    },
    {
     "name": "stdout",
     "output_type": "stream",
     "text": [
      "Epoch : 17 - loss : 0.0025 - acc: 0.9928 - val_loss : 0.0415 - val_acc: 0.6727\n",
      "\n"
     ]
    },
    {
     "name": "stderr",
     "output_type": "stream",
     "text": [
      "100%|████████████████████████████████████████████████████████████████████████████████| 996/996 [02:39<00:00,  6.26it/s]\n"
     ]
    },
    {
     "name": "stdout",
     "output_type": "stream",
     "text": [
      "Epoch : 18 - loss : 0.0022 - acc: 0.9935 - val_loss : 0.0447 - val_acc: 0.6705\n",
      "\n"
     ]
    },
    {
     "name": "stderr",
     "output_type": "stream",
     "text": [
      "100%|████████████████████████████████████████████████████████████████████████████████| 996/996 [02:40<00:00,  6.19it/s]\n"
     ]
    },
    {
     "name": "stdout",
     "output_type": "stream",
     "text": [
      "Epoch : 19 - loss : 0.0019 - acc: 0.9943 - val_loss : 0.0434 - val_acc: 0.6578\n",
      "\n"
     ]
    },
    {
     "name": "stderr",
     "output_type": "stream",
     "text": [
      "100%|████████████████████████████████████████████████████████████████████████████████| 996/996 [02:38<00:00,  6.29it/s]\n"
     ]
    },
    {
     "name": "stdout",
     "output_type": "stream",
     "text": [
      "Epoch : 20 - loss : 0.0018 - acc: 0.9951 - val_loss : 0.0436 - val_acc: 0.6668\n",
      "\n"
     ]
    },
    {
     "name": "stderr",
     "output_type": "stream",
     "text": [
      "100%|████████████████████████████████████████████████████████████████████████████████| 996/996 [02:38<00:00,  6.30it/s]\n"
     ]
    },
    {
     "name": "stdout",
     "output_type": "stream",
     "text": [
      "Epoch : 21 - loss : 0.0018 - acc: 0.9940 - val_loss : 0.0442 - val_acc: 0.6640\n",
      "\n"
     ]
    },
    {
     "name": "stderr",
     "output_type": "stream",
     "text": [
      "100%|████████████████████████████████████████████████████████████████████████████████| 996/996 [02:40<00:00,  6.19it/s]\n"
     ]
    },
    {
     "name": "stdout",
     "output_type": "stream",
     "text": [
      "Epoch : 22 - loss : 0.0015 - acc: 0.9953 - val_loss : 0.0450 - val_acc: 0.6654\n",
      "\n"
     ]
    },
    {
     "name": "stderr",
     "output_type": "stream",
     "text": [
      "100%|████████████████████████████████████████████████████████████████████████████████| 996/996 [03:07<00:00,  5.31it/s]\n"
     ]
    },
    {
     "name": "stdout",
     "output_type": "stream",
     "text": [
      "Epoch : 23 - loss : 0.0015 - acc: 0.9953 - val_loss : 0.0455 - val_acc: 0.6606\n",
      "\n"
     ]
    },
    {
     "name": "stderr",
     "output_type": "stream",
     "text": [
      "100%|████████████████████████████████████████████████████████████████████████████████| 996/996 [02:51<00:00,  5.82it/s]\n"
     ]
    },
    {
     "name": "stdout",
     "output_type": "stream",
     "text": [
      "Epoch : 24 - loss : 0.0015 - acc: 0.9953 - val_loss : 0.0462 - val_acc: 0.6685\n",
      "\n"
     ]
    },
    {
     "name": "stderr",
     "output_type": "stream",
     "text": [
      "100%|████████████████████████████████████████████████████████████████████████████████| 996/996 [02:44<00:00,  6.06it/s]\n"
     ]
    },
    {
     "name": "stdout",
     "output_type": "stream",
     "text": [
      "Epoch : 25 - loss : 0.0014 - acc: 0.9951 - val_loss : 0.0473 - val_acc: 0.6651\n",
      "\n"
     ]
    },
    {
     "name": "stderr",
     "output_type": "stream",
     "text": [
      "100%|████████████████████████████████████████████████████████████████████████████████| 996/996 [02:41<00:00,  6.18it/s]\n"
     ]
    },
    {
     "name": "stdout",
     "output_type": "stream",
     "text": [
      "Epoch : 26 - loss : 0.0013 - acc: 0.9955 - val_loss : 0.0473 - val_acc: 0.6558\n",
      "\n"
     ]
    },
    {
     "name": "stderr",
     "output_type": "stream",
     "text": [
      "100%|████████████████████████████████████████████████████████████████████████████████| 996/996 [02:44<00:00,  6.07it/s]\n"
     ]
    },
    {
     "name": "stdout",
     "output_type": "stream",
     "text": [
      "Epoch : 27 - loss : 0.0011 - acc: 0.9965 - val_loss : 0.0465 - val_acc: 0.6527\n",
      "\n"
     ]
    },
    {
     "name": "stderr",
     "output_type": "stream",
     "text": [
      "100%|████████████████████████████████████████████████████████████████████████████████| 996/996 [02:40<00:00,  6.21it/s]\n"
     ]
    },
    {
     "name": "stdout",
     "output_type": "stream",
     "text": [
      "Epoch : 28 - loss : 0.0013 - acc: 0.9953 - val_loss : 0.0480 - val_acc: 0.6559\n",
      "\n"
     ]
    },
    {
     "name": "stderr",
     "output_type": "stream",
     "text": [
      "100%|████████████████████████████████████████████████████████████████████████████████| 996/996 [02:53<00:00,  5.73it/s]\n"
     ]
    },
    {
     "name": "stdout",
     "output_type": "stream",
     "text": [
      "Epoch : 29 - loss : 0.0012 - acc: 0.9961 - val_loss : 0.0475 - val_acc: 0.6590\n",
      "\n"
     ]
    },
    {
     "name": "stderr",
     "output_type": "stream",
     "text": [
      "100%|████████████████████████████████████████████████████████████████████████████████| 996/996 [02:44<00:00,  6.05it/s]\n"
     ]
    },
    {
     "name": "stdout",
     "output_type": "stream",
     "text": [
      "Epoch : 30 - loss : 0.0010 - acc: 0.9966 - val_loss : 0.0474 - val_acc: 0.6668\n",
      "\n",
      "Best acc:0.6780593093093098\n",
      "val_loss : 0.0370 - val_acc: 0.6781\n",
      "\n"
     ]
    }
   ],
   "source": [
    "torch.cuda.empty_cache()\n",
    "training_emotion_path = \"../dataset/emotions_2.npy\"\n",
    "\n",
    "model=timm.create_model('tf_efficientnet_b0_ns', pretrained=False)\n",
    "model.classifier=torch.nn.Identity()\n",
    "model.load_state_dict(torch.load('state_vggface2_enet0_new.pt'))\n",
    "model.classifier=nn.Sequential(nn.Linear(in_features=1280, out_features=8))\n",
    "model=model.to(device)\n",
    "\n",
    "set_parameter_requires_grad(model, requires_grad=False)\n",
    "set_parameter_requires_grad(model.classifier, requires_grad=True)\n",
    "train(model, 10, 1e-3, robust=False)\n",
    "\n",
    "set_parameter_requires_grad(model, requires_grad=True)\n",
    "train(model, 30, 1e-4, robust=False)\n",
    "\n",
    "torch.save(model.state_dict(), './models/mtcnn-2label-cplx.pth')"
   ]
  },
  {
   "cell_type": "code",
   "execution_count": 10,
   "metadata": {},
   "outputs": [
    {
     "name": "stderr",
     "output_type": "stream",
     "text": [
      "100%|████████████████████████████████████████████████████████████████████████████████| 996/996 [00:48<00:00, 20.70it/s]\n"
     ]
    },
    {
     "name": "stdout",
     "output_type": "stream",
     "text": [
      "Epoch : 1 - loss : 0.0585 - acc: 0.7443 - val_loss : 0.0349 - val_acc: 0.4898\n",
      "\n"
     ]
    },
    {
     "name": "stderr",
     "output_type": "stream",
     "text": [
      "100%|████████████████████████████████████████████████████████████████████████████████| 996/996 [00:48<00:00, 20.62it/s]\n"
     ]
    },
    {
     "name": "stdout",
     "output_type": "stream",
     "text": [
      "Epoch : 2 - loss : 0.0519 - acc: 0.7842 - val_loss : 0.0328 - val_acc: 0.5385\n",
      "\n"
     ]
    },
    {
     "name": "stderr",
     "output_type": "stream",
     "text": [
      "100%|████████████████████████████████████████████████████████████████████████████████| 996/996 [00:48<00:00, 20.65it/s]\n"
     ]
    },
    {
     "name": "stdout",
     "output_type": "stream",
     "text": [
      "Epoch : 3 - loss : 0.0508 - acc: 0.7882 - val_loss : 0.0330 - val_acc: 0.5357\n",
      "\n"
     ]
    },
    {
     "name": "stderr",
     "output_type": "stream",
     "text": [
      "100%|████████████████████████████████████████████████████████████████████████████████| 996/996 [00:48<00:00, 20.43it/s]\n"
     ]
    },
    {
     "ename": "KeyboardInterrupt",
     "evalue": "",
     "output_type": "error",
     "traceback": [
      "\u001b[1;31m---------------------------------------------------------------------------\u001b[0m",
      "\u001b[1;31mKeyboardInterrupt\u001b[0m                         Traceback (most recent call last)",
      "Input \u001b[1;32mIn [10]\u001b[0m, in \u001b[0;36m<module>\u001b[1;34m\u001b[0m\n\u001b[0;32m     10\u001b[0m set_parameter_requires_grad(model, requires_grad\u001b[38;5;241m=\u001b[39m\u001b[38;5;28;01mFalse\u001b[39;00m)\n\u001b[0;32m     11\u001b[0m set_parameter_requires_grad(model\u001b[38;5;241m.\u001b[39mclassifier, requires_grad\u001b[38;5;241m=\u001b[39m\u001b[38;5;28;01mTrue\u001b[39;00m)\n\u001b[1;32m---> 12\u001b[0m \u001b[43mtrain\u001b[49m\u001b[43m(\u001b[49m\u001b[43mmodel\u001b[49m\u001b[43m,\u001b[49m\u001b[43m \u001b[49m\u001b[38;5;241;43m10\u001b[39;49m\u001b[43m,\u001b[49m\u001b[43m \u001b[49m\u001b[38;5;241;43m1e-3\u001b[39;49m\u001b[43m,\u001b[49m\u001b[43m \u001b[49m\u001b[43mrobust\u001b[49m\u001b[38;5;241;43m=\u001b[39;49m\u001b[38;5;28;43;01mFalse\u001b[39;49;00m\u001b[43m)\u001b[49m\n\u001b[0;32m     14\u001b[0m set_parameter_requires_grad(model, requires_grad\u001b[38;5;241m=\u001b[39m\u001b[38;5;28;01mTrue\u001b[39;00m)\n\u001b[0;32m     15\u001b[0m train(model, \u001b[38;5;241m30\u001b[39m, \u001b[38;5;241m1e-4\u001b[39m, robust\u001b[38;5;241m=\u001b[39m\u001b[38;5;28;01mFalse\u001b[39;00m)\n",
      "Input \u001b[1;32mIn [4]\u001b[0m, in \u001b[0;36mtrain\u001b[1;34m(model, n_epochs, learningrate, robust)\u001b[0m\n\u001b[0;32m     48\u001b[0m val_output \u001b[38;5;241m=\u001b[39m model(img)\n\u001b[0;32m     49\u001b[0m val_loss \u001b[38;5;241m=\u001b[39m criterion(val_output, label)\n\u001b[1;32m---> 51\u001b[0m acc \u001b[38;5;241m=\u001b[39m \u001b[43maccuracy\u001b[49m\u001b[43m(\u001b[49m\u001b[43mval_output\u001b[49m\u001b[43m,\u001b[49m\u001b[43m \u001b[49m\u001b[43mlabel\u001b[49m\u001b[43m)\u001b[49m\n\u001b[0;32m     52\u001b[0m epoch_val_accuracy \u001b[38;5;241m+\u001b[39m\u001b[38;5;241m=\u001b[39m acc \u001b[38;5;241m/\u001b[39m \u001b[38;5;28mlen\u001b[39m(val_loader)\n\u001b[0;32m     53\u001b[0m epoch_val_loss \u001b[38;5;241m+\u001b[39m\u001b[38;5;241m=\u001b[39m val_loss \u001b[38;5;241m/\u001b[39m \u001b[38;5;28mlen\u001b[39m(val_loader)\n",
      "Input \u001b[1;32mIn [3]\u001b[0m, in \u001b[0;36maccuracy\u001b[1;34m(output, target)\u001b[0m\n\u001b[0;32m     85\u001b[0m     pred \u001b[38;5;241m=\u001b[39m output[i]\n\u001b[0;32m     86\u001b[0m     index_max \u001b[38;5;241m=\u001b[39m torch\u001b[38;5;241m.\u001b[39margmax(pred)\n\u001b[1;32m---> 87\u001b[0m     \u001b[38;5;28;01mif\u001b[39;00m true[index_max] \u001b[38;5;241m==\u001b[39m \u001b[43mtorch\u001b[49m\u001b[38;5;241;43m.\u001b[39;49m\u001b[43mmax\u001b[49m\u001b[43m(\u001b[49m\u001b[43mtrue\u001b[49m\u001b[43m)\u001b[49m:\n\u001b[0;32m     88\u001b[0m         acc \u001b[38;5;241m+\u001b[39m\u001b[38;5;241m=\u001b[39m \u001b[38;5;241m1\u001b[39m\n\u001b[0;32m     89\u001b[0m acc \u001b[38;5;241m=\u001b[39m \u001b[38;5;28mfloat\u001b[39m(acc)\u001b[38;5;241m/\u001b[39mbatch_size\n",
      "\u001b[1;31mKeyboardInterrupt\u001b[0m: "
     ]
    }
   ],
   "source": [
    "torch.cuda.empty_cache()\n",
    "training_emotion_path = \"../dataset/emotions_3.npy\"\n",
    "\n",
    "model=timm.create_model('tf_efficientnet_b0_ns', pretrained=False)\n",
    "model.classifier=torch.nn.Identity()\n",
    "model.load_state_dict(torch.load('state_vggface2_enet0_new.pt'))\n",
    "model.classifier=nn.Sequential(nn.Linear(in_features=1280, out_features=8))\n",
    "model=model.to(device)\n",
    "\n",
    "set_parameter_requires_grad(model, requires_grad=False)\n",
    "set_parameter_requires_grad(model.classifier, requires_grad=True)\n",
    "train(model, 10, 1e-3, robust=False)\n",
    "\n",
    "set_parameter_requires_grad(model, requires_grad=True)\n",
    "train(model, 30, 1e-4, robust=False)\n",
    "\n",
    "torch.save(model.state_dict(), './models/mtcnn-3label-cplx.pth')"
   ]
  },
  {
   "cell_type": "code",
   "execution_count": null,
   "metadata": {},
   "outputs": [],
   "source": [
    "torch.cuda.empty_cache()\n",
    "training_emotion_path = \"../dataset/emotions_4.npy\"\n",
    "\n",
    "model=timm.create_model('tf_efficientnet_b0_ns', pretrained=False)\n",
    "model.classifier=torch.nn.Identity()\n",
    "model.load_state_dict(torch.load('state_vggface2_enet0_new.pt'))\n",
    "model.classifier=nn.Sequential(nn.Linear(in_features=1280, out_features=8))\n",
    "model=model.to(device)\n",
    "\n",
    "set_parameter_requires_grad(model, requires_grad=False)\n",
    "set_parameter_requires_grad(model.classifier, requires_grad=True)\n",
    "train(model, 10, 1e-3, robust=False)\n",
    "\n",
    "set_parameter_requires_grad(model, requires_grad=True)\n",
    "train(model, 30, 1e-4, robust=False)\n",
    "\n",
    "torch.save(model.state_dict(), './models/mtcnn-4label-cplx.pth')"
   ]
  },
  {
   "cell_type": "code",
   "execution_count": null,
   "metadata": {},
   "outputs": [],
   "source": [
    "torch.cuda.empty_cache()\n",
    "training_emotion_path = \"../dataset/emotions_5.npy\"\n",
    "\n",
    "model=timm.create_model('tf_efficientnet_b0_ns', pretrained=False)\n",
    "model.classifier=torch.nn.Identity()\n",
    "model.load_state_dict(torch.load('state_vggface2_enet0_new.pt'))\n",
    "model.classifier=nn.Sequential(nn.Linear(in_features=1280, out_features=8))\n",
    "model=model.to(device)\n",
    "\n",
    "set_parameter_requires_grad(model, requires_grad=False)\n",
    "set_parameter_requires_grad(model.classifier, requires_grad=True)\n",
    "train(model, 10, 1e-3, robust=False)\n",
    "\n",
    "set_parameter_requires_grad(model, requires_grad=True)\n",
    "train(model, 30, 1e-4, robust=False)\n",
    "\n",
    "torch.save(model.state_dict(), './models/mtcnn-5label-cplx.pth')"
   ]
  },
  {
   "cell_type": "code",
   "execution_count": null,
   "metadata": {},
   "outputs": [],
   "source": [
    "torch.cuda.empty_cache()\n",
    "training_emotion_path = \"../dataset/emotions_6.npy\"\n",
    "\n",
    "model=timm.create_model('tf_efficientnet_b0_ns', pretrained=False)\n",
    "model.classifier=torch.nn.Identity()\n",
    "model.load_state_dict(torch.load('state_vggface2_enet0_new.pt'))\n",
    "model.classifier=nn.Sequential(nn.Linear(in_features=1280, out_features=8))\n",
    "model=model.to(device)\n",
    "\n",
    "set_parameter_requires_grad(model, requires_grad=False)\n",
    "set_parameter_requires_grad(model.classifier, requires_grad=True)\n",
    "train(model, 10, 1e-3, robust=False)\n",
    "\n",
    "set_parameter_requires_grad(model, requires_grad=True)\n",
    "train(model, 30, 1e-4, robust=False)\n",
    "\n",
    "torch.save(model.state_dict(), './models/mtcnn-6label-cplx.pth')"
   ]
  },
  {
   "cell_type": "code",
   "execution_count": null,
   "metadata": {},
   "outputs": [],
   "source": [
    "torch.cuda.empty_cache()\n",
    "training_emotion_path = \"../dataset/emotions_7.npy\"\n",
    "\n",
    "model=timm.create_model('tf_efficientnet_b0_ns', pretrained=False)\n",
    "model.classifier=torch.nn.Identity()\n",
    "model.load_state_dict(torch.load('state_vggface2_enet0_new.pt'))\n",
    "model.classifier=nn.Sequential(nn.Linear(in_features=1280, out_features=8))\n",
    "model=model.to(device)\n",
    "\n",
    "set_parameter_requires_grad(model, requires_grad=False)\n",
    "set_parameter_requires_grad(model.classifier, requires_grad=True)\n",
    "train(model, 10, 1e-3, robust=False)\n",
    "\n",
    "set_parameter_requires_grad(model, requires_grad=True)\n",
    "train(model, 30, 1e-4, robust=False)\n",
    "\n",
    "torch.save(model.state_dict(), './models/mtcnn-7label-cplx.pth')"
   ]
  },
  {
   "cell_type": "code",
   "execution_count": null,
   "metadata": {},
   "outputs": [],
   "source": [
    "torch.cuda.empty_cache()\n",
    "training_emotion_path = \"../dataset/emotions_multi.npy\"\n",
    "\n",
    "model=timm.create_model('tf_efficientnet_b0_ns', pretrained=False)\n",
    "model.classifier=torch.nn.Identity()\n",
    "model.load_state_dict(torch.load('state_vggface2_enet0_new.pt'))\n",
    "model.classifier=nn.Sequential(nn.Linear(in_features=1280, out_features=8))\n",
    "model=model.to(device)\n",
    "\n",
    "set_parameter_requires_grad(model, requires_grad=False)\n",
    "set_parameter_requires_grad(model.classifier, requires_grad=True)\n",
    "train(model, 10, 1e-3, robust=False)\n",
    "\n",
    "set_parameter_requires_grad(model, requires_grad=True)\n",
    "train(model, 30, 1e-4, robust=False)\n",
    "\n",
    "torch.save(model.state_dict(), './models/mtcnn-8label-cplx.pth')"
   ]
  }
 ],
 "metadata": {
  "interpreter": {
   "hash": "20284889676a59d6a6b8edb213666d2e02cd0c9d2ca44919af197643ac84589d"
  },
  "kernelspec": {
   "display_name": "Python 3 (ipykernel)",
   "language": "python",
   "name": "python3"
  },
  "language_info": {
   "codemirror_mode": {
    "name": "ipython",
    "version": 3
   },
   "file_extension": ".py",
   "mimetype": "text/x-python",
   "name": "python",
   "nbconvert_exporter": "python",
   "pygments_lexer": "ipython3",
   "version": "3.9.7"
  }
 },
 "nbformat": 4,
 "nbformat_minor": 4
}
