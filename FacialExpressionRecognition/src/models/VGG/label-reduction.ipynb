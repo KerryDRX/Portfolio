{
 "cells": [
  {
   "cell_type": "code",
   "execution_count": null,
   "id": "6fdc0a51",
   "metadata": {},
   "outputs": [],
   "source": [
    "import tensorflow as tf\n",
    "import numpy as np\n",
    "import matplotlib.pyplot as plt\n",
    "import os\n",
    "import pickle\n",
    "import gc\n",
    "from tensorflow.python.keras import layers, Sequential, losses, metrics, optimizers, models\n",
    "from tensorflow.python.keras.layers import Dense, GlobalAveragePooling2D\n",
    "from tensorflow.python.keras.models import Model\n",
    "from tensorflow.python.keras.applications import vgg16\n",
    "from tensorflow.python.keras.optimizer_v2 import adam"
   ]
  },
  {
   "cell_type": "code",
   "execution_count": null,
   "id": "b648023b",
   "metadata": {},
   "outputs": [],
   "source": [
    "image_height = 48\n",
    "image_width = 48\n",
    "emotions_count = 8\n",
    "emotion_labels = ['neutral', 'happiness', 'surprise', 'sadness', 'anger', 'disgust', 'fear', 'contempt']"
   ]
  },
  {
   "cell_type": "code",
   "execution_count": null,
   "id": "91b7f087",
   "metadata": {},
   "outputs": [],
   "source": [
    "training_samples = 28317\n",
    "validation_samples = 3541\n",
    "training_size = training_samples + validation_samples\n",
    "\n",
    "image_path = \"./dataset/images.npy\"\n",
    "images = np.load(image_path)\n",
    "images = tf.convert_to_tensor(images)\n",
    "images = layers.Rescaling(1./255.0, offset=0)(images)\n",
    "images = tf.image.grayscale_to_rgb(images)\n",
    "training_images = images[:training_size]\n",
    "test_images = images[training_size:]\n",
    "\n",
    "emotion_path = \"./dataset/emotions_multi.npy\"\n",
    "emotions = np.load(emotion_path)\n",
    "emotions = tf.convert_to_tensor(emotions)\n",
    "training_emotions_8 = emotions[:training_size]\n",
    "test_emotions = emotions[training_size:]\n",
    "\n",
    "training_emotions_1_to_7 = []\n",
    "for i in range(1,8):\n",
    "    emotion_i_path = \"./dataset/emotions_\" + str(i) + \".npy\"\n",
    "    emotions_i = np.load(emotion_i_path)\n",
    "    emotions_i = tf.convert_to_tensor(emotions_i)\n",
    "    training_emotions_i = emotions_i[:training_size]\n",
    "    training_emotions_1_to_7.append(training_emotions_i)"
   ]
  },
  {
   "cell_type": "code",
   "execution_count": null,
   "id": "5e81d5e0",
   "metadata": {},
   "outputs": [],
   "source": [
    "tf.config.run_functions_eagerly(True)\n",
    "def model_acc(y_true, y_pred):\n",
    "    size = y_true.shape[0]\n",
    "    acc = 0\n",
    "    for i in range(size):\n",
    "        true = y_true[i]\n",
    "        pred = y_pred[i]           \n",
    "        index_max = tf.argmax(pred).numpy()\n",
    "        if true[index_max].numpy()==tf.reduce_max(true).numpy():\n",
    "            acc += 1\n",
    "    return acc/size"
   ]
  },
  {
   "cell_type": "code",
   "execution_count": null,
   "id": "cbe28701",
   "metadata": {},
   "outputs": [],
   "source": [
    "def train(model, learning_rate, loss, num_epochs, batch_size, training_emotions):\n",
    "    model.compile(optimizer=adam.Adam(learning_rate=learning_rate), \n",
    "                  loss=loss, \n",
    "                  metrics = [model_acc])\n",
    "    history = model.fit(x=training_images,\n",
    "                        y=training_emotions,\n",
    "                        batch_size=batch_size,\n",
    "                        epochs=num_epochs,\n",
    "                        validation_data=(test_images, test_emotions))\n",
    "    del model\n",
    "    gc.collect()\n",
    "    return history"
   ]
  },
  {
   "cell_type": "code",
   "execution_count": null,
   "id": "c4c68daa",
   "metadata": {},
   "outputs": [],
   "source": [
    "def create_model(base_model):\n",
    "    base_model.trainable=True\n",
    "    return Sequential([\n",
    "        base_model,\n",
    "        layers.GlobalAveragePooling2D(),\n",
    "        layers.Dense(4096, activation='relu'),\n",
    "        layers.Dense(4096, activation='relu'),\n",
    "        layers.Dense(emotions_count, activation='softmax'),\n",
    "    ])"
   ]
  },
  {
   "cell_type": "code",
   "execution_count": null,
   "id": "a7ee8fb5",
   "metadata": {},
   "outputs": [],
   "source": [
    "if not os.path.isdir('./results/'):\n",
    "    os.mkdir('./results/')\n",
    "\n",
    "learning_rate = 1e-4\n",
    "num_epochs = 40\n",
    "batch_size = 32\n",
    "loss = losses.MeanSquaredError()\n",
    "for i in range(1,9):\n",
    "    base_model = vgg16.VGG16(include_top=False, weights=\"imagenet\", input_shape=(48,48,3))\n",
    "    model = create_model(base_model)\n",
    "    history_save_path = \"./results/emotions_\" + str(i) + \".txt\"\n",
    "    if i < 8:\n",
    "        training_emotions = training_emotions_1_to_7[i-1]\n",
    "    else:\n",
    "        training_emotions = training_emotions_8\n",
    "    history = train(model, learning_rate, loss, num_epochs, batch_size, training_emotions)\n",
    "    with open(history_save_path, 'wb') as file_pi:\n",
    "        pickle.dump(history.history, file_pi)"
   ]
  },
  {
   "cell_type": "code",
   "execution_count": null,
   "id": "5241c969",
   "metadata": {},
   "outputs": [],
   "source": [
    "# model comparison\n",
    "epochs = range(1, 1+num_epochs)\n",
    "fig = plt.figure()\n",
    "\n",
    "for i in range(1,9):\n",
    "    with open(\"./results/emotions_\" + i + \".txt\") as file_pi:\n",
    "        hist = pickle.load(file_pi)\n",
    "    plt.plot(epochs, hist['val_model_acc'], label = \"emotions=\"+str(i))\n",
    "\n",
    "plt.legend()\n",
    "plt.show()\n",
    "# save plot\n",
    "fig.savefig('./plots/emotions.jpg', dpi=200)"
   ]
  },
  {
   "cell_type": "code",
   "execution_count": null,
   "id": "e31cc434",
   "metadata": {},
   "outputs": [],
   "source": []
  }
 ],
 "metadata": {
  "kernelspec": {
   "display_name": "Python 3.8.2 64-bit",
   "language": "python",
   "name": "python3"
  },
  "language_info": {
   "codemirror_mode": {
    "name": "ipython",
    "version": 3
   },
   "file_extension": ".py",
   "mimetype": "text/x-python",
   "name": "python",
   "nbconvert_exporter": "python",
   "pygments_lexer": "ipython3",
   "version": "3.8.2"
  },
  "vscode": {
   "interpreter": {
    "hash": "31f2aee4e71d21fbe5cf8b01ff0e069b9275f58929596ceb00d14d90e3e16cd6"
   }
  }
 },
 "nbformat": 4,
 "nbformat_minor": 5
}
