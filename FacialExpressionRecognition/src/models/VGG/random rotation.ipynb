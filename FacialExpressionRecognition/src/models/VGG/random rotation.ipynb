{
 "cells": [
  {
   "cell_type": "code",
   "execution_count": 1,
   "id": "f13ca74e",
   "metadata": {},
   "outputs": [],
   "source": [
    "import tensorflow as tf\n",
    "import numpy as np\n",
    "import matplotlib.pyplot as plt\n",
    "import os\n",
    "import pickle\n",
    "from tensorflow.python.keras import layers, Sequential,losses, metrics, optimizers, callbacks, models\n",
    "from tensorflow.python.keras.layers import Dense, GlobalAveragePooling2D, Dropout, RandomRotation\n",
    "from tensorflow.python.keras.models import Model\n",
    "from tensorflow.python.keras.applications import vgg16, resnet\n",
    "from tensorflow.python.keras.optimizer_v2 import adam"
   ]
  },
  {
   "cell_type": "code",
   "execution_count": 2,
   "id": "e2898831",
   "metadata": {},
   "outputs": [],
   "source": [
    "image_height = 48\n",
    "image_width = 48\n",
    "emotions_count = 8\n",
    "emotion_labels = ['neutral', 'happiness', 'surprise', 'sadness', 'anger', 'disgust', 'fear', 'contempt']"
   ]
  },
  {
   "cell_type": "code",
   "execution_count": 3,
   "id": "72a6c2a5",
   "metadata": {},
   "outputs": [],
   "source": [
    "def load_data():\n",
    "    image_path = \"./dataset/images.npy\"\n",
    "    emotion_path = \"./dataset/emotions_multi.npy\"\n",
    "    \n",
    "    images = np.load(image_path)\n",
    "    images = tf.convert_to_tensor(images)\n",
    "    images = layers.Rescaling(1./127.5, offset= -1)(images)\n",
    "    images = tf.image.grayscale_to_rgb(images)\n",
    "    emotions = np.load(emotion_path)\n",
    "    emotions = tf.convert_to_tensor(emotions)\n",
    "    \n",
    "    training_samples = 28317\n",
    "    validation_samples = 3541\n",
    "    training_size = training_samples + validation_samples\n",
    "    \n",
    "    training_images = images[:training_size]\n",
    "    test_images = images[training_size:]\n",
    "    training_emotions = emotions[:training_size]\n",
    "    test_emotions = emotions[training_size:]\n",
    "    return training_images, training_emotions, test_images, test_emotions\n",
    "training_images, training_emotions, test_images, test_emotions = load_data()"
   ]
  },
  {
   "cell_type": "code",
   "execution_count": 4,
   "id": "c85a3ede",
   "metadata": {},
   "outputs": [],
   "source": [
    "training_images_flipped = tf.image.flip_left_right(training_images)\n",
    "training_images_rr_ccw = RandomRotation((-1/12,-1/36), fill_mode='constant')(training_images)\n",
    "training_images_rr_cw = RandomRotation((1/36,1/12), fill_mode='constant')(training_images)"
   ]
  },
  {
   "cell_type": "code",
   "execution_count": 5,
   "id": "88ca118d",
   "metadata": {},
   "outputs": [],
   "source": [
    "training_images_augmented = tf.concat([training_images,training_images_flipped,training_images_rr_ccw,training_images_rr_cw], 0)\n",
    "training_emotions_augmented = tf.concat([training_emotions,training_emotions,training_emotions,training_emotions], 0)"
   ]
  },
  {
   "cell_type": "code",
   "execution_count": 6,
   "id": "d1dd56d3",
   "metadata": {},
   "outputs": [],
   "source": [
    "tf.config.run_functions_eagerly(True)\n",
    "def model_acc(y_true, y_pred):\n",
    "    size = y_true.shape[0]\n",
    "    acc = 0\n",
    "    for i in range(size):\n",
    "        true = y_true[i]\n",
    "        pred = y_pred[i]           \n",
    "        index_max = tf.argmax(pred).numpy()\n",
    "        if true[index_max].numpy()==tf.reduce_max(true).numpy():\n",
    "            acc += 1\n",
    "    return acc/size"
   ]
  },
  {
   "cell_type": "code",
   "execution_count": 7,
   "id": "c10b1bf0",
   "metadata": {},
   "outputs": [],
   "source": [
    "def train(model, learning_rate, loss, num_epochs, batch_size):\n",
    "    model.compile(optimizer=adam.Adam(learning_rate=learning_rate), \n",
    "                  loss=loss, \n",
    "                  metrics = [model_acc])\n",
    "    return model.fit(x=training_images_augmented,\n",
    "                     y=training_emotions_augmented,\n",
    "                     batch_size=batch_size,\n",
    "                     epochs=num_epochs,\n",
    "                     validation_data=(test_images, test_emotions))"
   ]
  },
  {
   "cell_type": "code",
   "execution_count": null,
   "id": "b9d9451f",
   "metadata": {},
   "outputs": [
    {
     "name": "stderr",
     "output_type": "stream",
     "text": [
      "/Users/duanruxiao/opt/anaconda3/lib/python3.8/site-packages/tensorflow/python/data/ops/dataset_ops.py:4526: UserWarning: Even though the `tf.config.experimental_run_functions_eagerly` option is set, this option does not apply to tf.data functions. To force eager execution of tf.data functions, please use `tf.data.experimental.enable_debug_mode()`.\n",
      "  warnings.warn(\n"
     ]
    },
    {
     "name": "stdout",
     "output_type": "stream",
     "text": [
      "Epoch 1/40\n",
      "   1/3983 [..............................] - ETA: 4:28:38 - loss: 0.0684 - model_acc: 0.1875"
     ]
    }
   ],
   "source": [
    "if not os.path.isdir('./results/'):\n",
    "    os.mkdir('./results/')\n",
    "\n",
    "learning_rate = 1e-4\n",
    "num_epochs = 40\n",
    "loss = losses.MeanSquaredError()\n",
    "batch_size = 32\n",
    "val_accs = []\n",
    "\n",
    "base_model = vgg16.VGG16(include_top=False, weights=\"imagenet\", input_shape=(48,48,3))\n",
    "base_model.trainable=True\n",
    "model = Sequential([\n",
    "    base_model,\n",
    "    layers.GlobalAveragePooling2D(),\n",
    "    layers.Dense(4096, activation='relu'),\n",
    "    layers.Dense(4096, activation='relu'),\n",
    "    layers.Dense(emotions_count, activation='softmax'),\n",
    "])\n",
    "\n",
    "history = train(model, learning_rate, loss, num_epochs, batch_size)\n",
    "history_save_path = './results/random-rotation.txt'\n",
    "with open(history_save_path, 'wb') as file_pi:\n",
    "    pickle.dump(history.history, file_pi)"
   ]
  },
  {
   "cell_type": "code",
   "execution_count": null,
   "id": "3cae3576",
   "metadata": {},
   "outputs": [],
   "source": []
  }
 ],
 "metadata": {
  "kernelspec": {
   "display_name": "Python 3.8.2 64-bit",
   "language": "python",
   "name": "python3"
  },
  "language_info": {
   "codemirror_mode": {
    "name": "ipython",
    "version": 3
   },
   "file_extension": ".py",
   "mimetype": "text/x-python",
   "name": "python",
   "nbconvert_exporter": "python",
   "pygments_lexer": "ipython3",
   "version": "3.8.2"
  },
  "vscode": {
   "interpreter": {
    "hash": "31f2aee4e71d21fbe5cf8b01ff0e069b9275f58929596ceb00d14d90e3e16cd6"
   }
  }
 },
 "nbformat": 4,
 "nbformat_minor": 5
}
