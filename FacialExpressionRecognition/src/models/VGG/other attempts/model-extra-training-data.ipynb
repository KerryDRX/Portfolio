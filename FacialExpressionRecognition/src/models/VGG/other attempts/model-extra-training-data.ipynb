{
 "cells": [
  {
   "cell_type": "code",
   "execution_count": null,
   "id": "39f1a072",
   "metadata": {},
   "outputs": [],
   "source": [
    "import numpy as np\n",
    "import matplotlib.pyplot as plt\n",
    "import tensorflow as tf\n",
    "from tensorflow.python.keras.layers import Dense, GlobalAveragePooling2D\n",
    "from tensorflow.python.keras.models import Model\n",
    "from tensorflow.python.keras import layers, Sequential,losses, metrics\n",
    "\n",
    "image_height = 48\n",
    "image_width = 48\n",
    "emotions_count = 8\n",
    "emotion_labels = ['neutral', 'happiness', 'surprise', 'sadness',\n",
    "                  'anger', 'disgust', 'fear', 'contempt']\n",
    "\n",
    "samples = 35393 # 2~35394\n",
    "training_samples = 28317  # 2~28318 (Training)\n",
    "validation_samples = 3541 # 28319~31859 (PublicTest)\n",
    "test_samples = 3535       # 31860~35394 (PrivateTest)\n",
    "expw_samples = 35000\n",
    "\n",
    "image_path = \"./dataset/images.npy\"\n",
    "emotion_path = \"./dataset/emotions_single.npy\"\n",
    "image_path_expw = \"./sample35k/images.npy\"\n",
    "emotion_path_expw = \"./sample35k/emotions.npy\""
   ]
  },
  {
   "cell_type": "code",
   "execution_count": null,
   "id": "ec14eb0d",
   "metadata": {},
   "outputs": [],
   "source": [
    "images = np.load(image_path)\n",
    "emotions = np.load(emotion_path)\n",
    "images_expw = np.load(image_path_expw)\n",
    "emotions_expw = np.load(emotion_path_expw)\n",
    "\n",
    "print(images.shape)\n",
    "print(emotions.shape)\n",
    "print(images_expw.shape)\n",
    "print(emotions_expw.shape)"
   ]
  },
  {
   "cell_type": "code",
   "execution_count": null,
   "id": "7a7db62f",
   "metadata": {},
   "outputs": [],
   "source": [
    "tf.config.run_functions_eagerly(True)\n",
    "def model_acc(y_true, y_pred):\n",
    "    size = y_true.shape[0]\n",
    "    acc = 0\n",
    "    for i in range(size):\n",
    "        true = y_true[i]\n",
    "        pred = y_pred[i]           \n",
    "        index_max = tf.argmax(pred).numpy()\n",
    "        if true[index_max].numpy()==tf.reduce_max(true).numpy():\n",
    "            acc += 1\n",
    "    return acc/size"
   ]
  },
  {
   "cell_type": "code",
   "execution_count": null,
   "id": "f03c7255",
   "metadata": {},
   "outputs": [],
   "source": [
    "images = tf.convert_to_tensor(images)\n",
    "images = tf.image.grayscale_to_rgb(images)\n",
    "emotions = tf.convert_to_tensor(emotions)"
   ]
  },
  {
   "cell_type": "code",
   "execution_count": null,
   "id": "f8166f0d",
   "metadata": {},
   "outputs": [],
   "source": [
    "images_expw = tf.convert_to_tensor(images_expw)\n",
    "emotions_expw = tf.convert_to_tensor(emotions_expw)"
   ]
  },
  {
   "cell_type": "code",
   "execution_count": null,
   "id": "c4f95964",
   "metadata": {},
   "outputs": [],
   "source": [
    "images = layers.Rescaling(1./127.5, offset= -1)(images)\n",
    "#images_expw = layers.Rescaling(1./127.5, offset= -1)(images_expw)"
   ]
  },
  {
   "cell_type": "code",
   "execution_count": null,
   "id": "4693da55",
   "metadata": {},
   "outputs": [],
   "source": [
    "training_size = training_samples + validation_samples\n",
    "test_size = test_samples"
   ]
  },
  {
   "cell_type": "code",
   "execution_count": null,
   "id": "2883428d",
   "metadata": {},
   "outputs": [],
   "source": [
    "training_images = tf.concat([images_expw, images[:training_size]], 0)\n",
    "test_images = images[training_size:]\n",
    "training_emotions = tf.concat([emotions_expw, emotions[:training_size]], 0)\n",
    "test_emotions = emotions[training_size:]"
   ]
  },
  {
   "cell_type": "code",
   "execution_count": null,
   "id": "88cf1273",
   "metadata": {},
   "outputs": [],
   "source": [
    "samples += expw_samples\n",
    "print(\"total sample:\", samples)\n",
    "print(\"training_images shape:\", training_images.shape)\n",
    "print(\"training_emotions shape:\", training_emotions.shape)\n",
    "print(\"test_images shape:\", test_images.shape)\n",
    "print(\"test_emotions shape:\", test_emotions.shape)"
   ]
  },
  {
   "cell_type": "code",
   "execution_count": null,
   "id": "b47f2b5a",
   "metadata": {},
   "outputs": [],
   "source": [
    "from tensorflow.python.keras.layers import Dense, GlobalAveragePooling2D\n",
    "from tensorflow.python.keras.models import Model\n",
    "from tensorflow.python.keras import layers, Sequential,losses, metrics\n",
    "from tensorflow.python.keras.applications import vgg16, resnet_v2\n",
    "from tensorflow.python.keras import optimizers\n",
    "from tensorflow.python.keras.optimizer_v2 import adam\n",
    "\n",
    "base_model = vgg16.VGG16(include_top=False, \n",
    "                         weights=\"imagenet\", \n",
    "                         input_shape=(48,48,3))\n",
    "base_model.trainable=True\n",
    "model = Sequential([\n",
    "    base_model,\n",
    "    layers.GlobalAveragePooling2D(),\n",
    "    layers.Dense(4096, activation='relu'),\n",
    "    layers.Dense(4096, activation='relu'),\n",
    "    layers.Dense(emotions_count, activation='softmax'),\n",
    "])\n",
    "\n",
    "model.compile(optimizer=adam.Adam(learning_rate=1e-4), \n",
    "              loss=losses.CategoricalCrossentropy(), \n",
    "              metrics = [model_acc])\n",
    "\n",
    "model.fit(x=training_images,\n",
    "          y=training_emotions,\n",
    "          batch_size=32,\n",
    "          epochs=40,\n",
    "          validation_data=(test_images, test_emotions))"
   ]
  },
  {
   "cell_type": "code",
   "execution_count": null,
   "id": "3aaa55c9",
   "metadata": {},
   "outputs": [],
   "source": [
    "base_model = vgg16.VGG16(include_top=False, \n",
    "                         weights=\"imagenet\", \n",
    "                         input_shape=(48,48,3))\n",
    "base_model.trainable=True\n",
    "model = Sequential([\n",
    "    base_model,\n",
    "    layers.GlobalAveragePooling2D(),\n",
    "    layers.Dense(4096, activation='relu'),\n",
    "    layers.Dense(4096, activation='relu'),\n",
    "    layers.Dense(emotions_count, activation='softmax'),\n",
    "])\n",
    "\n",
    "model.compile(optimizer='sgd', \n",
    "              loss='mse', \n",
    "              metrics = [model_acc])\n",
    "\n",
    "model.fit(x=training_images,\n",
    "          y=training_emotions,\n",
    "          batch_size=32,\n",
    "          epochs=20,\n",
    "          validation_data=(test_images, test_emotions))"
   ]
  }
 ],
 "metadata": {
  "kernelspec": {
   "display_name": "Python 3 (ipykernel)",
   "language": "python",
   "name": "python3"
  },
  "language_info": {
   "codemirror_mode": {
    "name": "ipython",
    "version": 3
   },
   "file_extension": ".py",
   "mimetype": "text/x-python",
   "name": "python",
   "nbconvert_exporter": "python",
   "pygments_lexer": "ipython3",
   "version": "3.8.13"
  }
 },
 "nbformat": 4,
 "nbformat_minor": 5
}
