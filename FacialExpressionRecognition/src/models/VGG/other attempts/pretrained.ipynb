{
 "cells": [
  {
   "cell_type": "code",
   "execution_count": null,
   "id": "3dc15974",
   "metadata": {},
   "outputs": [],
   "source": [
    "import tensorflow as tf\n",
    "import numpy as np\n",
    "import matplotlib.pyplot as plt\n",
    "import os\n",
    "import pickle\n",
    "import gc\n",
    "from tensorflow.python.keras import layers, Sequential,losses, metrics, optimizers, callbacks, models\n",
    "from tensorflow.python.keras.layers import Dense, GlobalAveragePooling2D, Dropout\n",
    "from tensorflow.python.keras.models import Model\n",
    "from tensorflow.python.keras.applications import vgg16\n",
    "from tensorflow.python.keras.optimizer_v2 import adam"
   ]
  },
  {
   "cell_type": "code",
   "execution_count": null,
   "id": "3ebcd393",
   "metadata": {},
   "outputs": [],
   "source": [
    "image_height = 48\n",
    "image_width = 48\n",
    "emotions_count = 8\n",
    "emotion_labels = ['neutral', 'happiness', 'surprise', 'sadness', 'anger', 'disgust', 'fear', 'contempt']"
   ]
  },
  {
   "cell_type": "code",
   "execution_count": null,
   "id": "2a38bf45",
   "metadata": {},
   "outputs": [],
   "source": [
    "image_path = \"./dataset_f+r20/images.npy\"\n",
    "emotion_path = \"./dataset_f+r20/emotions_multi.npy\"\n",
    "\n",
    "images = np.load(image_path)\n",
    "images = tf.convert_to_tensor(images)\n",
    "images = tf.image.grayscale_to_rgb(images)\n",
    "\n",
    "emotions = np.load(emotion_path)\n",
    "emotions = tf.convert_to_tensor(emotions)\n",
    "    \n",
    "training_samples = 28317 * 4\n",
    "validation_samples = 3541 * 4\n",
    "training_size = training_samples + validation_samples\n",
    "    \n",
    "training_images = images[:training_size]\n",
    "test_images = images[training_size:]\n",
    "training_emotions = emotions[:training_size]\n",
    "test_emotions = emotions[training_size:]"
   ]
  },
  {
   "cell_type": "code",
   "execution_count": null,
   "id": "afecca65",
   "metadata": {},
   "outputs": [],
   "source": [
    "\n",
    "image_path_affectnet = \"./AffectNet/images.npy\"\n",
    "emotion_path_affectnet = \"./AffectNet/emotions.npy\"\n",
    "\n",
    "images_affectnet = np.load(image_path_affectnet)\n",
    "images_affectnet = tf.convert_to_tensor(images_affectnet)\n",
    "\n",
    "emotions_affectnet = np.load(emotion_path_affectnet)\n",
    "emotions_affectnet = tf.convert_to_tensor(emotions_affectnet)\n"
   ]
  },
  {
   "cell_type": "code",
   "execution_count": null,
   "id": "240ff7e0",
   "metadata": {},
   "outputs": [],
   "source": [
    "tf.config.run_functions_eagerly(True)\n",
    "def model_acc(y_true, y_pred):\n",
    "    size = y_true.shape[0]\n",
    "    acc = 0\n",
    "    for i in range(size):\n",
    "        true = y_true[i]\n",
    "        pred = y_pred[i]           \n",
    "        index_max = tf.argmax(pred).numpy()\n",
    "        if true[index_max].numpy()==tf.reduce_max(true).numpy():\n",
    "            acc += 1\n",
    "    return acc/size"
   ]
  },
  {
   "cell_type": "code",
   "execution_count": null,
   "id": "9bdfca3f",
   "metadata": {},
   "outputs": [],
   "source": [
    "# affectnet_pretrain=1: AffectNet pretrained\n",
    "def train(model, learning_rate, loss, num_epochs, batch_size, affectnet_pretrain):\n",
    "    \n",
    "    if affectnet_pretrain == 1:\n",
    "        model.compile(optimizer=adam.Adam(learning_rate=1e-5), \n",
    "                  loss=loss, \n",
    "                  metrics = [model_acc])\n",
    "        model.fit(x=images_affectnet,\n",
    "                  y=emotions_affectnet,\n",
    "                  batch_size=batch_size,\n",
    "                  epochs=num_epochs)\n",
    "        \n",
    "    model.compile(optimizer=adam.Adam(learning_rate=learning_rate), \n",
    "                  loss=loss, \n",
    "                  metrics = [model_acc])\n",
    "    history = model.fit(x=training_images,\n",
    "                        y=training_emotions,\n",
    "                        batch_size=batch_size,\n",
    "                        epochs=num_epochs,\n",
    "                        validation_data=(test_images, test_emotions))\n",
    "    del model\n",
    "    gc.collect()\n",
    "    return history"
   ]
  },
  {
   "cell_type": "code",
   "execution_count": null,
   "id": "2586f09f",
   "metadata": {},
   "outputs": [],
   "source": [
    "def create_model(base_model):\n",
    "    base_model.trainable=True\n",
    "    return Sequential([\n",
    "        base_model,\n",
    "        layers.GlobalAveragePooling2D(),\n",
    "        layers.Dense(4096, activation='relu'),\n",
    "        layers.Dense(4096, activation='relu'),\n",
    "        layers.Dense(emotions_count, activation='softmax'),\n",
    "    ])"
   ]
  },
  {
   "cell_type": "code",
   "execution_count": null,
   "id": "5bb4547b",
   "metadata": {
    "scrolled": false
   },
   "outputs": [],
   "source": [
    "if not os.path.isdir('./results/'):\n",
    "    os.mkdir('./results/')\n",
    "\n",
    "learning_rate = 1e-4\n",
    "num_epochs = 40\n",
    "batch_size = 32\n",
    "loss = losses.MeanSquaredError()\n",
    "for i in range(2,-1,-1):\n",
    "    if i == 0: # none\n",
    "        base_model = vgg16.VGG16(include_top=False, weights=None, input_shape=(48,48,3))\n",
    "        model = create_model(base_model)\n",
    "        history_save_path = './results/none.txt'\n",
    "        history = train(model, learning_rate, loss, num_epochs, batch_size, 0)\n",
    "    if i == 1: # AffectNet\n",
    "        base_model = vgg16.VGG16(include_top=False, weights=None, input_shape=(48,48,3))\n",
    "        model = create_model(base_model)\n",
    "        history_save_path = './results/AN.txt'\n",
    "        history = train(model, learning_rate, loss, num_epochs, batch_size, 1)\n",
    "    if i == 2: # ImageNet-AffectNet\n",
    "        base_model = vgg16.VGG16(include_top=False, weights='imagenet', input_shape=(48,48,3))\n",
    "        model = create_model(base_model)\n",
    "        history_save_path = './results/IN-AN.txt'\n",
    "        history = train(model, learning_rate, loss, num_epochs, batch_size, 1)\n",
    "\n",
    "    with open(history_save_path, 'wb') as file_pi:\n",
    "        pickle.dump(history.history, file_pi)\n",
    "    del model, history\n",
    "    gc.collect()"
   ]
  },
  {
   "cell_type": "code",
   "execution_count": null,
   "id": "605a1771",
   "metadata": {},
   "outputs": [],
   "source": [
    "model.fit(x=training_images,\n",
    "                        y=training_emotions,\n",
    "                        batch_size=batch_size,\n",
    "                        epochs=num_epochs,\n",
    "                        validation_data=(test_images, test_emotions))"
   ]
  },
  {
   "cell_type": "code",
   "execution_count": null,
   "id": "4c196393",
   "metadata": {},
   "outputs": [],
   "source": [
    "# model comparison\n",
    "epochs = range(1, 1+num_epochs)\n",
    "fig = plt.figure()\n",
    "\n",
    "with open('./results/history_base+flip+rotate20.txt') as file_pi:\n",
    "    hist = pickle.load(file_pi)\n",
    "plt.plot(epochs, hist['val_model_acc'], label = 'IN')\n",
    "\n",
    "with open('./results/none.txt') as file_pi:\n",
    "    hist = pickle.load(file_pi)\n",
    "plt.plot(epochs, hist['val_model_acc'], label = 'None')\n",
    "\n",
    "with open('./results/AN.txt') as file_pi:\n",
    "    hist = pickle.load(file_pi)\n",
    "plt.plot(epochs, hist['val_model_acc'], label = 'AN')\n",
    "\n",
    "with open('./results/IN-AN.txt') as file_pi:\n",
    "    hist = pickle.load(file_pi)\n",
    "plt.plot(epochs, hist['val_model_acc'], label = 'IN-AN')\n",
    "\n",
    "plt.legend()\n",
    "plt.show()\n",
    "# save plot\n",
    "fig.savefig('./plots/pretrained.png')"
   ]
  },
  {
   "cell_type": "code",
   "execution_count": null,
   "id": "fcfee799",
   "metadata": {},
   "outputs": [],
   "source": []
  }
 ],
 "metadata": {
  "kernelspec": {
   "display_name": "Python 3 (ipykernel)",
   "language": "python",
   "name": "python3"
  },
  "language_info": {
   "codemirror_mode": {
    "name": "ipython",
    "version": 3
   },
   "file_extension": ".py",
   "mimetype": "text/x-python",
   "name": "python",
   "nbconvert_exporter": "python",
   "pygments_lexer": "ipython3",
   "version": "3.8.8"
  }
 },
 "nbformat": 4,
 "nbformat_minor": 5
}
