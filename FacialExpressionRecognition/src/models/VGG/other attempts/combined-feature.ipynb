{
 "cells": [
  {
   "cell_type": "code",
   "execution_count": null,
   "id": "ec1de1d1",
   "metadata": {},
   "outputs": [],
   "source": [
    "import tensorflow as tf\n",
    "import numpy as np\n",
    "import matplotlib.pyplot as plt\n",
    "import os\n",
    "import pickle\n",
    "import gc\n",
    "from tensorflow.python.keras import layers, Sequential,losses, metrics, optimizers, callbacks, models\n",
    "from tensorflow.python.keras.layers import Dense, GlobalAveragePooling2D, Dropout\n",
    "from tensorflow.python.keras.models import Model\n",
    "from tensorflow.python.keras.applications import vgg16\n",
    "from tensorflow.python.keras.optimizer_v2 import adam"
   ]
  },
  {
   "cell_type": "code",
   "execution_count": null,
   "id": "843c8c8d",
   "metadata": {},
   "outputs": [],
   "source": [
    "image_height = 48\n",
    "image_width = 48\n",
    "emotions_count = 8\n",
    "emotion_labels = ['neutral', 'happiness', 'surprise', 'sadness', 'anger', 'disgust', 'fear', 'contempt']"
   ]
  },
  {
   "cell_type": "code",
   "execution_count": null,
   "id": "cd2c9a5b",
   "metadata": {},
   "outputs": [],
   "source": [
    "image_path = \"./dataset_f+r20/images.npy\"\n",
    "emotion_path = \"./dataset_f+r20/emotions_multi.npy\"\n",
    "\n",
    "images = np.load(image_path)\n",
    "images = tf.convert_to_tensor(images)\n",
    "images = layers.Rescaling(1./127.5, offset=-1)(images)\n",
    "images = tf.image.grayscale_to_rgb(images)\n",
    "\n",
    "emotions = np.load(emotion_path)\n",
    "emotions = tf.convert_to_tensor(emotions)\n",
    "    \n",
    "training_samples = 28317 * 4\n",
    "validation_samples = 3541 * 4\n",
    "training_size = training_samples + validation_samples\n",
    "    \n",
    "training_images = images[:training_size]\n",
    "test_images = images[training_size:]\n",
    "training_emotions = emotions[:training_size]\n",
    "test_emotions = emotions[training_size:]"
   ]
  },
  {
   "cell_type": "code",
   "execution_count": null,
   "id": "df9ca248",
   "metadata": {},
   "outputs": [],
   "source": [
    "tf.config.run_functions_eagerly(True)\n",
    "def model_acc(y_true, y_pred):\n",
    "    size = y_true.shape[0]\n",
    "    acc = 0\n",
    "    for i in range(size):\n",
    "        true = y_true[i]\n",
    "        pred = y_pred[i]           \n",
    "        index_max = tf.argmax(pred).numpy()\n",
    "        if true[index_max].numpy()==tf.reduce_max(true).numpy():\n",
    "            acc += 1\n",
    "    return acc/size"
   ]
  },
  {
   "cell_type": "code",
   "execution_count": null,
   "id": "d874d269",
   "metadata": {},
   "outputs": [],
   "source": [
    "def train(model, learning_rate, loss, num_epochs, batch_size):\n",
    "    model.compile(optimizer=adam.Adam(learning_rate=learning_rate), \n",
    "                  loss=loss, \n",
    "                  metrics = [model_acc])\n",
    "    history = model.fit(x=training_images,\n",
    "                        y=training_emotions,\n",
    "                        batch_size=batch_size,\n",
    "                        epochs=num_epochs,\n",
    "                        validation_data=(test_images, test_emotions))\n",
    "    del model\n",
    "    gc.collect()\n",
    "    return history"
   ]
  },
  {
   "cell_type": "code",
   "execution_count": null,
   "id": "f3bc4e0c",
   "metadata": {},
   "outputs": [],
   "source": [
    "def create_model():\n",
    "    base_model = vgg16.VGG16(include_top=False, weights=\"imagenet\", input_shape=(48,48,3))\n",
    "    base_model.trainable=True\n",
    "    input_layer = Input(shape=(48,48,3))\n",
    "    feat1 = GlobalAveragePooling2D()(input_layer)\n",
    "    x = base_model.layers[1](input_layer)\n",
    "    x = base_model.layers[2](x)\n",
    "    x = base_model.layers[3](x)\n",
    "    feat2 = GlobalAveragePooling2D()(x)\n",
    "    x = base_model.layers[4](x)\n",
    "    x = base_model.layers[5](x)\n",
    "    x = base_model.layers[6](x)\n",
    "    feat3 = GlobalAveragePooling2D()(x)\n",
    "    x = base_model.layers[7](x)\n",
    "    x = base_model.layers[8](x)\n",
    "    x = base_model.layers[9](x)\n",
    "    x = base_model.layers[10](x)\n",
    "    feat4 = GlobalAveragePooling2D()(x)\n",
    "    x = base_model.layers[11](x)\n",
    "    x = base_model.layers[12](x)\n",
    "    x = base_model.layers[13](x)\n",
    "    x = base_model.layers[14](x)\n",
    "    feat5 = GlobalAveragePooling2D()(x)\n",
    "    x = base_model.layers[15](x)\n",
    "    x = base_model.layers[16](x)\n",
    "    x = base_model.layers[17](x)\n",
    "    x = base_model.layers[18](x)\n",
    "    feat6 = GlobalAveragePooling2D()(x)\n",
    "    x = tf.concat([feat1, feat2, feat3, feat4, feat5, feat6], -1)\n",
    "    x = Dense(units=4096, activation='relu')(x)\n",
    "    x = Dense(units=4096, activation='relu')(x)\n",
    "    output_layer = Dense(units=8, activation='softmax')(x)\n",
    "    model = Model(inputs=input_layer, outputs=output_layer)\n",
    "    return model"
   ]
  },
  {
   "cell_type": "code",
   "execution_count": null,
   "id": "8f2ac322",
   "metadata": {},
   "outputs": [],
   "source": [
    "if not os.path.isdir('./results/'):\n",
    "    os.mkdir('./results/')\n",
    "\n",
    "learning_rate = 2e-5\n",
    "num_epochs = 40\n",
    "batch_size = 32\n",
    "loss = losses.MeanSquaredError()\n",
    "\n",
    "model = create_model()\n",
    "history_save_path = './results/combined.txt'\n",
    "history = train(model, learning_rate, loss, num_epochs, batch_size)\n",
    "\n",
    "with open(history_save_path, 'wb') as file_pi:\n",
    "    pickle.dump(history.history, file_pi)"
   ]
  },
  {
   "cell_type": "code",
   "execution_count": null,
   "id": "46642bb3",
   "metadata": {},
   "outputs": [],
   "source": [
    "# model comparison\n",
    "epochs = range(1, 1+num_epochs)\n",
    "fig = plt.figure()\n",
    "\n",
    "with open('./results/history_base+flip+rotate20.txt') as file_pi:\n",
    "    hist = pickle.load(file_pi)\n",
    "plt.plot(epochs, hist['val_model_acc'], label = 'vgg16')\n",
    "\n",
    "with open('./results/combined.txt') as file_pi:\n",
    "    hist = pickle.load(file_pi)\n",
    "plt.plot(epochs, hist['val_model_acc'], label = 'combined')\n",
    "\n",
    "plt.legend()\n",
    "plt.show()\n",
    "# save plot\n",
    "fig.savefig('./plots/combined.png')"
   ]
  },
  {
   "cell_type": "code",
   "execution_count": null,
   "id": "2c8add9d",
   "metadata": {},
   "outputs": [],
   "source": []
  }
 ],
 "metadata": {
  "kernelspec": {
   "display_name": "Python 3.8.2 64-bit",
   "language": "python",
   "name": "python3"
  },
  "language_info": {
   "codemirror_mode": {
    "name": "ipython",
    "version": 3
   },
   "file_extension": ".py",
   "mimetype": "text/x-python",
   "name": "python",
   "nbconvert_exporter": "python",
   "pygments_lexer": "ipython3",
   "version": "3.8.2"
  },
  "vscode": {
   "interpreter": {
    "hash": "31f2aee4e71d21fbe5cf8b01ff0e069b9275f58929596ceb00d14d90e3e16cd6"
   }
  }
 },
 "nbformat": 4,
 "nbformat_minor": 5
}
