{
 "cells": [
  {
   "cell_type": "code",
   "execution_count": null,
   "id": "94d7b07c",
   "metadata": {},
   "outputs": [],
   "source": [
    "import tensorflow as tf\n",
    "import numpy as np\n",
    "import matplotlib.pyplot as plt\n",
    "import os\n",
    "import pickle\n",
    "import gc\n",
    "from tensorflow.python.keras import layers, Sequential,losses, metrics, models\n",
    "from tensorflow.python.keras.layers import Dense, GlobalAveragePooling2D\n",
    "from tensorflow.python.keras.models import Model\n",
    "from tensorflow.python.keras.applications import vgg16\n",
    "from tensorflow.python.keras.optimizer_v2 import adam"
   ]
  },
  {
   "cell_type": "code",
   "execution_count": null,
   "id": "4237f72b",
   "metadata": {},
   "outputs": [],
   "source": [
    "image_height = 48\n",
    "image_width = 48\n",
    "emotions_count = 8\n",
    "emotion_labels = ['neutral', 'happiness', 'surprise', 'sadness', 'anger', 'disgust', 'fear', 'contempt']"
   ]
  },
  {
   "cell_type": "code",
   "execution_count": null,
   "id": "ba40f598",
   "metadata": {},
   "outputs": [],
   "source": [
    "image_path = \"./dataset/aligned_images_int.npy\"\n",
    "images = np.load(image_path)\n",
    "images = tf.convert_to_tensor(images)\n",
    "images = layers.Rescaling(1./255.0, offset=0)(images)\n",
    "images = tf.image.grayscale_to_rgb(images)\n",
    "\n",
    "emotion_path = \"./dataset/emotions_multi.npy\"\n",
    "emotions = np.load(emotion_path)\n",
    "emotions = tf.convert_to_tensor(emotions)\n",
    "    \n",
    "training_samples = 28317 * 1\n",
    "validation_samples = 3541 * 1\n",
    "training_size = training_samples + validation_samples\n",
    "    \n",
    "training_images = images[:training_size]\n",
    "test_images = images[training_size:]\n",
    "training_emotions = emotions[:training_size]\n",
    "test_emotions = emotions[training_size:]"
   ]
  },
  {
   "cell_type": "code",
   "execution_count": null,
   "id": "b5f78295",
   "metadata": {},
   "outputs": [],
   "source": [
    "tf.config.run_functions_eagerly(True)\n",
    "def model_acc(y_true, y_pred):\n",
    "    size = y_true.shape[0]\n",
    "    acc = 0\n",
    "    for i in range(size):\n",
    "        true = y_true[i]\n",
    "        pred = y_pred[i]           \n",
    "        index_max = tf.argmax(pred).numpy()\n",
    "        if true[index_max].numpy()==tf.reduce_max(true).numpy():\n",
    "            acc += 1\n",
    "    return acc/size"
   ]
  },
  {
   "cell_type": "code",
   "execution_count": null,
   "id": "507a98c2",
   "metadata": {},
   "outputs": [],
   "source": [
    "def train(model, learning_rate, loss, num_epochs, batch_size):\n",
    "    model.compile(optimizer=adam.Adam(learning_rate=learning_rate), \n",
    "                  loss=loss, \n",
    "                  metrics = [model_acc])\n",
    "    history = model.fit(x=training_images,\n",
    "                        y=training_emotions,\n",
    "                        batch_size=batch_size,\n",
    "                        epochs=num_epochs,\n",
    "                        validation_data=(test_images, test_emotions))\n",
    "    del model\n",
    "    gc.collect()\n",
    "    return history"
   ]
  },
  {
   "cell_type": "code",
   "execution_count": null,
   "id": "e8aab049",
   "metadata": {},
   "outputs": [],
   "source": [
    "def create_model(base_model):\n",
    "    base_model.trainable=True\n",
    "    return Sequential([\n",
    "        base_model,\n",
    "        layers.GlobalAveragePooling2D(),\n",
    "        layers.Dense(4096, activation='relu'),\n",
    "        layers.Dense(4096, activation='relu'),\n",
    "        layers.Dense(emotions_count, activation='softmax'),\n",
    "    ])"
   ]
  },
  {
   "cell_type": "code",
   "execution_count": null,
   "id": "cfb20212",
   "metadata": {},
   "outputs": [],
   "source": [
    "if not os.path.isdir('./results/'):\n",
    "    os.mkdir('./results/')\n",
    "\n",
    "learning_rate = 1e-4\n",
    "num_epochs = 40\n",
    "batch_size = 32\n",
    "loss = losses.MeanSquaredError()\n",
    "\n",
    "history_save_path = './results/face-alignment-48.txt'\n",
    "base_model = vgg16.VGG16(include_top=False, weights=\"imagenet\", input_shape=(48,48,3))\n",
    "model = create_model(base_model)\n",
    "history = train(model, learning_rate, loss, num_epochs, batch_size)\n",
    "    \n",
    "with open(history_save_path, 'wb') as file_pi:\n",
    "    pickle.dump(history.history, file_pi)"
   ]
  },
  {
   "cell_type": "code",
   "execution_count": null,
   "id": "f0e7c6ca",
   "metadata": {},
   "outputs": [],
   "source": [
    "# def create_model(base_model):\n",
    "#     base_model.trainable=True\n",
    "#     model = Sequential([\n",
    "#         layers.Resizing(224,224),\n",
    "#         base_model,\n",
    "#         layers.GlobalAveragePooling2D(),\n",
    "#         layers.Dense(4096, activation='relu'),\n",
    "#         layers.Dense(4096, activation='relu'),\n",
    "#         layers.Dense(emotions_count, activation='softmax'),\n",
    "#     ])\n",
    "#     model.build((None, 224, 224, 3))\n",
    "#     return model\n",
    "    \n",
    "# if not os.path.isdir('./results/'):\n",
    "#     os.mkdir('./results/')\n",
    "\n",
    "# learning_rate = 1e-4\n",
    "# num_epochs = 40\n",
    "# batch_size = 32\n",
    "# loss = losses.MeanSquaredError()\n",
    "\n",
    "# history_save_path = './results/face-alignment-224.txt'\n",
    "# base_model = vgg16.VGG16(include_top=False, weights=\"imagenet\", input_shape=(224,224,3))\n",
    "# model = create_model(base_model)\n",
    "# history = train(model, learning_rate, loss, num_epochs, batch_size)\n",
    "    \n",
    "# with open(history_save_path, 'wb') as file_pi:\n",
    "#     pickle.dump(history.history, file_pi)"
   ]
  },
  {
   "cell_type": "code",
   "execution_count": null,
   "id": "2a62b93d",
   "metadata": {},
   "outputs": [],
   "source": []
  }
 ],
 "metadata": {
  "kernelspec": {
   "display_name": "Python 3",
   "language": "python",
   "name": "python3"
  },
  "language_info": {
   "codemirror_mode": {
    "name": "ipython",
    "version": 3
   },
   "file_extension": ".py",
   "mimetype": "text/x-python",
   "name": "python",
   "nbconvert_exporter": "python",
   "pygments_lexer": "ipython3",
   "version": "3.8.8"
  }
 },
 "nbformat": 4,
 "nbformat_minor": 5
}
