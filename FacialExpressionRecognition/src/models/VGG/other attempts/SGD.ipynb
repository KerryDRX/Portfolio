{
 "cells": [
  {
   "cell_type": "code",
   "execution_count": 11,
   "id": "f13ca74e",
   "metadata": {},
   "outputs": [],
   "source": [
    "import tensorflow as tf\n",
    "import numpy as np\n",
    "import matplotlib.pyplot as plt\n",
    "import os\n",
    "import pickle\n",
    "from tensorflow.keras import layers, Sequential,losses, metrics, optimizers, callbacks, models\n",
    "from tensorflow.keras.layers import Dense, GlobalAveragePooling2D, Dropout\n",
    "from tensorflow.keras.models import Model\n",
    "from tensorflow.keras.applications import vgg16, resnet\n",
    "from tensorflow.keras.optimizers import SGD, RMSprop, Adam"
   ]
  },
  {
   "cell_type": "code",
   "execution_count": 2,
   "id": "e2898831",
   "metadata": {},
   "outputs": [],
   "source": [
    "image_height = 48\n",
    "image_width = 48\n",
    "emotions_count = 8\n",
    "emotion_labels = ['neutral', 'happiness', 'surprise', 'sadness', 'anger', 'disgust', 'fear', 'contempt']"
   ]
  },
  {
   "cell_type": "code",
   "execution_count": 3,
   "id": "72a6c2a5",
   "metadata": {},
   "outputs": [],
   "source": [
    "def load_data():\n",
    "    image_path = \"./dataset_f+r20/images.npy\"\n",
    "    emotion_path = \"./dataset_f+r20/emotions_multi.npy\"\n",
    "    \n",
    "    images = np.load(image_path)\n",
    "    images = tf.convert_to_tensor(images)\n",
    "    images = layers.Rescaling(1./127.5, offset= -1)(images)\n",
    "    images = tf.image.grayscale_to_rgb(images)\n",
    "    emotions = np.load(emotion_path)\n",
    "    emotions = tf.convert_to_tensor(emotions)\n",
    "    \n",
    "    training_samples = 28317 * 4\n",
    "    validation_samples = 3541 * 4\n",
    "    training_size = training_samples + validation_samples\n",
    "    \n",
    "    training_images = images[:training_size]\n",
    "    test_images = images[training_size:]\n",
    "    training_emotions = emotions[:training_size]\n",
    "    test_emotions = emotions[training_size:]\n",
    "    return training_images, training_emotions, test_images, test_emotions\n",
    "\n",
    "training_images, training_emotions, test_images, test_emotions = load_data()"
   ]
  },
  {
   "cell_type": "code",
   "execution_count": 4,
   "id": "d1dd56d3",
   "metadata": {},
   "outputs": [],
   "source": [
    "tf.config.run_functions_eagerly(True)\n",
    "def model_acc(y_true, y_pred):\n",
    "    size = y_true.shape[0]\n",
    "    acc = 0\n",
    "    for i in range(size):\n",
    "        true = y_true[i]\n",
    "        pred = y_pred[i]           \n",
    "        index_max = tf.argmax(pred).numpy()\n",
    "        if true[index_max].numpy()==tf.reduce_max(true).numpy():\n",
    "            acc += 1\n",
    "    return acc/size"
   ]
  },
  {
   "cell_type": "code",
   "execution_count": 6,
   "id": "3c86920e",
   "metadata": {},
   "outputs": [],
   "source": [
    "def create_model():\n",
    "    base_model = vgg16.VGG16(include_top=False, weights=\"imagenet\", input_shape=(48,48,3))\n",
    "    base_model.trainable=True\n",
    "    return Sequential([\n",
    "        base_model,\n",
    "        layers.GlobalAveragePooling2D(),\n",
    "        layers.Dense(4096, activation='relu'),\n",
    "        layers.Dense(4096, activation='relu'),\n",
    "        layers.Dense(emotions_count, activation='softmax'),\n",
    "    ])"
   ]
  },
  {
   "cell_type": "code",
   "execution_count": null,
   "id": "b9d9451f",
   "metadata": {},
   "outputs": [
    {
     "name": "stderr",
     "output_type": "stream",
     "text": [
      "/Users/duanruxiao/opt/anaconda3/lib/python3.8/site-packages/tensorflow/python/data/ops/dataset_ops.py:4526: UserWarning: Even though the `tf.config.experimental_run_functions_eagerly` option is set, this option does not apply to tf.data functions. To force eager execution of tf.data functions, please use `tf.data.experimental.enable_debug_mode()`.\n",
      "  warnings.warn(\n"
     ]
    },
    {
     "name": "stdout",
     "output_type": "stream",
     "text": [
      "Epoch 1/40\n",
      "   6/3983 [..............................] - ETA: 2:42:04 - loss: 0.0695 - model_acc: 0.1562"
     ]
    }
   ],
   "source": [
    "if not os.path.isdir('./results/'):\n",
    "    os.mkdir('./results/')\n",
    "\n",
    "num_epochs = 40\n",
    "learning_rate = 1e-1\n",
    "loss = losses.MeanSquaredError()\n",
    "batch_size = 32\n",
    "optimizer = tf.keras.optimizers.SGD(learning_rate=learning_rate, momentum=0.9)\n",
    "history_save_path = './results/SGD-momentum.txt'\n",
    "\n",
    "model = create_model()\n",
    "model.compile(optimizer=optimizer, loss=loss, metrics = [model_acc])\n",
    "history = model.fit(x=training_images,\n",
    "                    y=training_emotions,\n",
    "                    batch_size=batch_size,\n",
    "                    epochs=num_epochs,\n",
    "                    validation_data=(test_images, test_emotions))\n",
    "\n",
    "with open(history_save_path, 'wb') as file_pi:\n",
    "    pickle.dump(history.history, file_pi)"
   ]
  },
  {
   "cell_type": "code",
   "execution_count": null,
   "id": "90fac8e2",
   "metadata": {},
   "outputs": [],
   "source": []
  }
 ],
 "metadata": {
  "kernelspec": {
   "display_name": "Python 3",
   "language": "python",
   "name": "python3"
  },
  "language_info": {
   "codemirror_mode": {
    "name": "ipython",
    "version": 3
   },
   "file_extension": ".py",
   "mimetype": "text/x-python",
   "name": "python",
   "nbconvert_exporter": "python",
   "pygments_lexer": "ipython3",
   "version": "3.8.8"
  }
 },
 "nbformat": 4,
 "nbformat_minor": 5
}
