{
 "cells": [
  {
   "cell_type": "code",
   "execution_count": null,
   "id": "ec1de1d1",
   "metadata": {},
   "outputs": [],
   "source": [
    "import tensorflow as tf\n",
    "import numpy as np\n",
    "import matplotlib.pyplot as plt\n",
    "import os\n",
    "import pickle\n",
    "import gc\n",
    "from tensorflow.python.keras import layers, Sequential,losses, metrics, optimizers, callbacks, models\n",
    "from tensorflow.python.keras.layers import Dense, GlobalAveragePooling2D, Dropout\n",
    "from tensorflow.python.keras.models import Model\n",
    "from tensorflow.python.keras.applications import vgg16\n",
    "from tensorflow.python.keras.optimizer_v2 import adam"
   ]
  },
  {
   "cell_type": "code",
   "execution_count": null,
   "id": "843c8c8d",
   "metadata": {},
   "outputs": [],
   "source": [
    "image_height = 48\n",
    "image_width = 48\n",
    "emotions_count = 8\n",
    "emotion_labels = ['neutral', 'happiness', 'surprise', 'sadness', 'anger', 'disgust', 'fear', 'contempt']"
   ]
  },
  {
   "cell_type": "code",
   "execution_count": null,
   "id": "e883cc68",
   "metadata": {},
   "outputs": [],
   "source": [
    "image_path_affectnet = \"./AffectNet/images.npy\"\n",
    "emotion_path_affectnet = \"./AffectNet/emotions.npy\"\n",
    "\n",
    "images_affectnet = np.load(image_path_affectnet)\n",
    "\n",
    "#images_affectnet = images_affectnet/127.5 - 1\n",
    "\n",
    "images_affectnet = tf.convert_to_tensor(images_affectnet)\n",
    "\n",
    "images_affectnet = layers.Rescaling(1./127.5, offset=-1)(images_affectnet)\n",
    "\n",
    "emotions_affectnet = np.load(emotion_path_affectnet)\n",
    "emotions_affectnet = tf.convert_to_tensor(emotions_affectnet)"
   ]
  },
  {
   "cell_type": "code",
   "execution_count": null,
   "id": "df9ca248",
   "metadata": {},
   "outputs": [],
   "source": [
    "tf.config.run_functions_eagerly(True)\n",
    "def model_acc(y_true, y_pred):\n",
    "    size = y_true.shape[0]\n",
    "    acc = 0\n",
    "    for i in range(size):\n",
    "        true = y_true[i]\n",
    "        pred = y_pred[i]           \n",
    "        index_max = tf.argmax(pred).numpy()\n",
    "        if true[index_max].numpy()==tf.reduce_max(true).numpy():\n",
    "            acc += 1\n",
    "    return acc/size"
   ]
  },
  {
   "cell_type": "code",
   "execution_count": null,
   "id": "d874d269",
   "metadata": {},
   "outputs": [],
   "source": [
    "def train(model, learning_rate, loss, num_epochs, batch_size, save_path):\n",
    "    model.compile(optimizer=adam.Adam(learning_rate=learning_rate), \n",
    "                  loss=loss, \n",
    "                  metrics = [model_acc])\n",
    "    model.fit(x=images_affectnet,\n",
    "              y=emotions_affectnet,\n",
    "              batch_size=batch_size,\n",
    "              epochs=num_epochs)\n",
    "    model.save(save_path)\n",
    "    # model = tf.keras.models.load_model(save_path)\n",
    "    del model\n",
    "    gc.collect()"
   ]
  },
  {
   "cell_type": "code",
   "execution_count": null,
   "id": "f3bc4e0c",
   "metadata": {},
   "outputs": [],
   "source": [
    "def create_model(base_model):\n",
    "    base_model.trainable=True\n",
    "    return Sequential([\n",
    "        base_model,\n",
    "        layers.GlobalAveragePooling2D(),\n",
    "        layers.Dense(4096, activation='relu'),\n",
    "        layers.Dense(4096, activation='relu'),\n",
    "        layers.Dense(emotions_count, activation='softmax'),\n",
    "    ])"
   ]
  },
  {
   "cell_type": "code",
   "execution_count": null,
   "id": "8f2ac322",
   "metadata": {},
   "outputs": [],
   "source": [
    "if not os.path.isdir('./saved_models/'):\n",
    "    os.mkdir('./saved_models/')\n",
    "learning_rate = 1e-4\n",
    "num_epochs = 40\n",
    "batch_size = 32\n",
    "loss = losses.MeanSquaredError()\n",
    "for i in range(2):\n",
    "    if i == 0: # AffectNet\n",
    "        base_model = vgg16.VGG16(include_top=False, weights=None, input_shape=(48,48,3))\n",
    "        model = create_model(base_model)\n",
    "        save_path = './saved_models/none_affectnet'\n",
    "        train(model, learning_rate, loss, num_epochs, batch_size, save_path)\n",
    "    if i == 1: # ImageNet-AffectNet\n",
    "        base_model = vgg16.VGG16(include_top=False, weights='imagenet', input_shape=(48,48,3))\n",
    "        model = create_model(base_model)\n",
    "        save_path = './saved_models/imagenet_affectnet'\n",
    "        train(model, learning_rate, loss, num_epochs, batch_size, save_path)"
   ]
  },
  {
   "cell_type": "code",
   "execution_count": null,
   "id": "d94410c9",
   "metadata": {},
   "outputs": [],
   "source": []
  }
 ],
 "metadata": {
  "kernelspec": {
   "display_name": "Python 3 (ipykernel)",
   "language": "python",
   "name": "python3"
  },
  "language_info": {
   "codemirror_mode": {
    "name": "ipython",
    "version": 3
   },
   "file_extension": ".py",
   "mimetype": "text/x-python",
   "name": "python",
   "nbconvert_exporter": "python",
   "pygments_lexer": "ipython3",
   "version": "3.8.8"
  }
 },
 "nbformat": 4,
 "nbformat_minor": 5
}
