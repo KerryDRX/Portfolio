{
 "cells": [
  {
   "cell_type": "code",
   "execution_count": 1,
   "metadata": {},
   "outputs": [],
   "source": [
    "import tensorflow as tf\n",
    "import numpy as np\n",
    "import matplotlib.pyplot as plt\n",
    "import os\n",
    "import pickle\n",
    "from tensorflow.python.keras import layers, Sequential,losses, metrics, optimizers, callbacks, models\n",
    "from tensorflow.python.keras.layers import Dense, GlobalAveragePooling2D, Dropout\n",
    "from tensorflow.python.keras.models import Model\n",
    "from tensorflow.python.keras.applications import vgg16, resnet\n",
    "from tensorflow.python.keras.optimizer_v2 import adam"
   ]
  },
  {
   "cell_type": "code",
   "execution_count": 2,
   "metadata": {},
   "outputs": [],
   "source": [
    "image_height = 48\n",
    "image_width = 48\n",
    "emotions_count = 8\n",
    "emotion_labels = ['neutral', 'happiness', 'surprise', 'sadness', 'anger', 'disgust', 'fear', 'contempt']"
   ]
  },
  {
   "cell_type": "code",
   "execution_count": 3,
   "metadata": {},
   "outputs": [],
   "source": [
    "# dataset_index:\n",
    "#     0: original samples\n",
    "#     1: original samples + flip\n",
    "#     2: original samples + flip ± rotation 10°\n",
    "#     3: original samples + flip ± rotation 20°\n",
    "#     4: original samples + flip ± rotation 30°\n",
    "#     5: original samples + flip ± rotation 40°\n",
    "# resize:\n",
    "#     0: pixel value 0~255\n",
    "#     1: pixel value -1~1\n",
    "#     2: pixel value 0~1\n",
    "def load_data(dataset_index, resize):\n",
    "    if dataset_index == 0:\n",
    "        image_path = \"./dataset/images.npy\"\n",
    "        emotion_path = \"./dataset/emotions_multi.npy\"\n",
    "        training_sample_times = 1\n",
    "    if dataset_index == 1:\n",
    "        image_path = \"./dataset2/images.npy\"\n",
    "        emotion_path = \"./dataset2/emotions_multi.npy\"\n",
    "        training_sample_times = 2\n",
    "    if dataset_index == 2:\n",
    "        image_path = \"./dataset_f+r10/images.npy\"\n",
    "        emotion_path = \"./dataset_f+r10/emotions_multi.npy\"\n",
    "        training_sample_times = 4\n",
    "    if dataset_index == 3:\n",
    "        image_path = \"./dataset_f+r20/images.npy\"\n",
    "        emotion_path = \"./dataset_f+r20/emotions_multi.npy\"\n",
    "        training_sample_times = 4\n",
    "    if dataset_index == 4:\n",
    "        image_path = \"./dataset_f+r30/images.npy\"\n",
    "        emotion_path = \"./dataset_f+r30/emotions_multi.npy\"\n",
    "        training_sample_times = 4\n",
    "    if dataset_index == 5:\n",
    "        image_path = \"./dataset_f+r40/images.npy\"\n",
    "        emotion_path = \"./dataset_f+r40/emotions_multi.npy\"\n",
    "        training_sample_times = 4\n",
    "    images = np.load(image_path)\n",
    "    images = tf.convert_to_tensor(images)\n",
    "    if resize == 0:\n",
    "        pass\n",
    "    if resize == 1:\n",
    "        images = layers.Rescaling(1./127.5, offset= -1)(images)\n",
    "    if resize == 2:\n",
    "        images = layers.Rescaling(1./255, offset= 0)(images)\n",
    "    images = tf.image.grayscale_to_rgb(images)\n",
    "    emotions = np.load(emotion_path)\n",
    "    emotions = tf.convert_to_tensor(emotions)\n",
    "    \n",
    "    training_samples = 28317 * training_sample_times\n",
    "    validation_samples = 3541 * training_sample_times\n",
    "    training_size = training_samples + validation_samples\n",
    "    \n",
    "    training_images = images[:training_size]\n",
    "    test_images = images[training_size:]\n",
    "    training_emotions = emotions[:training_size]\n",
    "    test_emotions = emotions[training_size:]\n",
    "    return training_images, training_emotions, test_images, test_emotions"
   ]
  },
  {
   "cell_type": "code",
   "execution_count": 4,
   "metadata": {},
   "outputs": [],
   "source": [
    "import gc\n",
    "tf.config.run_functions_eagerly(True)\n",
    "def model_acc(y_true, y_pred):\n",
    "    size = y_true.shape[0]\n",
    "    acc = 0\n",
    "    for i in range(size):\n",
    "        true = y_true[i]\n",
    "        pred = y_pred[i]           \n",
    "        index_max = tf.argmax(pred).numpy()\n",
    "        if true[index_max].numpy()==tf.reduce_max(true).numpy():\n",
    "            acc += 1\n",
    "    return acc/size"
   ]
  },
  {
   "cell_type": "code",
   "execution_count": 5,
   "metadata": {},
   "outputs": [],
   "source": [
    "def train(learning_rate, loss, num_epochs, batch_size, dataset_index, resize):\n",
    "    model = create_model()\n",
    "    model.compile(optimizer=adam.Adam(learning_rate=learning_rate), \n",
    "                  loss=loss, \n",
    "                  metrics = [model_acc])\n",
    "    training_images, training_emotions, test_images, test_emotions = load_data(dataset_index, resize)\n",
    "    history = model.fit(x=training_images,\n",
    "                     y=training_emotions,\n",
    "                     batch_size=batch_size,\n",
    "                     epochs=num_epochs,\n",
    "                     validation_data=(test_images, test_emotions))\n",
    "    del model, training_images, training_emotions, test_images, test_emotions\n",
    "    gc.collect()\n",
    "    return history"
   ]
  },
  {
   "cell_type": "code",
   "execution_count": 6,
   "metadata": {},
   "outputs": [],
   "source": [
    "def create_model():\n",
    "    base_model = vgg16.VGG16(include_top=False, \n",
    "                             weights=\"imagenet\", \n",
    "                             input_shape=(48,48,3))\n",
    "    base_model.trainable=True\n",
    "    return Sequential([\n",
    "        base_model,\n",
    "        layers.GlobalAveragePooling2D(),\n",
    "        layers.Dense(4096, activation='relu'),\n",
    "        layers.Dense(4096, activation='relu'),\n",
    "        layers.Dense(emotions_count, activation='softmax'),\n",
    "    ])"
   ]
  },
  {
   "cell_type": "code",
   "execution_count": null,
   "metadata": {},
   "outputs": [
    {
     "name": "stderr",
     "output_type": "stream",
     "text": [
      "/userhome/2072/fyp21022/anaconda3/lib/python3.8/site-packages/tensorflow/python/data/ops/dataset_ops.py:4526: UserWarning: Even though the `tf.config.experimental_run_functions_eagerly` option is set, this option does not apply to tf.data functions. To force eager execution of tf.data functions, please use `tf.data.experimental.enable_debug_mode()`.\n",
      "  warnings.warn(\n"
     ]
    },
    {
     "name": "stdout",
     "output_type": "stream",
     "text": [
      "Epoch 1/40\n",
      "1992/1992 [==============================] - 226s 112ms/step - loss: 0.0324 - model_acc: 0.6552 - val_loss: 0.0256 - val_model_acc: 0.7166\n",
      "Epoch 2/40\n",
      "1992/1992 [==============================] - 226s 114ms/step - loss: 0.0203 - model_acc: 0.7652 - val_loss: 0.0226 - val_model_acc: 0.7425\n",
      "Epoch 3/40\n",
      "1376/1992 [===================>..........] - ETA: 1:07 - loss: 0.0159 - model_acc: 0.8070"
     ]
    }
   ],
   "source": [
    "if not os.path.isdir('./new-results/'):\n",
    "    os.mkdir('./new-results/')\n",
    "\n",
    "learning_rate = 1e-5\n",
    "num_epochs = 40\n",
    "loss = losses.MeanSquaredError()\n",
    "batch_size = 32\n",
    "dataset_index = 1\n",
    "val_accs = []\n",
    "for resize in range(3):\n",
    "    history = train(learning_rate, loss, num_epochs, batch_size, dataset_index, resize)\n",
    "    val_accs.append(history.history['val_model_acc'])\n",
    "    if resize == 0:\n",
    "        history_save_path = './new-results/0~255.txt'\n",
    "    if resize == 1:\n",
    "        history_save_path = './new-results/-1~1.txt'\n",
    "    if resize == 2:\n",
    "        history_save_path = './new-results/0~1.txt'\n",
    "    with open(history_save_path, 'wb') as file_pi:\n",
    "        pickle.dump(history.history, file_pi)"
   ]
  },
  {
   "cell_type": "code",
   "execution_count": null,
   "metadata": {},
   "outputs": [],
   "source": [
    "# model comparison\n",
    "epochs = range(1, 1+num_epochs)\n",
    "fig = plt.figure()\n",
    "for resize in range(3):\n",
    "    val_acc = val_accs[resize]\n",
    "    if resize == 0:\n",
    "        plot_label = '0~255'\n",
    "    if resize == 1:\n",
    "        plot_label = '-1~1'\n",
    "    if resize == 2:\n",
    "        plot_label = '0~1'\n",
    "    plt.plot(epochs, val_acc, label = plot_label)\n",
    "plt.legend()\n",
    "plt.show()\n",
    "\n",
    "# save plot\n",
    "fig.savefig('./new-results/pixel value.png')"
   ]
  },
  {
   "cell_type": "code",
   "execution_count": null,
   "metadata": {},
   "outputs": [],
   "source": []
  }
 ],
 "metadata": {
  "kernelspec": {
   "display_name": "Python 3",
   "language": "python",
   "name": "python3"
  },
  "language_info": {
   "codemirror_mode": {
    "name": "ipython",
    "version": 3
   },
   "file_extension": ".py",
   "mimetype": "text/x-python",
   "name": "python",
   "nbconvert_exporter": "python",
   "pygments_lexer": "ipython3",
   "version": "3.8.5"
  }
 },
 "nbformat": 4,
 "nbformat_minor": 5
}
