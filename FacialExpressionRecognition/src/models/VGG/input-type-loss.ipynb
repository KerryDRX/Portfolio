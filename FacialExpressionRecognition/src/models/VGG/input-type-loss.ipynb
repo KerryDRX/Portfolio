{
 "cells": [
  {
   "cell_type": "code",
   "execution_count": null,
   "id": "f13ca74e",
   "metadata": {},
   "outputs": [],
   "source": [
    "import tensorflow as tf\n",
    "import numpy as np\n",
    "import matplotlib.pyplot as plt\n",
    "import os\n",
    "import pickle\n",
    "import gc\n",
    "from tensorflow.python.keras import layers, Sequential,losses, metrics, optimizers, callbacks, models\n",
    "from tensorflow.python.keras.layers import Dense, GlobalAveragePooling2D, Dropout\n",
    "from tensorflow.python.keras.models import Model\n",
    "from tensorflow.python.keras.applications import vgg16, resnet\n",
    "from tensorflow.python.keras.optimizer_v2 import adam"
   ]
  },
  {
   "cell_type": "code",
   "execution_count": null,
   "id": "e2898831",
   "metadata": {},
   "outputs": [],
   "source": [
    "image_height = 48\n",
    "image_width = 48\n",
    "emotions_count = 8\n",
    "emotion_labels = ['neutral', 'happiness', 'surprise', 'sadness', 'anger', 'disgust', 'fear', 'contempt']"
   ]
  },
  {
   "cell_type": "code",
   "execution_count": null,
   "id": "72a6c2a5",
   "metadata": {},
   "outputs": [],
   "source": [
    "image_path = \"./dataset_f+r20/images.npy\"\n",
    "emotion_multi_path = \"./dataset_f+r20/emotions_multi.npy\"\n",
    "emotion_single_path = \"./dataset_f+r20/emotions_single.npy\"\n",
    "\n",
    "images = np.load(image_path)\n",
    "images = tf.convert_to_tensor(images)\n",
    "images = layers.Rescaling(1./127.5, offset=-1)(images)\n",
    "images = tf.image.grayscale_to_rgb(images)\n",
    "\n",
    "emotions_multi = np.load(emotion_multi_path)\n",
    "emotions_single = np.load(emotion_single_path)\n",
    "emotions_multi = tf.convert_to_tensor(emotions_multi)\n",
    "emotions_single = tf.convert_to_tensor(emotions_single)\n",
    "    \n",
    "training_samples = 28317 * 4\n",
    "validation_samples = 3541 * 4\n",
    "training_size = training_samples + validation_samples\n",
    "    \n",
    "training_images = images[:training_size]\n",
    "test_images = images[training_size:]\n",
    "training_emotions_multi = emotions_multi[:training_size]\n",
    "test_emotions_multi = emotions_multi[training_size:]\n",
    "training_emotions_single = emotions_single[:training_size]\n",
    "test_emotions_single = emotions_single[training_size:]"
   ]
  },
  {
   "cell_type": "code",
   "execution_count": null,
   "id": "d1dd56d3",
   "metadata": {},
   "outputs": [],
   "source": [
    "tf.config.run_functions_eagerly(True)\n",
    "def model_acc(y_true, y_pred):\n",
    "    size = y_true.shape[0]\n",
    "    acc = 0\n",
    "    for i in range(size):\n",
    "        true = y_true[i]\n",
    "        pred = y_pred[i]           \n",
    "        index_max = tf.argmax(pred).numpy()\n",
    "        if true[index_max].numpy()==tf.reduce_max(true).numpy():\n",
    "            acc += 1\n",
    "    return acc/size"
   ]
  },
  {
   "cell_type": "code",
   "execution_count": null,
   "id": "c10b1bf0",
   "metadata": {},
   "outputs": [],
   "source": [
    "# multi = 1: multi-label image\n",
    "# multi = 0: single-label image\n",
    "def train(model, learning_rate, loss, num_epochs, batch_size, multi):\n",
    "    model.compile(optimizer=adam.Adam(learning_rate=learning_rate), \n",
    "                  loss=loss, \n",
    "                  metrics = [model_acc])\n",
    "    if multi == 1:\n",
    "        history = model.fit(x=training_images,\n",
    "                            y=training_emotions_multi,\n",
    "                            batch_size=batch_size,\n",
    "                            epochs=num_epochs,\n",
    "                            validation_data=(test_images, test_emotions_multi))\n",
    "    if multi == 0:\n",
    "        history = model.fit(x=training_images,\n",
    "                            y=training_emotions_single,\n",
    "                            batch_size=batch_size,\n",
    "                            epochs=num_epochs,\n",
    "                            validation_data=(test_images, test_emotions_single))\n",
    "    del model\n",
    "    gc.collect()\n",
    "    return history"
   ]
  },
  {
   "cell_type": "code",
   "execution_count": null,
   "id": "3c86920e",
   "metadata": {},
   "outputs": [],
   "source": [
    "def create_model():\n",
    "    base_model = vgg16.VGG16(include_top=False, \n",
    "                             weights=\"imagenet\", \n",
    "                             input_shape=(48,48,3))\n",
    "    base_model.trainable=True\n",
    "    return Sequential([\n",
    "        base_model,\n",
    "        layers.GlobalAveragePooling2D(),\n",
    "        layers.Dense(4096, activation='relu'),\n",
    "        layers.Dense(4096, activation='relu'),\n",
    "        layers.Dense(emotions_count, activation='softmax'),\n",
    "    ])"
   ]
  },
  {
   "cell_type": "code",
   "execution_count": null,
   "id": "b9d9451f",
   "metadata": {
    "scrolled": false
   },
   "outputs": [],
   "source": [
    "if not os.path.isdir('./results/'):\n",
    "    os.mkdir('./results/')\n",
    "\n",
    "learning_rate = 1e-4\n",
    "num_epochs = 40\n",
    "batch_size = 32\n",
    "val_accs = []\n",
    "for i in range(4):\n",
    "    model = create_model()\n",
    "    if i == 0:\n",
    "        history = train(model, learning_rate, losses.MeanSquaredError(), num_epochs, batch_size, 1)\n",
    "        history_save_path = './results/multi-mse.txt'\n",
    "    if i == 1:\n",
    "        history = train(model, learning_rate, losses.CategoricalCrossentropy(), num_epochs, batch_size, 1)\n",
    "        history_save_path = './results/multi-cce.txt'\n",
    "    if i == 2:\n",
    "        history = train(model, learning_rate, losses.MeanSquaredError(), num_epochs, batch_size, 0)\n",
    "        history_save_path = './results/single-mse.txt'\n",
    "    if i == 3:\n",
    "        history = train(model, learning_rate, losses.CategoricalCrossentropy(), num_epochs, batch_size, 0)\n",
    "        history_save_path = './results/single-cce.txt'\n",
    "    val_accs.append(history.history['val_model_acc'])\n",
    "    with open(history_save_path, 'wb') as file_pi:\n",
    "        pickle.dump(history.history, file_pi)"
   ]
  },
  {
   "cell_type": "code",
   "execution_count": null,
   "id": "8d38a637",
   "metadata": {},
   "outputs": [],
   "source": [
    "# model comparison\n",
    "epochs = range(1, 1+num_epochs)\n",
    "fig = plt.figure()\n",
    "plot_labels = ['multi-mse', 'multi-cce', 'single-mse', 'single-cce']\n",
    "for i in range(4):\n",
    "    plt.plot(epochs, val_accs[i], label = plot_labels[i])\n",
    "plt.legend()\n",
    "plt.show()\n",
    "\n",
    "# save plot\n",
    "fig.savefig('./new-results/input-type-and-loss-func.png')"
   ]
  },
  {
   "cell_type": "code",
   "execution_count": null,
   "id": "3cae3576",
   "metadata": {},
   "outputs": [],
   "source": []
  }
 ],
 "metadata": {
  "kernelspec": {
   "display_name": "Python 3 (ipykernel)",
   "language": "python",
   "name": "python3"
  },
  "language_info": {
   "codemirror_mode": {
    "name": "ipython",
    "version": 3
   },
   "file_extension": ".py",
   "mimetype": "text/x-python",
   "name": "python",
   "nbconvert_exporter": "python",
   "pygments_lexer": "ipython3",
   "version": "3.8.8"
  }
 },
 "nbformat": 4,
 "nbformat_minor": 5
}
