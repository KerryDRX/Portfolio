{
 "cells": [
  {
   "cell_type": "code",
   "execution_count": null,
   "id": "00a1ba9f",
   "metadata": {},
   "outputs": [],
   "source": [
    "import tensorflow as tf\n",
    "import numpy as np\n",
    "import os\n",
    "import pickle\n",
    "from tensorflow.python.keras import layers, Sequential, losses, metrics, optimizers, callbacks, models\n",
    "from tensorflow.python.keras.layers import Dense, GlobalAveragePooling2D, Dropout\n",
    "from tensorflow.python.keras.models import Model\n",
    "from tensorflow.python.keras.applications import vgg16, resnet\n",
    "from tensorflow.python.keras.optimizer_v2 import adam\n",
    "import gc\n",
    "import tensorflow_addons as tfa\n",
    "import random\n",
    "import math"
   ]
  },
  {
   "cell_type": "code",
   "execution_count": null,
   "id": "7ab04d49",
   "metadata": {},
   "outputs": [],
   "source": [
    "image_height = 48\n",
    "image_width = 48\n",
    "emotions_count = 8\n",
    "emotion_labels = ['neutral', 'happiness', 'surprise', 'sadness', 'anger', 'disgust', 'fear', 'contempt']"
   ]
  },
  {
   "cell_type": "code",
   "execution_count": null,
   "id": "65fcfabb",
   "metadata": {},
   "outputs": [],
   "source": [
    "def Shuffle(img, emo):\n",
    "    tmp = list(zip(img, emo))\n",
    "    random.shuffle(tmp)\n",
    "    img, emo = zip(*tmp)\n",
    "    return img, emo"
   ]
  },
  {
   "cell_type": "code",
   "execution_count": null,
   "id": "d355a3dc",
   "metadata": {},
   "outputs": [],
   "source": [
    "def load_data(i):\n",
    "    image_path = \"./dataset/images.npy\"\n",
    "    emotion_path = \"./dataset/emotions_multi.npy\"\n",
    "    \n",
    "    images = np.load(image_path)\n",
    "    images = tf.convert_to_tensor(images)\n",
    "    images = layers.Rescaling(1./127.5, offset= -1)(images)\n",
    "    images = tf.image.grayscale_to_rgb(images)\n",
    "    emotions = np.load(emotion_path)\n",
    "    emotions = tf.convert_to_tensor(emotions)\n",
    "    \n",
    "    training_samples = 28317\n",
    "    validation_samples = 3541\n",
    "    training_size = training_samples + validation_samples\n",
    "    \n",
    "    training_images = images[:training_size]\n",
    "    test_images = images[training_size:]\n",
    "    training_emotions = emotions[:training_size]\n",
    "    test_emotions = emotions[training_size:]\n",
    "\n",
    "    if i==0:\n",
    "        training_images_flip = tf.image.flip_left_right(training_images)\n",
    "        training_images_flip_augmented = tf.concat([training_images,training_images_flip], 0)\n",
    "        training_emotions_flip_augmented = tf.concat([training_emotions,training_emotions], 0)\n",
    "        training_images, training_emotions = training_images_flip_augmented,training_emotions_flip_augmented\n",
    "\n",
    "    if i==1:\n",
    "        degree = [20,-20]\n",
    "        \n",
    "        training_images_rotate0 = tfa.image.rotate(images=training_images, angles=degree[0]*math.pi/180, fill_mode='constant', fill_value=0) \n",
    "        training_images_rotate1 = tfa.image.rotate(images=training_images, angles=degree[1]*math.pi/180, fill_mode='constant', fill_value=0)        \n",
    "        training_images_rotate_augmented = tf.concat([training_images,training_images_rotate0,training_images_rotate1], 0)\n",
    "        training_emotions_rotate_augmented = tf.concat([training_emotions,training_emotions,training_emotions], 0)\n",
    "        training_images, training_emotions = training_images_rotate_augmented,training_emotions_rotate_augmented\n",
    "\n",
    "    if i==2:\n",
    "        brightness = [0.3,-0.3]\n",
    "        \n",
    "        training_images_brightness0 = tf.image.adjust_brightness(training_images, brightness[0])\n",
    "        training_images_brightness1 = tf.image.adjust_brightness(training_images, brightness[1])        \n",
    "        training_images_brightness_augmented = tf.concat([training_images,training_images_brightness0,training_images_brightness1], 0)          \n",
    "        training_emotions_brightness_augmented = tf.concat([training_emotions,training_emotions,training_emotions], 0)\n",
    "        training_images, training_emotions = training_images_brightness_augmented,training_emotions_brightness_augmented\n",
    "\n",
    "    if i==3:\n",
    "        contrast = [0.25+1,-0.25+1]\n",
    "        \n",
    "        training_images_contrast0 = tf.image.adjust_contrast(training_images,contrast[0]) \n",
    "        training_images_contrast1 = tf.image.adjust_contrast(training_images,contrast[1])        \n",
    "        training_images_contrast_augmented = tf.concat([training_images,training_images_contrast0,training_images_contrast1], 0)\n",
    "        training_emotions_contrast_augmented = tf.concat([training_emotions,training_emotions,training_emotions], 0)\n",
    "        training_images, training_emotions = training_images_contrast_augmented,training_emotions_contrast_augmented\n",
    "    \n",
    "    print(\"aug index\", i)\n",
    "    print(\"training shape\",training_images.shape, training_emotions.shape)\n",
    "    return training_images, training_emotions, test_images, test_emotions"
   ]
  },
  {
   "cell_type": "code",
   "execution_count": null,
   "id": "b53ecbeb",
   "metadata": {},
   "outputs": [],
   "source": [
    "tf.config.run_functions_eagerly(True)\n",
    "def model_acc(y_true, y_pred):\n",
    "    size = y_true.shape[0]\n",
    "    acc = 0\n",
    "    for i in range(size):\n",
    "        true = y_true[i]\n",
    "        pred = y_pred[i]           \n",
    "        index_max = tf.argmax(pred).numpy()\n",
    "        if true[index_max].numpy()==tf.reduce_max(true).numpy():\n",
    "            acc += 1\n",
    "    return acc/size"
   ]
  },
  {
   "cell_type": "code",
   "execution_count": null,
   "id": "192c3c68",
   "metadata": {},
   "outputs": [],
   "source": [
    "def create_model():\n",
    "    base_model = vgg16.VGG16(include_top=False, weights=\"imagenet\", input_shape=(48,48,3))\n",
    "    base_model.trainable=True\n",
    "    return Sequential([\n",
    "        base_model,\n",
    "        layers.GlobalAveragePooling2D(),\n",
    "        layers.Dense(4096, activation='relu'),\n",
    "        layers.Dense(4096, activation='relu'),\n",
    "        layers.Dense(emotions_count, activation='softmax'),])"
   ]
  },
  {
   "cell_type": "code",
   "execution_count": null,
   "id": "9e7796fa",
   "metadata": {},
   "outputs": [],
   "source": [
    "def train(learning_rate, loss, num_epochs, batch_size, index):\n",
    "    model = create_model()\n",
    "    model.compile(optimizer=adam.Adam(learning_rate=learning_rate), \n",
    "                  loss=loss, \n",
    "                  metrics = [model_acc])\n",
    "    training_images, training_emotions, test_images, test_emotions = load_data(index)\n",
    "    history = model.fit(x=training_images,\n",
    "                        y=training_emotions,\n",
    "                        batch_size=batch_size,\n",
    "                        epochs=num_epochs,\n",
    "                        validation_data=(test_images, test_emotions),\n",
    "                        shuffle=True,)\n",
    "    del model, training_images, training_emotions, test_images, test_emotions\n",
    "    gc.collect()\n",
    "    return history"
   ]
  },
  {
   "cell_type": "code",
   "execution_count": null,
   "id": "d3ff9fce",
   "metadata": {},
   "outputs": [],
   "source": [
    "if not os.path.isdir('./history/'):\n",
    "    os.mkdir('./history/')\n",
    "\n",
    "learning_rate = 1e-4\n",
    "num_epochs = 40\n",
    "loss = losses.MeanSquaredError()\n",
    "batch_size = 32\n",
    "\n",
    "for aug in range(4):\n",
    "    \n",
    "    history = train(learning_rate, loss, num_epochs, batch_size, aug)\n",
    "    if aug == 0:\n",
    "        history_save_path = './history/aug_flip.txt'\n",
    "    if aug == 1:\n",
    "        history_save_path = './history/aug_rotate.txt'\n",
    "    if aug == 2:\n",
    "        history_save_path = './history/aug_brightness.txt'\n",
    "    if aug == 3:\n",
    "        history_save_path = './history/aug_contrast.txt'\n",
    "    with open(history_save_path, 'wb') as file_pi:\n",
    "        pickle.dump(history.history, file_pi)\n",
    "    del history\n",
    "    gc.collect()"
   ]
  },
  {
   "cell_type": "code",
   "execution_count": null,
   "id": "df316f02",
   "metadata": {},
   "outputs": [],
   "source": []
  }
 ],
 "metadata": {
  "kernelspec": {
   "display_name": "Python 3.8.2 64-bit",
   "language": "python",
   "name": "python3"
  },
  "language_info": {
   "codemirror_mode": {
    "name": "ipython",
    "version": 3
   },
   "file_extension": ".py",
   "mimetype": "text/x-python",
   "name": "python",
   "nbconvert_exporter": "python",
   "pygments_lexer": "ipython3",
   "version": "3.8.2"
  },
  "vscode": {
   "interpreter": {
    "hash": "31f2aee4e71d21fbe5cf8b01ff0e069b9275f58929596ceb00d14d90e3e16cd6"
   }
  }
 },
 "nbformat": 4,
 "nbformat_minor": 5
}
