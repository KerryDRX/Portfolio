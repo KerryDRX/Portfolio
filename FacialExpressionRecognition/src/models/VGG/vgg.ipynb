{
 "cells": [
  {
   "cell_type": "code",
   "execution_count": 1,
   "id": "793c6831",
   "metadata": {},
   "outputs": [],
   "source": [
    "import tensorflow as tf\n",
    "import numpy as np\n",
    "import matplotlib.pyplot as plt\n",
    "import os\n",
    "from tensorflow.python.keras import layers, Sequential,losses, metrics, optimizers, callbacks, models\n",
    "from tensorflow.python.keras.layers import Dense, GlobalAveragePooling2D, Dropout\n",
    "from tensorflow.python.keras.models import Model\n",
    "from tensorflow.python.keras.applications import vgg16, resnet\n",
    "from tensorflow.python.keras.optimizer_v2 import adam"
   ]
  },
  {
   "cell_type": "code",
   "execution_count": 2,
   "id": "3e045275",
   "metadata": {},
   "outputs": [],
   "source": [
    "image_height = 48\n",
    "image_width = 48\n",
    "emotions_count = 8\n",
    "emotion_labels = ['neutral', 'happiness', 'surprise', 'sadness', 'anger', 'disgust', 'fear', 'contempt']\n",
    "\n",
    "samples = 130967 # 2~130968\n",
    "training_samples = 28317 *4 # 2~113269 (Training)\n",
    "validation_samples = 3541 *4 # 113270~127433 (PublicTest)\n",
    "test_samples = 3535 # 127434~130968 (PrivateTest)\n"
   ]
  },
  {
   "cell_type": "code",
   "execution_count": 3,
   "id": "ade9db79",
   "metadata": {},
   "outputs": [
    {
     "name": "stdout",
     "output_type": "stream",
     "text": [
      "(130967, 48, 48, 1)\n",
      "(130967, 8)\n",
      "(130967, 8)\n"
     ]
    }
   ],
   "source": [
    "# load data\n",
    "image_path = \"./dataset_f+r25/images.npy\"\n",
    "emotion_multi_path = \"./dataset_f+r25/emotions_multi.npy\"\n",
    "emotion_single_path = \"./dataset_f+r25/emotions_single.npy\"\n",
    "\n",
    "images = np.load(image_path)\n",
    "emotions_multi = np.load(emotion_multi_path)\n",
    "emotions_single = np.load(emotion_single_path)\n",
    "\n",
    "print(images.shape)\n",
    "print(emotions_multi.shape)\n",
    "print(emotions_single.shape)"
   ]
  },
  {
   "cell_type": "code",
   "execution_count": 4,
   "id": "93578da9",
   "metadata": {},
   "outputs": [
    {
     "name": "stdout",
     "output_type": "stream",
     "text": [
      "training_emotions shape: (127432, 8)\n",
      "test_images shape: (3535, 48, 48, 3)\n",
      "test_emotions shape: (3535, 8)\n"
     ]
    }
   ],
   "source": [
    "#images = tf.image.grayscale_to_rgb(tf.convert_to_tensor(images))\n",
    "images = tf.image.grayscale_to_rgb(layers.Rescaling(1./127.5, offset= -1)(tf.convert_to_tensor(images)))\n",
    "emotions = tf.convert_to_tensor(emotions_multi)\n",
    "\n",
    "training_size = training_samples + validation_samples\n",
    "test_size = test_samples\n",
    "training_images = images[:training_size]\n",
    "test_images = images[training_size:]\n",
    "training_emotions = emotions[:training_size]\n",
    "test_emotions = emotions[training_size:]\n",
    "\n",
    "print(\"training_emotions shape:\", training_emotions.shape)\n",
    "print(\"test_images shape:\", test_images.shape)\n",
    "print(\"test_emotions shape:\", test_emotions.shape)"
   ]
  },
  {
   "cell_type": "code",
   "execution_count": 5,
   "id": "1e1280a0",
   "metadata": {},
   "outputs": [],
   "source": [
    "tf.config.run_functions_eagerly(True)\n",
    "def model_acc(y_true, y_pred):\n",
    "    size = y_true.shape[0]\n",
    "    acc = 0\n",
    "    for i in range(size):\n",
    "        true = y_true[i]\n",
    "        pred = y_pred[i]           \n",
    "        index_max = tf.argmax(pred).numpy()\n",
    "        if true[index_max].numpy()==tf.reduce_max(true).numpy():\n",
    "            acc += 1\n",
    "    return acc/size"
   ]
  },
  {
   "cell_type": "code",
   "execution_count": 6,
   "id": "e73fd8c0",
   "metadata": {},
   "outputs": [],
   "source": [
    "def train(model, learning_rate, loss, num_epochs, batch_size):\n",
    "    model.compile(optimizer=adam.Adam(learning_rate=learning_rate), \n",
    "                  loss=loss, \n",
    "                  metrics = [model_acc])\n",
    "    return model.fit(x=training_images,\n",
    "                     y=training_emotions,\n",
    "                     batch_size=batch_size,\n",
    "                     epochs=num_epochs,\n",
    "                     validation_data=(test_images, test_emotions))"
   ]
  },
  {
   "cell_type": "code",
   "execution_count": null,
   "id": "c6d10ce2",
   "metadata": {
    "scrolled": false
   },
   "outputs": [
    {
     "name": "stderr",
     "output_type": "stream",
     "text": [
      "C:\\Users\\Darkl\\anaconda3\\lib\\site-packages\\tensorflow\\python\\data\\ops\\dataset_ops.py:3703: UserWarning: Even though the `tf.config.experimental_run_functions_eagerly` option is set, this option does not apply to tf.data functions. To force eager execution of tf.data functions, please use `tf.data.experimental.enable.debug_mode()`.\n",
      "  warnings.warn(\n"
     ]
    },
    {
     "name": "stdout",
     "output_type": "stream",
     "text": [
      "Epoch 1/40\n",
      "3983/3983 [==============================] - 270s 66ms/step - loss: 0.0247 - model_acc: 0.7242 - val_loss: 0.0166 - val_model_acc: 0.7968\n",
      "Epoch 2/40\n",
      " 983/3983 [======>.......................] - ETA: 3:11 - loss: 0.0158 - model_acc: 0.8085"
     ]
    }
   ],
   "source": [
    "def create_model():\n",
    "    base_model = vgg16.VGG16(include_top=False, \n",
    "                             weights=\"imagenet\", \n",
    "                             input_shape=(48,48,3))\n",
    "    base_model.trainable=True\n",
    "    return Sequential([\n",
    "        base_model,\n",
    "        layers.GlobalAveragePooling2D(),\n",
    "        layers.Dense(4096, activation='relu'),\n",
    "        layers.Dense(4096, activation='relu'),\n",
    "        layers.Dense(emotions_count, activation='softmax'),\n",
    "    ])\n",
    "\n",
    "model = create_model()\n",
    "\n",
    "learning_rate = 1e-4\n",
    "num_epochs = 40\n",
    "loss = losses.MeanSquaredError()\n",
    "batch_size = 32\n",
    "\n",
    "history = train(model, learning_rate , loss, num_epochs, batch_size)"
   ]
  },
  {
   "cell_type": "code",
   "execution_count": null,
   "id": "e5c624c8",
   "metadata": {},
   "outputs": [],
   "source": [
    "import pickle\n",
    "\n",
    "with open('history_base+flip+rotate25.txt', 'wb') as file_pi:\n",
    "    pickle.dump(history.history, file_pi)"
   ]
  },
  {
   "cell_type": "code",
   "execution_count": null,
   "id": "fe3c7960",
   "metadata": {},
   "outputs": [],
   "source": [
    "'''\n",
    "# best model\n",
    "train_loss = history.history['loss']\n",
    "val_loss   = history.history['val_loss']\n",
    "train_acc  = history.history['model_acc']\n",
    "val_acc    = history.history['val_model_acc']\n",
    "epochs     = range(num_epochs)\n",
    "\n",
    "fig, ax1 = plt.subplots()\n",
    "ax1.set_xlabel('Epochs', fontsize=16)\n",
    "ax1.set_ylabel('Loss', fontsize=16)\n",
    "line1,=ax1.plot(epochs, train_loss, color='red')\n",
    "line1.set_label('training loss')\n",
    "line2,=ax1.plot(epochs, val_loss, color='blue')\n",
    "line2.set_label('validation loss')\n",
    "ax1.tick_params(axis='y')\n",
    "ax1.legend()\n",
    "\n",
    "ax2 = ax1.twinx()\n",
    "ax2.set_ylabel('Accuracy', fontsize=16) \n",
    "line3,=ax2.plot(epochs, train_acc, color='green', label='training accuracy')\n",
    "line3.set_label('training accuracy')\n",
    "line4,=ax2.plot(epochs, val_acc, color='darkviolet', label='validation accuracy')\n",
    "line4.set_label('validation accuracy')\n",
    "ax2.tick_params(axis='y')\n",
    "ax1.legend()\n",
    "ax2.legend(loc=4)\n",
    "\n",
    "fig.tight_layout()\n",
    "plt.show()\n",
    "'''"
   ]
  },
  {
   "cell_type": "code",
   "execution_count": null,
   "id": "8a9eb6ba",
   "metadata": {},
   "outputs": [],
   "source": [
    "'''\n",
    "# model comparison\n",
    "val_acc1 = history1.history['val_model_acc']\n",
    "val_acc2 = history2.history['val_model_acc']\n",
    "val_acc3 = history3.history['val_model_acc']\n",
    "epochs = range(num_epochs)\n",
    "\n",
    "fig = plt.figure()\n",
    "plt.plot(epochs, val_acc1, label = \"line 1\")\n",
    "plt.plot(epochs, val_acc2, label = \"line 2\")\n",
    "plt.plot(epochs, val_acc3, label = \"line 3\")\n",
    "plt.legend()\n",
    "plt.show()\n",
    "'''"
   ]
  },
  {
   "cell_type": "code",
   "execution_count": null,
   "id": "90a8d1ac",
   "metadata": {},
   "outputs": [],
   "source": [
    "'''\n",
    "# save plot\n",
    "save_plot_file_name = \"model_comparison.png\"\n",
    "if not os.path.isdir('./results/'):\n",
    "    os.mkdir('./results/')\n",
    "fig.savefig(os.path.join('./results/', save_plot_file_name))\n",
    "'''"
   ]
  },
  {
   "cell_type": "code",
   "execution_count": null,
   "id": "46705a7e",
   "metadata": {},
   "outputs": [],
   "source": []
  }
 ],
 "metadata": {
  "kernelspec": {
   "display_name": "Python 3 (ipykernel)",
   "language": "python",
   "name": "python3"
  },
  "language_info": {
   "codemirror_mode": {
    "name": "ipython",
    "version": 3
   },
   "file_extension": ".py",
   "mimetype": "text/x-python",
   "name": "python",
   "nbconvert_exporter": "python",
   "pygments_lexer": "ipython3",
   "version": "3.8.8"
  }
 },
 "nbformat": 4,
 "nbformat_minor": 5
}
