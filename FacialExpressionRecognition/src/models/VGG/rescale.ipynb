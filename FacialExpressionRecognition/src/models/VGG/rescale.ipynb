{
 "cells": [
  {
   "cell_type": "code",
   "execution_count": null,
   "id": "f9c5f7ae",
   "metadata": {},
   "outputs": [],
   "source": [
    "import tensorflow as tf\n",
    "import numpy as np\n",
    "import matplotlib.pyplot as plt\n",
    "import os\n",
    "from tensorflow.python.keras import layers, Sequential,losses, metrics, optimizers, callbacks, models\n",
    "from tensorflow.python.keras.layers import Dense, GlobalAveragePooling2D, Dropout\n",
    "from tensorflow.python.keras.models import Model\n",
    "from tensorflow.python.keras.applications import vgg16, resnet\n",
    "from tensorflow.python.keras.optimizer_v2 import adam"
   ]
  },
  {
   "cell_type": "code",
   "execution_count": null,
   "id": "a2b5c60a",
   "metadata": {},
   "outputs": [],
   "source": [
    "image_height = 48\n",
    "image_width = 48\n",
    "emotions_count = 8\n",
    "emotion_labels = ['neutral', 'happiness', 'surprise', 'sadness', 'anger', 'disgust', 'fear', 'contempt']\n",
    "\n",
    "samples = 35393           # 2~35394\n",
    "training_samples = 28317  # 2~28318 (Training)\n",
    "validation_samples = 3541 # 28319~31859 (PublicTest)\n",
    "test_samples = 3535       # 31860~35394 (PrivateTest)"
   ]
  },
  {
   "cell_type": "code",
   "execution_count": null,
   "id": "d9f6f10d",
   "metadata": {},
   "outputs": [],
   "source": [
    "# load data\n",
    "image_path = \"./dataset/images.npy\"\n",
    "emotion_path = \"./dataset/emotions_multi.npy\"\n",
    "\n",
    "images = np.load(image_path)\n",
    "emotions = np.load(emotion_path)\n",
    "\n",
    "print(images.shape)\n",
    "print(emotions.shape)"
   ]
  },
  {
   "cell_type": "code",
   "execution_count": null,
   "id": "b82b49a6",
   "metadata": {},
   "outputs": [],
   "source": [
    "tf.config.run_functions_eagerly(True)\n",
    "def model_acc(y_true, y_pred):\n",
    "    size = y_true.shape[0]\n",
    "    acc = 0\n",
    "    for i in range(size):\n",
    "        true = y_true[i]\n",
    "        pred = y_pred[i]           \n",
    "        index_max = tf.argmax(pred).numpy()\n",
    "        if true[index_max].numpy()==tf.reduce_max(true).numpy():\n",
    "            acc += 1\n",
    "    return acc/size"
   ]
  },
  {
   "cell_type": "code",
   "execution_count": null,
   "id": "5cf8671b",
   "metadata": {},
   "outputs": [],
   "source": [
    "def train(model, learning_rate, loss, num_epochs, batch_size):\n",
    "    model.compile(optimizer=adam.Adam(learning_rate=learning_rate), \n",
    "                  loss=losses.CategoricalCrossentropy(), \n",
    "                  metrics = [model_acc])\n",
    "    return model.fit(x=training_images,\n",
    "                     y=training_emotions,\n",
    "                     batch_size=batch_size,\n",
    "                     epochs=num_epochs,\n",
    "                     validation_data=(test_images, test_emotions))"
   ]
  },
  {
   "cell_type": "code",
   "execution_count": null,
   "id": "477a4234",
   "metadata": {},
   "outputs": [],
   "source": [
    "def create_model():\n",
    "    base_model = vgg16.VGG16(include_top=False, \n",
    "                             weights=\"imagenet\", \n",
    "                             input_shape=(48,48,3))\n",
    "    base_model.trainable=True\n",
    "    return Sequential([\n",
    "        base_model,\n",
    "        layers.GlobalAveragePooling2D(),\n",
    "        layers.Dense(4096, activation='relu'),\n",
    "        Dropout(0.5),\n",
    "        layers.Dense(4096, activation='relu'),\n",
    "        Dropout(0.5),\n",
    "        layers.Dense(emotions_count, activation='softmax'),\n",
    "    ])"
   ]
  },
  {
   "cell_type": "code",
   "execution_count": null,
   "id": "41c06b88",
   "metadata": {},
   "outputs": [],
   "source": [
    "images = tf.convert_to_tensor(images)\n",
    "emotions = tf.convert_to_tensor(emotions)\n",
    "training_size = training_samples + validation_samples\n",
    "test_size = test_samples\n",
    "\n",
    "training_emotions = emotions[:training_size]\n",
    "test_emotions = emotions[training_size:]\n",
    "print(\"training_emotions shape:\", training_emotions.shape)\n",
    "print(\"test_emotions shape:\", test_emotions.shape)"
   ]
  },
  {
   "cell_type": "code",
   "execution_count": null,
   "id": "6227362a",
   "metadata": {},
   "outputs": [],
   "source": [
    "val_accs = []\n",
    "for i in range(3):\n",
    "    if i == 0: # 0~255\n",
    "        images_rescaled = tf.image.grayscale_to_rgb(images)\n",
    "    if 1 == 1: # -1~1\n",
    "        images_rescaled = tf.image.grayscale_to_rgb(layers.Rescaling(1./127.5, offset= -1)(images))\n",
    "    if i == 2: # 0~1\n",
    "        images_rescaled = tf.image.grayscale_to_rgb(layers.Rescaling(1./255.0, offset= 0)(images))\n",
    "    training_images = images_rescaled[:training_size]\n",
    "    test_images = images_rescaled[training_size:]\n",
    "    \n",
    "    print(\"training_images shape:\", training_images.shape)\n",
    "    print(\"test_images shape:\", test_images.shape)\n",
    "\n",
    "    model = create_model()\n",
    "    learning_rate = 1e-4\n",
    "    num_epochs = 40\n",
    "    loss = losses.MeanSquaredError()\n",
    "    batch_size = 32\n",
    "    history1 = train(model, learning_rate , loss, num_epochs, batch_size)\n",
    "    val_accs.append(history1['val_acc'])"
   ]
  },
  {
   "cell_type": "code",
   "execution_count": null,
   "id": "dcbfc5d3",
   "metadata": {},
   "outputs": [],
   "source": [
    "# model comparison\n",
    "val_acc1 = val_accs[0]\n",
    "val_acc2 = val_accs[1]\n",
    "val_acc3 = val_accs[2]\n",
    "epochs = range(num_epochs)\n",
    "print(val_acc1)\n",
    "print(val_acc2)\n",
    "print(val_acc3)"
   ]
  },
  {
   "cell_type": "code",
   "execution_count": null,
   "id": "8f1b29c1",
   "metadata": {},
   "outputs": [],
   "source": [
    "fig = plt.figure()\n",
    "plt.plot(epochs, val_acc1, label = \"line 1\")\n",
    "plt.plot(epochs, val_acc2, label = \"line 2\")\n",
    "plt.plot(epochs, val_acc3, label = \"line 3\")\n",
    "plt.legend()\n",
    "plt.show()"
   ]
  },
  {
   "cell_type": "code",
   "execution_count": null,
   "id": "571627d2",
   "metadata": {},
   "outputs": [],
   "source": [
    "# save plot\n",
    "save_plot_file_name = \"exp1.png\"\n",
    "if not os.path.isdir('./results/'):\n",
    "    os.mkdir('./results/')\n",
    "fig.savefig(os.path.join('./results/', save_plot_file_name))"
   ]
  },
  {
   "cell_type": "code",
   "execution_count": null,
   "id": "17a69c15",
   "metadata": {},
   "outputs": [],
   "source": []
  }
 ],
 "metadata": {
  "kernelspec": {
   "display_name": "Python 3",
   "language": "python",
   "name": "python3"
  },
  "language_info": {
   "codemirror_mode": {
    "name": "ipython",
    "version": 3
   },
   "file_extension": ".py",
   "mimetype": "text/x-python",
   "name": "python",
   "nbconvert_exporter": "python",
   "pygments_lexer": "ipython3",
   "version": "3.8.8"
  }
 },
 "nbformat": 4,
 "nbformat_minor": 5
}
