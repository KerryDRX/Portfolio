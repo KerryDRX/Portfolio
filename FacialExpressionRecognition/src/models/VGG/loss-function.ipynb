{
 "cells": [
  {
   "cell_type": "code",
   "execution_count": null,
   "metadata": {},
   "outputs": [],
   "source": [
    "import tensorflow as tf\n",
    "import numpy as np\n",
    "import matplotlib.pyplot as plt\n",
    "import os\n",
    "import pickle\n",
    "import gc\n",
    "from tensorflow.python.keras import layers, Sequential, losses, metrics, optimizers, models\n",
    "from tensorflow.python.keras.layers import Dense, GlobalAveragePooling2D\n",
    "from tensorflow.python.keras.models import Model\n",
    "from tensorflow.python.keras.applications import vgg16\n",
    "from tensorflow.python.keras.optimizer_v2 import adam"
   ]
  },
  {
   "cell_type": "code",
   "execution_count": null,
   "metadata": {},
   "outputs": [],
   "source": [
    "image_height = 48\n",
    "image_width = 48\n",
    "emotions_count = 8\n",
    "emotion_labels = ['neutral', 'happiness', 'surprise', 'sadness', 'anger', 'disgust', 'fear', 'contempt']"
   ]
  },
  {
   "cell_type": "code",
   "execution_count": null,
   "metadata": {},
   "outputs": [],
   "source": [
    "training_samples = 28317\n",
    "validation_samples = 3541\n",
    "training_size = training_samples + validation_samples\n",
    "\n",
    "image_path = \"../dataset/FERPlus/images.npy\"\n",
    "images = np.float32(np.load(image_path))\n",
    "images = images/255.0\n",
    "images = tf.convert_to_tensor(images)\n",
    "images = tf.image.grayscale_to_rgb(images)\n",
    "training_images = images[:training_size]\n",
    "test_images = images[training_size:]\n",
    "\n",
    "emotion_path = \"../dataset/FERPlus/emotions_multi.npy\"\n",
    "emotions = np.load(emotion_path)\n",
    "emotions = tf.convert_to_tensor(emotions)\n",
    "training_emotions = emotions[:training_size]\n",
    "test_emotions = emotions[training_size:]"
   ]
  },
  {
   "cell_type": "code",
   "execution_count": null,
   "metadata": {},
   "outputs": [],
   "source": [
    "tf.config.run_functions_eagerly(True)\n",
    "def model_acc(y_true, y_pred):\n",
    "    size = y_true.shape[0]\n",
    "    acc = 0\n",
    "    for i in range(size):\n",
    "        true = y_true[i]\n",
    "        pred = y_pred[i]           \n",
    "        index_max = tf.argmax(pred).numpy()\n",
    "        if true[index_max].numpy()==tf.reduce_max(true).numpy():\n",
    "            acc += 1\n",
    "    return acc/size"
   ]
  },
  {
   "cell_type": "code",
   "execution_count": null,
   "metadata": {},
   "outputs": [],
   "source": [
    "def train(model, loss_fn, num_epochs, batch_size):\n",
    "    model.compile(optimizer=adam.Adam(learning_rate=1e-4), \n",
    "                  loss=loss_fn, \n",
    "                  metrics = [model_acc])\n",
    "    history = model.fit(x=training_images,\n",
    "                        y=training_emotions,\n",
    "                        batch_size=batch_size,\n",
    "                        epochs=num_epochs,\n",
    "                        validation_data=(test_images, test_emotions))\n",
    "    del model\n",
    "    gc.collect()\n",
    "    return history"
   ]
  },
  {
   "cell_type": "code",
   "execution_count": null,
   "metadata": {},
   "outputs": [],
   "source": [
    "def create_model():\n",
    "    base_model = vgg16.VGG16(include_top=False, \n",
    "                             weights=\"imagenet\", \n",
    "                             input_shape=(48,48,3))\n",
    "    base_model.trainable=True\n",
    "    return Sequential([\n",
    "        base_model,\n",
    "        layers.GlobalAveragePooling2D(),\n",
    "        layers.Dense(4096, activation='relu'),\n",
    "        layers.Dense(4096, activation='relu'),\n",
    "        layers.Dense(emotions_count, activation='softmax'),\n",
    "    ])"
   ]
  },
  {
   "cell_type": "code",
   "execution_count": null,
   "metadata": {},
   "outputs": [],
   "source": [
    "if not os.path.isdir('./results/'):\n",
    "    os.mkdir('./results/')\n",
    "\n",
    "num_epochs = 40\n",
    "loss_fns = [\n",
    "    losses.SquaredHinge(),\n",
    "    losses.Poisson(),\n",
    "    losses.MeanSquaredLogarithmicError(),\n",
    "    losses.MeanSquaredError(),\n",
    "    losses.MeanAbsolutePercentageError(),\n",
    "    losses.MeanAbsoluteError(),\n",
    "    losses.LogCosh(),\n",
    "    losses.KLDivergence(),\n",
    "    losses.Huber(),\n",
    "    losses.Hinge(),\n",
    "    losses.CosineSimilarity(axis=1),\n",
    "    losses.CategoricalHinge()\n",
    "]\n",
    "history_save_paths = [\n",
    "    './results/SquaredHinge.txt',\n",
    "    './results/Poisson.txt',\n",
    "    './results/MeanSquaredLogarithmicError.txt',\n",
    "    './results/MeanSquaredError.txt',\n",
    "    './results/MeanAbsolutePercentageError.txt',\n",
    "    './results/MeanAbsoluteError.txt',\n",
    "    './results/LogCosh.txt',\n",
    "    './results/KLDivergence.txt',\n",
    "    './results/Huber.txt',\n",
    "    './results/Hinge.txt',\n",
    "    './results/CosineSimilarity.txt',\n",
    "    './results/CategoricalHinge.txt'\n",
    "]\n",
    "batch_size = 32\n",
    "val_accs = []\n",
    "for i in range(len(loss_fns)):\n",
    "    model = create_model()\n",
    "    loss_fn = loss_fns[i]\n",
    "    history_save_path = history_save_paths[i]\n",
    "    history = train(model, loss_fn, num_epochs, batch_size)\n",
    "    val_accs.append(history.history['val_model_acc'])\n",
    "    with open(history_save_path, 'wb') as file_pi:\n",
    "        pickle.dump(history.history, file_pi)"
   ]
  },
  {
   "cell_type": "code",
   "execution_count": null,
   "metadata": {},
   "outputs": [],
   "source": []
  }
 ],
 "metadata": {
  "kernelspec": {
   "display_name": "Python 3 (ipykernel)",
   "language": "python",
   "name": "python3"
  },
  "language_info": {
   "codemirror_mode": {
    "name": "ipython",
    "version": 3
   },
   "file_extension": ".py",
   "mimetype": "text/x-python",
   "name": "python",
   "nbconvert_exporter": "python",
   "pygments_lexer": "ipython3",
   "version": "3.8.12"
  }
 },
 "nbformat": 4,
 "nbformat_minor": 5
}
