{
 "cells": [
  {
   "cell_type": "code",
   "execution_count": null,
   "id": "c05b18d0",
   "metadata": {},
   "outputs": [],
   "source": [
    "import tensorflow as tf\n",
    "import numpy as np\n",
    "import matplotlib.pyplot as plt\n",
    "import os, pickle, gc, random\n",
    "from tensorflow.python.keras import layers, Sequential,losses, metrics, models\n",
    "from tensorflow.python.keras.models import Model\n",
    "from tensorflow.python.keras.applications import vgg16\n",
    "from tensorflow.python.keras.optimizer_v2 import adam"
   ]
  },
  {
   "cell_type": "code",
   "execution_count": null,
   "id": "89920ff2",
   "metadata": {},
   "outputs": [],
   "source": [
    "image_height = 48\n",
    "image_width = 48\n",
    "emotions_count = 8\n",
    "emotion_labels = ['neutral', 'happiness', 'surprise', 'sadness', 'anger', 'disgust', 'fear', 'contempt']"
   ]
  },
  {
   "cell_type": "code",
   "execution_count": null,
   "id": "df1f06d2",
   "metadata": {},
   "outputs": [],
   "source": [
    "image_path = \"./dataset/aligned_images.npy\"\n",
    "emotion_paths = [\"./dataset/emotions_1.npy\",\n",
    "                \"./dataset/emotions_2.npy\",\n",
    "                \"./dataset/emotions_3.npy\",\n",
    "                \"./dataset/emotions_4.npy\",\n",
    "                \"./dataset/emotions_5.npy\",\n",
    "                \"./dataset/emotions_6.npy\",\n",
    "                \"./dataset/emotions_7.npy\",\n",
    "                \"./dataset/emotions_multi.npy\"]\n",
    "\n",
    "images = np.load(image_path)\n",
    "images = images/255.0\n",
    "\n",
    "emotions1 = np.load(emotion_paths[0])\n",
    "emotions2 = np.load(emotion_paths[1])\n",
    "emotions3 = np.load(emotion_paths[2])\n",
    "emotions4 = np.load(emotion_paths[3])\n",
    "emotions5 = np.load(emotion_paths[4])\n",
    "emotions6 = np.load(emotion_paths[5])\n",
    "emotions7 = np.load(emotion_paths[6])\n",
    "emotions8 = np.load(emotion_paths[7])\n",
    "emotions_list = [emotions1, emotions2, emotions3, emotions4, emotions5, emotions6, emotions7, emotions8]\n",
    "\n",
    "sample_size = emotions8.shape[0]\n",
    "training_size = 28317 + 3541\n",
    "\n",
    "test_subset_indices = []\n",
    "for i in range(sample_size):\n",
    "    if np.count_nonzero(emotions8[i] > 0) >= 4:\n",
    "        test_subset_indices.append(i)\n",
    "test_subset_indices = random.sample(test_subset_indices, k=sample_size-training_size)\n",
    "train_subset_indices = [item for item in range(sample_size) if not item in test_subset_indices]"
   ]
  },
  {
   "cell_type": "code",
   "execution_count": null,
   "id": "850f75e4",
   "metadata": {},
   "outputs": [],
   "source": [
    "training_images = tf.image.grayscale_to_rgb(tf.convert_to_tensor(images[train_subset_indices]))\n",
    "test_images = tf.image.grayscale_to_rgb(tf.convert_to_tensor(images[test_subset_indices]))\n",
    "\n",
    "print(\"training images shape:\", training_images.shape)\n",
    "print(\"test images shape:\", test_images.shape)"
   ]
  },
  {
   "cell_type": "code",
   "execution_count": null,
   "id": "a1e4f468",
   "metadata": {},
   "outputs": [],
   "source": [
    "tf.config.run_functions_eagerly(True)\n",
    "def model_acc(y_true, y_pred):\n",
    "    size = y_true.shape[0]\n",
    "    acc = 0\n",
    "    for i in range(size):\n",
    "        true = y_true[i]\n",
    "        pred = y_pred[i]           \n",
    "        index_max = tf.argmax(pred).numpy()\n",
    "        if true[index_max].numpy()==tf.reduce_max(true).numpy():\n",
    "            acc += 1\n",
    "    return acc/size"
   ]
  },
  {
   "cell_type": "code",
   "execution_count": null,
   "id": "1df13eea",
   "metadata": {},
   "outputs": [],
   "source": [
    "def train(model, learning_rate, loss, num_epochs, batch_size, label):\n",
    "    model.compile(optimizer=adam.Adam(learning_rate=learning_rate), \n",
    "                  loss=loss, \n",
    "                  metrics = [model_acc])\n",
    "    emotions = emotions_list[label-1]\n",
    "    training_emotions = tf.convert_to_tensor(emotions[train_subset_indices])\n",
    "    test_emotions = tf.convert_to_tensor(emotions[test_subset_indices])\n",
    "    history = model.fit(x=training_images,\n",
    "                        y=training_emotions,\n",
    "                        batch_size=batch_size,\n",
    "                        epochs=num_epochs,\n",
    "                        validation_data=(test_images, test_emotions))\n",
    "    del model\n",
    "    gc.collect()\n",
    "    return history"
   ]
  },
  {
   "cell_type": "code",
   "execution_count": null,
   "id": "00d7cdd3",
   "metadata": {},
   "outputs": [],
   "source": [
    "def create_model(base_model):\n",
    "    base_model.trainable=True\n",
    "    return Sequential([\n",
    "        base_model,\n",
    "        layers.GlobalAveragePooling2D(),\n",
    "        layers.Dense(4096, activation='relu'),\n",
    "        layers.Dense(4096, activation='relu'),\n",
    "        layers.Dense(emotions_count, activation='softmax'),\n",
    "    ])"
   ]
  },
  {
   "cell_type": "code",
   "execution_count": null,
   "id": "8bd39542",
   "metadata": {},
   "outputs": [],
   "source": [
    "learning_rate = 1e-4\n",
    "num_epochs = 40\n",
    "batch_size = 32\n",
    "loss = losses.MeanSquaredError()\n",
    "history_save_paths = ['./history/complex-emo1.txt',\n",
    "                     './history/complex-emo2.txt',\n",
    "                     './history/complex-emo3.txt',\n",
    "                     './history/complex-emo4.txt',\n",
    "                     './history/complex-emo5.txt',\n",
    "                     './history/complex-emo6.txt',\n",
    "                     './history/complex-emo7.txt',\n",
    "                     './history/complex-emo8.txt',]\n",
    "for label in range(8,0,-1):\n",
    "    base_model = vgg16.VGG16(include_top=False, weights='imagenet', input_shape=(48,48,3))\n",
    "    model = create_model(base_model)\n",
    "    history_save_path = history_save_paths[label-1]\n",
    "    history = train(model, learning_rate, loss, num_epochs, batch_size, label)\n",
    "    with open(history_save_path, 'wb') as file_pi:\n",
    "        pickle.dump(history.history, file_pi)"
   ]
  },
  {
   "cell_type": "code",
   "execution_count": null,
   "id": "f186db17",
   "metadata": {},
   "outputs": [],
   "source": []
  }
 ],
 "metadata": {
  "kernelspec": {
   "display_name": "Python 3.8.2 64-bit",
   "language": "python",
   "name": "python3"
  },
  "language_info": {
   "codemirror_mode": {
    "name": "ipython",
    "version": 3
   },
   "file_extension": ".py",
   "mimetype": "text/x-python",
   "name": "python",
   "nbconvert_exporter": "python",
   "pygments_lexer": "ipython3",
   "version": "3.8.2"
  },
  "vscode": {
   "interpreter": {
    "hash": "31f2aee4e71d21fbe5cf8b01ff0e069b9275f58929596ceb00d14d90e3e16cd6"
   }
  }
 },
 "nbformat": 4,
 "nbformat_minor": 5
}
