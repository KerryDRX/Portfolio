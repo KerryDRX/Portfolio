{
 "cells": [
  {
   "cell_type": "code",
   "execution_count": 1,
   "metadata": {},
   "outputs": [],
   "source": [
    "import math\n",
    "import numpy as np\n",
    "import scipy"
   ]
  },
  {
   "cell_type": "code",
   "execution_count": 16,
   "metadata": {},
   "outputs": [],
   "source": [
    "def NIG(alpha, beta, gamma, nu, N=1000000):\n",
    "    sigma2 = 1/np.random.gamma(shape=alpha, scale=1.0/beta, size=N)\n",
    "    mu = np.random.normal(loc=gamma, scale=np.sqrt(sigma2 / nu))\n",
    "    return mu, sigma2\n",
    "\n",
    "def simulation(y, p, alpha, beta, gamma, nu):\n",
    "    mu, _ = NIG(alpha, beta, gamma, nu)\n",
    "    return np.power(np.abs(y - mu), p).mean()\n",
    "\n",
    "def sim_kf(y, p, alpha, beta, gamma, nu):\n",
    "    _, sigma2 = NIG(alpha, beta, gamma, nu)\n",
    "    aa = (2 * sigma2 / nu) ** (p/2)\n",
    "    bb = math.gamma((p+1) / 2) / math.pi ** 0.5\n",
    "    cc = scipy.special.hyp1f1(-p/2, 1/2, -(gamma-y)**2 * nu / 2 / sigma2)\n",
    "    return (aa * bb * cc).mean()\n",
    "\n",
    "def ground_truth(y, p, alpha, beta, gamma, nu, n_max):\n",
    "    aa = math.gamma((p+1) / 2) / math.pi ** 0.5 / math.gamma(alpha)\n",
    "    bb = (2 * beta / nu) ** (p / 2)\n",
    "    cc = 0\n",
    "    for n in range(0, n_max+1):\n",
    "        cc1 = np.prod([(m - p / 2) for m in range(n)])\n",
    "        cc2 = math.gamma(alpha + n - p/2) / math.factorial(2 * n)\n",
    "        cc3 = (-2 * (y - gamma)**2 * nu / beta) ** n\n",
    "        cc += (cc1 * cc2 * cc3)\n",
    "    return aa * bb * cc\n",
    "\n",
    "def ground_truth_p2(y, alpha, beta, gamma, nu):\n",
    "    return (y - gamma) ** 2 + beta / nu / (alpha-1)"
   ]
  },
  {
   "cell_type": "code",
   "execution_count": 26,
   "metadata": {},
   "outputs": [],
   "source": [
    "mu, sigma2 = NIG(alpha, beta, gamma, nu, N=1000000)"
   ]
  },
  {
   "cell_type": "code",
   "execution_count": 52,
   "metadata": {},
   "outputs": [],
   "source": [
    "x = (gamma-y)**2 * nu / 2 / sigma2"
   ]
  },
  {
   "cell_type": "code",
   "execution_count": 59,
   "metadata": {},
   "outputs": [
    {
     "data": {
      "text/plain": [
       "array([ 2.87026351,  5.39155339,  9.32384027, ..., 10.33198575,\n",
       "        2.8095857 ,  9.22561042])"
      ]
     },
     "execution_count": 59,
     "metadata": {},
     "output_type": "execute_result"
    }
   ],
   "source": [
    "scipy.special.hyp1f1(-p/2, 1/2, -x)"
   ]
  },
  {
   "cell_type": "code",
   "execution_count": 58,
   "metadata": {},
   "outputs": [
    {
     "data": {
      "text/plain": [
       "array([-0.27840064, -0.06713977, -0.01915027, ..., -0.0154178 ,\n",
       "       -0.28164082, -0.01958655])"
      ]
     },
     "execution_count": 58,
     "metadata": {},
     "output_type": "execute_result"
    }
   ],
   "source": [
    "np.exp(-x) * scipy.special.hyp1f1(-p/2, 1/2, x)"
   ]
  },
  {
   "cell_type": "code",
   "execution_count": 63,
   "metadata": {},
   "outputs": [
    {
     "data": {
      "text/plain": [
       "array([1.07976083, 0.30395921, 0.10163721, ..., 0.08277035, 1.12826876,\n",
       "       0.10381311])"
      ]
     },
     "execution_count": 63,
     "metadata": {},
     "output_type": "execute_result"
    }
   ],
   "source": [
    "sigma2"
   ]
  },
  {
   "cell_type": "code",
   "execution_count": 61,
   "metadata": {},
   "outputs": [
    {
     "name": "stdout",
     "output_type": "stream",
     "text": [
      "n=0 this=1.00 cum=1.00\n",
      "n=1 this=-15.75 cum=-14.75\n",
      "n=2 this=-56.10 cum=-70.85\n",
      "n=3 this=-302.79 cum=-373.64\n",
      "n=4 this=-1762.01 cum=-2135.65\n",
      "n=5 this=-10453.25 cum=-12588.90\n",
      "n=6 this=-62112.17 cum=-74701.07\n",
      "n=7 this=-366490.96 cum=-441192.03\n",
      "n=8 this=-2135139.46 cum=-2576331.49\n",
      "n=9 this=-12228528.14 cum=-14804859.63\n"
     ]
    }
   ],
   "source": [
    "ans = 0\n",
    "for n in range(10):\n",
    "    aa = np.prod([(m - p / 2) for m in range(n)])\n",
    "    bb = math.gamma(1/2) / math.gamma(1/2 + n)\n",
    "    cc = ((gamma - y) ** 2 * nu / 2 / sigma2) ** n\n",
    "    dd = 1 / math.factorial(n)\n",
    "    this = aa * bb * cc * dd\n",
    "    ans += this\n",
    "    print(f'n={n} this={this.mean():.2f} cum={ans.mean():.2f}')"
   ]
  },
  {
   "cell_type": "code",
   "execution_count": null,
   "metadata": {},
   "outputs": [],
   "source": []
  },
  {
   "cell_type": "code",
   "execution_count": 48,
   "metadata": {},
   "outputs": [],
   "source": [
    "beta, nu = 0.5, 0.9\n",
    "gamma = -0.5\n",
    "y = 2\n",
    "p = 1\n",
    "alpha = p/2 + 1.3\n",
    "assert alpha > p / 2"
   ]
  },
  {
   "cell_type": "code",
   "execution_count": 23,
   "metadata": {},
   "outputs": [
    {
     "data": {
      "text/plain": [
       "17.945067601614305"
      ]
     },
     "execution_count": 23,
     "metadata": {},
     "output_type": "execute_result"
    }
   ],
   "source": [
    "sim_kf(y, p, alpha, beta, gamma, nu)"
   ]
  },
  {
   "cell_type": "code",
   "execution_count": 24,
   "metadata": {},
   "outputs": [
    {
     "data": {
      "text/plain": [
       "193910.5068940935"
      ]
     },
     "execution_count": 24,
     "metadata": {},
     "output_type": "execute_result"
    }
   ],
   "source": [
    "gt = ground_truth(y, p, alpha, beta, gamma, nu, n_max=10)\n",
    "gt"
   ]
  },
  {
   "cell_type": "code",
   "execution_count": 25,
   "metadata": {},
   "outputs": [
    {
     "data": {
      "text/plain": [
       "17.93260278198373"
      ]
     },
     "execution_count": 25,
     "metadata": {},
     "output_type": "execute_result"
    }
   ],
   "source": [
    "sim = simulation(y, p, alpha, beta, gamma, nu)\n",
    "sim"
   ]
  }
 ],
 "metadata": {
  "kernelspec": {
   "display_name": "base",
   "language": "python",
   "name": "python3"
  },
  "language_info": {
   "codemirror_mode": {
    "name": "ipython",
    "version": 3
   },
   "file_extension": ".py",
   "mimetype": "text/x-python",
   "name": "python",
   "nbconvert_exporter": "python",
   "pygments_lexer": "ipython3",
   "version": "3.10.9"
  },
  "orig_nbformat": 4
 },
 "nbformat": 4,
 "nbformat_minor": 2
}
